{
  "cells": [
    {
      "cell_type": "markdown",
      "metadata": {
        "id": "FJ70WVi-NjSV"
      },
      "source": [
        "<div align=\"center\" style=\" font-size: 80%; text-align: center; margin: 0 auto\">\n",
        "<img src=\"https://raw.githubusercontent.com/Explore-AI/Pictures/master/Python-Notebook-Banners/Examples.png\"  style=\"display: block; margin-left: auto; margin-right: auto;\";/>\n",
        "</div>\n",
        "\n",
        "# Examples: Interactive visualisation in Python\n",
        "\n",
        "© ExploreAI Academy\n",
        "\n",
        "In this train, we will focus on creating unique and interactive visualisations. We will learn how to make our code block outputs interactive for the end user.\n",
        "\n",
        "> ⚠️ **Note:** An active internet connection is needed to complete the exercises within this notebook.\n",
        "\n",
        "> ⚠️ **Note:** This exercise works best when executed in a Jupyter notebook."
      ]
    },
    {
      "cell_type": "markdown",
      "metadata": {
        "id": "oP4dh9tjX61e"
      },
      "source": [
        "## Learning objectives\n",
        "By the end of this train, you should be able to:\n",
        "* Create advanced custom visualisations in Python.\n",
        "* Create interactive visualisations in a Jupyter notebook.\n"
      ]
    },
    {
      "cell_type": "markdown",
      "metadata": {
        "id": "hTEztyAvNjSh"
      },
      "source": [
        "## Introduction\n",
        "\n",
        "Sometimes we require interaction in our Jupyter notebooks rather than a PowerBI dashboard. A potential reason would be to employ more sophisticated technology to meet typical business intelligence use cases. Traditional BI tools are ideal for creating dashboards created from SQL or CSV data. However, when we try to display information created by more sophisticated logic, we often fall short.\n",
        "\n",
        "With interactive widgets in a notebook, we can leverage the full power of Python to express calculations and build visualisations while exposing \"our logic\" to the end user, allowing them to modify aspects of the visualisation. We may either add a few interactive controls and plots to notebooks or build completely functional applications and interactive dashboards. Both can be created with components from the built-in core widgets, such as `buttons`, `sliders`, and `dropdowns`, or with the rich ecosystem of custom widget libraries based on the Jupyter widgets framework, such as interactive maps with `ipyleaflet` or `2-D plots` with `bqplot`."
      ]
    },
    {
      "cell_type": "markdown",
      "metadata": {
        "id": "swNz-w4xNjSl"
      },
      "source": [
        "## Getting the notebook ready\n",
        "Let's ensure we have the relevant packages installed.\n",
        "\n",
        "### Step 1: Install the relevant packages"
      ]
    },
    {
      "cell_type": "code",
      "execution_count": null,
      "metadata": {
        "colab": {
          "base_uri": "https://localhost:8080/"
        },
        "id": "7YIw91lbX61g",
        "outputId": "3c68f427-3eb6-4cf4-b67a-1f243010a1b5"
      },
      "outputs": [
        {
          "output_type": "stream",
          "name": "stdout",
          "text": [
            "Requirement already satisfied: scipy in /usr/local/lib/python3.10/dist-packages (1.11.4)\n",
            "Requirement already satisfied: numpy<1.28.0,>=1.21.6 in /usr/local/lib/python3.10/dist-packages (from scipy) (1.23.5)\n"
          ]
        }
      ],
      "source": [
        "pip install scipy"
      ]
    },
    {
      "cell_type": "code",
      "execution_count": null,
      "metadata": {
        "colab": {
          "base_uri": "https://localhost:8080/"
        },
        "id": "PZX1vgniX61h",
        "outputId": "fb980538-7366-4b53-e20c-fa4e2e446b7b"
      },
      "outputs": [
        {
          "output_type": "stream",
          "name": "stdout",
          "text": [
            "Requirement already satisfied: ipywidgets in /usr/local/lib/python3.10/dist-packages (7.7.1)\n",
            "Requirement already satisfied: ipykernel>=4.5.1 in /usr/local/lib/python3.10/dist-packages (from ipywidgets) (5.5.6)\n",
            "Requirement already satisfied: ipython-genutils~=0.2.0 in /usr/local/lib/python3.10/dist-packages (from ipywidgets) (0.2.0)\n",
            "Requirement already satisfied: traitlets>=4.3.1 in /usr/local/lib/python3.10/dist-packages (from ipywidgets) (5.7.1)\n",
            "Requirement already satisfied: widgetsnbextension~=3.6.0 in /usr/local/lib/python3.10/dist-packages (from ipywidgets) (3.6.6)\n",
            "Requirement already satisfied: ipython>=4.0.0 in /usr/local/lib/python3.10/dist-packages (from ipywidgets) (7.34.0)\n",
            "Requirement already satisfied: jupyterlab-widgets>=1.0.0 in /usr/local/lib/python3.10/dist-packages (from ipywidgets) (3.0.9)\n",
            "Requirement already satisfied: jupyter-client in /usr/local/lib/python3.10/dist-packages (from ipykernel>=4.5.1->ipywidgets) (6.1.12)\n",
            "Requirement already satisfied: tornado>=4.2 in /usr/local/lib/python3.10/dist-packages (from ipykernel>=4.5.1->ipywidgets) (6.3.2)\n",
            "Requirement already satisfied: setuptools>=18.5 in /usr/local/lib/python3.10/dist-packages (from ipython>=4.0.0->ipywidgets) (67.7.2)\n",
            "Collecting jedi>=0.16 (from ipython>=4.0.0->ipywidgets)\n",
            "  Downloading jedi-0.19.1-py2.py3-none-any.whl (1.6 MB)\n",
            "\u001b[2K     \u001b[90m━━━━━━━━━━━━━━━━━━━━━━━━━━━━━━━━━━━━━━━━\u001b[0m \u001b[32m1.6/1.6 MB\u001b[0m \u001b[31m13.9 MB/s\u001b[0m eta \u001b[36m0:00:00\u001b[0m\n",
            "\u001b[?25hRequirement already satisfied: decorator in /usr/local/lib/python3.10/dist-packages (from ipython>=4.0.0->ipywidgets) (4.4.2)\n",
            "Requirement already satisfied: pickleshare in /usr/local/lib/python3.10/dist-packages (from ipython>=4.0.0->ipywidgets) (0.7.5)\n",
            "Requirement already satisfied: prompt-toolkit!=3.0.0,!=3.0.1,<3.1.0,>=2.0.0 in /usr/local/lib/python3.10/dist-packages (from ipython>=4.0.0->ipywidgets) (3.0.43)\n",
            "Requirement already satisfied: pygments in /usr/local/lib/python3.10/dist-packages (from ipython>=4.0.0->ipywidgets) (2.16.1)\n",
            "Requirement already satisfied: backcall in /usr/local/lib/python3.10/dist-packages (from ipython>=4.0.0->ipywidgets) (0.2.0)\n",
            "Requirement already satisfied: matplotlib-inline in /usr/local/lib/python3.10/dist-packages (from ipython>=4.0.0->ipywidgets) (0.1.6)\n",
            "Requirement already satisfied: pexpect>4.3 in /usr/local/lib/python3.10/dist-packages (from ipython>=4.0.0->ipywidgets) (4.9.0)\n",
            "Requirement already satisfied: notebook>=4.4.1 in /usr/local/lib/python3.10/dist-packages (from widgetsnbextension~=3.6.0->ipywidgets) (6.5.5)\n",
            "Requirement already satisfied: parso<0.9.0,>=0.8.3 in /usr/local/lib/python3.10/dist-packages (from jedi>=0.16->ipython>=4.0.0->ipywidgets) (0.8.3)\n",
            "Requirement already satisfied: jinja2 in /usr/local/lib/python3.10/dist-packages (from notebook>=4.4.1->widgetsnbextension~=3.6.0->ipywidgets) (3.1.3)\n",
            "Requirement already satisfied: pyzmq<25,>=17 in /usr/local/lib/python3.10/dist-packages (from notebook>=4.4.1->widgetsnbextension~=3.6.0->ipywidgets) (23.2.1)\n",
            "Requirement already satisfied: argon2-cffi in /usr/local/lib/python3.10/dist-packages (from notebook>=4.4.1->widgetsnbextension~=3.6.0->ipywidgets) (23.1.0)\n",
            "Requirement already satisfied: jupyter-core>=4.6.1 in /usr/local/lib/python3.10/dist-packages (from notebook>=4.4.1->widgetsnbextension~=3.6.0->ipywidgets) (5.7.1)\n",
            "Requirement already satisfied: nbformat in /usr/local/lib/python3.10/dist-packages (from notebook>=4.4.1->widgetsnbextension~=3.6.0->ipywidgets) (5.9.2)\n",
            "Requirement already satisfied: nbconvert>=5 in /usr/local/lib/python3.10/dist-packages (from notebook>=4.4.1->widgetsnbextension~=3.6.0->ipywidgets) (6.5.4)\n",
            "Requirement already satisfied: nest-asyncio>=1.5 in /usr/local/lib/python3.10/dist-packages (from notebook>=4.4.1->widgetsnbextension~=3.6.0->ipywidgets) (1.6.0)\n",
            "Requirement already satisfied: Send2Trash>=1.8.0 in /usr/local/lib/python3.10/dist-packages (from notebook>=4.4.1->widgetsnbextension~=3.6.0->ipywidgets) (1.8.2)\n",
            "Requirement already satisfied: terminado>=0.8.3 in /usr/local/lib/python3.10/dist-packages (from notebook>=4.4.1->widgetsnbextension~=3.6.0->ipywidgets) (0.18.0)\n",
            "Requirement already satisfied: prometheus-client in /usr/local/lib/python3.10/dist-packages (from notebook>=4.4.1->widgetsnbextension~=3.6.0->ipywidgets) (0.19.0)\n",
            "Requirement already satisfied: nbclassic>=0.4.7 in /usr/local/lib/python3.10/dist-packages (from notebook>=4.4.1->widgetsnbextension~=3.6.0->ipywidgets) (1.0.0)\n",
            "Requirement already satisfied: python-dateutil>=2.1 in /usr/local/lib/python3.10/dist-packages (from jupyter-client->ipykernel>=4.5.1->ipywidgets) (2.8.2)\n",
            "Requirement already satisfied: ptyprocess>=0.5 in /usr/local/lib/python3.10/dist-packages (from pexpect>4.3->ipython>=4.0.0->ipywidgets) (0.7.0)\n",
            "Requirement already satisfied: wcwidth in /usr/local/lib/python3.10/dist-packages (from prompt-toolkit!=3.0.0,!=3.0.1,<3.1.0,>=2.0.0->ipython>=4.0.0->ipywidgets) (0.2.13)\n",
            "Requirement already satisfied: platformdirs>=2.5 in /usr/local/lib/python3.10/dist-packages (from jupyter-core>=4.6.1->notebook>=4.4.1->widgetsnbextension~=3.6.0->ipywidgets) (4.2.0)\n",
            "Requirement already satisfied: jupyter-server>=1.8 in /usr/local/lib/python3.10/dist-packages (from nbclassic>=0.4.7->notebook>=4.4.1->widgetsnbextension~=3.6.0->ipywidgets) (1.24.0)\n",
            "Requirement already satisfied: notebook-shim>=0.2.3 in /usr/local/lib/python3.10/dist-packages (from nbclassic>=0.4.7->notebook>=4.4.1->widgetsnbextension~=3.6.0->ipywidgets) (0.2.3)\n",
            "Requirement already satisfied: lxml in /usr/local/lib/python3.10/dist-packages (from nbconvert>=5->notebook>=4.4.1->widgetsnbextension~=3.6.0->ipywidgets) (4.9.4)\n",
            "Requirement already satisfied: beautifulsoup4 in /usr/local/lib/python3.10/dist-packages (from nbconvert>=5->notebook>=4.4.1->widgetsnbextension~=3.6.0->ipywidgets) (4.12.3)\n",
            "Requirement already satisfied: bleach in /usr/local/lib/python3.10/dist-packages (from nbconvert>=5->notebook>=4.4.1->widgetsnbextension~=3.6.0->ipywidgets) (6.1.0)\n",
            "Requirement already satisfied: defusedxml in /usr/local/lib/python3.10/dist-packages (from nbconvert>=5->notebook>=4.4.1->widgetsnbextension~=3.6.0->ipywidgets) (0.7.1)\n",
            "Requirement already satisfied: entrypoints>=0.2.2 in /usr/local/lib/python3.10/dist-packages (from nbconvert>=5->notebook>=4.4.1->widgetsnbextension~=3.6.0->ipywidgets) (0.4)\n",
            "Requirement already satisfied: jupyterlab-pygments in /usr/local/lib/python3.10/dist-packages (from nbconvert>=5->notebook>=4.4.1->widgetsnbextension~=3.6.0->ipywidgets) (0.3.0)\n",
            "Requirement already satisfied: MarkupSafe>=2.0 in /usr/local/lib/python3.10/dist-packages (from nbconvert>=5->notebook>=4.4.1->widgetsnbextension~=3.6.0->ipywidgets) (2.1.5)\n",
            "Requirement already satisfied: mistune<2,>=0.8.1 in /usr/local/lib/python3.10/dist-packages (from nbconvert>=5->notebook>=4.4.1->widgetsnbextension~=3.6.0->ipywidgets) (0.8.4)\n",
            "Requirement already satisfied: nbclient>=0.5.0 in /usr/local/lib/python3.10/dist-packages (from nbconvert>=5->notebook>=4.4.1->widgetsnbextension~=3.6.0->ipywidgets) (0.9.0)\n",
            "Requirement already satisfied: packaging in /usr/local/lib/python3.10/dist-packages (from nbconvert>=5->notebook>=4.4.1->widgetsnbextension~=3.6.0->ipywidgets) (23.2)\n",
            "Requirement already satisfied: pandocfilters>=1.4.1 in /usr/local/lib/python3.10/dist-packages (from nbconvert>=5->notebook>=4.4.1->widgetsnbextension~=3.6.0->ipywidgets) (1.5.1)\n",
            "Requirement already satisfied: tinycss2 in /usr/local/lib/python3.10/dist-packages (from nbconvert>=5->notebook>=4.4.1->widgetsnbextension~=3.6.0->ipywidgets) (1.2.1)\n",
            "Requirement already satisfied: fastjsonschema in /usr/local/lib/python3.10/dist-packages (from nbformat->notebook>=4.4.1->widgetsnbextension~=3.6.0->ipywidgets) (2.19.1)\n",
            "Requirement already satisfied: jsonschema>=2.6 in /usr/local/lib/python3.10/dist-packages (from nbformat->notebook>=4.4.1->widgetsnbextension~=3.6.0->ipywidgets) (4.19.2)\n",
            "Requirement already satisfied: six>=1.5 in /usr/local/lib/python3.10/dist-packages (from python-dateutil>=2.1->jupyter-client->ipykernel>=4.5.1->ipywidgets) (1.16.0)\n",
            "Requirement already satisfied: argon2-cffi-bindings in /usr/local/lib/python3.10/dist-packages (from argon2-cffi->notebook>=4.4.1->widgetsnbextension~=3.6.0->ipywidgets) (21.2.0)\n",
            "Requirement already satisfied: attrs>=22.2.0 in /usr/local/lib/python3.10/dist-packages (from jsonschema>=2.6->nbformat->notebook>=4.4.1->widgetsnbextension~=3.6.0->ipywidgets) (23.2.0)\n",
            "Requirement already satisfied: jsonschema-specifications>=2023.03.6 in /usr/local/lib/python3.10/dist-packages (from jsonschema>=2.6->nbformat->notebook>=4.4.1->widgetsnbextension~=3.6.0->ipywidgets) (2023.12.1)\n",
            "Requirement already satisfied: referencing>=0.28.4 in /usr/local/lib/python3.10/dist-packages (from jsonschema>=2.6->nbformat->notebook>=4.4.1->widgetsnbextension~=3.6.0->ipywidgets) (0.33.0)\n",
            "Requirement already satisfied: rpds-py>=0.7.1 in /usr/local/lib/python3.10/dist-packages (from jsonschema>=2.6->nbformat->notebook>=4.4.1->widgetsnbextension~=3.6.0->ipywidgets) (0.17.1)\n",
            "Requirement already satisfied: anyio<4,>=3.1.0 in /usr/local/lib/python3.10/dist-packages (from jupyter-server>=1.8->nbclassic>=0.4.7->notebook>=4.4.1->widgetsnbextension~=3.6.0->ipywidgets) (3.7.1)\n",
            "Requirement already satisfied: websocket-client in /usr/local/lib/python3.10/dist-packages (from jupyter-server>=1.8->nbclassic>=0.4.7->notebook>=4.4.1->widgetsnbextension~=3.6.0->ipywidgets) (1.7.0)\n",
            "Requirement already satisfied: cffi>=1.0.1 in /usr/local/lib/python3.10/dist-packages (from argon2-cffi-bindings->argon2-cffi->notebook>=4.4.1->widgetsnbextension~=3.6.0->ipywidgets) (1.16.0)\n",
            "Requirement already satisfied: soupsieve>1.2 in /usr/local/lib/python3.10/dist-packages (from beautifulsoup4->nbconvert>=5->notebook>=4.4.1->widgetsnbextension~=3.6.0->ipywidgets) (2.5)\n",
            "Requirement already satisfied: webencodings in /usr/local/lib/python3.10/dist-packages (from bleach->nbconvert>=5->notebook>=4.4.1->widgetsnbextension~=3.6.0->ipywidgets) (0.5.1)\n",
            "Requirement already satisfied: idna>=2.8 in /usr/local/lib/python3.10/dist-packages (from anyio<4,>=3.1.0->jupyter-server>=1.8->nbclassic>=0.4.7->notebook>=4.4.1->widgetsnbextension~=3.6.0->ipywidgets) (3.6)\n",
            "Requirement already satisfied: sniffio>=1.1 in /usr/local/lib/python3.10/dist-packages (from anyio<4,>=3.1.0->jupyter-server>=1.8->nbclassic>=0.4.7->notebook>=4.4.1->widgetsnbextension~=3.6.0->ipywidgets) (1.3.0)\n",
            "Requirement already satisfied: exceptiongroup in /usr/local/lib/python3.10/dist-packages (from anyio<4,>=3.1.0->jupyter-server>=1.8->nbclassic>=0.4.7->notebook>=4.4.1->widgetsnbextension~=3.6.0->ipywidgets) (1.2.0)\n",
            "Requirement already satisfied: pycparser in /usr/local/lib/python3.10/dist-packages (from cffi>=1.0.1->argon2-cffi-bindings->argon2-cffi->notebook>=4.4.1->widgetsnbextension~=3.6.0->ipywidgets) (2.21)\n",
            "Installing collected packages: jedi\n",
            "Successfully installed jedi-0.19.1\n"
          ]
        }
      ],
      "source": [
        "pip install ipywidgets\n"
      ]
    },
    {
      "cell_type": "code",
      "execution_count": null,
      "metadata": {
        "colab": {
          "base_uri": "https://localhost:8080/"
        },
        "id": "CRBq3UN-X61i",
        "outputId": "a01e22d6-7401-42e2-d542-87cd676a51d6"
      },
      "outputs": [
        {
          "output_type": "stream",
          "name": "stdout",
          "text": [
            "Collecting chart-studio\n",
            "  Downloading chart_studio-1.1.0-py3-none-any.whl (64 kB)\n",
            "\u001b[?25l     \u001b[90m━━━━━━━━━━━━━━━━━━━━━━━━━━━━━━━━━━━━━━━━\u001b[0m \u001b[32m0.0/64.4 kB\u001b[0m \u001b[31m?\u001b[0m eta \u001b[36m-:--:--\u001b[0m\r\u001b[2K     \u001b[91m━━━━━━━━━━━━━━━━━━━━━━━━━\u001b[0m\u001b[90m╺\u001b[0m\u001b[90m━━━━━━━━━━━━━━\u001b[0m \u001b[32m41.0/64.4 kB\u001b[0m \u001b[31m1.1 MB/s\u001b[0m eta \u001b[36m0:00:01\u001b[0m\r\u001b[2K     \u001b[90m━━━━━━━━━━━━━━━━━━━━━━━━━━━━━━━━━━━━━━━━\u001b[0m \u001b[32m64.4/64.4 kB\u001b[0m \u001b[31m1.3 MB/s\u001b[0m eta \u001b[36m0:00:00\u001b[0m\n",
            "\u001b[?25hRequirement already satisfied: plotly in /usr/local/lib/python3.10/dist-packages (from chart-studio) (5.15.0)\n",
            "Requirement already satisfied: requests in /usr/local/lib/python3.10/dist-packages (from chart-studio) (2.31.0)\n",
            "Collecting retrying>=1.3.3 (from chart-studio)\n",
            "  Downloading retrying-1.3.4-py3-none-any.whl (11 kB)\n",
            "Requirement already satisfied: six in /usr/local/lib/python3.10/dist-packages (from chart-studio) (1.16.0)\n",
            "Requirement already satisfied: tenacity>=6.2.0 in /usr/local/lib/python3.10/dist-packages (from plotly->chart-studio) (8.2.3)\n",
            "Requirement already satisfied: packaging in /usr/local/lib/python3.10/dist-packages (from plotly->chart-studio) (23.2)\n",
            "Requirement already satisfied: charset-normalizer<4,>=2 in /usr/local/lib/python3.10/dist-packages (from requests->chart-studio) (3.3.2)\n",
            "Requirement already satisfied: idna<4,>=2.5 in /usr/local/lib/python3.10/dist-packages (from requests->chart-studio) (3.6)\n",
            "Requirement already satisfied: urllib3<3,>=1.21.1 in /usr/local/lib/python3.10/dist-packages (from requests->chart-studio) (2.0.7)\n",
            "Requirement already satisfied: certifi>=2017.4.17 in /usr/local/lib/python3.10/dist-packages (from requests->chart-studio) (2024.2.2)\n",
            "Installing collected packages: retrying, chart-studio\n",
            "Successfully installed chart-studio-1.1.0 retrying-1.3.4\n"
          ]
        }
      ],
      "source": [
        "pip install chart-studio"
      ]
    },
    {
      "cell_type": "code",
      "execution_count": null,
      "metadata": {
        "colab": {
          "base_uri": "https://localhost:8080/"
        },
        "id": "G6lL6undX61i",
        "outputId": "394c8265-bd23-48ad-81b2-5b4211c78598"
      },
      "outputs": [
        {
          "output_type": "stream",
          "name": "stdout",
          "text": [
            "Requirement already satisfied: pyarrow in /usr/local/lib/python3.10/dist-packages (10.0.1)\n",
            "Requirement already satisfied: numpy>=1.16.6 in /usr/local/lib/python3.10/dist-packages (from pyarrow) (1.23.5)\n"
          ]
        }
      ],
      "source": [
        "pip install pyarrow"
      ]
    },
    {
      "cell_type": "code",
      "execution_count": null,
      "metadata": {
        "colab": {
          "base_uri": "https://localhost:8080/"
        },
        "id": "4GxpmP8KX61i",
        "outputId": "d4263164-60fd-4170-b4c7-f3aa8f503b62"
      },
      "outputs": [
        {
          "output_type": "stream",
          "name": "stdout",
          "text": [
            "Requirement already satisfied: cufflinks in /usr/local/lib/python3.10/dist-packages (0.17.3)\n",
            "Requirement already satisfied: numpy>=1.9.2 in /usr/local/lib/python3.10/dist-packages (from cufflinks) (1.23.5)\n",
            "Requirement already satisfied: pandas>=0.19.2 in /usr/local/lib/python3.10/dist-packages (from cufflinks) (1.5.3)\n",
            "Requirement already satisfied: plotly>=4.1.1 in /usr/local/lib/python3.10/dist-packages (from cufflinks) (5.15.0)\n",
            "Requirement already satisfied: six>=1.9.0 in /usr/local/lib/python3.10/dist-packages (from cufflinks) (1.16.0)\n",
            "Requirement already satisfied: colorlover>=0.2.1 in /usr/local/lib/python3.10/dist-packages (from cufflinks) (0.3.0)\n",
            "Requirement already satisfied: setuptools>=34.4.1 in /usr/local/lib/python3.10/dist-packages (from cufflinks) (67.7.2)\n",
            "Requirement already satisfied: ipython>=5.3.0 in /usr/local/lib/python3.10/dist-packages (from cufflinks) (7.34.0)\n",
            "Requirement already satisfied: ipywidgets>=7.0.0 in /usr/local/lib/python3.10/dist-packages (from cufflinks) (7.7.1)\n",
            "Requirement already satisfied: jedi>=0.16 in /usr/local/lib/python3.10/dist-packages (from ipython>=5.3.0->cufflinks) (0.19.1)\n",
            "Requirement already satisfied: decorator in /usr/local/lib/python3.10/dist-packages (from ipython>=5.3.0->cufflinks) (4.4.2)\n",
            "Requirement already satisfied: pickleshare in /usr/local/lib/python3.10/dist-packages (from ipython>=5.3.0->cufflinks) (0.7.5)\n",
            "Requirement already satisfied: traitlets>=4.2 in /usr/local/lib/python3.10/dist-packages (from ipython>=5.3.0->cufflinks) (5.7.1)\n",
            "Requirement already satisfied: prompt-toolkit!=3.0.0,!=3.0.1,<3.1.0,>=2.0.0 in /usr/local/lib/python3.10/dist-packages (from ipython>=5.3.0->cufflinks) (3.0.43)\n",
            "Requirement already satisfied: pygments in /usr/local/lib/python3.10/dist-packages (from ipython>=5.3.0->cufflinks) (2.16.1)\n",
            "Requirement already satisfied: backcall in /usr/local/lib/python3.10/dist-packages (from ipython>=5.3.0->cufflinks) (0.2.0)\n",
            "Requirement already satisfied: matplotlib-inline in /usr/local/lib/python3.10/dist-packages (from ipython>=5.3.0->cufflinks) (0.1.6)\n",
            "Requirement already satisfied: pexpect>4.3 in /usr/local/lib/python3.10/dist-packages (from ipython>=5.3.0->cufflinks) (4.9.0)\n",
            "Requirement already satisfied: ipykernel>=4.5.1 in /usr/local/lib/python3.10/dist-packages (from ipywidgets>=7.0.0->cufflinks) (5.5.6)\n",
            "Requirement already satisfied: ipython-genutils~=0.2.0 in /usr/local/lib/python3.10/dist-packages (from ipywidgets>=7.0.0->cufflinks) (0.2.0)\n",
            "Requirement already satisfied: widgetsnbextension~=3.6.0 in /usr/local/lib/python3.10/dist-packages (from ipywidgets>=7.0.0->cufflinks) (3.6.6)\n",
            "Requirement already satisfied: jupyterlab-widgets>=1.0.0 in /usr/local/lib/python3.10/dist-packages (from ipywidgets>=7.0.0->cufflinks) (3.0.9)\n",
            "Requirement already satisfied: python-dateutil>=2.8.1 in /usr/local/lib/python3.10/dist-packages (from pandas>=0.19.2->cufflinks) (2.8.2)\n",
            "Requirement already satisfied: pytz>=2020.1 in /usr/local/lib/python3.10/dist-packages (from pandas>=0.19.2->cufflinks) (2023.4)\n",
            "Requirement already satisfied: tenacity>=6.2.0 in /usr/local/lib/python3.10/dist-packages (from plotly>=4.1.1->cufflinks) (8.2.3)\n",
            "Requirement already satisfied: packaging in /usr/local/lib/python3.10/dist-packages (from plotly>=4.1.1->cufflinks) (23.2)\n",
            "Requirement already satisfied: jupyter-client in /usr/local/lib/python3.10/dist-packages (from ipykernel>=4.5.1->ipywidgets>=7.0.0->cufflinks) (6.1.12)\n",
            "Requirement already satisfied: tornado>=4.2 in /usr/local/lib/python3.10/dist-packages (from ipykernel>=4.5.1->ipywidgets>=7.0.0->cufflinks) (6.3.2)\n",
            "Requirement already satisfied: parso<0.9.0,>=0.8.3 in /usr/local/lib/python3.10/dist-packages (from jedi>=0.16->ipython>=5.3.0->cufflinks) (0.8.3)\n",
            "Requirement already satisfied: ptyprocess>=0.5 in /usr/local/lib/python3.10/dist-packages (from pexpect>4.3->ipython>=5.3.0->cufflinks) (0.7.0)\n",
            "Requirement already satisfied: wcwidth in /usr/local/lib/python3.10/dist-packages (from prompt-toolkit!=3.0.0,!=3.0.1,<3.1.0,>=2.0.0->ipython>=5.3.0->cufflinks) (0.2.13)\n",
            "Requirement already satisfied: notebook>=4.4.1 in /usr/local/lib/python3.10/dist-packages (from widgetsnbextension~=3.6.0->ipywidgets>=7.0.0->cufflinks) (6.5.5)\n",
            "Requirement already satisfied: jinja2 in /usr/local/lib/python3.10/dist-packages (from notebook>=4.4.1->widgetsnbextension~=3.6.0->ipywidgets>=7.0.0->cufflinks) (3.1.3)\n",
            "Requirement already satisfied: pyzmq<25,>=17 in /usr/local/lib/python3.10/dist-packages (from notebook>=4.4.1->widgetsnbextension~=3.6.0->ipywidgets>=7.0.0->cufflinks) (23.2.1)\n",
            "Requirement already satisfied: argon2-cffi in /usr/local/lib/python3.10/dist-packages (from notebook>=4.4.1->widgetsnbextension~=3.6.0->ipywidgets>=7.0.0->cufflinks) (23.1.0)\n",
            "Requirement already satisfied: jupyter-core>=4.6.1 in /usr/local/lib/python3.10/dist-packages (from notebook>=4.4.1->widgetsnbextension~=3.6.0->ipywidgets>=7.0.0->cufflinks) (5.7.1)\n",
            "Requirement already satisfied: nbformat in /usr/local/lib/python3.10/dist-packages (from notebook>=4.4.1->widgetsnbextension~=3.6.0->ipywidgets>=7.0.0->cufflinks) (5.9.2)\n",
            "Requirement already satisfied: nbconvert>=5 in /usr/local/lib/python3.10/dist-packages (from notebook>=4.4.1->widgetsnbextension~=3.6.0->ipywidgets>=7.0.0->cufflinks) (6.5.4)\n",
            "Requirement already satisfied: nest-asyncio>=1.5 in /usr/local/lib/python3.10/dist-packages (from notebook>=4.4.1->widgetsnbextension~=3.6.0->ipywidgets>=7.0.0->cufflinks) (1.6.0)\n",
            "Requirement already satisfied: Send2Trash>=1.8.0 in /usr/local/lib/python3.10/dist-packages (from notebook>=4.4.1->widgetsnbextension~=3.6.0->ipywidgets>=7.0.0->cufflinks) (1.8.2)\n",
            "Requirement already satisfied: terminado>=0.8.3 in /usr/local/lib/python3.10/dist-packages (from notebook>=4.4.1->widgetsnbextension~=3.6.0->ipywidgets>=7.0.0->cufflinks) (0.18.0)\n",
            "Requirement already satisfied: prometheus-client in /usr/local/lib/python3.10/dist-packages (from notebook>=4.4.1->widgetsnbextension~=3.6.0->ipywidgets>=7.0.0->cufflinks) (0.19.0)\n",
            "Requirement already satisfied: nbclassic>=0.4.7 in /usr/local/lib/python3.10/dist-packages (from notebook>=4.4.1->widgetsnbextension~=3.6.0->ipywidgets>=7.0.0->cufflinks) (1.0.0)\n",
            "Requirement already satisfied: platformdirs>=2.5 in /usr/local/lib/python3.10/dist-packages (from jupyter-core>=4.6.1->notebook>=4.4.1->widgetsnbextension~=3.6.0->ipywidgets>=7.0.0->cufflinks) (4.2.0)\n",
            "Requirement already satisfied: jupyter-server>=1.8 in /usr/local/lib/python3.10/dist-packages (from nbclassic>=0.4.7->notebook>=4.4.1->widgetsnbextension~=3.6.0->ipywidgets>=7.0.0->cufflinks) (1.24.0)\n",
            "Requirement already satisfied: notebook-shim>=0.2.3 in /usr/local/lib/python3.10/dist-packages (from nbclassic>=0.4.7->notebook>=4.4.1->widgetsnbextension~=3.6.0->ipywidgets>=7.0.0->cufflinks) (0.2.3)\n",
            "Requirement already satisfied: lxml in /usr/local/lib/python3.10/dist-packages (from nbconvert>=5->notebook>=4.4.1->widgetsnbextension~=3.6.0->ipywidgets>=7.0.0->cufflinks) (4.9.4)\n",
            "Requirement already satisfied: beautifulsoup4 in /usr/local/lib/python3.10/dist-packages (from nbconvert>=5->notebook>=4.4.1->widgetsnbextension~=3.6.0->ipywidgets>=7.0.0->cufflinks) (4.12.3)\n",
            "Requirement already satisfied: bleach in /usr/local/lib/python3.10/dist-packages (from nbconvert>=5->notebook>=4.4.1->widgetsnbextension~=3.6.0->ipywidgets>=7.0.0->cufflinks) (6.1.0)\n",
            "Requirement already satisfied: defusedxml in /usr/local/lib/python3.10/dist-packages (from nbconvert>=5->notebook>=4.4.1->widgetsnbextension~=3.6.0->ipywidgets>=7.0.0->cufflinks) (0.7.1)\n",
            "Requirement already satisfied: entrypoints>=0.2.2 in /usr/local/lib/python3.10/dist-packages (from nbconvert>=5->notebook>=4.4.1->widgetsnbextension~=3.6.0->ipywidgets>=7.0.0->cufflinks) (0.4)\n",
            "Requirement already satisfied: jupyterlab-pygments in /usr/local/lib/python3.10/dist-packages (from nbconvert>=5->notebook>=4.4.1->widgetsnbextension~=3.6.0->ipywidgets>=7.0.0->cufflinks) (0.3.0)\n",
            "Requirement already satisfied: MarkupSafe>=2.0 in /usr/local/lib/python3.10/dist-packages (from nbconvert>=5->notebook>=4.4.1->widgetsnbextension~=3.6.0->ipywidgets>=7.0.0->cufflinks) (2.1.5)\n",
            "Requirement already satisfied: mistune<2,>=0.8.1 in /usr/local/lib/python3.10/dist-packages (from nbconvert>=5->notebook>=4.4.1->widgetsnbextension~=3.6.0->ipywidgets>=7.0.0->cufflinks) (0.8.4)\n",
            "Requirement already satisfied: nbclient>=0.5.0 in /usr/local/lib/python3.10/dist-packages (from nbconvert>=5->notebook>=4.4.1->widgetsnbextension~=3.6.0->ipywidgets>=7.0.0->cufflinks) (0.9.0)\n",
            "Requirement already satisfied: pandocfilters>=1.4.1 in /usr/local/lib/python3.10/dist-packages (from nbconvert>=5->notebook>=4.4.1->widgetsnbextension~=3.6.0->ipywidgets>=7.0.0->cufflinks) (1.5.1)\n",
            "Requirement already satisfied: tinycss2 in /usr/local/lib/python3.10/dist-packages (from nbconvert>=5->notebook>=4.4.1->widgetsnbextension~=3.6.0->ipywidgets>=7.0.0->cufflinks) (1.2.1)\n",
            "Requirement already satisfied: fastjsonschema in /usr/local/lib/python3.10/dist-packages (from nbformat->notebook>=4.4.1->widgetsnbextension~=3.6.0->ipywidgets>=7.0.0->cufflinks) (2.19.1)\n",
            "Requirement already satisfied: jsonschema>=2.6 in /usr/local/lib/python3.10/dist-packages (from nbformat->notebook>=4.4.1->widgetsnbextension~=3.6.0->ipywidgets>=7.0.0->cufflinks) (4.19.2)\n",
            "Requirement already satisfied: argon2-cffi-bindings in /usr/local/lib/python3.10/dist-packages (from argon2-cffi->notebook>=4.4.1->widgetsnbextension~=3.6.0->ipywidgets>=7.0.0->cufflinks) (21.2.0)\n",
            "Requirement already satisfied: attrs>=22.2.0 in /usr/local/lib/python3.10/dist-packages (from jsonschema>=2.6->nbformat->notebook>=4.4.1->widgetsnbextension~=3.6.0->ipywidgets>=7.0.0->cufflinks) (23.2.0)\n",
            "Requirement already satisfied: jsonschema-specifications>=2023.03.6 in /usr/local/lib/python3.10/dist-packages (from jsonschema>=2.6->nbformat->notebook>=4.4.1->widgetsnbextension~=3.6.0->ipywidgets>=7.0.0->cufflinks) (2023.12.1)\n",
            "Requirement already satisfied: referencing>=0.28.4 in /usr/local/lib/python3.10/dist-packages (from jsonschema>=2.6->nbformat->notebook>=4.4.1->widgetsnbextension~=3.6.0->ipywidgets>=7.0.0->cufflinks) (0.33.0)\n",
            "Requirement already satisfied: rpds-py>=0.7.1 in /usr/local/lib/python3.10/dist-packages (from jsonschema>=2.6->nbformat->notebook>=4.4.1->widgetsnbextension~=3.6.0->ipywidgets>=7.0.0->cufflinks) (0.17.1)\n",
            "Requirement already satisfied: anyio<4,>=3.1.0 in /usr/local/lib/python3.10/dist-packages (from jupyter-server>=1.8->nbclassic>=0.4.7->notebook>=4.4.1->widgetsnbextension~=3.6.0->ipywidgets>=7.0.0->cufflinks) (3.7.1)\n",
            "Requirement already satisfied: websocket-client in /usr/local/lib/python3.10/dist-packages (from jupyter-server>=1.8->nbclassic>=0.4.7->notebook>=4.4.1->widgetsnbextension~=3.6.0->ipywidgets>=7.0.0->cufflinks) (1.7.0)\n",
            "Requirement already satisfied: cffi>=1.0.1 in /usr/local/lib/python3.10/dist-packages (from argon2-cffi-bindings->argon2-cffi->notebook>=4.4.1->widgetsnbextension~=3.6.0->ipywidgets>=7.0.0->cufflinks) (1.16.0)\n",
            "Requirement already satisfied: soupsieve>1.2 in /usr/local/lib/python3.10/dist-packages (from beautifulsoup4->nbconvert>=5->notebook>=4.4.1->widgetsnbextension~=3.6.0->ipywidgets>=7.0.0->cufflinks) (2.5)\n",
            "Requirement already satisfied: webencodings in /usr/local/lib/python3.10/dist-packages (from bleach->nbconvert>=5->notebook>=4.4.1->widgetsnbextension~=3.6.0->ipywidgets>=7.0.0->cufflinks) (0.5.1)\n",
            "Requirement already satisfied: idna>=2.8 in /usr/local/lib/python3.10/dist-packages (from anyio<4,>=3.1.0->jupyter-server>=1.8->nbclassic>=0.4.7->notebook>=4.4.1->widgetsnbextension~=3.6.0->ipywidgets>=7.0.0->cufflinks) (3.6)\n",
            "Requirement already satisfied: sniffio>=1.1 in /usr/local/lib/python3.10/dist-packages (from anyio<4,>=3.1.0->jupyter-server>=1.8->nbclassic>=0.4.7->notebook>=4.4.1->widgetsnbextension~=3.6.0->ipywidgets>=7.0.0->cufflinks) (1.3.0)\n",
            "Requirement already satisfied: exceptiongroup in /usr/local/lib/python3.10/dist-packages (from anyio<4,>=3.1.0->jupyter-server>=1.8->nbclassic>=0.4.7->notebook>=4.4.1->widgetsnbextension~=3.6.0->ipywidgets>=7.0.0->cufflinks) (1.2.0)\n",
            "Requirement already satisfied: pycparser in /usr/local/lib/python3.10/dist-packages (from cffi>=1.0.1->argon2-cffi-bindings->argon2-cffi->notebook>=4.4.1->widgetsnbextension~=3.6.0->ipywidgets>=7.0.0->cufflinks) (2.21)\n"
          ]
        }
      ],
      "source": [
        "pip install cufflinks"
      ]
    },
    {
      "cell_type": "markdown",
      "metadata": {
        "id": "NQVmxuCeNjS2"
      },
      "source": [
        "### Step 2: Enable interactive visualisations in Jupyter"
      ]
    },
    {
      "cell_type": "code",
      "execution_count": null,
      "metadata": {
        "colab": {
          "base_uri": "https://localhost:8080/"
        },
        "id": "-jAPU3kHNjS6",
        "outputId": "95b6390f-8ed5-417b-d891-f0ef29512727"
      },
      "outputs": [
        {
          "output_type": "stream",
          "name": "stdout",
          "text": [
            "Enabling notebook extension jupyter-js-widgets/extension...\n",
            "Paths used for configuration of notebook: \n",
            "    \t/root/.jupyter/nbconfig/notebook.json\n",
            "Paths used for configuration of notebook: \n",
            "    \t\n",
            "      - Validating: \u001b[32mOK\u001b[0m\n",
            "Paths used for configuration of notebook: \n",
            "    \t/root/.jupyter/nbconfig/notebook.json\n"
          ]
        }
      ],
      "source": [
        "!jupyter nbextension enable --py widgetsnbextension"
      ]
    },
    {
      "cell_type": "markdown",
      "metadata": {
        "id": "4ngYm3JQNjTD"
      },
      "source": [
        "### Step 3: Import the required packages"
      ]
    },
    {
      "cell_type": "code",
      "execution_count": null,
      "metadata": {
        "colab": {
          "base_uri": "https://localhost:8080/",
          "height": 17
        },
        "id": "nqU_FtjhNjTF",
        "outputId": "479efb0d-6f26-4675-8fa5-2b4667a4187c"
      },
      "outputs": [
        {
          "output_type": "display_data",
          "data": {
            "text/html": [
              "        <script type=\"text/javascript\">\n",
              "        window.PlotlyConfig = {MathJaxConfig: 'local'};\n",
              "        if (window.MathJax && window.MathJax.Hub && window.MathJax.Hub.Config) {window.MathJax.Hub.Config({SVG: {font: \"STIX-Web\"}});}\n",
              "        if (typeof require !== 'undefined') {\n",
              "        require.undef(\"plotly\");\n",
              "        requirejs.config({\n",
              "            paths: {\n",
              "                'plotly': ['https://cdn.plot.ly/plotly-2.24.1.min']\n",
              "            }\n",
              "        });\n",
              "        require(['plotly'], function(Plotly) {\n",
              "            window._Plotly = Plotly;\n",
              "        });\n",
              "        }\n",
              "        </script>\n",
              "        "
            ]
          },
          "metadata": {}
        },
        {
          "output_type": "display_data",
          "data": {
            "text/html": [
              "        <script type=\"text/javascript\">\n",
              "        window.PlotlyConfig = {MathJaxConfig: 'local'};\n",
              "        if (window.MathJax && window.MathJax.Hub && window.MathJax.Hub.Config) {window.MathJax.Hub.Config({SVG: {font: \"STIX-Web\"}});}\n",
              "        if (typeof require !== 'undefined') {\n",
              "        require.undef(\"plotly\");\n",
              "        requirejs.config({\n",
              "            paths: {\n",
              "                'plotly': ['https://cdn.plot.ly/plotly-2.24.1.min']\n",
              "            }\n",
              "        });\n",
              "        require(['plotly'], function(Plotly) {\n",
              "            window._Plotly = Plotly;\n",
              "        });\n",
              "        }\n",
              "        </script>\n",
              "        "
            ]
          },
          "metadata": {}
        }
      ],
      "source": [
        "# Standard data science helpers\n",
        "import numpy as np\n",
        "import pandas as pd\n",
        "import scipy\n",
        "\n",
        "# Instantiate the Plotly charting library.\n",
        "import chart_studio.plotly as py\n",
        "import plotly.graph_objs as go\n",
        "import plotly.express as px\n",
        "# We use plotly.offline as this allows us to create interactive\n",
        "# visualisations without the use of an internet connection,\n",
        "# making our notebook more distributable to others.\n",
        "from plotly.offline import iplot, init_notebook_mode\n",
        "init_notebook_mode(connected=True)\n",
        "\n",
        "# The Cufflinks library allows us to directly bind\n",
        "# Pandas DataFrames to Plotly charts.\n",
        "import cufflinks as cf\n",
        "# Once again, we use the Cufflinks library in offline mode.\n",
        "cf.go_offline(connected=True)\n",
        "cf.set_config_file(colorscale='plotly', world_readable=True)\n",
        "\n",
        "# Extra options. We use these to make our interactive\n",
        "# visualisations more aesthetically appealing.\n",
        "from IPython.core.display import HTML\n",
        "pd.options.display.max_rows = 30\n",
        "pd.options.display.max_columns = 25\n",
        "\n",
        "# Show all code cells outputs.\n",
        "from IPython.core.interactiveshell import InteractiveShell\n",
        "InteractiveShell.ast_node_interactivity = 'all'"
      ]
    },
    {
      "cell_type": "markdown",
      "metadata": {
        "id": "Cqc5MtRRNjTR"
      },
      "source": [
        "### Step 4: Read in the data"
      ]
    },
    {
      "cell_type": "markdown",
      "metadata": {
        "id": "I37DIgd5NjTT"
      },
      "source": [
        "For this project, we'll work with some stats data from `medium.com`."
      ]
    },
    {
      "cell_type": "code",
      "execution_count": null,
      "metadata": {
        "colab": {
          "base_uri": "https://localhost:8080/",
          "height": 608
        },
        "id": "xXI8yjCNNjTX",
        "outputId": "aa89449a-8327-4ec6-d529-a69d7177a177"
      },
      "outputs": [
        {
          "output_type": "execute_result",
          "data": {
            "text/plain": [
              "     claps  days_since_publication  fans  \\\n",
              "129      2              597.301123     2   \n",
              "125     18              589.983168     3   \n",
              "132     51              577.363292    20   \n",
              "126      0              576.520688     0   \n",
              "121      0              572.533035     0   \n",
              "\n",
              "                                                  link  num_responses  \\\n",
              "129  https://medium.com/p/screw-the-environment-but...              0   \n",
              "125  https://medium.com/p/the-vanquishing-of-war-pl...              0   \n",
              "132  https://medium.com/p/capstone-project-mercedes...              0   \n",
              "126  https://medium.com/p/home-of-the-scared-5af0fe...              0   \n",
              "121  https://medium.com/p/the-triumph-of-peace-f485...              0   \n",
              "\n",
              "    publication      published_date  read_ratio  read_time  reads  \\\n",
              "129        None 2017-06-10 14:25:00       42.17          7     70   \n",
              "125        None 2017-06-17 22:02:00       30.34         14     54   \n",
              "132        None 2017-06-30 12:55:00       20.02         42    222   \n",
              "126        None 2017-07-01 09:08:00       35.85          9     19   \n",
              "121        None 2017-07-05 08:51:00        8.47         14      5   \n",
              "\n",
              "           started_date                                           tags  \\\n",
              "129 2017-06-10 14:24:00                    [Climate Change, Economics]   \n",
              "125 2017-06-17 22:02:00  [Climate Change, Humanity, Optimism, History]   \n",
              "132 2017-06-30 12:00:00    [Machine Learning, Python, Udacity, Kaggle]   \n",
              "126 2017-06-30 18:21:00       [Politics, Books, News, Media Criticism]   \n",
              "121 2017-07-03 20:18:00         [Books, Psychology, History, Humanism]   \n",
              "\n",
              "                                                  text  \\\n",
              "129  Screw the Environment, but Consider Your Walle...   \n",
              "125  The Vanquishing of War, Plague and Famine Part...   \n",
              "132  Capstone Project: Mercedes-Benz Greener Manufa...   \n",
              "126  Home of the Scared A review of A Culture of Fe...   \n",
              "121  The Triumph of Peace A review of The Better An...   \n",
              "\n",
              "                                                 title  title_word_count  \\\n",
              "129    Screw the Environment, but Consider Your Wallet                 8   \n",
              "125          The Vanquishing of War, Plague and Famine                 8   \n",
              "132  Capstone Project: Mercedes-Benz Greener Manufa...                 7   \n",
              "126                                 Home of the Scared                 4   \n",
              "121                               The Triumph of Peace                 4   \n",
              "\n",
              "          type  views  word_count  claps_per_word  editing_days  \\\n",
              "129  published    166        1859        0.001076             0   \n",
              "125  published    178        3891        0.004626             0   \n",
              "132  published   1109       12025        0.004241             0   \n",
              "126  published     53        2533        0.000000             0   \n",
              "121  published     59        3892        0.000000             1   \n",
              "\n",
              "     <tag>Education  <tag>Data Science  <tag>Towards Data Science  \\\n",
              "129               0                  0                          0   \n",
              "125               0                  0                          0   \n",
              "132               0                  0                          0   \n",
              "126               0                  0                          0   \n",
              "121               0                  0                          0   \n",
              "\n",
              "     <tag>Machine Learning  <tag>Python  \n",
              "129                      0            0  \n",
              "125                      0            0  \n",
              "132                      1            1  \n",
              "126                      0            0  \n",
              "121                      0            0  "
            ],
            "text/html": [
              "\n",
              "  <div id=\"df-fde5f8b7-37ed-461e-996a-c3954e23cb14\" class=\"colab-df-container\">\n",
              "    <div>\n",
              "<style scoped>\n",
              "    .dataframe tbody tr th:only-of-type {\n",
              "        vertical-align: middle;\n",
              "    }\n",
              "\n",
              "    .dataframe tbody tr th {\n",
              "        vertical-align: top;\n",
              "    }\n",
              "\n",
              "    .dataframe thead th {\n",
              "        text-align: right;\n",
              "    }\n",
              "</style>\n",
              "<table border=\"1\" class=\"dataframe\">\n",
              "  <thead>\n",
              "    <tr style=\"text-align: right;\">\n",
              "      <th></th>\n",
              "      <th>claps</th>\n",
              "      <th>days_since_publication</th>\n",
              "      <th>fans</th>\n",
              "      <th>link</th>\n",
              "      <th>num_responses</th>\n",
              "      <th>publication</th>\n",
              "      <th>published_date</th>\n",
              "      <th>read_ratio</th>\n",
              "      <th>read_time</th>\n",
              "      <th>reads</th>\n",
              "      <th>started_date</th>\n",
              "      <th>tags</th>\n",
              "      <th>text</th>\n",
              "      <th>title</th>\n",
              "      <th>title_word_count</th>\n",
              "      <th>type</th>\n",
              "      <th>views</th>\n",
              "      <th>word_count</th>\n",
              "      <th>claps_per_word</th>\n",
              "      <th>editing_days</th>\n",
              "      <th>&lt;tag&gt;Education</th>\n",
              "      <th>&lt;tag&gt;Data Science</th>\n",
              "      <th>&lt;tag&gt;Towards Data Science</th>\n",
              "      <th>&lt;tag&gt;Machine Learning</th>\n",
              "      <th>&lt;tag&gt;Python</th>\n",
              "    </tr>\n",
              "  </thead>\n",
              "  <tbody>\n",
              "    <tr>\n",
              "      <th>129</th>\n",
              "      <td>2</td>\n",
              "      <td>597.301123</td>\n",
              "      <td>2</td>\n",
              "      <td>https://medium.com/p/screw-the-environment-but...</td>\n",
              "      <td>0</td>\n",
              "      <td>None</td>\n",
              "      <td>2017-06-10 14:25:00</td>\n",
              "      <td>42.17</td>\n",
              "      <td>7</td>\n",
              "      <td>70</td>\n",
              "      <td>2017-06-10 14:24:00</td>\n",
              "      <td>[Climate Change, Economics]</td>\n",
              "      <td>Screw the Environment, but Consider Your Walle...</td>\n",
              "      <td>Screw the Environment, but Consider Your Wallet</td>\n",
              "      <td>8</td>\n",
              "      <td>published</td>\n",
              "      <td>166</td>\n",
              "      <td>1859</td>\n",
              "      <td>0.001076</td>\n",
              "      <td>0</td>\n",
              "      <td>0</td>\n",
              "      <td>0</td>\n",
              "      <td>0</td>\n",
              "      <td>0</td>\n",
              "      <td>0</td>\n",
              "    </tr>\n",
              "    <tr>\n",
              "      <th>125</th>\n",
              "      <td>18</td>\n",
              "      <td>589.983168</td>\n",
              "      <td>3</td>\n",
              "      <td>https://medium.com/p/the-vanquishing-of-war-pl...</td>\n",
              "      <td>0</td>\n",
              "      <td>None</td>\n",
              "      <td>2017-06-17 22:02:00</td>\n",
              "      <td>30.34</td>\n",
              "      <td>14</td>\n",
              "      <td>54</td>\n",
              "      <td>2017-06-17 22:02:00</td>\n",
              "      <td>[Climate Change, Humanity, Optimism, History]</td>\n",
              "      <td>The Vanquishing of War, Plague and Famine Part...</td>\n",
              "      <td>The Vanquishing of War, Plague and Famine</td>\n",
              "      <td>8</td>\n",
              "      <td>published</td>\n",
              "      <td>178</td>\n",
              "      <td>3891</td>\n",
              "      <td>0.004626</td>\n",
              "      <td>0</td>\n",
              "      <td>0</td>\n",
              "      <td>0</td>\n",
              "      <td>0</td>\n",
              "      <td>0</td>\n",
              "      <td>0</td>\n",
              "    </tr>\n",
              "    <tr>\n",
              "      <th>132</th>\n",
              "      <td>51</td>\n",
              "      <td>577.363292</td>\n",
              "      <td>20</td>\n",
              "      <td>https://medium.com/p/capstone-project-mercedes...</td>\n",
              "      <td>0</td>\n",
              "      <td>None</td>\n",
              "      <td>2017-06-30 12:55:00</td>\n",
              "      <td>20.02</td>\n",
              "      <td>42</td>\n",
              "      <td>222</td>\n",
              "      <td>2017-06-30 12:00:00</td>\n",
              "      <td>[Machine Learning, Python, Udacity, Kaggle]</td>\n",
              "      <td>Capstone Project: Mercedes-Benz Greener Manufa...</td>\n",
              "      <td>Capstone Project: Mercedes-Benz Greener Manufa...</td>\n",
              "      <td>7</td>\n",
              "      <td>published</td>\n",
              "      <td>1109</td>\n",
              "      <td>12025</td>\n",
              "      <td>0.004241</td>\n",
              "      <td>0</td>\n",
              "      <td>0</td>\n",
              "      <td>0</td>\n",
              "      <td>0</td>\n",
              "      <td>1</td>\n",
              "      <td>1</td>\n",
              "    </tr>\n",
              "    <tr>\n",
              "      <th>126</th>\n",
              "      <td>0</td>\n",
              "      <td>576.520688</td>\n",
              "      <td>0</td>\n",
              "      <td>https://medium.com/p/home-of-the-scared-5af0fe...</td>\n",
              "      <td>0</td>\n",
              "      <td>None</td>\n",
              "      <td>2017-07-01 09:08:00</td>\n",
              "      <td>35.85</td>\n",
              "      <td>9</td>\n",
              "      <td>19</td>\n",
              "      <td>2017-06-30 18:21:00</td>\n",
              "      <td>[Politics, Books, News, Media Criticism]</td>\n",
              "      <td>Home of the Scared A review of A Culture of Fe...</td>\n",
              "      <td>Home of the Scared</td>\n",
              "      <td>4</td>\n",
              "      <td>published</td>\n",
              "      <td>53</td>\n",
              "      <td>2533</td>\n",
              "      <td>0.000000</td>\n",
              "      <td>0</td>\n",
              "      <td>0</td>\n",
              "      <td>0</td>\n",
              "      <td>0</td>\n",
              "      <td>0</td>\n",
              "      <td>0</td>\n",
              "    </tr>\n",
              "    <tr>\n",
              "      <th>121</th>\n",
              "      <td>0</td>\n",
              "      <td>572.533035</td>\n",
              "      <td>0</td>\n",
              "      <td>https://medium.com/p/the-triumph-of-peace-f485...</td>\n",
              "      <td>0</td>\n",
              "      <td>None</td>\n",
              "      <td>2017-07-05 08:51:00</td>\n",
              "      <td>8.47</td>\n",
              "      <td>14</td>\n",
              "      <td>5</td>\n",
              "      <td>2017-07-03 20:18:00</td>\n",
              "      <td>[Books, Psychology, History, Humanism]</td>\n",
              "      <td>The Triumph of Peace A review of The Better An...</td>\n",
              "      <td>The Triumph of Peace</td>\n",
              "      <td>4</td>\n",
              "      <td>published</td>\n",
              "      <td>59</td>\n",
              "      <td>3892</td>\n",
              "      <td>0.000000</td>\n",
              "      <td>1</td>\n",
              "      <td>0</td>\n",
              "      <td>0</td>\n",
              "      <td>0</td>\n",
              "      <td>0</td>\n",
              "      <td>0</td>\n",
              "    </tr>\n",
              "  </tbody>\n",
              "</table>\n",
              "</div>\n",
              "    <div class=\"colab-df-buttons\">\n",
              "\n",
              "  <div class=\"colab-df-container\">\n",
              "    <button class=\"colab-df-convert\" onclick=\"convertToInteractive('df-fde5f8b7-37ed-461e-996a-c3954e23cb14')\"\n",
              "            title=\"Convert this dataframe to an interactive table.\"\n",
              "            style=\"display:none;\">\n",
              "\n",
              "  <svg xmlns=\"http://www.w3.org/2000/svg\" height=\"24px\" viewBox=\"0 -960 960 960\">\n",
              "    <path d=\"M120-120v-720h720v720H120Zm60-500h600v-160H180v160Zm220 220h160v-160H400v160Zm0 220h160v-160H400v160ZM180-400h160v-160H180v160Zm440 0h160v-160H620v160ZM180-180h160v-160H180v160Zm440 0h160v-160H620v160Z\"/>\n",
              "  </svg>\n",
              "    </button>\n",
              "\n",
              "  <style>\n",
              "    .colab-df-container {\n",
              "      display:flex;\n",
              "      gap: 12px;\n",
              "    }\n",
              "\n",
              "    .colab-df-convert {\n",
              "      background-color: #E8F0FE;\n",
              "      border: none;\n",
              "      border-radius: 50%;\n",
              "      cursor: pointer;\n",
              "      display: none;\n",
              "      fill: #1967D2;\n",
              "      height: 32px;\n",
              "      padding: 0 0 0 0;\n",
              "      width: 32px;\n",
              "    }\n",
              "\n",
              "    .colab-df-convert:hover {\n",
              "      background-color: #E2EBFA;\n",
              "      box-shadow: 0px 1px 2px rgba(60, 64, 67, 0.3), 0px 1px 3px 1px rgba(60, 64, 67, 0.15);\n",
              "      fill: #174EA6;\n",
              "    }\n",
              "\n",
              "    .colab-df-buttons div {\n",
              "      margin-bottom: 4px;\n",
              "    }\n",
              "\n",
              "    [theme=dark] .colab-df-convert {\n",
              "      background-color: #3B4455;\n",
              "      fill: #D2E3FC;\n",
              "    }\n",
              "\n",
              "    [theme=dark] .colab-df-convert:hover {\n",
              "      background-color: #434B5C;\n",
              "      box-shadow: 0px 1px 3px 1px rgba(0, 0, 0, 0.15);\n",
              "      filter: drop-shadow(0px 1px 2px rgba(0, 0, 0, 0.3));\n",
              "      fill: #FFFFFF;\n",
              "    }\n",
              "  </style>\n",
              "\n",
              "    <script>\n",
              "      const buttonEl =\n",
              "        document.querySelector('#df-fde5f8b7-37ed-461e-996a-c3954e23cb14 button.colab-df-convert');\n",
              "      buttonEl.style.display =\n",
              "        google.colab.kernel.accessAllowed ? 'block' : 'none';\n",
              "\n",
              "      async function convertToInteractive(key) {\n",
              "        const element = document.querySelector('#df-fde5f8b7-37ed-461e-996a-c3954e23cb14');\n",
              "        const dataTable =\n",
              "          await google.colab.kernel.invokeFunction('convertToInteractive',\n",
              "                                                    [key], {});\n",
              "        if (!dataTable) return;\n",
              "\n",
              "        const docLinkHtml = 'Like what you see? Visit the ' +\n",
              "          '<a target=\"_blank\" href=https://colab.research.google.com/notebooks/data_table.ipynb>data table notebook</a>'\n",
              "          + ' to learn more about interactive tables.';\n",
              "        element.innerHTML = '';\n",
              "        dataTable['output_type'] = 'display_data';\n",
              "        await google.colab.output.renderOutput(dataTable, element);\n",
              "        const docLink = document.createElement('div');\n",
              "        docLink.innerHTML = docLinkHtml;\n",
              "        element.appendChild(docLink);\n",
              "      }\n",
              "    </script>\n",
              "  </div>\n",
              "\n",
              "\n",
              "<div id=\"df-1a93fc36-8c8d-4e09-8ddd-745182f26858\">\n",
              "  <button class=\"colab-df-quickchart\" onclick=\"quickchart('df-1a93fc36-8c8d-4e09-8ddd-745182f26858')\"\n",
              "            title=\"Suggest charts\"\n",
              "            style=\"display:none;\">\n",
              "\n",
              "<svg xmlns=\"http://www.w3.org/2000/svg\" height=\"24px\"viewBox=\"0 0 24 24\"\n",
              "     width=\"24px\">\n",
              "    <g>\n",
              "        <path d=\"M19 3H5c-1.1 0-2 .9-2 2v14c0 1.1.9 2 2 2h14c1.1 0 2-.9 2-2V5c0-1.1-.9-2-2-2zM9 17H7v-7h2v7zm4 0h-2V7h2v10zm4 0h-2v-4h2v4z\"/>\n",
              "    </g>\n",
              "</svg>\n",
              "  </button>\n",
              "\n",
              "<style>\n",
              "  .colab-df-quickchart {\n",
              "      --bg-color: #E8F0FE;\n",
              "      --fill-color: #1967D2;\n",
              "      --hover-bg-color: #E2EBFA;\n",
              "      --hover-fill-color: #174EA6;\n",
              "      --disabled-fill-color: #AAA;\n",
              "      --disabled-bg-color: #DDD;\n",
              "  }\n",
              "\n",
              "  [theme=dark] .colab-df-quickchart {\n",
              "      --bg-color: #3B4455;\n",
              "      --fill-color: #D2E3FC;\n",
              "      --hover-bg-color: #434B5C;\n",
              "      --hover-fill-color: #FFFFFF;\n",
              "      --disabled-bg-color: #3B4455;\n",
              "      --disabled-fill-color: #666;\n",
              "  }\n",
              "\n",
              "  .colab-df-quickchart {\n",
              "    background-color: var(--bg-color);\n",
              "    border: none;\n",
              "    border-radius: 50%;\n",
              "    cursor: pointer;\n",
              "    display: none;\n",
              "    fill: var(--fill-color);\n",
              "    height: 32px;\n",
              "    padding: 0;\n",
              "    width: 32px;\n",
              "  }\n",
              "\n",
              "  .colab-df-quickchart:hover {\n",
              "    background-color: var(--hover-bg-color);\n",
              "    box-shadow: 0 1px 2px rgba(60, 64, 67, 0.3), 0 1px 3px 1px rgba(60, 64, 67, 0.15);\n",
              "    fill: var(--button-hover-fill-color);\n",
              "  }\n",
              "\n",
              "  .colab-df-quickchart-complete:disabled,\n",
              "  .colab-df-quickchart-complete:disabled:hover {\n",
              "    background-color: var(--disabled-bg-color);\n",
              "    fill: var(--disabled-fill-color);\n",
              "    box-shadow: none;\n",
              "  }\n",
              "\n",
              "  .colab-df-spinner {\n",
              "    border: 2px solid var(--fill-color);\n",
              "    border-color: transparent;\n",
              "    border-bottom-color: var(--fill-color);\n",
              "    animation:\n",
              "      spin 1s steps(1) infinite;\n",
              "  }\n",
              "\n",
              "  @keyframes spin {\n",
              "    0% {\n",
              "      border-color: transparent;\n",
              "      border-bottom-color: var(--fill-color);\n",
              "      border-left-color: var(--fill-color);\n",
              "    }\n",
              "    20% {\n",
              "      border-color: transparent;\n",
              "      border-left-color: var(--fill-color);\n",
              "      border-top-color: var(--fill-color);\n",
              "    }\n",
              "    30% {\n",
              "      border-color: transparent;\n",
              "      border-left-color: var(--fill-color);\n",
              "      border-top-color: var(--fill-color);\n",
              "      border-right-color: var(--fill-color);\n",
              "    }\n",
              "    40% {\n",
              "      border-color: transparent;\n",
              "      border-right-color: var(--fill-color);\n",
              "      border-top-color: var(--fill-color);\n",
              "    }\n",
              "    60% {\n",
              "      border-color: transparent;\n",
              "      border-right-color: var(--fill-color);\n",
              "    }\n",
              "    80% {\n",
              "      border-color: transparent;\n",
              "      border-right-color: var(--fill-color);\n",
              "      border-bottom-color: var(--fill-color);\n",
              "    }\n",
              "    90% {\n",
              "      border-color: transparent;\n",
              "      border-bottom-color: var(--fill-color);\n",
              "    }\n",
              "  }\n",
              "</style>\n",
              "\n",
              "  <script>\n",
              "    async function quickchart(key) {\n",
              "      const quickchartButtonEl =\n",
              "        document.querySelector('#' + key + ' button');\n",
              "      quickchartButtonEl.disabled = true;  // To prevent multiple clicks.\n",
              "      quickchartButtonEl.classList.add('colab-df-spinner');\n",
              "      try {\n",
              "        const charts = await google.colab.kernel.invokeFunction(\n",
              "            'suggestCharts', [key], {});\n",
              "      } catch (error) {\n",
              "        console.error('Error during call to suggestCharts:', error);\n",
              "      }\n",
              "      quickchartButtonEl.classList.remove('colab-df-spinner');\n",
              "      quickchartButtonEl.classList.add('colab-df-quickchart-complete');\n",
              "    }\n",
              "    (() => {\n",
              "      let quickchartButtonEl =\n",
              "        document.querySelector('#df-1a93fc36-8c8d-4e09-8ddd-745182f26858 button');\n",
              "      quickchartButtonEl.style.display =\n",
              "        google.colab.kernel.accessAllowed ? 'block' : 'none';\n",
              "    })();\n",
              "  </script>\n",
              "</div>\n",
              "\n",
              "    </div>\n",
              "  </div>\n"
            ]
          },
          "metadata": {},
          "execution_count": 8
        }
      ],
      "source": [
        "df = pd.read_parquet('https://github.com/WillKoehrsen/Data-Analysis/blob/master/medium/data/medium_data_2019_01_26?raw=true')\n",
        "df.head()"
      ]
    },
    {
      "cell_type": "markdown",
      "metadata": {
        "id": "ynUpn13DX61n"
      },
      "source": [
        "Let's have a quick descriptive look at the data we've just pulled:"
      ]
    },
    {
      "cell_type": "code",
      "execution_count": null,
      "metadata": {
        "colab": {
          "base_uri": "https://localhost:8080/",
          "height": 338
        },
        "id": "Zi9VnROCNjTd",
        "outputId": "8facc221-5f37-4960-a2b2-a115576e0d4b",
        "scrolled": true
      },
      "outputs": [
        {
          "output_type": "execute_result",
          "data": {
            "text/plain": [
              "              claps  days_since_publication         fans  num_responses  \\\n",
              "count    133.000000              133.000000   133.000000     133.000000   \n",
              "mean    1815.263158              248.407273   352.052632       7.045113   \n",
              "std     2449.074661              179.370879   479.060117       9.056108   \n",
              "min        0.000000                1.218629     0.000000       0.000000   \n",
              "25%      121.000000               74.543822    23.000000       0.000000   \n",
              "50%      815.000000              245.416130   136.000000       4.000000   \n",
              "75%     2700.000000              376.080598   528.000000      12.000000   \n",
              "max    13600.000000              597.301123  2588.000000      59.000000   \n",
              "\n",
              "       read_ratio   read_time         reads  title_word_count          views  \\\n",
              "count  133.000000  133.000000    133.000000        133.000000     133.000000   \n",
              "mean    29.074662   12.917293   6336.300752          7.127820   23404.030075   \n",
              "std     12.417670    9.510795   9007.284726          3.158475   33995.636496   \n",
              "min      8.110000    1.000000      1.000000          2.000000       3.000000   \n",
              "25%     20.020000    8.000000    363.000000          5.000000    1375.000000   \n",
              "50%     27.060000   10.000000   2049.000000          7.000000    7608.000000   \n",
              "75%     34.910000   14.000000   7815.000000          8.000000   30141.000000   \n",
              "max     74.370000   54.000000  41978.000000         16.000000  173714.000000   \n",
              "\n",
              "         word_count  claps_per_word  editing_days  <tag>Education  \\\n",
              "count    133.000000      133.000000    133.000000      133.000000   \n",
              "mean    3029.120301        0.957638     20.330827        0.729323   \n",
              "std     2393.414456        1.846756     74.111579        0.445989   \n",
              "min      163.000000        0.000000    -13.000000        0.000000   \n",
              "25%     1653.000000        0.052115      0.000000        0.000000   \n",
              "50%     2456.000000        0.421525      1.000000        1.000000   \n",
              "75%     3553.000000        1.099366      5.000000        1.000000   \n",
              "max    15063.000000       17.891817    349.000000        1.000000   \n",
              "\n",
              "       <tag>Data Science  <tag>Towards Data Science  <tag>Machine Learning  \\\n",
              "count         133.000000                 133.000000             133.000000   \n",
              "mean            0.609023                   0.436090               0.383459   \n",
              "std             0.489814                   0.497774               0.488067   \n",
              "min             0.000000                   0.000000               0.000000   \n",
              "25%             0.000000                   0.000000               0.000000   \n",
              "50%             1.000000                   0.000000               0.000000   \n",
              "75%             1.000000                   1.000000               1.000000   \n",
              "max             1.000000                   1.000000               1.000000   \n",
              "\n",
              "       <tag>Python  \n",
              "count   133.000000  \n",
              "mean      0.315789  \n",
              "std       0.466587  \n",
              "min       0.000000  \n",
              "25%       0.000000  \n",
              "50%       0.000000  \n",
              "75%       1.000000  \n",
              "max       1.000000  "
            ],
            "text/html": [
              "\n",
              "  <div id=\"df-7a084703-69b1-4289-b581-317583f86320\" class=\"colab-df-container\">\n",
              "    <div>\n",
              "<style scoped>\n",
              "    .dataframe tbody tr th:only-of-type {\n",
              "        vertical-align: middle;\n",
              "    }\n",
              "\n",
              "    .dataframe tbody tr th {\n",
              "        vertical-align: top;\n",
              "    }\n",
              "\n",
              "    .dataframe thead th {\n",
              "        text-align: right;\n",
              "    }\n",
              "</style>\n",
              "<table border=\"1\" class=\"dataframe\">\n",
              "  <thead>\n",
              "    <tr style=\"text-align: right;\">\n",
              "      <th></th>\n",
              "      <th>claps</th>\n",
              "      <th>days_since_publication</th>\n",
              "      <th>fans</th>\n",
              "      <th>num_responses</th>\n",
              "      <th>read_ratio</th>\n",
              "      <th>read_time</th>\n",
              "      <th>reads</th>\n",
              "      <th>title_word_count</th>\n",
              "      <th>views</th>\n",
              "      <th>word_count</th>\n",
              "      <th>claps_per_word</th>\n",
              "      <th>editing_days</th>\n",
              "      <th>&lt;tag&gt;Education</th>\n",
              "      <th>&lt;tag&gt;Data Science</th>\n",
              "      <th>&lt;tag&gt;Towards Data Science</th>\n",
              "      <th>&lt;tag&gt;Machine Learning</th>\n",
              "      <th>&lt;tag&gt;Python</th>\n",
              "    </tr>\n",
              "  </thead>\n",
              "  <tbody>\n",
              "    <tr>\n",
              "      <th>count</th>\n",
              "      <td>133.000000</td>\n",
              "      <td>133.000000</td>\n",
              "      <td>133.000000</td>\n",
              "      <td>133.000000</td>\n",
              "      <td>133.000000</td>\n",
              "      <td>133.000000</td>\n",
              "      <td>133.000000</td>\n",
              "      <td>133.000000</td>\n",
              "      <td>133.000000</td>\n",
              "      <td>133.000000</td>\n",
              "      <td>133.000000</td>\n",
              "      <td>133.000000</td>\n",
              "      <td>133.000000</td>\n",
              "      <td>133.000000</td>\n",
              "      <td>133.000000</td>\n",
              "      <td>133.000000</td>\n",
              "      <td>133.000000</td>\n",
              "    </tr>\n",
              "    <tr>\n",
              "      <th>mean</th>\n",
              "      <td>1815.263158</td>\n",
              "      <td>248.407273</td>\n",
              "      <td>352.052632</td>\n",
              "      <td>7.045113</td>\n",
              "      <td>29.074662</td>\n",
              "      <td>12.917293</td>\n",
              "      <td>6336.300752</td>\n",
              "      <td>7.127820</td>\n",
              "      <td>23404.030075</td>\n",
              "      <td>3029.120301</td>\n",
              "      <td>0.957638</td>\n",
              "      <td>20.330827</td>\n",
              "      <td>0.729323</td>\n",
              "      <td>0.609023</td>\n",
              "      <td>0.436090</td>\n",
              "      <td>0.383459</td>\n",
              "      <td>0.315789</td>\n",
              "    </tr>\n",
              "    <tr>\n",
              "      <th>std</th>\n",
              "      <td>2449.074661</td>\n",
              "      <td>179.370879</td>\n",
              "      <td>479.060117</td>\n",
              "      <td>9.056108</td>\n",
              "      <td>12.417670</td>\n",
              "      <td>9.510795</td>\n",
              "      <td>9007.284726</td>\n",
              "      <td>3.158475</td>\n",
              "      <td>33995.636496</td>\n",
              "      <td>2393.414456</td>\n",
              "      <td>1.846756</td>\n",
              "      <td>74.111579</td>\n",
              "      <td>0.445989</td>\n",
              "      <td>0.489814</td>\n",
              "      <td>0.497774</td>\n",
              "      <td>0.488067</td>\n",
              "      <td>0.466587</td>\n",
              "    </tr>\n",
              "    <tr>\n",
              "      <th>min</th>\n",
              "      <td>0.000000</td>\n",
              "      <td>1.218629</td>\n",
              "      <td>0.000000</td>\n",
              "      <td>0.000000</td>\n",
              "      <td>8.110000</td>\n",
              "      <td>1.000000</td>\n",
              "      <td>1.000000</td>\n",
              "      <td>2.000000</td>\n",
              "      <td>3.000000</td>\n",
              "      <td>163.000000</td>\n",
              "      <td>0.000000</td>\n",
              "      <td>-13.000000</td>\n",
              "      <td>0.000000</td>\n",
              "      <td>0.000000</td>\n",
              "      <td>0.000000</td>\n",
              "      <td>0.000000</td>\n",
              "      <td>0.000000</td>\n",
              "    </tr>\n",
              "    <tr>\n",
              "      <th>25%</th>\n",
              "      <td>121.000000</td>\n",
              "      <td>74.543822</td>\n",
              "      <td>23.000000</td>\n",
              "      <td>0.000000</td>\n",
              "      <td>20.020000</td>\n",
              "      <td>8.000000</td>\n",
              "      <td>363.000000</td>\n",
              "      <td>5.000000</td>\n",
              "      <td>1375.000000</td>\n",
              "      <td>1653.000000</td>\n",
              "      <td>0.052115</td>\n",
              "      <td>0.000000</td>\n",
              "      <td>0.000000</td>\n",
              "      <td>0.000000</td>\n",
              "      <td>0.000000</td>\n",
              "      <td>0.000000</td>\n",
              "      <td>0.000000</td>\n",
              "    </tr>\n",
              "    <tr>\n",
              "      <th>50%</th>\n",
              "      <td>815.000000</td>\n",
              "      <td>245.416130</td>\n",
              "      <td>136.000000</td>\n",
              "      <td>4.000000</td>\n",
              "      <td>27.060000</td>\n",
              "      <td>10.000000</td>\n",
              "      <td>2049.000000</td>\n",
              "      <td>7.000000</td>\n",
              "      <td>7608.000000</td>\n",
              "      <td>2456.000000</td>\n",
              "      <td>0.421525</td>\n",
              "      <td>1.000000</td>\n",
              "      <td>1.000000</td>\n",
              "      <td>1.000000</td>\n",
              "      <td>0.000000</td>\n",
              "      <td>0.000000</td>\n",
              "      <td>0.000000</td>\n",
              "    </tr>\n",
              "    <tr>\n",
              "      <th>75%</th>\n",
              "      <td>2700.000000</td>\n",
              "      <td>376.080598</td>\n",
              "      <td>528.000000</td>\n",
              "      <td>12.000000</td>\n",
              "      <td>34.910000</td>\n",
              "      <td>14.000000</td>\n",
              "      <td>7815.000000</td>\n",
              "      <td>8.000000</td>\n",
              "      <td>30141.000000</td>\n",
              "      <td>3553.000000</td>\n",
              "      <td>1.099366</td>\n",
              "      <td>5.000000</td>\n",
              "      <td>1.000000</td>\n",
              "      <td>1.000000</td>\n",
              "      <td>1.000000</td>\n",
              "      <td>1.000000</td>\n",
              "      <td>1.000000</td>\n",
              "    </tr>\n",
              "    <tr>\n",
              "      <th>max</th>\n",
              "      <td>13600.000000</td>\n",
              "      <td>597.301123</td>\n",
              "      <td>2588.000000</td>\n",
              "      <td>59.000000</td>\n",
              "      <td>74.370000</td>\n",
              "      <td>54.000000</td>\n",
              "      <td>41978.000000</td>\n",
              "      <td>16.000000</td>\n",
              "      <td>173714.000000</td>\n",
              "      <td>15063.000000</td>\n",
              "      <td>17.891817</td>\n",
              "      <td>349.000000</td>\n",
              "      <td>1.000000</td>\n",
              "      <td>1.000000</td>\n",
              "      <td>1.000000</td>\n",
              "      <td>1.000000</td>\n",
              "      <td>1.000000</td>\n",
              "    </tr>\n",
              "  </tbody>\n",
              "</table>\n",
              "</div>\n",
              "    <div class=\"colab-df-buttons\">\n",
              "\n",
              "  <div class=\"colab-df-container\">\n",
              "    <button class=\"colab-df-convert\" onclick=\"convertToInteractive('df-7a084703-69b1-4289-b581-317583f86320')\"\n",
              "            title=\"Convert this dataframe to an interactive table.\"\n",
              "            style=\"display:none;\">\n",
              "\n",
              "  <svg xmlns=\"http://www.w3.org/2000/svg\" height=\"24px\" viewBox=\"0 -960 960 960\">\n",
              "    <path d=\"M120-120v-720h720v720H120Zm60-500h600v-160H180v160Zm220 220h160v-160H400v160Zm0 220h160v-160H400v160ZM180-400h160v-160H180v160Zm440 0h160v-160H620v160ZM180-180h160v-160H180v160Zm440 0h160v-160H620v160Z\"/>\n",
              "  </svg>\n",
              "    </button>\n",
              "\n",
              "  <style>\n",
              "    .colab-df-container {\n",
              "      display:flex;\n",
              "      gap: 12px;\n",
              "    }\n",
              "\n",
              "    .colab-df-convert {\n",
              "      background-color: #E8F0FE;\n",
              "      border: none;\n",
              "      border-radius: 50%;\n",
              "      cursor: pointer;\n",
              "      display: none;\n",
              "      fill: #1967D2;\n",
              "      height: 32px;\n",
              "      padding: 0 0 0 0;\n",
              "      width: 32px;\n",
              "    }\n",
              "\n",
              "    .colab-df-convert:hover {\n",
              "      background-color: #E2EBFA;\n",
              "      box-shadow: 0px 1px 2px rgba(60, 64, 67, 0.3), 0px 1px 3px 1px rgba(60, 64, 67, 0.15);\n",
              "      fill: #174EA6;\n",
              "    }\n",
              "\n",
              "    .colab-df-buttons div {\n",
              "      margin-bottom: 4px;\n",
              "    }\n",
              "\n",
              "    [theme=dark] .colab-df-convert {\n",
              "      background-color: #3B4455;\n",
              "      fill: #D2E3FC;\n",
              "    }\n",
              "\n",
              "    [theme=dark] .colab-df-convert:hover {\n",
              "      background-color: #434B5C;\n",
              "      box-shadow: 0px 1px 3px 1px rgba(0, 0, 0, 0.15);\n",
              "      filter: drop-shadow(0px 1px 2px rgba(0, 0, 0, 0.3));\n",
              "      fill: #FFFFFF;\n",
              "    }\n",
              "  </style>\n",
              "\n",
              "    <script>\n",
              "      const buttonEl =\n",
              "        document.querySelector('#df-7a084703-69b1-4289-b581-317583f86320 button.colab-df-convert');\n",
              "      buttonEl.style.display =\n",
              "        google.colab.kernel.accessAllowed ? 'block' : 'none';\n",
              "\n",
              "      async function convertToInteractive(key) {\n",
              "        const element = document.querySelector('#df-7a084703-69b1-4289-b581-317583f86320');\n",
              "        const dataTable =\n",
              "          await google.colab.kernel.invokeFunction('convertToInteractive',\n",
              "                                                    [key], {});\n",
              "        if (!dataTable) return;\n",
              "\n",
              "        const docLinkHtml = 'Like what you see? Visit the ' +\n",
              "          '<a target=\"_blank\" href=https://colab.research.google.com/notebooks/data_table.ipynb>data table notebook</a>'\n",
              "          + ' to learn more about interactive tables.';\n",
              "        element.innerHTML = '';\n",
              "        dataTable['output_type'] = 'display_data';\n",
              "        await google.colab.output.renderOutput(dataTable, element);\n",
              "        const docLink = document.createElement('div');\n",
              "        docLink.innerHTML = docLinkHtml;\n",
              "        element.appendChild(docLink);\n",
              "      }\n",
              "    </script>\n",
              "  </div>\n",
              "\n",
              "\n",
              "<div id=\"df-0eeca8fa-5beb-4b5a-81be-3a1e729e96ef\">\n",
              "  <button class=\"colab-df-quickchart\" onclick=\"quickchart('df-0eeca8fa-5beb-4b5a-81be-3a1e729e96ef')\"\n",
              "            title=\"Suggest charts\"\n",
              "            style=\"display:none;\">\n",
              "\n",
              "<svg xmlns=\"http://www.w3.org/2000/svg\" height=\"24px\"viewBox=\"0 0 24 24\"\n",
              "     width=\"24px\">\n",
              "    <g>\n",
              "        <path d=\"M19 3H5c-1.1 0-2 .9-2 2v14c0 1.1.9 2 2 2h14c1.1 0 2-.9 2-2V5c0-1.1-.9-2-2-2zM9 17H7v-7h2v7zm4 0h-2V7h2v10zm4 0h-2v-4h2v4z\"/>\n",
              "    </g>\n",
              "</svg>\n",
              "  </button>\n",
              "\n",
              "<style>\n",
              "  .colab-df-quickchart {\n",
              "      --bg-color: #E8F0FE;\n",
              "      --fill-color: #1967D2;\n",
              "      --hover-bg-color: #E2EBFA;\n",
              "      --hover-fill-color: #174EA6;\n",
              "      --disabled-fill-color: #AAA;\n",
              "      --disabled-bg-color: #DDD;\n",
              "  }\n",
              "\n",
              "  [theme=dark] .colab-df-quickchart {\n",
              "      --bg-color: #3B4455;\n",
              "      --fill-color: #D2E3FC;\n",
              "      --hover-bg-color: #434B5C;\n",
              "      --hover-fill-color: #FFFFFF;\n",
              "      --disabled-bg-color: #3B4455;\n",
              "      --disabled-fill-color: #666;\n",
              "  }\n",
              "\n",
              "  .colab-df-quickchart {\n",
              "    background-color: var(--bg-color);\n",
              "    border: none;\n",
              "    border-radius: 50%;\n",
              "    cursor: pointer;\n",
              "    display: none;\n",
              "    fill: var(--fill-color);\n",
              "    height: 32px;\n",
              "    padding: 0;\n",
              "    width: 32px;\n",
              "  }\n",
              "\n",
              "  .colab-df-quickchart:hover {\n",
              "    background-color: var(--hover-bg-color);\n",
              "    box-shadow: 0 1px 2px rgba(60, 64, 67, 0.3), 0 1px 3px 1px rgba(60, 64, 67, 0.15);\n",
              "    fill: var(--button-hover-fill-color);\n",
              "  }\n",
              "\n",
              "  .colab-df-quickchart-complete:disabled,\n",
              "  .colab-df-quickchart-complete:disabled:hover {\n",
              "    background-color: var(--disabled-bg-color);\n",
              "    fill: var(--disabled-fill-color);\n",
              "    box-shadow: none;\n",
              "  }\n",
              "\n",
              "  .colab-df-spinner {\n",
              "    border: 2px solid var(--fill-color);\n",
              "    border-color: transparent;\n",
              "    border-bottom-color: var(--fill-color);\n",
              "    animation:\n",
              "      spin 1s steps(1) infinite;\n",
              "  }\n",
              "\n",
              "  @keyframes spin {\n",
              "    0% {\n",
              "      border-color: transparent;\n",
              "      border-bottom-color: var(--fill-color);\n",
              "      border-left-color: var(--fill-color);\n",
              "    }\n",
              "    20% {\n",
              "      border-color: transparent;\n",
              "      border-left-color: var(--fill-color);\n",
              "      border-top-color: var(--fill-color);\n",
              "    }\n",
              "    30% {\n",
              "      border-color: transparent;\n",
              "      border-left-color: var(--fill-color);\n",
              "      border-top-color: var(--fill-color);\n",
              "      border-right-color: var(--fill-color);\n",
              "    }\n",
              "    40% {\n",
              "      border-color: transparent;\n",
              "      border-right-color: var(--fill-color);\n",
              "      border-top-color: var(--fill-color);\n",
              "    }\n",
              "    60% {\n",
              "      border-color: transparent;\n",
              "      border-right-color: var(--fill-color);\n",
              "    }\n",
              "    80% {\n",
              "      border-color: transparent;\n",
              "      border-right-color: var(--fill-color);\n",
              "      border-bottom-color: var(--fill-color);\n",
              "    }\n",
              "    90% {\n",
              "      border-color: transparent;\n",
              "      border-bottom-color: var(--fill-color);\n",
              "    }\n",
              "  }\n",
              "</style>\n",
              "\n",
              "  <script>\n",
              "    async function quickchart(key) {\n",
              "      const quickchartButtonEl =\n",
              "        document.querySelector('#' + key + ' button');\n",
              "      quickchartButtonEl.disabled = true;  // To prevent multiple clicks.\n",
              "      quickchartButtonEl.classList.add('colab-df-spinner');\n",
              "      try {\n",
              "        const charts = await google.colab.kernel.invokeFunction(\n",
              "            'suggestCharts', [key], {});\n",
              "      } catch (error) {\n",
              "        console.error('Error during call to suggestCharts:', error);\n",
              "      }\n",
              "      quickchartButtonEl.classList.remove('colab-df-spinner');\n",
              "      quickchartButtonEl.classList.add('colab-df-quickchart-complete');\n",
              "    }\n",
              "    (() => {\n",
              "      let quickchartButtonEl =\n",
              "        document.querySelector('#df-0eeca8fa-5beb-4b5a-81be-3a1e729e96ef button');\n",
              "      quickchartButtonEl.style.display =\n",
              "        google.colab.kernel.accessAllowed ? 'block' : 'none';\n",
              "    })();\n",
              "  </script>\n",
              "</div>\n",
              "\n",
              "    </div>\n",
              "  </div>\n"
            ]
          },
          "metadata": {},
          "execution_count": 9
        }
      ],
      "source": [
        "df.describe()"
      ]
    },
    {
      "cell_type": "markdown",
      "metadata": {
        "id": "sioLwvDDNjTm"
      },
      "source": [
        "## Interactive visualisations\n",
        "We'll now work through a few examples of interactive visualisations. We'll start with a simple filter to see how the interface works."
      ]
    },
    {
      "cell_type": "markdown",
      "metadata": {
        "id": "jDXpCHzkKm08"
      },
      "source": [
        "### Example 1"
      ]
    },
    {
      "cell_type": "code",
      "execution_count": null,
      "metadata": {
        "id": "27JyA1OeNjTp"
      },
      "outputs": [],
      "source": [
        "from ipywidgets import interact, interact_manual, widgets"
      ]
    },
    {
      "cell_type": "markdown",
      "metadata": {
        "id": "ctd60lPhNjTx"
      },
      "source": [
        "To make a function interactive, we need to use the ```@interact``` decorator.\n",
        "\n",
        "But wait, what's a decorator?\n",
        "\n",
        "Simply put, a decorator is a Python function that wraps around another declared function to enhance or augment its behaviour, like putting a ribbon around a present to make it look prettier as a gift. We won't go into the semantics of how to _create_ a decorator, but you can easily spot them above a function with the form ``@decorator_name``.\n",
        "For more information, see: https://realpython.com/primer-on-python-decorators/\n",
        "\n",
        "Consider the code below."
      ]
    },
    {
      "cell_type": "code",
      "execution_count": null,
      "metadata": {
        "colab": {
          "base_uri": "https://localhost:8080/",
          "height": 576,
          "referenced_widgets": [
            "1c044a37e6a44846af21e4f10edd00c2",
            "514ef814648b41dc9522bf92da2d7745",
            "fdf73352c50c4154bbc6b6dde6dc5aad",
            "4ce203cfdf2544f0a271ecd3ae378241",
            "aeabb7130dab4119b04becd8f3e29baf",
            "b0a5207c36ca4402a3677831dfc6cae7",
            "ca1143185a564bea9ac3000be94af4d9",
            "405b9c003d1643f7b30c30cf8a5d4975",
            "177f23d645cc4c63ad71a1609c67329d",
            "d2ac016cfc19417f8d009f420aad2807"
          ]
        },
        "id": "PianhhDsNjT0",
        "outputId": "9ea79c4c-63e0-498d-da69-ed5d0d46f08e"
      },
      "outputs": [
        {
          "output_type": "display_data",
          "data": {
            "text/plain": [
              "interactive(children=(Text(value='claps', description='column'), IntSlider(value=5000, description='x', max=15…"
            ],
            "application/vnd.jupyter.widget-view+json": {
              "version_major": 2,
              "version_minor": 0,
              "model_id": "1c044a37e6a44846af21e4f10edd00c2"
            }
          },
          "metadata": {}
        }
      ],
      "source": [
        "# Example 1: Interactive filter using @interact decorator\n",
        "# This function is decorated with @interact, making it interactive.\n",
        "# It displays articles based on a chosen column and a user-defined threshold (x).\n",
        "@interact\n",
        "def show_articles_more_than(column='claps', x=5000):\n",
        "    \"\"\"\n",
        "    This function is decorated with @interact, making it interactive.\n",
        "    It allows users to filter and display articles based on a chosen column and a user-defined threshold (x).\n",
        "\n",
        "    Parameters:\n",
        "    - column (str): The column by which the articles will be filtered. Default is 'claps'.\n",
        "    - x (int): The threshold value to filter articles. Default is 5000.\n",
        "\n",
        "    Returns:\n",
        "    - Display: HTML representation of a title indicating the filter criteria.\n",
        "    - Display: Filtered DataFrame showing relevant article details (title, claps, published_date, read_time, tags, views, reads).\n",
        "    \"\"\"\n",
        "    # Display a title indicating the filter criteria\n",
        "    display(HTML(f'<h4>Showing articles with more than {x} {column}<h4>'))\n",
        "\n",
        "    # Display a filtered DataFrame showing relevant article details\n",
        "    display(df.loc[df[column] > x, ['title', 'claps', 'published_date', 'read_time', 'tags', 'views', 'reads']])"
      ]
    },
    {
      "cell_type": "markdown",
      "metadata": {
        "id": "qxCG6ow4NjT8"
      },
      "source": [
        "The ```@interact``` decorator automatically inferred that we wanted a text box for the column and an interactive slider. This decorator makes it incredibly simple to add interactivity."
      ]
    },
    {
      "cell_type": "markdown",
      "metadata": {
        "id": "A6hQ7E40Ky4j"
      },
      "source": [
        "### Example 2"
      ]
    },
    {
      "cell_type": "markdown",
      "metadata": {
        "id": "ntkHAlu4NjUG"
      },
      "source": [
        "Now we will add a dropdown menu to select which column to filter on while simultaneously adding limits for x.\n",
        "\n",
        "A dropdown menu can be useful when we need to enforce constraints on the interaction."
      ]
    },
    {
      "cell_type": "code",
      "execution_count": null,
      "metadata": {
        "colab": {
          "base_uri": "https://localhost:8080/",
          "height": 450,
          "referenced_widgets": [
            "236e3540d2fe49c48f6afdc062b8fb74",
            "94e05d2c020f492d89bc2d1c1b7504a4",
            "b2a21e782e7340f788c621e810fd7d21",
            "e7ca17184a7a49a8a83529067db33411",
            "c63032febd86496cb1ece4934d5240a1",
            "ba4dd4deea334dd8ad096757d67302e9",
            "6464858c84634265b24d280e80374123",
            "12d1b9a8432f4593a07e7044e3a3571c",
            "e6bed04638df4b3090e91e5f66ed346a",
            "551576a32667472786d14eca8c54b3f6"
          ]
        },
        "id": "-qOvFkvJNjT-",
        "outputId": "5f39f442-a2f5-41ef-d0ca-588336c201cd",
        "scrolled": true
      },
      "outputs": [
        {
          "output_type": "display_data",
          "data": {
            "text/plain": [
              "interactive(children=(IntSlider(value=25000, description='x', max=50000, min=10, step=10), Dropdown(descriptio…"
            ],
            "application/vnd.jupyter.widget-view+json": {
              "version_major": 2,
              "version_minor": 0,
              "model_id": "236e3540d2fe49c48f6afdc062b8fb74"
            }
          },
          "metadata": {}
        }
      ],
      "source": [
        "@interact\n",
        "def show_titles_more_than(x=(10, 50000, 10),\n",
        "                          column=['read_time', 'views', 'reads']):\n",
        "    \"\"\"\n",
        "    Display articles with more than a specified threshold in a chosen numeric column.\n",
        "\n",
        "    Parameters:\n",
        "    - x (tuple): A tuple representing the range for the threshold slider. Default is (10, 50000, 10).\n",
        "    - column (list): A list of available numeric columns for filtering. Default is ['read_time', 'views', 'reads'].\n",
        "\n",
        "    Returns:\n",
        "    - Display: HTML representation of a title indicating the filter criteria.\n",
        "    - Display: Filtered DataFrame showing relevant article details (title, published_date, read_time, tags, views, reads).\n",
        "    \"\"\"\n",
        "\n",
        "    # Display a title indicating the filter criteria\n",
        "    display(HTML(f'<h4>Showing articles with more than {x} {column}<h4>'))\n",
        "\n",
        "    # Display a filtered DataFrame showing relevant article details\n",
        "    display(df.loc[df[column] > x, ['title', 'published_date', 'read_time', 'tags', 'views', 'reads']])"
      ]
    },
    {
      "cell_type": "markdown",
      "metadata": {
        "id": "WyQ7V3hDK4O9"
      },
      "source": [
        "### Example 3"
      ]
    },
    {
      "cell_type": "markdown",
      "metadata": {
        "id": "oUyIhWZ4NjUP"
      },
      "source": [
        "Moving on to more sophisticated data relationships that may be interactively represented, we construct a widget that quickly finds the correlation between two columns in the dataset."
      ]
    },
    {
      "cell_type": "code",
      "execution_count": null,
      "metadata": {
        "colab": {
          "base_uri": "https://localhost:8080/",
          "height": 98,
          "referenced_widgets": [
            "30d3820398a0426f846677d29ba5cb59",
            "b2bafea2f31d4e6189a829b79d930c27",
            "3cd2adc507aa456e8f030ad173fe45bf",
            "f876e682bb084dd5af7b481a42a5157d",
            "7d37458efbed41c1ae3007a644b919cd",
            "896e4292813044a1b5312e38f8a34b7c",
            "5c0d103fe33546ef8430ae7574d50246",
            "63dddee4154b4c0dbd0ee5a70e546c65",
            "7f38744ced6d4323823973933cb694eb",
            "a98317a856f647bab8821d43dc711bbc"
          ]
        },
        "id": "WMBFt-PpNjUR",
        "outputId": "ab9ce1fd-07dd-41f7-e881-d6c08f0dacc6"
      },
      "outputs": [
        {
          "output_type": "display_data",
          "data": {
            "text/plain": [
              "interactive(children=(Dropdown(description='column1', options=('claps', 'days_since_publication', 'fans', 'num…"
            ],
            "application/vnd.jupyter.widget-view+json": {
              "version_major": 2,
              "version_minor": 0,
              "model_id": "30d3820398a0426f846677d29ba5cb59"
            }
          },
          "metadata": {}
        }
      ],
      "source": [
        "@interact\n",
        "def correlations(column1=list(df.select_dtypes('number').columns),\n",
        "                 column2=list(df.select_dtypes('number').columns)):\n",
        "    \"\"\"\n",
        "    Calculate and display the correlation between two numeric columns in the DataFrame.\n",
        "\n",
        "    Parameters:\n",
        "    - column1 (list): A dropdown menu of available numeric columns for correlation. Default is all numeric columns.\n",
        "    - column2 (list): A dropdown menu of available numeric columns for correlation. Default is all numeric columns.\n",
        "\n",
        "    Returns:\n",
        "    - Print: Correlation value between the selected numeric columns.\n",
        "    \"\"\"\n",
        "\n",
        "    # Print the correlation value between selected numeric columns\n",
        "    print(f\"Correlation: {df[column1].corr(df[column2])}\")"
      ]
    },
    {
      "cell_type": "markdown",
      "metadata": {
        "id": "ydMa18_3X61q"
      },
      "source": [
        "Within the above code example, we need to specify Pandas columns that are of a numeric type using the code `df.select_dtypes('number')` because the correlation statistic is only defined between numeric values."
      ]
    },
    {
      "cell_type": "markdown",
      "metadata": {
        "id": "mZmS-8NJQSfY"
      },
      "source": [
        "### Example 4"
      ]
    },
    {
      "cell_type": "markdown",
      "metadata": {
        "id": "VoO_HdhzNjUX"
      },
      "source": [
        "We can use the same basic approach to create interactive widgets for plots. This approach allows us to expand the capabilities of the powerful `plotly` visualisation library."
      ]
    },
    {
      "cell_type": "code",
      "execution_count": null,
      "metadata": {
        "colab": {
          "base_uri": "https://localhost:8080/",
          "height": 1000,
          "referenced_widgets": [
            "f88fa314f9d64843825fd076314321e0",
            "62427a0c68ad40fda6f6758687c2c51e",
            "57a6aeb0d9694a0d9a4f0b7322882ca7",
            "92cad730415441c9a3003f4cd70fcd4f",
            "33839253dbe640cb94f25a3cc3a0dd0e",
            "ef39ef8f891a4e5eb8228c6703a4314c",
            "abe77926e0e34cc4b734ec8cee88f765",
            "ac65532ee3c644c49bfc2522cd61f1c6",
            "10a2dba36d7a4758a30509189b5bd5fc",
            "75cde90b32a34c2bb1b3765c50ca7362"
          ]
        },
        "id": "C4WtQa8rNjUa",
        "outputId": "4c9a7d67-de59-4317-b5b1-c4dda0804bfa"
      },
      "outputs": [
        {
          "output_type": "display_data",
          "data": {
            "text/plain": [
              "interactive(children=(Dropdown(description='x', options=('claps', 'days_since_publication', 'fans', 'num_respo…"
            ],
            "application/vnd.jupyter.widget-view+json": {
              "version_major": 2,
              "version_minor": 0,
              "model_id": "f88fa314f9d64843825fd076314321e0"
            }
          },
          "metadata": {}
        }
      ],
      "source": [
        "@interact\n",
        "def scatter_plot(x=list(df.select_dtypes('number').columns),\n",
        "                 y=list(df.select_dtypes('number').columns)[1:]):\n",
        "    \"\"\"\n",
        "    Create and display an interactive scatter plot between two numeric columns in the DataFrame.\n",
        "\n",
        "    Parameters:\n",
        "    - x (list): A dropdown menu of available numeric columns for the X-axis. Default is all numeric columns.\n",
        "    - y (list): A dropdown menu of available numeric columns for the Y-axis. Default is all numeric columns starting from the second column.\n",
        "\n",
        "    Returns:\n",
        "    - Plot: Interactive scatter plot between the selected X and Y columns.\n",
        "    \"\"\"\n",
        "\n",
        "    # Check if X and Y columns are different\n",
        "    if x == y:\n",
        "        print(f\"Please select separate variables for X and Y\")\n",
        "    else:\n",
        "        # Display an interactive scatter plot using plotly\n",
        "        df.iplot(kind='scatter', x=x, y=y, mode='markers',\n",
        "                 xTitle=x.title(), yTitle=y.title(), title=f'{y.title()} vs {x.title()}')\n",
        "\n",
        "        ## If you are using Google Colab, comment out the above line of code\n",
        "        # and uncomment the lines below to use the Plotly Express library\n",
        "        import plotly.express as px\n",
        "        fig = px.scatter(df, x=x, y=y, title=f'{y.title()} vs {x.title()}')\n",
        "        fig.show(renderer=\"colab\")"
      ]
    },
    {
      "cell_type": "markdown",
      "metadata": {
        "id": "SowggjiJwEY0"
      },
      "source": [
        "### Example 5"
      ]
    },
    {
      "cell_type": "markdown",
      "metadata": {
        "id": "0d7JeQpxX61r"
      },
      "source": [
        "In a similar fashion to the previous example, we can create a customisable heatmap of correlations:"
      ]
    },
    {
      "cell_type": "code",
      "execution_count": null,
      "metadata": {
        "colab": {
          "base_uri": "https://localhost:8080/",
          "height": 574,
          "referenced_widgets": [
            "776a2f63088d444e89a7826e4f025570",
            "0d7f6fe251034d249b9bf06ad6b4bfcf",
            "931083e990204112a266cc68efe7a092",
            "6efaa34c0d3b411eb48db64bb750efb7",
            "be9043c7e7b34ac4bf27ef171d9aa963",
            "4c5eced77cfa432a86ae254aeedb3957",
            "9bfd9f25d0714adeaf9b779c660fda9f"
          ]
        },
        "id": "WLPhgAfXNjUo",
        "outputId": "cae0c43b-e941-4861-b790-c93374fc52e2"
      },
      "outputs": [
        {
          "output_type": "display_data",
          "data": {
            "text/plain": [
              "interactive(children=(Dropdown(description='colorscale', options=('Greys', 'YlGnBu', 'Greens', 'YlOrRd', 'Blue…"
            ],
            "application/vnd.jupyter.widget-view+json": {
              "version_major": 2,
              "version_minor": 0,
              "model_id": "776a2f63088d444e89a7826e4f025570"
            }
          },
          "metadata": {}
        }
      ],
      "source": [
        "cscales = ['Greys', 'YlGnBu', 'Greens', 'YlOrRd', 'Bluered', 'RdBu',\n",
        "            'Reds', 'Blues', 'Picnic', 'Rainbow', 'Portland', 'Jet',\n",
        "            'Hot', 'Blackbody', 'Earth', 'Electric', 'Viridis', 'Cividis']\n",
        "\n",
        "# We use the Figure Factory module of Plotly, which\n",
        "# defines many unique and powerful plots to be used\n",
        "# in Python.\n",
        "# For more info, see: https://plot.ly/python/figure-factory-subplots/\n",
        "import plotly.figure_factory as ff\n",
        "\n",
        "corrs = df.corr(numeric_only=True)\n",
        "\n",
        "@interact\n",
        "def plot_corrs(colorscale=cscales):\n",
        "    figure = ff.create_annotated_heatmap(z = corrs.round(2).values,\n",
        "                                     x =list(corrs.columns),\n",
        "                                     y=list(corrs.index),\n",
        "                                     colorscale=colorscale,\n",
        "                                     annotation_text=corrs.round(2).values)\n",
        "    iplot(figure)\n",
        "    ## If you are using Google Colab, comment out the above line of code and uncomment the line below\n",
        "    #figure.show(renderer=\"colab\")"
      ]
    },
    {
      "cell_type": "markdown",
      "metadata": {
        "id": "AmxkRXUVLWYJ"
      },
      "source": [
        "### Example 6"
      ]
    },
    {
      "cell_type": "markdown",
      "metadata": {
        "id": "runnVkD0X61s"
      },
      "source": [
        "Interaction can also be extremely useful when we want to try and view various configurations for a plot that we are trying to produce.\n",
        "\n",
        "The following code allows us to add some options to control the colour scheme of a given Plotly chart. Here we call the `@interact_manual` decorator, which allows us to select multiple variables before our chart is updated."
      ]
    },
    {
      "cell_type": "code",
      "execution_count": null,
      "metadata": {
        "id": "8JiGyFamNjU7"
      },
      "outputs": [],
      "source": [
        "@interact_manual\n",
        "def scatter_plot(x=list(df.select_dtypes('number').columns),\n",
        "                 y=list(df.select_dtypes('number').columns)[1:],\n",
        "                 theme=list(cf.themes.THEMES.keys()),\n",
        "                 colorscale=list(cf.colors._scales_names.keys())):\n",
        "\n",
        "    if x == y:\n",
        "        print(f\"Please select separate variables for X and Y\")\n",
        "    else:\n",
        "        df.iplot(kind='scatter', x=x, y=y, mode='markers',\n",
        "                 xTitle=x.title(), yTitle=y.title(),\n",
        "                 text='title',\n",
        "                 title=f'{y.title()} vs {x.title()}',\n",
        "                theme=theme, colorscale=colorscale)\n",
        "        ## If you are using Google Colab, comment out the above line of code and uncomment the line below\n",
        "        #fig = px.scatter(df, x=x, y=y, title=f'{y.title()} vs {x.title()}')\n",
        "        #fig.show(renderer=\"colab\")"
      ]
    },
    {
      "cell_type": "markdown",
      "metadata": {
        "id": "p_osdia6OV2G"
      },
      "source": [
        "### Example 7"
      ]
    },
    {
      "cell_type": "markdown",
      "metadata": {
        "id": "vx4psP6FNjVL"
      },
      "source": [
        "The decorator ```@interact``` is not the only way to use widgets.\n",
        "\n",
        "Read through the following example to figure out how else we can use widgets."
      ]
    },
    {
      "cell_type": "code",
      "execution_count": null,
      "metadata": {
        "id": "k_7lLT0jNjVM"
      },
      "outputs": [],
      "source": [
        "df.set_index('published_date', inplace=True)"
      ]
    },
    {
      "cell_type": "code",
      "execution_count": null,
      "metadata": {
        "id": "pDihhzPoNjVR"
      },
      "outputs": [],
      "source": [
        "def print_articles_published(start_date, end_date):\n",
        "    start_date = pd.Timestamp(start_date)\n",
        "    end_date = pd.Timestamp(end_date)\n",
        "    stat_df = df.loc[(df.index >= start_date) & (df.index <= end_date)].copy()\n",
        "    total_words = stat_df['word_count'].sum()\n",
        "    total_read_time = stat_df['read_time'].sum()\n",
        "    num_articles = len(stat_df)\n",
        "    print(f'According to our dataset, published by Medium.com, there are {num_articles} articles between {start_date.date()} and {end_date.date()}.')\n",
        "    print(f'These articles totalled {total_words:,} words and {total_read_time/60:.2f} hours to read.')\n",
        "\n",
        "_ = interact(print_articles_published,\n",
        "             start_date=widgets.DatePicker(value=pd.to_datetime('2018-01-01')),\n",
        "             end_date=widgets.DatePicker(value=pd.to_datetime('2019-01-01')))"
      ]
    },
    {
      "cell_type": "markdown",
      "metadata": {
        "id": "Ezl7N2_HOnaJ"
      },
      "source": [
        "### Example 8"
      ]
    },
    {
      "cell_type": "markdown",
      "metadata": {
        "id": "dHR4eu9QNjVY"
      },
      "source": [
        "For our final example, we use the `Dropdown` and `DatePicker` widgets to plot one column cumulatively up to a certain time."
      ]
    },
    {
      "cell_type": "code",
      "execution_count": null,
      "metadata": {
        "id": "eTyJSw94NjVa",
        "scrolled": true
      },
      "outputs": [],
      "source": [
        "def plot_up_to(column, date):\n",
        "    date = pd.Timestamp(date)\n",
        "    plot_df = df.loc[df.index <= date].copy()\n",
        "    plot_df[column].cumsum().iplot(mode='markers+lines',\n",
        "                                   xTitle='published date',\n",
        "                                   yTitle=column,\n",
        "                                  title=f'Cumulative {column.title()} Until {date.date()}')\n",
        "\n",
        "_ = interact(plot_up_to, column=widgets.Dropdown(options=list(df.select_dtypes('number').columns)),\n",
        "             date = widgets.DatePicker(value=pd.to_datetime('2019-01-01')))"
      ]
    },
    {
      "cell_type": "markdown",
      "metadata": {
        "id": "l9E2cGc9NjVf"
      },
      "source": [
        "## Summary"
      ]
    },
    {
      "cell_type": "markdown",
      "metadata": {
        "id": "-4sO_84lNjVh"
      },
      "source": [
        "Jupyter Notebook is a great data exploration and analysis environment. Using tools like notebook extensions and interactive widgets makes our job as data-driven storytellers even more efficient. Widgets are powerful tools that allow us to make our data more interactive and, therefore, more accessible to non-data scientists."
      ]
    },
    {
      "cell_type": "markdown",
      "metadata": {
        "id": "XgS9XhguX61w"
      },
      "source": [
        "<div align=\"center\" style=\" font-size: 80%; text-align: center; margin: 0 auto\">\n",
        "<img src=\"https://raw.githubusercontent.com/Explore-AI/Pictures/master/ExploreAI_logos/EAI_Blue_Dark.png\"  style=\"width:200px\";/>\n",
        "</div>"
      ]
    }
  ],
  "metadata": {
    "colab": {
      "provenance": []
    },
    "kernelspec": {
      "display_name": "Python 3",
      "language": "python",
      "name": "python3"
    },
    "language_info": {
      "codemirror_mode": {
        "name": "ipython",
        "version": 3
      },
      "file_extension": ".py",
      "mimetype": "text/x-python",
      "name": "python",
      "nbconvert_exporter": "python",
      "pygments_lexer": "ipython3",
      "version": "3.11.4"
    },
    "toc": {
      "base_numbering": 1,
      "nav_menu": {},
      "number_sections": true,
      "sideBar": true,
      "skip_h1_title": false,
      "title_cell": "Table of Contents",
      "title_sidebar": "Contents",
      "toc_cell": false,
      "toc_position": {},
      "toc_section_display": true,
      "toc_window_display": false
    },
    "varInspector": {
      "cols": {
        "lenName": 16,
        "lenType": 16,
        "lenVar": 40
      },
      "kernels_config": {
        "python": {
          "delete_cmd_postfix": "",
          "delete_cmd_prefix": "del ",
          "library": "var_list.py",
          "varRefreshCmd": "print(var_dic_list())"
        },
        "r": {
          "delete_cmd_postfix": ") ",
          "delete_cmd_prefix": "rm(",
          "library": "var_list.r",
          "varRefreshCmd": "cat(var_dic_list()) "
        }
      },
      "types_to_exclude": [
        "module",
        "function",
        "builtin_function_or_method",
        "instance",
        "_Feature"
      ],
      "window_display": false
    },
    "widgets": {
      "application/vnd.jupyter.widget-state+json": {
        "1c044a37e6a44846af21e4f10edd00c2": {
          "model_module": "@jupyter-widgets/controls",
          "model_name": "VBoxModel",
          "model_module_version": "1.5.0",
          "state": {
            "_dom_classes": [
              "widget-interact"
            ],
            "_model_module": "@jupyter-widgets/controls",
            "_model_module_version": "1.5.0",
            "_model_name": "VBoxModel",
            "_view_count": null,
            "_view_module": "@jupyter-widgets/controls",
            "_view_module_version": "1.5.0",
            "_view_name": "VBoxView",
            "box_style": "",
            "children": [
              "IPY_MODEL_514ef814648b41dc9522bf92da2d7745",
              "IPY_MODEL_fdf73352c50c4154bbc6b6dde6dc5aad",
              "IPY_MODEL_4ce203cfdf2544f0a271ecd3ae378241"
            ],
            "layout": "IPY_MODEL_aeabb7130dab4119b04becd8f3e29baf"
          }
        },
        "514ef814648b41dc9522bf92da2d7745": {
          "model_module": "@jupyter-widgets/controls",
          "model_name": "TextModel",
          "model_module_version": "1.5.0",
          "state": {
            "_dom_classes": [],
            "_model_module": "@jupyter-widgets/controls",
            "_model_module_version": "1.5.0",
            "_model_name": "TextModel",
            "_view_count": null,
            "_view_module": "@jupyter-widgets/controls",
            "_view_module_version": "1.5.0",
            "_view_name": "TextView",
            "continuous_update": true,
            "description": "column",
            "description_tooltip": null,
            "disabled": false,
            "layout": "IPY_MODEL_b0a5207c36ca4402a3677831dfc6cae7",
            "placeholder": "​",
            "style": "IPY_MODEL_ca1143185a564bea9ac3000be94af4d9",
            "value": "claps"
          }
        },
        "fdf73352c50c4154bbc6b6dde6dc5aad": {
          "model_module": "@jupyter-widgets/controls",
          "model_name": "IntSliderModel",
          "model_module_version": "1.5.0",
          "state": {
            "_dom_classes": [],
            "_model_module": "@jupyter-widgets/controls",
            "_model_module_version": "1.5.0",
            "_model_name": "IntSliderModel",
            "_view_count": null,
            "_view_module": "@jupyter-widgets/controls",
            "_view_module_version": "1.5.0",
            "_view_name": "IntSliderView",
            "continuous_update": true,
            "description": "x",
            "description_tooltip": null,
            "disabled": false,
            "layout": "IPY_MODEL_405b9c003d1643f7b30c30cf8a5d4975",
            "max": 15000,
            "min": -5000,
            "orientation": "horizontal",
            "readout": true,
            "readout_format": "d",
            "step": 1,
            "style": "IPY_MODEL_177f23d645cc4c63ad71a1609c67329d",
            "value": 5000
          }
        },
        "4ce203cfdf2544f0a271ecd3ae378241": {
          "model_module": "@jupyter-widgets/output",
          "model_name": "OutputModel",
          "model_module_version": "1.0.0",
          "state": {
            "_dom_classes": [],
            "_model_module": "@jupyter-widgets/output",
            "_model_module_version": "1.0.0",
            "_model_name": "OutputModel",
            "_view_count": null,
            "_view_module": "@jupyter-widgets/output",
            "_view_module_version": "1.0.0",
            "_view_name": "OutputView",
            "layout": "IPY_MODEL_d2ac016cfc19417f8d009f420aad2807",
            "msg_id": "",
            "outputs": [
              {
                "output_type": "display_data",
                "data": {
                  "text/plain": "<IPython.core.display.HTML object>",
                  "text/html": "<h4>Showing articles with more than 5000 claps<h4>"
                },
                "metadata": {}
              },
              {
                "output_type": "display_data",
                "data": {
                  "text/plain": "                                                 title  claps  \\\n100                         Stock Prediction in Python   7300   \n88          Python is the Perfect Tool for any Problem  12900   \n89                  Markov Chain Monte Carlo in Python   5100   \n83                                 Bayes’ Rule Applied   6000   \n82               Beyond Accuracy: Precision and Recall   7000   \n84                     Controlling the Web with Python   7000   \n75          Introduction to Bayesian Linear Regression   5500   \n65   Web Scraping, Regular Expressions, and Data Vi...   8000   \n69   A Complete Machine Learning Project Walk-Throu...  13600   \n62   Machine Learning Kaggle Competition Part One: ...   6400   \n66             Automated Feature Engineering in Python   8500   \n63   A Feature Selection Tool for Machine Learning ...   5500   \n19      The Next Level of Data Visualization in Python   7600   \n\n         published_date  read_time  \\\n100 2018-01-19 15:30:00         12   \n88  2018-02-04 09:12:00          3   \n89  2018-02-09 22:29:00         12   \n83  2018-02-14 11:27:00          9   \n82  2018-03-03 11:10:00         11   \n84  2018-03-10 16:16:00          9   \n75  2018-04-13 20:38:00         10   \n65  2018-04-28 15:27:00          7   \n69  2018-05-16 12:33:00         15   \n62  2018-05-28 11:39:00         12   \n66  2018-06-02 10:01:00         11   \n63  2018-06-22 10:12:00         10   \n19  2019-01-08 22:09:00          8   \n\n                                                  tags   views  reads  \n100  [Machine Learning, Data Science, Programming, ...  134699  41978  \n88   [Python, Programming, Education, Data Science,...   48157  30099  \n89   [Machine Learning, Data Science, Programming, ...   57830  16735  \n83   [Statistics, Programming, Education, Data Anal...   35505  11491  \n82   [Machine Learning, Data Science, Education, St...  128661  26327  \n84   [Python, Education, Programming, Internet, Tow...   65054  14614  \n75   [Data Science, Education, Statistics, Learning...   58471  19805  \n65   [Data Science, Programming, Education, Compute...   68317  21607  \n69   [Machine Learning, Education, Data Science, Py...  124970  23587  \n62   [Data Science, Machine Learning, Towards Data ...   43577  10398  \n66   [Machine Learning, Towards Data Science, Data ...  114762  25139  \n63   [Machine Learning, Python, Education, Programm...   80618  20592  \n19   [Data Science, Data Visualization, Python, Edu...   71225  24002  ",
                  "text/html": "\n  <div id=\"df-16b176a2-ea58-4784-80cd-639fb15948dd\" class=\"colab-df-container\">\n    <div>\n<style scoped>\n    .dataframe tbody tr th:only-of-type {\n        vertical-align: middle;\n    }\n\n    .dataframe tbody tr th {\n        vertical-align: top;\n    }\n\n    .dataframe thead th {\n        text-align: right;\n    }\n</style>\n<table border=\"1\" class=\"dataframe\">\n  <thead>\n    <tr style=\"text-align: right;\">\n      <th></th>\n      <th>title</th>\n      <th>claps</th>\n      <th>published_date</th>\n      <th>read_time</th>\n      <th>tags</th>\n      <th>views</th>\n      <th>reads</th>\n    </tr>\n  </thead>\n  <tbody>\n    <tr>\n      <th>100</th>\n      <td>Stock Prediction in Python</td>\n      <td>7300</td>\n      <td>2018-01-19 15:30:00</td>\n      <td>12</td>\n      <td>[Machine Learning, Data Science, Programming, ...</td>\n      <td>134699</td>\n      <td>41978</td>\n    </tr>\n    <tr>\n      <th>88</th>\n      <td>Python is the Perfect Tool for any Problem</td>\n      <td>12900</td>\n      <td>2018-02-04 09:12:00</td>\n      <td>3</td>\n      <td>[Python, Programming, Education, Data Science,...</td>\n      <td>48157</td>\n      <td>30099</td>\n    </tr>\n    <tr>\n      <th>89</th>\n      <td>Markov Chain Monte Carlo in Python</td>\n      <td>5100</td>\n      <td>2018-02-09 22:29:00</td>\n      <td>12</td>\n      <td>[Machine Learning, Data Science, Programming, ...</td>\n      <td>57830</td>\n      <td>16735</td>\n    </tr>\n    <tr>\n      <th>83</th>\n      <td>Bayes’ Rule Applied</td>\n      <td>6000</td>\n      <td>2018-02-14 11:27:00</td>\n      <td>9</td>\n      <td>[Statistics, Programming, Education, Data Anal...</td>\n      <td>35505</td>\n      <td>11491</td>\n    </tr>\n    <tr>\n      <th>82</th>\n      <td>Beyond Accuracy: Precision and Recall</td>\n      <td>7000</td>\n      <td>2018-03-03 11:10:00</td>\n      <td>11</td>\n      <td>[Machine Learning, Data Science, Education, St...</td>\n      <td>128661</td>\n      <td>26327</td>\n    </tr>\n    <tr>\n      <th>84</th>\n      <td>Controlling the Web with Python</td>\n      <td>7000</td>\n      <td>2018-03-10 16:16:00</td>\n      <td>9</td>\n      <td>[Python, Education, Programming, Internet, Tow...</td>\n      <td>65054</td>\n      <td>14614</td>\n    </tr>\n    <tr>\n      <th>75</th>\n      <td>Introduction to Bayesian Linear Regression</td>\n      <td>5500</td>\n      <td>2018-04-13 20:38:00</td>\n      <td>10</td>\n      <td>[Data Science, Education, Statistics, Learning...</td>\n      <td>58471</td>\n      <td>19805</td>\n    </tr>\n    <tr>\n      <th>65</th>\n      <td>Web Scraping, Regular Expressions, and Data Vi...</td>\n      <td>8000</td>\n      <td>2018-04-28 15:27:00</td>\n      <td>7</td>\n      <td>[Data Science, Programming, Education, Compute...</td>\n      <td>68317</td>\n      <td>21607</td>\n    </tr>\n    <tr>\n      <th>69</th>\n      <td>A Complete Machine Learning Project Walk-Throu...</td>\n      <td>13600</td>\n      <td>2018-05-16 12:33:00</td>\n      <td>15</td>\n      <td>[Machine Learning, Education, Data Science, Py...</td>\n      <td>124970</td>\n      <td>23587</td>\n    </tr>\n    <tr>\n      <th>62</th>\n      <td>Machine Learning Kaggle Competition Part One: ...</td>\n      <td>6400</td>\n      <td>2018-05-28 11:39:00</td>\n      <td>12</td>\n      <td>[Data Science, Machine Learning, Towards Data ...</td>\n      <td>43577</td>\n      <td>10398</td>\n    </tr>\n    <tr>\n      <th>66</th>\n      <td>Automated Feature Engineering in Python</td>\n      <td>8500</td>\n      <td>2018-06-02 10:01:00</td>\n      <td>11</td>\n      <td>[Machine Learning, Towards Data Science, Data ...</td>\n      <td>114762</td>\n      <td>25139</td>\n    </tr>\n    <tr>\n      <th>63</th>\n      <td>A Feature Selection Tool for Machine Learning ...</td>\n      <td>5500</td>\n      <td>2018-06-22 10:12:00</td>\n      <td>10</td>\n      <td>[Machine Learning, Python, Education, Programm...</td>\n      <td>80618</td>\n      <td>20592</td>\n    </tr>\n    <tr>\n      <th>19</th>\n      <td>The Next Level of Data Visualization in Python</td>\n      <td>7600</td>\n      <td>2019-01-08 22:09:00</td>\n      <td>8</td>\n      <td>[Data Science, Data Visualization, Python, Edu...</td>\n      <td>71225</td>\n      <td>24002</td>\n    </tr>\n  </tbody>\n</table>\n</div>\n    <div class=\"colab-df-buttons\">\n\n  <div class=\"colab-df-container\">\n    <button class=\"colab-df-convert\" onclick=\"convertToInteractive('df-16b176a2-ea58-4784-80cd-639fb15948dd')\"\n            title=\"Convert this dataframe to an interactive table.\"\n            style=\"display:none;\">\n\n  <svg xmlns=\"http://www.w3.org/2000/svg\" height=\"24px\" viewBox=\"0 -960 960 960\">\n    <path d=\"M120-120v-720h720v720H120Zm60-500h600v-160H180v160Zm220 220h160v-160H400v160Zm0 220h160v-160H400v160ZM180-400h160v-160H180v160Zm440 0h160v-160H620v160ZM180-180h160v-160H180v160Zm440 0h160v-160H620v160Z\"/>\n  </svg>\n    </button>\n\n  <style>\n    .colab-df-container {\n      display:flex;\n      gap: 12px;\n    }\n\n    .colab-df-convert {\n      background-color: #E8F0FE;\n      border: none;\n      border-radius: 50%;\n      cursor: pointer;\n      display: none;\n      fill: #1967D2;\n      height: 32px;\n      padding: 0 0 0 0;\n      width: 32px;\n    }\n\n    .colab-df-convert:hover {\n      background-color: #E2EBFA;\n      box-shadow: 0px 1px 2px rgba(60, 64, 67, 0.3), 0px 1px 3px 1px rgba(60, 64, 67, 0.15);\n      fill: #174EA6;\n    }\n\n    .colab-df-buttons div {\n      margin-bottom: 4px;\n    }\n\n    [theme=dark] .colab-df-convert {\n      background-color: #3B4455;\n      fill: #D2E3FC;\n    }\n\n    [theme=dark] .colab-df-convert:hover {\n      background-color: #434B5C;\n      box-shadow: 0px 1px 3px 1px rgba(0, 0, 0, 0.15);\n      filter: drop-shadow(0px 1px 2px rgba(0, 0, 0, 0.3));\n      fill: #FFFFFF;\n    }\n  </style>\n\n    <script>\n      const buttonEl =\n        document.querySelector('#df-16b176a2-ea58-4784-80cd-639fb15948dd button.colab-df-convert');\n      buttonEl.style.display =\n        google.colab.kernel.accessAllowed ? 'block' : 'none';\n\n      async function convertToInteractive(key) {\n        const element = document.querySelector('#df-16b176a2-ea58-4784-80cd-639fb15948dd');\n        const dataTable =\n          await google.colab.kernel.invokeFunction('convertToInteractive',\n                                                    [key], {});\n        if (!dataTable) return;\n\n        const docLinkHtml = 'Like what you see? Visit the ' +\n          '<a target=\"_blank\" href=https://colab.research.google.com/notebooks/data_table.ipynb>data table notebook</a>'\n          + ' to learn more about interactive tables.';\n        element.innerHTML = '';\n        dataTable['output_type'] = 'display_data';\n        await google.colab.output.renderOutput(dataTable, element);\n        const docLink = document.createElement('div');\n        docLink.innerHTML = docLinkHtml;\n        element.appendChild(docLink);\n      }\n    </script>\n  </div>\n\n\n<div id=\"df-3b6d2869-88b7-4620-b026-2bfb6b66d607\">\n  <button class=\"colab-df-quickchart\" onclick=\"quickchart('df-3b6d2869-88b7-4620-b026-2bfb6b66d607')\"\n            title=\"Suggest charts\"\n            style=\"display:none;\">\n\n<svg xmlns=\"http://www.w3.org/2000/svg\" height=\"24px\"viewBox=\"0 0 24 24\"\n     width=\"24px\">\n    <g>\n        <path d=\"M19 3H5c-1.1 0-2 .9-2 2v14c0 1.1.9 2 2 2h14c1.1 0 2-.9 2-2V5c0-1.1-.9-2-2-2zM9 17H7v-7h2v7zm4 0h-2V7h2v10zm4 0h-2v-4h2v4z\"/>\n    </g>\n</svg>\n  </button>\n\n<style>\n  .colab-df-quickchart {\n      --bg-color: #E8F0FE;\n      --fill-color: #1967D2;\n      --hover-bg-color: #E2EBFA;\n      --hover-fill-color: #174EA6;\n      --disabled-fill-color: #AAA;\n      --disabled-bg-color: #DDD;\n  }\n\n  [theme=dark] .colab-df-quickchart {\n      --bg-color: #3B4455;\n      --fill-color: #D2E3FC;\n      --hover-bg-color: #434B5C;\n      --hover-fill-color: #FFFFFF;\n      --disabled-bg-color: #3B4455;\n      --disabled-fill-color: #666;\n  }\n\n  .colab-df-quickchart {\n    background-color: var(--bg-color);\n    border: none;\n    border-radius: 50%;\n    cursor: pointer;\n    display: none;\n    fill: var(--fill-color);\n    height: 32px;\n    padding: 0;\n    width: 32px;\n  }\n\n  .colab-df-quickchart:hover {\n    background-color: var(--hover-bg-color);\n    box-shadow: 0 1px 2px rgba(60, 64, 67, 0.3), 0 1px 3px 1px rgba(60, 64, 67, 0.15);\n    fill: var(--button-hover-fill-color);\n  }\n\n  .colab-df-quickchart-complete:disabled,\n  .colab-df-quickchart-complete:disabled:hover {\n    background-color: var(--disabled-bg-color);\n    fill: var(--disabled-fill-color);\n    box-shadow: none;\n  }\n\n  .colab-df-spinner {\n    border: 2px solid var(--fill-color);\n    border-color: transparent;\n    border-bottom-color: var(--fill-color);\n    animation:\n      spin 1s steps(1) infinite;\n  }\n\n  @keyframes spin {\n    0% {\n      border-color: transparent;\n      border-bottom-color: var(--fill-color);\n      border-left-color: var(--fill-color);\n    }\n    20% {\n      border-color: transparent;\n      border-left-color: var(--fill-color);\n      border-top-color: var(--fill-color);\n    }\n    30% {\n      border-color: transparent;\n      border-left-color: var(--fill-color);\n      border-top-color: var(--fill-color);\n      border-right-color: var(--fill-color);\n    }\n    40% {\n      border-color: transparent;\n      border-right-color: var(--fill-color);\n      border-top-color: var(--fill-color);\n    }\n    60% {\n      border-color: transparent;\n      border-right-color: var(--fill-color);\n    }\n    80% {\n      border-color: transparent;\n      border-right-color: var(--fill-color);\n      border-bottom-color: var(--fill-color);\n    }\n    90% {\n      border-color: transparent;\n      border-bottom-color: var(--fill-color);\n    }\n  }\n</style>\n\n  <script>\n    async function quickchart(key) {\n      const quickchartButtonEl =\n        document.querySelector('#' + key + ' button');\n      quickchartButtonEl.disabled = true;  // To prevent multiple clicks.\n      quickchartButtonEl.classList.add('colab-df-spinner');\n      try {\n        const charts = await google.colab.kernel.invokeFunction(\n            'suggestCharts', [key], {});\n      } catch (error) {\n        console.error('Error during call to suggestCharts:', error);\n      }\n      quickchartButtonEl.classList.remove('colab-df-spinner');\n      quickchartButtonEl.classList.add('colab-df-quickchart-complete');\n    }\n    (() => {\n      let quickchartButtonEl =\n        document.querySelector('#df-3b6d2869-88b7-4620-b026-2bfb6b66d607 button');\n      quickchartButtonEl.style.display =\n        google.colab.kernel.accessAllowed ? 'block' : 'none';\n    })();\n  </script>\n</div>\n\n    </div>\n  </div>\n"
                },
                "metadata": {}
              }
            ]
          }
        },
        "aeabb7130dab4119b04becd8f3e29baf": {
          "model_module": "@jupyter-widgets/base",
          "model_name": "LayoutModel",
          "model_module_version": "1.2.0",
          "state": {
            "_model_module": "@jupyter-widgets/base",
            "_model_module_version": "1.2.0",
            "_model_name": "LayoutModel",
            "_view_count": null,
            "_view_module": "@jupyter-widgets/base",
            "_view_module_version": "1.2.0",
            "_view_name": "LayoutView",
            "align_content": null,
            "align_items": null,
            "align_self": null,
            "border": null,
            "bottom": null,
            "display": null,
            "flex": null,
            "flex_flow": null,
            "grid_area": null,
            "grid_auto_columns": null,
            "grid_auto_flow": null,
            "grid_auto_rows": null,
            "grid_column": null,
            "grid_gap": null,
            "grid_row": null,
            "grid_template_areas": null,
            "grid_template_columns": null,
            "grid_template_rows": null,
            "height": null,
            "justify_content": null,
            "justify_items": null,
            "left": null,
            "margin": null,
            "max_height": null,
            "max_width": null,
            "min_height": null,
            "min_width": null,
            "object_fit": null,
            "object_position": null,
            "order": null,
            "overflow": null,
            "overflow_x": null,
            "overflow_y": null,
            "padding": null,
            "right": null,
            "top": null,
            "visibility": null,
            "width": null
          }
        },
        "b0a5207c36ca4402a3677831dfc6cae7": {
          "model_module": "@jupyter-widgets/base",
          "model_name": "LayoutModel",
          "model_module_version": "1.2.0",
          "state": {
            "_model_module": "@jupyter-widgets/base",
            "_model_module_version": "1.2.0",
            "_model_name": "LayoutModel",
            "_view_count": null,
            "_view_module": "@jupyter-widgets/base",
            "_view_module_version": "1.2.0",
            "_view_name": "LayoutView",
            "align_content": null,
            "align_items": null,
            "align_self": null,
            "border": null,
            "bottom": null,
            "display": null,
            "flex": null,
            "flex_flow": null,
            "grid_area": null,
            "grid_auto_columns": null,
            "grid_auto_flow": null,
            "grid_auto_rows": null,
            "grid_column": null,
            "grid_gap": null,
            "grid_row": null,
            "grid_template_areas": null,
            "grid_template_columns": null,
            "grid_template_rows": null,
            "height": null,
            "justify_content": null,
            "justify_items": null,
            "left": null,
            "margin": null,
            "max_height": null,
            "max_width": null,
            "min_height": null,
            "min_width": null,
            "object_fit": null,
            "object_position": null,
            "order": null,
            "overflow": null,
            "overflow_x": null,
            "overflow_y": null,
            "padding": null,
            "right": null,
            "top": null,
            "visibility": null,
            "width": null
          }
        },
        "ca1143185a564bea9ac3000be94af4d9": {
          "model_module": "@jupyter-widgets/controls",
          "model_name": "DescriptionStyleModel",
          "model_module_version": "1.5.0",
          "state": {
            "_model_module": "@jupyter-widgets/controls",
            "_model_module_version": "1.5.0",
            "_model_name": "DescriptionStyleModel",
            "_view_count": null,
            "_view_module": "@jupyter-widgets/base",
            "_view_module_version": "1.2.0",
            "_view_name": "StyleView",
            "description_width": ""
          }
        },
        "405b9c003d1643f7b30c30cf8a5d4975": {
          "model_module": "@jupyter-widgets/base",
          "model_name": "LayoutModel",
          "model_module_version": "1.2.0",
          "state": {
            "_model_module": "@jupyter-widgets/base",
            "_model_module_version": "1.2.0",
            "_model_name": "LayoutModel",
            "_view_count": null,
            "_view_module": "@jupyter-widgets/base",
            "_view_module_version": "1.2.0",
            "_view_name": "LayoutView",
            "align_content": null,
            "align_items": null,
            "align_self": null,
            "border": null,
            "bottom": null,
            "display": null,
            "flex": null,
            "flex_flow": null,
            "grid_area": null,
            "grid_auto_columns": null,
            "grid_auto_flow": null,
            "grid_auto_rows": null,
            "grid_column": null,
            "grid_gap": null,
            "grid_row": null,
            "grid_template_areas": null,
            "grid_template_columns": null,
            "grid_template_rows": null,
            "height": null,
            "justify_content": null,
            "justify_items": null,
            "left": null,
            "margin": null,
            "max_height": null,
            "max_width": null,
            "min_height": null,
            "min_width": null,
            "object_fit": null,
            "object_position": null,
            "order": null,
            "overflow": null,
            "overflow_x": null,
            "overflow_y": null,
            "padding": null,
            "right": null,
            "top": null,
            "visibility": null,
            "width": null
          }
        },
        "177f23d645cc4c63ad71a1609c67329d": {
          "model_module": "@jupyter-widgets/controls",
          "model_name": "SliderStyleModel",
          "model_module_version": "1.5.0",
          "state": {
            "_model_module": "@jupyter-widgets/controls",
            "_model_module_version": "1.5.0",
            "_model_name": "SliderStyleModel",
            "_view_count": null,
            "_view_module": "@jupyter-widgets/base",
            "_view_module_version": "1.2.0",
            "_view_name": "StyleView",
            "description_width": "",
            "handle_color": null
          }
        },
        "d2ac016cfc19417f8d009f420aad2807": {
          "model_module": "@jupyter-widgets/base",
          "model_name": "LayoutModel",
          "model_module_version": "1.2.0",
          "state": {
            "_model_module": "@jupyter-widgets/base",
            "_model_module_version": "1.2.0",
            "_model_name": "LayoutModel",
            "_view_count": null,
            "_view_module": "@jupyter-widgets/base",
            "_view_module_version": "1.2.0",
            "_view_name": "LayoutView",
            "align_content": null,
            "align_items": null,
            "align_self": null,
            "border": null,
            "bottom": null,
            "display": null,
            "flex": null,
            "flex_flow": null,
            "grid_area": null,
            "grid_auto_columns": null,
            "grid_auto_flow": null,
            "grid_auto_rows": null,
            "grid_column": null,
            "grid_gap": null,
            "grid_row": null,
            "grid_template_areas": null,
            "grid_template_columns": null,
            "grid_template_rows": null,
            "height": null,
            "justify_content": null,
            "justify_items": null,
            "left": null,
            "margin": null,
            "max_height": null,
            "max_width": null,
            "min_height": null,
            "min_width": null,
            "object_fit": null,
            "object_position": null,
            "order": null,
            "overflow": null,
            "overflow_x": null,
            "overflow_y": null,
            "padding": null,
            "right": null,
            "top": null,
            "visibility": null,
            "width": null
          }
        },
        "236e3540d2fe49c48f6afdc062b8fb74": {
          "model_module": "@jupyter-widgets/controls",
          "model_name": "VBoxModel",
          "model_module_version": "1.5.0",
          "state": {
            "_dom_classes": [
              "widget-interact"
            ],
            "_model_module": "@jupyter-widgets/controls",
            "_model_module_version": "1.5.0",
            "_model_name": "VBoxModel",
            "_view_count": null,
            "_view_module": "@jupyter-widgets/controls",
            "_view_module_version": "1.5.0",
            "_view_name": "VBoxView",
            "box_style": "",
            "children": [
              "IPY_MODEL_94e05d2c020f492d89bc2d1c1b7504a4",
              "IPY_MODEL_b2a21e782e7340f788c621e810fd7d21",
              "IPY_MODEL_e7ca17184a7a49a8a83529067db33411"
            ],
            "layout": "IPY_MODEL_c63032febd86496cb1ece4934d5240a1"
          }
        },
        "94e05d2c020f492d89bc2d1c1b7504a4": {
          "model_module": "@jupyter-widgets/controls",
          "model_name": "IntSliderModel",
          "model_module_version": "1.5.0",
          "state": {
            "_dom_classes": [],
            "_model_module": "@jupyter-widgets/controls",
            "_model_module_version": "1.5.0",
            "_model_name": "IntSliderModel",
            "_view_count": null,
            "_view_module": "@jupyter-widgets/controls",
            "_view_module_version": "1.5.0",
            "_view_name": "IntSliderView",
            "continuous_update": true,
            "description": "x",
            "description_tooltip": null,
            "disabled": false,
            "layout": "IPY_MODEL_ba4dd4deea334dd8ad096757d67302e9",
            "max": 50000,
            "min": 10,
            "orientation": "horizontal",
            "readout": true,
            "readout_format": "d",
            "step": 10,
            "style": "IPY_MODEL_6464858c84634265b24d280e80374123",
            "value": 25000
          }
        },
        "b2a21e782e7340f788c621e810fd7d21": {
          "model_module": "@jupyter-widgets/controls",
          "model_name": "DropdownModel",
          "model_module_version": "1.5.0",
          "state": {
            "_dom_classes": [],
            "_model_module": "@jupyter-widgets/controls",
            "_model_module_version": "1.5.0",
            "_model_name": "DropdownModel",
            "_options_labels": [
              "read_time",
              "views",
              "reads"
            ],
            "_view_count": null,
            "_view_module": "@jupyter-widgets/controls",
            "_view_module_version": "1.5.0",
            "_view_name": "DropdownView",
            "description": "column",
            "description_tooltip": null,
            "disabled": false,
            "index": 2,
            "layout": "IPY_MODEL_12d1b9a8432f4593a07e7044e3a3571c",
            "style": "IPY_MODEL_e6bed04638df4b3090e91e5f66ed346a"
          }
        },
        "e7ca17184a7a49a8a83529067db33411": {
          "model_module": "@jupyter-widgets/output",
          "model_name": "OutputModel",
          "model_module_version": "1.0.0",
          "state": {
            "_dom_classes": [],
            "_model_module": "@jupyter-widgets/output",
            "_model_module_version": "1.0.0",
            "_model_name": "OutputModel",
            "_view_count": null,
            "_view_module": "@jupyter-widgets/output",
            "_view_module_version": "1.0.0",
            "_view_name": "OutputView",
            "layout": "IPY_MODEL_551576a32667472786d14eca8c54b3f6",
            "msg_id": "",
            "outputs": [
              {
                "output_type": "display_data",
                "data": {
                  "text/plain": "<IPython.core.display.HTML object>",
                  "text/html": "<h4>Showing articles with more than 25000 reads<h4>"
                },
                "metadata": {}
              },
              {
                "output_type": "display_data",
                "data": {
                  "text/plain": "                                                 title      published_date  \\\n110                            Random Forest in Python 2017-12-27 11:20:00   \n113                   Random Forest Simple Explanation 2017-12-27 11:22:00   \n108  Hyperparameter Tuning the Random Forest in Python 2018-01-09 21:49:00   \n104    Time Series Analysis in Python: An Introduction 2018-01-12 20:48:00   \n100                         Stock Prediction in Python 2018-01-19 15:30:00   \n88          Python is the Perfect Tool for any Problem 2018-02-04 09:12:00   \n82               Beyond Accuracy: Precision and Recall 2018-03-03 11:10:00   \n80              Histograms and Density Plots in Python 2018-03-23 12:44:00   \n66             Automated Feature Engineering in Python 2018-06-02 10:01:00   \n\n     read_time                                               tags   views  \\\n110         21  [Machine Learning, Data Science, Random Forest...  173714   \n113         11  [Machine Learning, Learning, Data Science, Mod...   88394   \n108         12     [Machine Learning, Python, Data Science, Data]  114637   \n104         14  [Data Science, Data, Programming, Python, Towa...  130417   \n100         12  [Machine Learning, Data Science, Programming, ...  134699   \n88           3  [Python, Programming, Education, Data Science,...   48157   \n82          11  [Machine Learning, Data Science, Education, St...  128661   \n80          11  [Data Science, Programming, Education, Python,...  118318   \n66          11  [Machine Learning, Towards Data Science, Data ...  114762   \n\n     reads  \n110  30709  \n113  37187  \n108  27492  \n104  32752  \n100  41978  \n88   30099  \n82   26327  \n80   32075  \n66   25139  ",
                  "text/html": "\n  <div id=\"df-684fc054-7c3e-442c-a932-fa8ca5c25577\" class=\"colab-df-container\">\n    <div>\n<style scoped>\n    .dataframe tbody tr th:only-of-type {\n        vertical-align: middle;\n    }\n\n    .dataframe tbody tr th {\n        vertical-align: top;\n    }\n\n    .dataframe thead th {\n        text-align: right;\n    }\n</style>\n<table border=\"1\" class=\"dataframe\">\n  <thead>\n    <tr style=\"text-align: right;\">\n      <th></th>\n      <th>title</th>\n      <th>published_date</th>\n      <th>read_time</th>\n      <th>tags</th>\n      <th>views</th>\n      <th>reads</th>\n    </tr>\n  </thead>\n  <tbody>\n    <tr>\n      <th>110</th>\n      <td>Random Forest in Python</td>\n      <td>2017-12-27 11:20:00</td>\n      <td>21</td>\n      <td>[Machine Learning, Data Science, Random Forest...</td>\n      <td>173714</td>\n      <td>30709</td>\n    </tr>\n    <tr>\n      <th>113</th>\n      <td>Random Forest Simple Explanation</td>\n      <td>2017-12-27 11:22:00</td>\n      <td>11</td>\n      <td>[Machine Learning, Learning, Data Science, Mod...</td>\n      <td>88394</td>\n      <td>37187</td>\n    </tr>\n    <tr>\n      <th>108</th>\n      <td>Hyperparameter Tuning the Random Forest in Python</td>\n      <td>2018-01-09 21:49:00</td>\n      <td>12</td>\n      <td>[Machine Learning, Python, Data Science, Data]</td>\n      <td>114637</td>\n      <td>27492</td>\n    </tr>\n    <tr>\n      <th>104</th>\n      <td>Time Series Analysis in Python: An Introduction</td>\n      <td>2018-01-12 20:48:00</td>\n      <td>14</td>\n      <td>[Data Science, Data, Programming, Python, Towa...</td>\n      <td>130417</td>\n      <td>32752</td>\n    </tr>\n    <tr>\n      <th>100</th>\n      <td>Stock Prediction in Python</td>\n      <td>2018-01-19 15:30:00</td>\n      <td>12</td>\n      <td>[Machine Learning, Data Science, Programming, ...</td>\n      <td>134699</td>\n      <td>41978</td>\n    </tr>\n    <tr>\n      <th>88</th>\n      <td>Python is the Perfect Tool for any Problem</td>\n      <td>2018-02-04 09:12:00</td>\n      <td>3</td>\n      <td>[Python, Programming, Education, Data Science,...</td>\n      <td>48157</td>\n      <td>30099</td>\n    </tr>\n    <tr>\n      <th>82</th>\n      <td>Beyond Accuracy: Precision and Recall</td>\n      <td>2018-03-03 11:10:00</td>\n      <td>11</td>\n      <td>[Machine Learning, Data Science, Education, St...</td>\n      <td>128661</td>\n      <td>26327</td>\n    </tr>\n    <tr>\n      <th>80</th>\n      <td>Histograms and Density Plots in Python</td>\n      <td>2018-03-23 12:44:00</td>\n      <td>11</td>\n      <td>[Data Science, Programming, Education, Python,...</td>\n      <td>118318</td>\n      <td>32075</td>\n    </tr>\n    <tr>\n      <th>66</th>\n      <td>Automated Feature Engineering in Python</td>\n      <td>2018-06-02 10:01:00</td>\n      <td>11</td>\n      <td>[Machine Learning, Towards Data Science, Data ...</td>\n      <td>114762</td>\n      <td>25139</td>\n    </tr>\n  </tbody>\n</table>\n</div>\n    <div class=\"colab-df-buttons\">\n\n  <div class=\"colab-df-container\">\n    <button class=\"colab-df-convert\" onclick=\"convertToInteractive('df-684fc054-7c3e-442c-a932-fa8ca5c25577')\"\n            title=\"Convert this dataframe to an interactive table.\"\n            style=\"display:none;\">\n\n  <svg xmlns=\"http://www.w3.org/2000/svg\" height=\"24px\" viewBox=\"0 -960 960 960\">\n    <path d=\"M120-120v-720h720v720H120Zm60-500h600v-160H180v160Zm220 220h160v-160H400v160Zm0 220h160v-160H400v160ZM180-400h160v-160H180v160Zm440 0h160v-160H620v160ZM180-180h160v-160H180v160Zm440 0h160v-160H620v160Z\"/>\n  </svg>\n    </button>\n\n  <style>\n    .colab-df-container {\n      display:flex;\n      gap: 12px;\n    }\n\n    .colab-df-convert {\n      background-color: #E8F0FE;\n      border: none;\n      border-radius: 50%;\n      cursor: pointer;\n      display: none;\n      fill: #1967D2;\n      height: 32px;\n      padding: 0 0 0 0;\n      width: 32px;\n    }\n\n    .colab-df-convert:hover {\n      background-color: #E2EBFA;\n      box-shadow: 0px 1px 2px rgba(60, 64, 67, 0.3), 0px 1px 3px 1px rgba(60, 64, 67, 0.15);\n      fill: #174EA6;\n    }\n\n    .colab-df-buttons div {\n      margin-bottom: 4px;\n    }\n\n    [theme=dark] .colab-df-convert {\n      background-color: #3B4455;\n      fill: #D2E3FC;\n    }\n\n    [theme=dark] .colab-df-convert:hover {\n      background-color: #434B5C;\n      box-shadow: 0px 1px 3px 1px rgba(0, 0, 0, 0.15);\n      filter: drop-shadow(0px 1px 2px rgba(0, 0, 0, 0.3));\n      fill: #FFFFFF;\n    }\n  </style>\n\n    <script>\n      const buttonEl =\n        document.querySelector('#df-684fc054-7c3e-442c-a932-fa8ca5c25577 button.colab-df-convert');\n      buttonEl.style.display =\n        google.colab.kernel.accessAllowed ? 'block' : 'none';\n\n      async function convertToInteractive(key) {\n        const element = document.querySelector('#df-684fc054-7c3e-442c-a932-fa8ca5c25577');\n        const dataTable =\n          await google.colab.kernel.invokeFunction('convertToInteractive',\n                                                    [key], {});\n        if (!dataTable) return;\n\n        const docLinkHtml = 'Like what you see? Visit the ' +\n          '<a target=\"_blank\" href=https://colab.research.google.com/notebooks/data_table.ipynb>data table notebook</a>'\n          + ' to learn more about interactive tables.';\n        element.innerHTML = '';\n        dataTable['output_type'] = 'display_data';\n        await google.colab.output.renderOutput(dataTable, element);\n        const docLink = document.createElement('div');\n        docLink.innerHTML = docLinkHtml;\n        element.appendChild(docLink);\n      }\n    </script>\n  </div>\n\n\n<div id=\"df-1d8e0e7d-0f30-40f9-b940-ee346f39f597\">\n  <button class=\"colab-df-quickchart\" onclick=\"quickchart('df-1d8e0e7d-0f30-40f9-b940-ee346f39f597')\"\n            title=\"Suggest charts\"\n            style=\"display:none;\">\n\n<svg xmlns=\"http://www.w3.org/2000/svg\" height=\"24px\"viewBox=\"0 0 24 24\"\n     width=\"24px\">\n    <g>\n        <path d=\"M19 3H5c-1.1 0-2 .9-2 2v14c0 1.1.9 2 2 2h14c1.1 0 2-.9 2-2V5c0-1.1-.9-2-2-2zM9 17H7v-7h2v7zm4 0h-2V7h2v10zm4 0h-2v-4h2v4z\"/>\n    </g>\n</svg>\n  </button>\n\n<style>\n  .colab-df-quickchart {\n      --bg-color: #E8F0FE;\n      --fill-color: #1967D2;\n      --hover-bg-color: #E2EBFA;\n      --hover-fill-color: #174EA6;\n      --disabled-fill-color: #AAA;\n      --disabled-bg-color: #DDD;\n  }\n\n  [theme=dark] .colab-df-quickchart {\n      --bg-color: #3B4455;\n      --fill-color: #D2E3FC;\n      --hover-bg-color: #434B5C;\n      --hover-fill-color: #FFFFFF;\n      --disabled-bg-color: #3B4455;\n      --disabled-fill-color: #666;\n  }\n\n  .colab-df-quickchart {\n    background-color: var(--bg-color);\n    border: none;\n    border-radius: 50%;\n    cursor: pointer;\n    display: none;\n    fill: var(--fill-color);\n    height: 32px;\n    padding: 0;\n    width: 32px;\n  }\n\n  .colab-df-quickchart:hover {\n    background-color: var(--hover-bg-color);\n    box-shadow: 0 1px 2px rgba(60, 64, 67, 0.3), 0 1px 3px 1px rgba(60, 64, 67, 0.15);\n    fill: var(--button-hover-fill-color);\n  }\n\n  .colab-df-quickchart-complete:disabled,\n  .colab-df-quickchart-complete:disabled:hover {\n    background-color: var(--disabled-bg-color);\n    fill: var(--disabled-fill-color);\n    box-shadow: none;\n  }\n\n  .colab-df-spinner {\n    border: 2px solid var(--fill-color);\n    border-color: transparent;\n    border-bottom-color: var(--fill-color);\n    animation:\n      spin 1s steps(1) infinite;\n  }\n\n  @keyframes spin {\n    0% {\n      border-color: transparent;\n      border-bottom-color: var(--fill-color);\n      border-left-color: var(--fill-color);\n    }\n    20% {\n      border-color: transparent;\n      border-left-color: var(--fill-color);\n      border-top-color: var(--fill-color);\n    }\n    30% {\n      border-color: transparent;\n      border-left-color: var(--fill-color);\n      border-top-color: var(--fill-color);\n      border-right-color: var(--fill-color);\n    }\n    40% {\n      border-color: transparent;\n      border-right-color: var(--fill-color);\n      border-top-color: var(--fill-color);\n    }\n    60% {\n      border-color: transparent;\n      border-right-color: var(--fill-color);\n    }\n    80% {\n      border-color: transparent;\n      border-right-color: var(--fill-color);\n      border-bottom-color: var(--fill-color);\n    }\n    90% {\n      border-color: transparent;\n      border-bottom-color: var(--fill-color);\n    }\n  }\n</style>\n\n  <script>\n    async function quickchart(key) {\n      const quickchartButtonEl =\n        document.querySelector('#' + key + ' button');\n      quickchartButtonEl.disabled = true;  // To prevent multiple clicks.\n      quickchartButtonEl.classList.add('colab-df-spinner');\n      try {\n        const charts = await google.colab.kernel.invokeFunction(\n            'suggestCharts', [key], {});\n      } catch (error) {\n        console.error('Error during call to suggestCharts:', error);\n      }\n      quickchartButtonEl.classList.remove('colab-df-spinner');\n      quickchartButtonEl.classList.add('colab-df-quickchart-complete');\n    }\n    (() => {\n      let quickchartButtonEl =\n        document.querySelector('#df-1d8e0e7d-0f30-40f9-b940-ee346f39f597 button');\n      quickchartButtonEl.style.display =\n        google.colab.kernel.accessAllowed ? 'block' : 'none';\n    })();\n  </script>\n</div>\n\n    </div>\n  </div>\n"
                },
                "metadata": {}
              }
            ]
          }
        },
        "c63032febd86496cb1ece4934d5240a1": {
          "model_module": "@jupyter-widgets/base",
          "model_name": "LayoutModel",
          "model_module_version": "1.2.0",
          "state": {
            "_model_module": "@jupyter-widgets/base",
            "_model_module_version": "1.2.0",
            "_model_name": "LayoutModel",
            "_view_count": null,
            "_view_module": "@jupyter-widgets/base",
            "_view_module_version": "1.2.0",
            "_view_name": "LayoutView",
            "align_content": null,
            "align_items": null,
            "align_self": null,
            "border": null,
            "bottom": null,
            "display": null,
            "flex": null,
            "flex_flow": null,
            "grid_area": null,
            "grid_auto_columns": null,
            "grid_auto_flow": null,
            "grid_auto_rows": null,
            "grid_column": null,
            "grid_gap": null,
            "grid_row": null,
            "grid_template_areas": null,
            "grid_template_columns": null,
            "grid_template_rows": null,
            "height": null,
            "justify_content": null,
            "justify_items": null,
            "left": null,
            "margin": null,
            "max_height": null,
            "max_width": null,
            "min_height": null,
            "min_width": null,
            "object_fit": null,
            "object_position": null,
            "order": null,
            "overflow": null,
            "overflow_x": null,
            "overflow_y": null,
            "padding": null,
            "right": null,
            "top": null,
            "visibility": null,
            "width": null
          }
        },
        "ba4dd4deea334dd8ad096757d67302e9": {
          "model_module": "@jupyter-widgets/base",
          "model_name": "LayoutModel",
          "model_module_version": "1.2.0",
          "state": {
            "_model_module": "@jupyter-widgets/base",
            "_model_module_version": "1.2.0",
            "_model_name": "LayoutModel",
            "_view_count": null,
            "_view_module": "@jupyter-widgets/base",
            "_view_module_version": "1.2.0",
            "_view_name": "LayoutView",
            "align_content": null,
            "align_items": null,
            "align_self": null,
            "border": null,
            "bottom": null,
            "display": null,
            "flex": null,
            "flex_flow": null,
            "grid_area": null,
            "grid_auto_columns": null,
            "grid_auto_flow": null,
            "grid_auto_rows": null,
            "grid_column": null,
            "grid_gap": null,
            "grid_row": null,
            "grid_template_areas": null,
            "grid_template_columns": null,
            "grid_template_rows": null,
            "height": null,
            "justify_content": null,
            "justify_items": null,
            "left": null,
            "margin": null,
            "max_height": null,
            "max_width": null,
            "min_height": null,
            "min_width": null,
            "object_fit": null,
            "object_position": null,
            "order": null,
            "overflow": null,
            "overflow_x": null,
            "overflow_y": null,
            "padding": null,
            "right": null,
            "top": null,
            "visibility": null,
            "width": null
          }
        },
        "6464858c84634265b24d280e80374123": {
          "model_module": "@jupyter-widgets/controls",
          "model_name": "SliderStyleModel",
          "model_module_version": "1.5.0",
          "state": {
            "_model_module": "@jupyter-widgets/controls",
            "_model_module_version": "1.5.0",
            "_model_name": "SliderStyleModel",
            "_view_count": null,
            "_view_module": "@jupyter-widgets/base",
            "_view_module_version": "1.2.0",
            "_view_name": "StyleView",
            "description_width": "",
            "handle_color": null
          }
        },
        "12d1b9a8432f4593a07e7044e3a3571c": {
          "model_module": "@jupyter-widgets/base",
          "model_name": "LayoutModel",
          "model_module_version": "1.2.0",
          "state": {
            "_model_module": "@jupyter-widgets/base",
            "_model_module_version": "1.2.0",
            "_model_name": "LayoutModel",
            "_view_count": null,
            "_view_module": "@jupyter-widgets/base",
            "_view_module_version": "1.2.0",
            "_view_name": "LayoutView",
            "align_content": null,
            "align_items": null,
            "align_self": null,
            "border": null,
            "bottom": null,
            "display": null,
            "flex": null,
            "flex_flow": null,
            "grid_area": null,
            "grid_auto_columns": null,
            "grid_auto_flow": null,
            "grid_auto_rows": null,
            "grid_column": null,
            "grid_gap": null,
            "grid_row": null,
            "grid_template_areas": null,
            "grid_template_columns": null,
            "grid_template_rows": null,
            "height": null,
            "justify_content": null,
            "justify_items": null,
            "left": null,
            "margin": null,
            "max_height": null,
            "max_width": null,
            "min_height": null,
            "min_width": null,
            "object_fit": null,
            "object_position": null,
            "order": null,
            "overflow": null,
            "overflow_x": null,
            "overflow_y": null,
            "padding": null,
            "right": null,
            "top": null,
            "visibility": null,
            "width": null
          }
        },
        "e6bed04638df4b3090e91e5f66ed346a": {
          "model_module": "@jupyter-widgets/controls",
          "model_name": "DescriptionStyleModel",
          "model_module_version": "1.5.0",
          "state": {
            "_model_module": "@jupyter-widgets/controls",
            "_model_module_version": "1.5.0",
            "_model_name": "DescriptionStyleModel",
            "_view_count": null,
            "_view_module": "@jupyter-widgets/base",
            "_view_module_version": "1.2.0",
            "_view_name": "StyleView",
            "description_width": ""
          }
        },
        "551576a32667472786d14eca8c54b3f6": {
          "model_module": "@jupyter-widgets/base",
          "model_name": "LayoutModel",
          "model_module_version": "1.2.0",
          "state": {
            "_model_module": "@jupyter-widgets/base",
            "_model_module_version": "1.2.0",
            "_model_name": "LayoutModel",
            "_view_count": null,
            "_view_module": "@jupyter-widgets/base",
            "_view_module_version": "1.2.0",
            "_view_name": "LayoutView",
            "align_content": null,
            "align_items": null,
            "align_self": null,
            "border": null,
            "bottom": null,
            "display": null,
            "flex": null,
            "flex_flow": null,
            "grid_area": null,
            "grid_auto_columns": null,
            "grid_auto_flow": null,
            "grid_auto_rows": null,
            "grid_column": null,
            "grid_gap": null,
            "grid_row": null,
            "grid_template_areas": null,
            "grid_template_columns": null,
            "grid_template_rows": null,
            "height": null,
            "justify_content": null,
            "justify_items": null,
            "left": null,
            "margin": null,
            "max_height": null,
            "max_width": null,
            "min_height": null,
            "min_width": null,
            "object_fit": null,
            "object_position": null,
            "order": null,
            "overflow": null,
            "overflow_x": null,
            "overflow_y": null,
            "padding": null,
            "right": null,
            "top": null,
            "visibility": null,
            "width": null
          }
        },
        "30d3820398a0426f846677d29ba5cb59": {
          "model_module": "@jupyter-widgets/controls",
          "model_name": "VBoxModel",
          "model_module_version": "1.5.0",
          "state": {
            "_dom_classes": [
              "widget-interact"
            ],
            "_model_module": "@jupyter-widgets/controls",
            "_model_module_version": "1.5.0",
            "_model_name": "VBoxModel",
            "_view_count": null,
            "_view_module": "@jupyter-widgets/controls",
            "_view_module_version": "1.5.0",
            "_view_name": "VBoxView",
            "box_style": "",
            "children": [
              "IPY_MODEL_b2bafea2f31d4e6189a829b79d930c27",
              "IPY_MODEL_3cd2adc507aa456e8f030ad173fe45bf",
              "IPY_MODEL_f876e682bb084dd5af7b481a42a5157d"
            ],
            "layout": "IPY_MODEL_7d37458efbed41c1ae3007a644b919cd"
          }
        },
        "b2bafea2f31d4e6189a829b79d930c27": {
          "model_module": "@jupyter-widgets/controls",
          "model_name": "DropdownModel",
          "model_module_version": "1.5.0",
          "state": {
            "_dom_classes": [],
            "_model_module": "@jupyter-widgets/controls",
            "_model_module_version": "1.5.0",
            "_model_name": "DropdownModel",
            "_options_labels": [
              "claps",
              "days_since_publication",
              "fans",
              "num_responses",
              "read_ratio",
              "read_time",
              "reads",
              "title_word_count",
              "views",
              "word_count",
              "claps_per_word",
              "editing_days",
              "<tag>Education",
              "<tag>Data Science",
              "<tag>Towards Data Science",
              "<tag>Machine Learning",
              "<tag>Python"
            ],
            "_view_count": null,
            "_view_module": "@jupyter-widgets/controls",
            "_view_module_version": "1.5.0",
            "_view_name": "DropdownView",
            "description": "column1",
            "description_tooltip": null,
            "disabled": false,
            "index": 0,
            "layout": "IPY_MODEL_896e4292813044a1b5312e38f8a34b7c",
            "style": "IPY_MODEL_5c0d103fe33546ef8430ae7574d50246"
          }
        },
        "3cd2adc507aa456e8f030ad173fe45bf": {
          "model_module": "@jupyter-widgets/controls",
          "model_name": "DropdownModel",
          "model_module_version": "1.5.0",
          "state": {
            "_dom_classes": [],
            "_model_module": "@jupyter-widgets/controls",
            "_model_module_version": "1.5.0",
            "_model_name": "DropdownModel",
            "_options_labels": [
              "claps",
              "days_since_publication",
              "fans",
              "num_responses",
              "read_ratio",
              "read_time",
              "reads",
              "title_word_count",
              "views",
              "word_count",
              "claps_per_word",
              "editing_days",
              "<tag>Education",
              "<tag>Data Science",
              "<tag>Towards Data Science",
              "<tag>Machine Learning",
              "<tag>Python"
            ],
            "_view_count": null,
            "_view_module": "@jupyter-widgets/controls",
            "_view_module_version": "1.5.0",
            "_view_name": "DropdownView",
            "description": "column2",
            "description_tooltip": null,
            "disabled": false,
            "index": 6,
            "layout": "IPY_MODEL_63dddee4154b4c0dbd0ee5a70e546c65",
            "style": "IPY_MODEL_7f38744ced6d4323823973933cb694eb"
          }
        },
        "f876e682bb084dd5af7b481a42a5157d": {
          "model_module": "@jupyter-widgets/output",
          "model_name": "OutputModel",
          "model_module_version": "1.0.0",
          "state": {
            "_dom_classes": [],
            "_model_module": "@jupyter-widgets/output",
            "_model_module_version": "1.0.0",
            "_model_name": "OutputModel",
            "_view_count": null,
            "_view_module": "@jupyter-widgets/output",
            "_view_module_version": "1.0.0",
            "_view_name": "OutputView",
            "layout": "IPY_MODEL_a98317a856f647bab8821d43dc711bbc",
            "msg_id": "",
            "outputs": [
              {
                "output_type": "stream",
                "name": "stdout",
                "text": [
                  "Correlation: 0.7626716535695302\n"
                ]
              }
            ]
          }
        },
        "7d37458efbed41c1ae3007a644b919cd": {
          "model_module": "@jupyter-widgets/base",
          "model_name": "LayoutModel",
          "model_module_version": "1.2.0",
          "state": {
            "_model_module": "@jupyter-widgets/base",
            "_model_module_version": "1.2.0",
            "_model_name": "LayoutModel",
            "_view_count": null,
            "_view_module": "@jupyter-widgets/base",
            "_view_module_version": "1.2.0",
            "_view_name": "LayoutView",
            "align_content": null,
            "align_items": null,
            "align_self": null,
            "border": null,
            "bottom": null,
            "display": null,
            "flex": null,
            "flex_flow": null,
            "grid_area": null,
            "grid_auto_columns": null,
            "grid_auto_flow": null,
            "grid_auto_rows": null,
            "grid_column": null,
            "grid_gap": null,
            "grid_row": null,
            "grid_template_areas": null,
            "grid_template_columns": null,
            "grid_template_rows": null,
            "height": null,
            "justify_content": null,
            "justify_items": null,
            "left": null,
            "margin": null,
            "max_height": null,
            "max_width": null,
            "min_height": null,
            "min_width": null,
            "object_fit": null,
            "object_position": null,
            "order": null,
            "overflow": null,
            "overflow_x": null,
            "overflow_y": null,
            "padding": null,
            "right": null,
            "top": null,
            "visibility": null,
            "width": null
          }
        },
        "896e4292813044a1b5312e38f8a34b7c": {
          "model_module": "@jupyter-widgets/base",
          "model_name": "LayoutModel",
          "model_module_version": "1.2.0",
          "state": {
            "_model_module": "@jupyter-widgets/base",
            "_model_module_version": "1.2.0",
            "_model_name": "LayoutModel",
            "_view_count": null,
            "_view_module": "@jupyter-widgets/base",
            "_view_module_version": "1.2.0",
            "_view_name": "LayoutView",
            "align_content": null,
            "align_items": null,
            "align_self": null,
            "border": null,
            "bottom": null,
            "display": null,
            "flex": null,
            "flex_flow": null,
            "grid_area": null,
            "grid_auto_columns": null,
            "grid_auto_flow": null,
            "grid_auto_rows": null,
            "grid_column": null,
            "grid_gap": null,
            "grid_row": null,
            "grid_template_areas": null,
            "grid_template_columns": null,
            "grid_template_rows": null,
            "height": null,
            "justify_content": null,
            "justify_items": null,
            "left": null,
            "margin": null,
            "max_height": null,
            "max_width": null,
            "min_height": null,
            "min_width": null,
            "object_fit": null,
            "object_position": null,
            "order": null,
            "overflow": null,
            "overflow_x": null,
            "overflow_y": null,
            "padding": null,
            "right": null,
            "top": null,
            "visibility": null,
            "width": null
          }
        },
        "5c0d103fe33546ef8430ae7574d50246": {
          "model_module": "@jupyter-widgets/controls",
          "model_name": "DescriptionStyleModel",
          "model_module_version": "1.5.0",
          "state": {
            "_model_module": "@jupyter-widgets/controls",
            "_model_module_version": "1.5.0",
            "_model_name": "DescriptionStyleModel",
            "_view_count": null,
            "_view_module": "@jupyter-widgets/base",
            "_view_module_version": "1.2.0",
            "_view_name": "StyleView",
            "description_width": ""
          }
        },
        "63dddee4154b4c0dbd0ee5a70e546c65": {
          "model_module": "@jupyter-widgets/base",
          "model_name": "LayoutModel",
          "model_module_version": "1.2.0",
          "state": {
            "_model_module": "@jupyter-widgets/base",
            "_model_module_version": "1.2.0",
            "_model_name": "LayoutModel",
            "_view_count": null,
            "_view_module": "@jupyter-widgets/base",
            "_view_module_version": "1.2.0",
            "_view_name": "LayoutView",
            "align_content": null,
            "align_items": null,
            "align_self": null,
            "border": null,
            "bottom": null,
            "display": null,
            "flex": null,
            "flex_flow": null,
            "grid_area": null,
            "grid_auto_columns": null,
            "grid_auto_flow": null,
            "grid_auto_rows": null,
            "grid_column": null,
            "grid_gap": null,
            "grid_row": null,
            "grid_template_areas": null,
            "grid_template_columns": null,
            "grid_template_rows": null,
            "height": null,
            "justify_content": null,
            "justify_items": null,
            "left": null,
            "margin": null,
            "max_height": null,
            "max_width": null,
            "min_height": null,
            "min_width": null,
            "object_fit": null,
            "object_position": null,
            "order": null,
            "overflow": null,
            "overflow_x": null,
            "overflow_y": null,
            "padding": null,
            "right": null,
            "top": null,
            "visibility": null,
            "width": null
          }
        },
        "7f38744ced6d4323823973933cb694eb": {
          "model_module": "@jupyter-widgets/controls",
          "model_name": "DescriptionStyleModel",
          "model_module_version": "1.5.0",
          "state": {
            "_model_module": "@jupyter-widgets/controls",
            "_model_module_version": "1.5.0",
            "_model_name": "DescriptionStyleModel",
            "_view_count": null,
            "_view_module": "@jupyter-widgets/base",
            "_view_module_version": "1.2.0",
            "_view_name": "StyleView",
            "description_width": ""
          }
        },
        "a98317a856f647bab8821d43dc711bbc": {
          "model_module": "@jupyter-widgets/base",
          "model_name": "LayoutModel",
          "model_module_version": "1.2.0",
          "state": {
            "_model_module": "@jupyter-widgets/base",
            "_model_module_version": "1.2.0",
            "_model_name": "LayoutModel",
            "_view_count": null,
            "_view_module": "@jupyter-widgets/base",
            "_view_module_version": "1.2.0",
            "_view_name": "LayoutView",
            "align_content": null,
            "align_items": null,
            "align_self": null,
            "border": null,
            "bottom": null,
            "display": null,
            "flex": null,
            "flex_flow": null,
            "grid_area": null,
            "grid_auto_columns": null,
            "grid_auto_flow": null,
            "grid_auto_rows": null,
            "grid_column": null,
            "grid_gap": null,
            "grid_row": null,
            "grid_template_areas": null,
            "grid_template_columns": null,
            "grid_template_rows": null,
            "height": null,
            "justify_content": null,
            "justify_items": null,
            "left": null,
            "margin": null,
            "max_height": null,
            "max_width": null,
            "min_height": null,
            "min_width": null,
            "object_fit": null,
            "object_position": null,
            "order": null,
            "overflow": null,
            "overflow_x": null,
            "overflow_y": null,
            "padding": null,
            "right": null,
            "top": null,
            "visibility": null,
            "width": null
          }
        },
        "f88fa314f9d64843825fd076314321e0": {
          "model_module": "@jupyter-widgets/controls",
          "model_name": "VBoxModel",
          "model_module_version": "1.5.0",
          "state": {
            "_dom_classes": [
              "widget-interact"
            ],
            "_model_module": "@jupyter-widgets/controls",
            "_model_module_version": "1.5.0",
            "_model_name": "VBoxModel",
            "_view_count": null,
            "_view_module": "@jupyter-widgets/controls",
            "_view_module_version": "1.5.0",
            "_view_name": "VBoxView",
            "box_style": "",
            "children": [
              "IPY_MODEL_62427a0c68ad40fda6f6758687c2c51e",
              "IPY_MODEL_57a6aeb0d9694a0d9a4f0b7322882ca7",
              "IPY_MODEL_92cad730415441c9a3003f4cd70fcd4f"
            ],
            "layout": "IPY_MODEL_33839253dbe640cb94f25a3cc3a0dd0e"
          }
        },
        "62427a0c68ad40fda6f6758687c2c51e": {
          "model_module": "@jupyter-widgets/controls",
          "model_name": "DropdownModel",
          "model_module_version": "1.5.0",
          "state": {
            "_dom_classes": [],
            "_model_module": "@jupyter-widgets/controls",
            "_model_module_version": "1.5.0",
            "_model_name": "DropdownModel",
            "_options_labels": [
              "claps",
              "days_since_publication",
              "fans",
              "num_responses",
              "read_ratio",
              "read_time",
              "reads",
              "title_word_count",
              "views",
              "word_count",
              "claps_per_word",
              "editing_days",
              "<tag>Education",
              "<tag>Data Science",
              "<tag>Towards Data Science",
              "<tag>Machine Learning",
              "<tag>Python"
            ],
            "_view_count": null,
            "_view_module": "@jupyter-widgets/controls",
            "_view_module_version": "1.5.0",
            "_view_name": "DropdownView",
            "description": "x",
            "description_tooltip": null,
            "disabled": false,
            "index": 0,
            "layout": "IPY_MODEL_ef39ef8f891a4e5eb8228c6703a4314c",
            "style": "IPY_MODEL_abe77926e0e34cc4b734ec8cee88f765"
          }
        },
        "57a6aeb0d9694a0d9a4f0b7322882ca7": {
          "model_module": "@jupyter-widgets/controls",
          "model_name": "DropdownModel",
          "model_module_version": "1.5.0",
          "state": {
            "_dom_classes": [],
            "_model_module": "@jupyter-widgets/controls",
            "_model_module_version": "1.5.0",
            "_model_name": "DropdownModel",
            "_options_labels": [
              "days_since_publication",
              "fans",
              "num_responses",
              "read_ratio",
              "read_time",
              "reads",
              "title_word_count",
              "views",
              "word_count",
              "claps_per_word",
              "editing_days",
              "<tag>Education",
              "<tag>Data Science",
              "<tag>Towards Data Science",
              "<tag>Machine Learning",
              "<tag>Python"
            ],
            "_view_count": null,
            "_view_module": "@jupyter-widgets/controls",
            "_view_module_version": "1.5.0",
            "_view_name": "DropdownView",
            "description": "y",
            "description_tooltip": null,
            "disabled": false,
            "index": 0,
            "layout": "IPY_MODEL_ac65532ee3c644c49bfc2522cd61f1c6",
            "style": "IPY_MODEL_10a2dba36d7a4758a30509189b5bd5fc"
          }
        },
        "92cad730415441c9a3003f4cd70fcd4f": {
          "model_module": "@jupyter-widgets/output",
          "model_name": "OutputModel",
          "model_module_version": "1.0.0",
          "state": {
            "_dom_classes": [],
            "_model_module": "@jupyter-widgets/output",
            "_model_module_version": "1.0.0",
            "_model_name": "OutputModel",
            "_view_count": null,
            "_view_module": "@jupyter-widgets/output",
            "_view_module_version": "1.0.0",
            "_view_name": "OutputView",
            "layout": "IPY_MODEL_75cde90b32a34c2bb1b3765c50ca7362",
            "msg_id": "",
            "outputs": [
              {
                "output_type": "display_data",
                "data": {
                  "application/vnd.plotly.v1+json": {
                    "data": [
                      {
                        "line": {
                          "color": "rgba(31, 119, 180, 1.0)",
                          "dash": "solid",
                          "shape": "linear",
                          "width": 1.3
                        },
                        "marker": {
                          "size": 12,
                          "symbol": "circle"
                        },
                        "mode": "markers",
                        "name": "days_since_publication",
                        "text": "",
                        "x": [
                          2,
                          18,
                          51,
                          0,
                          0,
                          0,
                          73,
                          240,
                          2,
                          0,
                          704,
                          58,
                          5,
                          7,
                          87,
                          23,
                          5,
                          167,
                          8,
                          17,
                          9,
                          4900,
                          3000,
                          72,
                          123,
                          865,
                          186,
                          11,
                          120,
                          2100,
                          4100,
                          59,
                          2800,
                          82,
                          21,
                          7300,
                          1200,
                          285,
                          1600,
                          1600,
                          1100,
                          4300,
                          4970,
                          12900,
                          225,
                          5100,
                          101,
                          6000,
                          647,
                          977,
                          7000,
                          7000,
                          2700,
                          1100,
                          3000,
                          2600,
                          2900,
                          5500,
                          1300,
                          1000,
                          8000,
                          363,
                          13600,
                          4100,
                          2200,
                          3900,
                          6400,
                          8500,
                          1300,
                          5500,
                          2400,
                          2800,
                          2400,
                          715,
                          717,
                          3300,
                          4400,
                          844,
                          906,
                          3800,
                          662,
                          658,
                          1100,
                          2900,
                          3100,
                          797,
                          246,
                          3400,
                          347,
                          2600,
                          981,
                          2100,
                          966,
                          3300,
                          710,
                          2500,
                          815,
                          755,
                          603,
                          940,
                          2300,
                          1400,
                          787,
                          2800,
                          2100,
                          3800,
                          547,
                          856,
                          1000,
                          205,
                          730,
                          121,
                          418,
                          31,
                          0,
                          24,
                          5,
                          0,
                          6,
                          0,
                          539,
                          730,
                          582,
                          453,
                          626,
                          386,
                          7600,
                          1800,
                          370,
                          315,
                          2000,
                          53,
                          901
                        ],
                        "y": [
                          597.3011234928935,
                          589.9831678934722,
                          577.3632923185879,
                          576.5206880427894,
                          572.5330352605787,
                          558.0200849386921,
                          552.1556248098611,
                          550.0150101095486,
                          547.1585928973843,
                          545.3034809904862,
                          539.3015251376505,
                          538.3616333815626,
                          538.3616308881944,
                          536.0693024557986,
                          534.2649433761227,
                          534.1913703218287,
                          531.3165667823959,
                          526.1891594631713,
                          524.2700156780787,
                          493.27377432550924,
                          408.4711316033102,
                          397.4293953507986,
                          397.4277877258797,
                          395.11609148437503,
                          392.3287214495833,
                          387.0576305824537,
                          386.0425008728935,
                          385.4954133210764,
                          385.1945411716667,
                          383.9926222874884,
                          381.0352299594097,
                          380.49090689327545,
                          376.26001103743056,
                          376.08059837900464,
                          375.5302295332639,
                          374.25597562319444,
                          374.057076269838,
                          371.30287774083337,
                          369.1330005642593,
                          366.05627657653935,
                          365.5400972110185,
                          362.41502231988426,
                          360.50850330781253,
                          358.51825893546294,
                          355.52055696855325,
                          352.9647862130903,
                          351.1118723947454,
                          348.4246294948727,
                          342.3672663808449,
                          338.5035495385648,
                          331.4365996720949,
                          324.2237845179977,
                          317.4644109924653,
                          314.49385861916664,
                          311.37095904774304,
                          303.5431680369791,
                          297.31014599925925,
                          290.0418619020949,
                          283.33863078045135,
                          283.33590105774306,
                          275.2574436720486,
                          273.4401389939236,
                          257.37869697715274,
                          256.5031338793634,
                          255.49303694083335,
                          252.30707613392363,
                          245.41612982315974,
                          240.48394241055556,
                          223.04379871745368,
                          220.4763571140278,
                          218.55013955496528,
                          214.54560088826392,
                          209.44029542083334,
                          192.52871201636574,
                          186.50202452077545,
                          172.5235798258449,
                          170.65633337769677,
                          165.28853490334492,
                          163.07584995606481,
                          161.4928592507176,
                          161.4909019917708,
                          152.1039705243287,
                          151.37068348711804,
                          147.1741579396412,
                          140.50823078605325,
                          134.46337733312498,
                          134.1546791284375,
                          127.46704148513888,
                          124.33105608341435,
                          119.0234442440625,
                          116.35277775572916,
                          108.38023233480325,
                          103.46704841506943,
                          94.25432953921296,
                          88.03775204251157,
                          85.00553926068287,
                          82.47490355932871,
                          82.47320225390047,
                          77.52644544283565,
                          74.5438217130787,
                          71.98887388260417,
                          71.06999180240742,
                          63.34277000334491,
                          61.469023250590276,
                          58.40827168365741,
                          52.2235387972801,
                          51.289980235289356,
                          50.015705424664354,
                          44.37431741674769,
                          43.02407055767361,
                          42.06569560732639,
                          35.0521156375,
                          34.25713649174769,
                          34.01111164185185,
                          34.00981653321759,
                          34.009006550671295,
                          34.00856147113426,
                          34.00809835439815,
                          34.007692483854164,
                          32.568144913657406,
                          32.38009209974537,
                          30.417934632164354,
                          28.156351569837963,
                          26.557568693715275,
                          26.506609918437498,
                          23.02377654986111,
                          19.978734082060186,
                          18.266623060266202,
                          16.337141827581018,
                          12.204313545636573,
                          8.215424677094907,
                          3.547005433310185,
                          1.2186292689930556
                        ],
                        "type": "scatter"
                      }
                    ],
                    "layout": {
                      "legend": {
                        "bgcolor": "#F5F6F9",
                        "font": {
                          "color": "#4D5663"
                        }
                      },
                      "paper_bgcolor": "#F5F6F9",
                      "plot_bgcolor": "#F5F6F9",
                      "template": {
                        "data": {
                          "barpolar": [
                            {
                              "marker": {
                                "line": {
                                  "color": "#E5ECF6",
                                  "width": 0.5
                                },
                                "pattern": {
                                  "fillmode": "overlay",
                                  "size": 10,
                                  "solidity": 0.2
                                }
                              },
                              "type": "barpolar"
                            }
                          ],
                          "bar": [
                            {
                              "error_x": {
                                "color": "#2a3f5f"
                              },
                              "error_y": {
                                "color": "#2a3f5f"
                              },
                              "marker": {
                                "line": {
                                  "color": "#E5ECF6",
                                  "width": 0.5
                                },
                                "pattern": {
                                  "fillmode": "overlay",
                                  "size": 10,
                                  "solidity": 0.2
                                }
                              },
                              "type": "bar"
                            }
                          ],
                          "carpet": [
                            {
                              "aaxis": {
                                "endlinecolor": "#2a3f5f",
                                "gridcolor": "white",
                                "linecolor": "white",
                                "minorgridcolor": "white",
                                "startlinecolor": "#2a3f5f"
                              },
                              "baxis": {
                                "endlinecolor": "#2a3f5f",
                                "gridcolor": "white",
                                "linecolor": "white",
                                "minorgridcolor": "white",
                                "startlinecolor": "#2a3f5f"
                              },
                              "type": "carpet"
                            }
                          ],
                          "choropleth": [
                            {
                              "colorbar": {
                                "outlinewidth": 0,
                                "ticks": ""
                              },
                              "type": "choropleth"
                            }
                          ],
                          "contourcarpet": [
                            {
                              "colorbar": {
                                "outlinewidth": 0,
                                "ticks": ""
                              },
                              "type": "contourcarpet"
                            }
                          ],
                          "contour": [
                            {
                              "colorbar": {
                                "outlinewidth": 0,
                                "ticks": ""
                              },
                              "colorscale": [
                                [
                                  0,
                                  "#0d0887"
                                ],
                                [
                                  0.1111111111111111,
                                  "#46039f"
                                ],
                                [
                                  0.2222222222222222,
                                  "#7201a8"
                                ],
                                [
                                  0.3333333333333333,
                                  "#9c179e"
                                ],
                                [
                                  0.4444444444444444,
                                  "#bd3786"
                                ],
                                [
                                  0.5555555555555556,
                                  "#d8576b"
                                ],
                                [
                                  0.6666666666666666,
                                  "#ed7953"
                                ],
                                [
                                  0.7777777777777778,
                                  "#fb9f3a"
                                ],
                                [
                                  0.8888888888888888,
                                  "#fdca26"
                                ],
                                [
                                  1,
                                  "#f0f921"
                                ]
                              ],
                              "type": "contour"
                            }
                          ],
                          "heatmapgl": [
                            {
                              "colorbar": {
                                "outlinewidth": 0,
                                "ticks": ""
                              },
                              "colorscale": [
                                [
                                  0,
                                  "#0d0887"
                                ],
                                [
                                  0.1111111111111111,
                                  "#46039f"
                                ],
                                [
                                  0.2222222222222222,
                                  "#7201a8"
                                ],
                                [
                                  0.3333333333333333,
                                  "#9c179e"
                                ],
                                [
                                  0.4444444444444444,
                                  "#bd3786"
                                ],
                                [
                                  0.5555555555555556,
                                  "#d8576b"
                                ],
                                [
                                  0.6666666666666666,
                                  "#ed7953"
                                ],
                                [
                                  0.7777777777777778,
                                  "#fb9f3a"
                                ],
                                [
                                  0.8888888888888888,
                                  "#fdca26"
                                ],
                                [
                                  1,
                                  "#f0f921"
                                ]
                              ],
                              "type": "heatmapgl"
                            }
                          ],
                          "heatmap": [
                            {
                              "colorbar": {
                                "outlinewidth": 0,
                                "ticks": ""
                              },
                              "colorscale": [
                                [
                                  0,
                                  "#0d0887"
                                ],
                                [
                                  0.1111111111111111,
                                  "#46039f"
                                ],
                                [
                                  0.2222222222222222,
                                  "#7201a8"
                                ],
                                [
                                  0.3333333333333333,
                                  "#9c179e"
                                ],
                                [
                                  0.4444444444444444,
                                  "#bd3786"
                                ],
                                [
                                  0.5555555555555556,
                                  "#d8576b"
                                ],
                                [
                                  0.6666666666666666,
                                  "#ed7953"
                                ],
                                [
                                  0.7777777777777778,
                                  "#fb9f3a"
                                ],
                                [
                                  0.8888888888888888,
                                  "#fdca26"
                                ],
                                [
                                  1,
                                  "#f0f921"
                                ]
                              ],
                              "type": "heatmap"
                            }
                          ],
                          "histogram2dcontour": [
                            {
                              "colorbar": {
                                "outlinewidth": 0,
                                "ticks": ""
                              },
                              "colorscale": [
                                [
                                  0,
                                  "#0d0887"
                                ],
                                [
                                  0.1111111111111111,
                                  "#46039f"
                                ],
                                [
                                  0.2222222222222222,
                                  "#7201a8"
                                ],
                                [
                                  0.3333333333333333,
                                  "#9c179e"
                                ],
                                [
                                  0.4444444444444444,
                                  "#bd3786"
                                ],
                                [
                                  0.5555555555555556,
                                  "#d8576b"
                                ],
                                [
                                  0.6666666666666666,
                                  "#ed7953"
                                ],
                                [
                                  0.7777777777777778,
                                  "#fb9f3a"
                                ],
                                [
                                  0.8888888888888888,
                                  "#fdca26"
                                ],
                                [
                                  1,
                                  "#f0f921"
                                ]
                              ],
                              "type": "histogram2dcontour"
                            }
                          ],
                          "histogram2d": [
                            {
                              "colorbar": {
                                "outlinewidth": 0,
                                "ticks": ""
                              },
                              "colorscale": [
                                [
                                  0,
                                  "#0d0887"
                                ],
                                [
                                  0.1111111111111111,
                                  "#46039f"
                                ],
                                [
                                  0.2222222222222222,
                                  "#7201a8"
                                ],
                                [
                                  0.3333333333333333,
                                  "#9c179e"
                                ],
                                [
                                  0.4444444444444444,
                                  "#bd3786"
                                ],
                                [
                                  0.5555555555555556,
                                  "#d8576b"
                                ],
                                [
                                  0.6666666666666666,
                                  "#ed7953"
                                ],
                                [
                                  0.7777777777777778,
                                  "#fb9f3a"
                                ],
                                [
                                  0.8888888888888888,
                                  "#fdca26"
                                ],
                                [
                                  1,
                                  "#f0f921"
                                ]
                              ],
                              "type": "histogram2d"
                            }
                          ],
                          "histogram": [
                            {
                              "marker": {
                                "pattern": {
                                  "fillmode": "overlay",
                                  "size": 10,
                                  "solidity": 0.2
                                }
                              },
                              "type": "histogram"
                            }
                          ],
                          "mesh3d": [
                            {
                              "colorbar": {
                                "outlinewidth": 0,
                                "ticks": ""
                              },
                              "type": "mesh3d"
                            }
                          ],
                          "parcoords": [
                            {
                              "line": {
                                "colorbar": {
                                  "outlinewidth": 0,
                                  "ticks": ""
                                }
                              },
                              "type": "parcoords"
                            }
                          ],
                          "pie": [
                            {
                              "automargin": true,
                              "type": "pie"
                            }
                          ],
                          "scatter3d": [
                            {
                              "line": {
                                "colorbar": {
                                  "outlinewidth": 0,
                                  "ticks": ""
                                }
                              },
                              "marker": {
                                "colorbar": {
                                  "outlinewidth": 0,
                                  "ticks": ""
                                }
                              },
                              "type": "scatter3d"
                            }
                          ],
                          "scattercarpet": [
                            {
                              "marker": {
                                "colorbar": {
                                  "outlinewidth": 0,
                                  "ticks": ""
                                }
                              },
                              "type": "scattercarpet"
                            }
                          ],
                          "scattergeo": [
                            {
                              "marker": {
                                "colorbar": {
                                  "outlinewidth": 0,
                                  "ticks": ""
                                }
                              },
                              "type": "scattergeo"
                            }
                          ],
                          "scattergl": [
                            {
                              "marker": {
                                "colorbar": {
                                  "outlinewidth": 0,
                                  "ticks": ""
                                }
                              },
                              "type": "scattergl"
                            }
                          ],
                          "scattermapbox": [
                            {
                              "marker": {
                                "colorbar": {
                                  "outlinewidth": 0,
                                  "ticks": ""
                                }
                              },
                              "type": "scattermapbox"
                            }
                          ],
                          "scatterpolargl": [
                            {
                              "marker": {
                                "colorbar": {
                                  "outlinewidth": 0,
                                  "ticks": ""
                                }
                              },
                              "type": "scatterpolargl"
                            }
                          ],
                          "scatterpolar": [
                            {
                              "marker": {
                                "colorbar": {
                                  "outlinewidth": 0,
                                  "ticks": ""
                                }
                              },
                              "type": "scatterpolar"
                            }
                          ],
                          "scatter": [
                            {
                              "fillpattern": {
                                "fillmode": "overlay",
                                "size": 10,
                                "solidity": 0.2
                              },
                              "type": "scatter"
                            }
                          ],
                          "scatterternary": [
                            {
                              "marker": {
                                "colorbar": {
                                  "outlinewidth": 0,
                                  "ticks": ""
                                }
                              },
                              "type": "scatterternary"
                            }
                          ],
                          "surface": [
                            {
                              "colorbar": {
                                "outlinewidth": 0,
                                "ticks": ""
                              },
                              "colorscale": [
                                [
                                  0,
                                  "#0d0887"
                                ],
                                [
                                  0.1111111111111111,
                                  "#46039f"
                                ],
                                [
                                  0.2222222222222222,
                                  "#7201a8"
                                ],
                                [
                                  0.3333333333333333,
                                  "#9c179e"
                                ],
                                [
                                  0.4444444444444444,
                                  "#bd3786"
                                ],
                                [
                                  0.5555555555555556,
                                  "#d8576b"
                                ],
                                [
                                  0.6666666666666666,
                                  "#ed7953"
                                ],
                                [
                                  0.7777777777777778,
                                  "#fb9f3a"
                                ],
                                [
                                  0.8888888888888888,
                                  "#fdca26"
                                ],
                                [
                                  1,
                                  "#f0f921"
                                ]
                              ],
                              "type": "surface"
                            }
                          ],
                          "table": [
                            {
                              "cells": {
                                "fill": {
                                  "color": "#EBF0F8"
                                },
                                "line": {
                                  "color": "white"
                                }
                              },
                              "header": {
                                "fill": {
                                  "color": "#C8D4E3"
                                },
                                "line": {
                                  "color": "white"
                                }
                              },
                              "type": "table"
                            }
                          ]
                        },
                        "layout": {
                          "annotationdefaults": {
                            "arrowcolor": "#2a3f5f",
                            "arrowhead": 0,
                            "arrowwidth": 1
                          },
                          "autotypenumbers": "strict",
                          "coloraxis": {
                            "colorbar": {
                              "outlinewidth": 0,
                              "ticks": ""
                            }
                          },
                          "colorscale": {
                            "diverging": [
                              [
                                0,
                                "#8e0152"
                              ],
                              [
                                0.1,
                                "#c51b7d"
                              ],
                              [
                                0.2,
                                "#de77ae"
                              ],
                              [
                                0.3,
                                "#f1b6da"
                              ],
                              [
                                0.4,
                                "#fde0ef"
                              ],
                              [
                                0.5,
                                "#f7f7f7"
                              ],
                              [
                                0.6,
                                "#e6f5d0"
                              ],
                              [
                                0.7,
                                "#b8e186"
                              ],
                              [
                                0.8,
                                "#7fbc41"
                              ],
                              [
                                0.9,
                                "#4d9221"
                              ],
                              [
                                1,
                                "#276419"
                              ]
                            ],
                            "sequential": [
                              [
                                0,
                                "#0d0887"
                              ],
                              [
                                0.1111111111111111,
                                "#46039f"
                              ],
                              [
                                0.2222222222222222,
                                "#7201a8"
                              ],
                              [
                                0.3333333333333333,
                                "#9c179e"
                              ],
                              [
                                0.4444444444444444,
                                "#bd3786"
                              ],
                              [
                                0.5555555555555556,
                                "#d8576b"
                              ],
                              [
                                0.6666666666666666,
                                "#ed7953"
                              ],
                              [
                                0.7777777777777778,
                                "#fb9f3a"
                              ],
                              [
                                0.8888888888888888,
                                "#fdca26"
                              ],
                              [
                                1,
                                "#f0f921"
                              ]
                            ],
                            "sequentialminus": [
                              [
                                0,
                                "#0d0887"
                              ],
                              [
                                0.1111111111111111,
                                "#46039f"
                              ],
                              [
                                0.2222222222222222,
                                "#7201a8"
                              ],
                              [
                                0.3333333333333333,
                                "#9c179e"
                              ],
                              [
                                0.4444444444444444,
                                "#bd3786"
                              ],
                              [
                                0.5555555555555556,
                                "#d8576b"
                              ],
                              [
                                0.6666666666666666,
                                "#ed7953"
                              ],
                              [
                                0.7777777777777778,
                                "#fb9f3a"
                              ],
                              [
                                0.8888888888888888,
                                "#fdca26"
                              ],
                              [
                                1,
                                "#f0f921"
                              ]
                            ]
                          },
                          "colorway": [
                            "#636efa",
                            "#EF553B",
                            "#00cc96",
                            "#ab63fa",
                            "#FFA15A",
                            "#19d3f3",
                            "#FF6692",
                            "#B6E880",
                            "#FF97FF",
                            "#FECB52"
                          ],
                          "font": {
                            "color": "#2a3f5f"
                          },
                          "geo": {
                            "bgcolor": "white",
                            "lakecolor": "white",
                            "landcolor": "#E5ECF6",
                            "showlakes": true,
                            "showland": true,
                            "subunitcolor": "white"
                          },
                          "hoverlabel": {
                            "align": "left"
                          },
                          "hovermode": "closest",
                          "mapbox": {
                            "style": "light"
                          },
                          "paper_bgcolor": "white",
                          "plot_bgcolor": "#E5ECF6",
                          "polar": {
                            "angularaxis": {
                              "gridcolor": "white",
                              "linecolor": "white",
                              "ticks": ""
                            },
                            "bgcolor": "#E5ECF6",
                            "radialaxis": {
                              "gridcolor": "white",
                              "linecolor": "white",
                              "ticks": ""
                            }
                          },
                          "scene": {
                            "xaxis": {
                              "backgroundcolor": "#E5ECF6",
                              "gridcolor": "white",
                              "gridwidth": 2,
                              "linecolor": "white",
                              "showbackground": true,
                              "ticks": "",
                              "zerolinecolor": "white"
                            },
                            "yaxis": {
                              "backgroundcolor": "#E5ECF6",
                              "gridcolor": "white",
                              "gridwidth": 2,
                              "linecolor": "white",
                              "showbackground": true,
                              "ticks": "",
                              "zerolinecolor": "white"
                            },
                            "zaxis": {
                              "backgroundcolor": "#E5ECF6",
                              "gridcolor": "white",
                              "gridwidth": 2,
                              "linecolor": "white",
                              "showbackground": true,
                              "ticks": "",
                              "zerolinecolor": "white"
                            }
                          },
                          "shapedefaults": {
                            "line": {
                              "color": "#2a3f5f"
                            }
                          },
                          "ternary": {
                            "aaxis": {
                              "gridcolor": "white",
                              "linecolor": "white",
                              "ticks": ""
                            },
                            "baxis": {
                              "gridcolor": "white",
                              "linecolor": "white",
                              "ticks": ""
                            },
                            "bgcolor": "#E5ECF6",
                            "caxis": {
                              "gridcolor": "white",
                              "linecolor": "white",
                              "ticks": ""
                            }
                          },
                          "title": {
                            "x": 0.05
                          },
                          "xaxis": {
                            "automargin": true,
                            "gridcolor": "white",
                            "linecolor": "white",
                            "ticks": "",
                            "title": {
                              "standoff": 15
                            },
                            "zerolinecolor": "white",
                            "zerolinewidth": 2
                          },
                          "yaxis": {
                            "automargin": true,
                            "gridcolor": "white",
                            "linecolor": "white",
                            "ticks": "",
                            "title": {
                              "standoff": 15
                            },
                            "zerolinecolor": "white",
                            "zerolinewidth": 2
                          }
                        }
                      },
                      "title": {
                        "font": {
                          "color": "#4D5663"
                        },
                        "text": "Days_Since_Publication vs Claps"
                      },
                      "xaxis": {
                        "gridcolor": "#E1E5ED",
                        "showgrid": true,
                        "tickfont": {
                          "color": "#4D5663"
                        },
                        "title": {
                          "font": {
                            "color": "#4D5663"
                          },
                          "text": "Claps"
                        },
                        "zerolinecolor": "#E1E5ED"
                      },
                      "yaxis": {
                        "gridcolor": "#E1E5ED",
                        "showgrid": true,
                        "tickfont": {
                          "color": "#4D5663"
                        },
                        "title": {
                          "font": {
                            "color": "#4D5663"
                          },
                          "text": "Days_Since_Publication"
                        },
                        "zerolinecolor": "#E1E5ED"
                      }
                    },
                    "config": {
                      "showLink": true,
                      "linkText": "Export to plot.ly",
                      "plotlyServerURL": "https://plot.ly"
                    }
                  },
                  "text/html": "<div>                            <div id=\"d708bc82-7098-4e9c-8f04-ae538eafcc04\" class=\"plotly-graph-div\" style=\"height:525px; width:100%;\"></div>            <script type=\"text/javascript\">                require([\"plotly\"], function(Plotly) {                    window.PLOTLYENV=window.PLOTLYENV || {};\n                    window.PLOTLYENV.BASE_URL='https://plot.ly';                                    if (document.getElementById(\"d708bc82-7098-4e9c-8f04-ae538eafcc04\")) {                    Plotly.newPlot(                        \"d708bc82-7098-4e9c-8f04-ae538eafcc04\",                        [{\"line\":{\"color\":\"rgba(31, 119, 180, 1.0)\",\"dash\":\"solid\",\"shape\":\"linear\",\"width\":1.3},\"marker\":{\"size\":12,\"symbol\":\"circle\"},\"mode\":\"markers\",\"name\":\"days_since_publication\",\"text\":\"\",\"x\":[2,18,51,0,0,0,73,240,2,0,704,58,5,7,87,23,5,167,8,17,9,4900,3000,72,123,865,186,11,120,2100,4100,59,2800,82,21,7300,1200,285,1600,1600,1100,4300,4970,12900,225,5100,101,6000,647,977,7000,7000,2700,1100,3000,2600,2900,5500,1300,1000,8000,363,13600,4100,2200,3900,6400,8500,1300,5500,2400,2800,2400,715,717,3300,4400,844,906,3800,662,658,1100,2900,3100,797,246,3400,347,2600,981,2100,966,3300,710,2500,815,755,603,940,2300,1400,787,2800,2100,3800,547,856,1000,205,730,121,418,31,0,24,5,0,6,0,539,730,582,453,626,386,7600,1800,370,315,2000,53,901],\"y\":[597.3011234928935,589.9831678934722,577.3632923185879,576.5206880427894,572.5330352605787,558.0200849386921,552.1556248098611,550.0150101095486,547.1585928973843,545.3034809904862,539.3015251376505,538.3616333815626,538.3616308881944,536.0693024557986,534.2649433761227,534.1913703218287,531.3165667823959,526.1891594631713,524.2700156780787,493.27377432550924,408.4711316033102,397.4293953507986,397.4277877258797,395.11609148437503,392.3287214495833,387.0576305824537,386.0425008728935,385.4954133210764,385.1945411716667,383.9926222874884,381.0352299594097,380.49090689327545,376.26001103743056,376.08059837900464,375.5302295332639,374.25597562319444,374.057076269838,371.30287774083337,369.1330005642593,366.05627657653935,365.5400972110185,362.41502231988426,360.50850330781253,358.51825893546294,355.52055696855325,352.9647862130903,351.1118723947454,348.4246294948727,342.3672663808449,338.5035495385648,331.4365996720949,324.2237845179977,317.4644109924653,314.49385861916664,311.37095904774304,303.5431680369791,297.31014599925925,290.0418619020949,283.33863078045135,283.33590105774306,275.2574436720486,273.4401389939236,257.37869697715274,256.5031338793634,255.49303694083335,252.30707613392363,245.41612982315974,240.48394241055556,223.04379871745368,220.4763571140278,218.55013955496528,214.54560088826392,209.44029542083334,192.52871201636574,186.50202452077545,172.5235798258449,170.65633337769677,165.28853490334492,163.07584995606481,161.4928592507176,161.4909019917708,152.1039705243287,151.37068348711804,147.1741579396412,140.50823078605325,134.46337733312498,134.1546791284375,127.46704148513888,124.33105608341435,119.0234442440625,116.35277775572916,108.38023233480325,103.46704841506943,94.25432953921296,88.03775204251157,85.00553926068287,82.47490355932871,82.47320225390047,77.52644544283565,74.5438217130787,71.98887388260417,71.06999180240742,63.34277000334491,61.469023250590276,58.40827168365741,52.2235387972801,51.289980235289356,50.015705424664354,44.37431741674769,43.02407055767361,42.06569560732639,35.0521156375,34.25713649174769,34.01111164185185,34.00981653321759,34.009006550671295,34.00856147113426,34.00809835439815,34.007692483854164,32.568144913657406,32.38009209974537,30.417934632164354,28.156351569837963,26.557568693715275,26.506609918437498,23.02377654986111,19.978734082060186,18.266623060266202,16.337141827581018,12.204313545636573,8.215424677094907,3.547005433310185,1.2186292689930556],\"type\":\"scatter\"}],                        {\"legend\":{\"bgcolor\":\"#F5F6F9\",\"font\":{\"color\":\"#4D5663\"}},\"paper_bgcolor\":\"#F5F6F9\",\"plot_bgcolor\":\"#F5F6F9\",\"template\":{\"data\":{\"barpolar\":[{\"marker\":{\"line\":{\"color\":\"#E5ECF6\",\"width\":0.5},\"pattern\":{\"fillmode\":\"overlay\",\"size\":10,\"solidity\":0.2}},\"type\":\"barpolar\"}],\"bar\":[{\"error_x\":{\"color\":\"#2a3f5f\"},\"error_y\":{\"color\":\"#2a3f5f\"},\"marker\":{\"line\":{\"color\":\"#E5ECF6\",\"width\":0.5},\"pattern\":{\"fillmode\":\"overlay\",\"size\":10,\"solidity\":0.2}},\"type\":\"bar\"}],\"carpet\":[{\"aaxis\":{\"endlinecolor\":\"#2a3f5f\",\"gridcolor\":\"white\",\"linecolor\":\"white\",\"minorgridcolor\":\"white\",\"startlinecolor\":\"#2a3f5f\"},\"baxis\":{\"endlinecolor\":\"#2a3f5f\",\"gridcolor\":\"white\",\"linecolor\":\"white\",\"minorgridcolor\":\"white\",\"startlinecolor\":\"#2a3f5f\"},\"type\":\"carpet\"}],\"choropleth\":[{\"colorbar\":{\"outlinewidth\":0,\"ticks\":\"\"},\"type\":\"choropleth\"}],\"contourcarpet\":[{\"colorbar\":{\"outlinewidth\":0,\"ticks\":\"\"},\"type\":\"contourcarpet\"}],\"contour\":[{\"colorbar\":{\"outlinewidth\":0,\"ticks\":\"\"},\"colorscale\":[[0.0,\"#0d0887\"],[0.1111111111111111,\"#46039f\"],[0.2222222222222222,\"#7201a8\"],[0.3333333333333333,\"#9c179e\"],[0.4444444444444444,\"#bd3786\"],[0.5555555555555556,\"#d8576b\"],[0.6666666666666666,\"#ed7953\"],[0.7777777777777778,\"#fb9f3a\"],[0.8888888888888888,\"#fdca26\"],[1.0,\"#f0f921\"]],\"type\":\"contour\"}],\"heatmapgl\":[{\"colorbar\":{\"outlinewidth\":0,\"ticks\":\"\"},\"colorscale\":[[0.0,\"#0d0887\"],[0.1111111111111111,\"#46039f\"],[0.2222222222222222,\"#7201a8\"],[0.3333333333333333,\"#9c179e\"],[0.4444444444444444,\"#bd3786\"],[0.5555555555555556,\"#d8576b\"],[0.6666666666666666,\"#ed7953\"],[0.7777777777777778,\"#fb9f3a\"],[0.8888888888888888,\"#fdca26\"],[1.0,\"#f0f921\"]],\"type\":\"heatmapgl\"}],\"heatmap\":[{\"colorbar\":{\"outlinewidth\":0,\"ticks\":\"\"},\"colorscale\":[[0.0,\"#0d0887\"],[0.1111111111111111,\"#46039f\"],[0.2222222222222222,\"#7201a8\"],[0.3333333333333333,\"#9c179e\"],[0.4444444444444444,\"#bd3786\"],[0.5555555555555556,\"#d8576b\"],[0.6666666666666666,\"#ed7953\"],[0.7777777777777778,\"#fb9f3a\"],[0.8888888888888888,\"#fdca26\"],[1.0,\"#f0f921\"]],\"type\":\"heatmap\"}],\"histogram2dcontour\":[{\"colorbar\":{\"outlinewidth\":0,\"ticks\":\"\"},\"colorscale\":[[0.0,\"#0d0887\"],[0.1111111111111111,\"#46039f\"],[0.2222222222222222,\"#7201a8\"],[0.3333333333333333,\"#9c179e\"],[0.4444444444444444,\"#bd3786\"],[0.5555555555555556,\"#d8576b\"],[0.6666666666666666,\"#ed7953\"],[0.7777777777777778,\"#fb9f3a\"],[0.8888888888888888,\"#fdca26\"],[1.0,\"#f0f921\"]],\"type\":\"histogram2dcontour\"}],\"histogram2d\":[{\"colorbar\":{\"outlinewidth\":0,\"ticks\":\"\"},\"colorscale\":[[0.0,\"#0d0887\"],[0.1111111111111111,\"#46039f\"],[0.2222222222222222,\"#7201a8\"],[0.3333333333333333,\"#9c179e\"],[0.4444444444444444,\"#bd3786\"],[0.5555555555555556,\"#d8576b\"],[0.6666666666666666,\"#ed7953\"],[0.7777777777777778,\"#fb9f3a\"],[0.8888888888888888,\"#fdca26\"],[1.0,\"#f0f921\"]],\"type\":\"histogram2d\"}],\"histogram\":[{\"marker\":{\"pattern\":{\"fillmode\":\"overlay\",\"size\":10,\"solidity\":0.2}},\"type\":\"histogram\"}],\"mesh3d\":[{\"colorbar\":{\"outlinewidth\":0,\"ticks\":\"\"},\"type\":\"mesh3d\"}],\"parcoords\":[{\"line\":{\"colorbar\":{\"outlinewidth\":0,\"ticks\":\"\"}},\"type\":\"parcoords\"}],\"pie\":[{\"automargin\":true,\"type\":\"pie\"}],\"scatter3d\":[{\"line\":{\"colorbar\":{\"outlinewidth\":0,\"ticks\":\"\"}},\"marker\":{\"colorbar\":{\"outlinewidth\":0,\"ticks\":\"\"}},\"type\":\"scatter3d\"}],\"scattercarpet\":[{\"marker\":{\"colorbar\":{\"outlinewidth\":0,\"ticks\":\"\"}},\"type\":\"scattercarpet\"}],\"scattergeo\":[{\"marker\":{\"colorbar\":{\"outlinewidth\":0,\"ticks\":\"\"}},\"type\":\"scattergeo\"}],\"scattergl\":[{\"marker\":{\"colorbar\":{\"outlinewidth\":0,\"ticks\":\"\"}},\"type\":\"scattergl\"}],\"scattermapbox\":[{\"marker\":{\"colorbar\":{\"outlinewidth\":0,\"ticks\":\"\"}},\"type\":\"scattermapbox\"}],\"scatterpolargl\":[{\"marker\":{\"colorbar\":{\"outlinewidth\":0,\"ticks\":\"\"}},\"type\":\"scatterpolargl\"}],\"scatterpolar\":[{\"marker\":{\"colorbar\":{\"outlinewidth\":0,\"ticks\":\"\"}},\"type\":\"scatterpolar\"}],\"scatter\":[{\"fillpattern\":{\"fillmode\":\"overlay\",\"size\":10,\"solidity\":0.2},\"type\":\"scatter\"}],\"scatterternary\":[{\"marker\":{\"colorbar\":{\"outlinewidth\":0,\"ticks\":\"\"}},\"type\":\"scatterternary\"}],\"surface\":[{\"colorbar\":{\"outlinewidth\":0,\"ticks\":\"\"},\"colorscale\":[[0.0,\"#0d0887\"],[0.1111111111111111,\"#46039f\"],[0.2222222222222222,\"#7201a8\"],[0.3333333333333333,\"#9c179e\"],[0.4444444444444444,\"#bd3786\"],[0.5555555555555556,\"#d8576b\"],[0.6666666666666666,\"#ed7953\"],[0.7777777777777778,\"#fb9f3a\"],[0.8888888888888888,\"#fdca26\"],[1.0,\"#f0f921\"]],\"type\":\"surface\"}],\"table\":[{\"cells\":{\"fill\":{\"color\":\"#EBF0F8\"},\"line\":{\"color\":\"white\"}},\"header\":{\"fill\":{\"color\":\"#C8D4E3\"},\"line\":{\"color\":\"white\"}},\"type\":\"table\"}]},\"layout\":{\"annotationdefaults\":{\"arrowcolor\":\"#2a3f5f\",\"arrowhead\":0,\"arrowwidth\":1},\"autotypenumbers\":\"strict\",\"coloraxis\":{\"colorbar\":{\"outlinewidth\":0,\"ticks\":\"\"}},\"colorscale\":{\"diverging\":[[0,\"#8e0152\"],[0.1,\"#c51b7d\"],[0.2,\"#de77ae\"],[0.3,\"#f1b6da\"],[0.4,\"#fde0ef\"],[0.5,\"#f7f7f7\"],[0.6,\"#e6f5d0\"],[0.7,\"#b8e186\"],[0.8,\"#7fbc41\"],[0.9,\"#4d9221\"],[1,\"#276419\"]],\"sequential\":[[0.0,\"#0d0887\"],[0.1111111111111111,\"#46039f\"],[0.2222222222222222,\"#7201a8\"],[0.3333333333333333,\"#9c179e\"],[0.4444444444444444,\"#bd3786\"],[0.5555555555555556,\"#d8576b\"],[0.6666666666666666,\"#ed7953\"],[0.7777777777777778,\"#fb9f3a\"],[0.8888888888888888,\"#fdca26\"],[1.0,\"#f0f921\"]],\"sequentialminus\":[[0.0,\"#0d0887\"],[0.1111111111111111,\"#46039f\"],[0.2222222222222222,\"#7201a8\"],[0.3333333333333333,\"#9c179e\"],[0.4444444444444444,\"#bd3786\"],[0.5555555555555556,\"#d8576b\"],[0.6666666666666666,\"#ed7953\"],[0.7777777777777778,\"#fb9f3a\"],[0.8888888888888888,\"#fdca26\"],[1.0,\"#f0f921\"]]},\"colorway\":[\"#636efa\",\"#EF553B\",\"#00cc96\",\"#ab63fa\",\"#FFA15A\",\"#19d3f3\",\"#FF6692\",\"#B6E880\",\"#FF97FF\",\"#FECB52\"],\"font\":{\"color\":\"#2a3f5f\"},\"geo\":{\"bgcolor\":\"white\",\"lakecolor\":\"white\",\"landcolor\":\"#E5ECF6\",\"showlakes\":true,\"showland\":true,\"subunitcolor\":\"white\"},\"hoverlabel\":{\"align\":\"left\"},\"hovermode\":\"closest\",\"mapbox\":{\"style\":\"light\"},\"paper_bgcolor\":\"white\",\"plot_bgcolor\":\"#E5ECF6\",\"polar\":{\"angularaxis\":{\"gridcolor\":\"white\",\"linecolor\":\"white\",\"ticks\":\"\"},\"bgcolor\":\"#E5ECF6\",\"radialaxis\":{\"gridcolor\":\"white\",\"linecolor\":\"white\",\"ticks\":\"\"}},\"scene\":{\"xaxis\":{\"backgroundcolor\":\"#E5ECF6\",\"gridcolor\":\"white\",\"gridwidth\":2,\"linecolor\":\"white\",\"showbackground\":true,\"ticks\":\"\",\"zerolinecolor\":\"white\"},\"yaxis\":{\"backgroundcolor\":\"#E5ECF6\",\"gridcolor\":\"white\",\"gridwidth\":2,\"linecolor\":\"white\",\"showbackground\":true,\"ticks\":\"\",\"zerolinecolor\":\"white\"},\"zaxis\":{\"backgroundcolor\":\"#E5ECF6\",\"gridcolor\":\"white\",\"gridwidth\":2,\"linecolor\":\"white\",\"showbackground\":true,\"ticks\":\"\",\"zerolinecolor\":\"white\"}},\"shapedefaults\":{\"line\":{\"color\":\"#2a3f5f\"}},\"ternary\":{\"aaxis\":{\"gridcolor\":\"white\",\"linecolor\":\"white\",\"ticks\":\"\"},\"baxis\":{\"gridcolor\":\"white\",\"linecolor\":\"white\",\"ticks\":\"\"},\"bgcolor\":\"#E5ECF6\",\"caxis\":{\"gridcolor\":\"white\",\"linecolor\":\"white\",\"ticks\":\"\"}},\"title\":{\"x\":0.05},\"xaxis\":{\"automargin\":true,\"gridcolor\":\"white\",\"linecolor\":\"white\",\"ticks\":\"\",\"title\":{\"standoff\":15},\"zerolinecolor\":\"white\",\"zerolinewidth\":2},\"yaxis\":{\"automargin\":true,\"gridcolor\":\"white\",\"linecolor\":\"white\",\"ticks\":\"\",\"title\":{\"standoff\":15},\"zerolinecolor\":\"white\",\"zerolinewidth\":2}}},\"title\":{\"font\":{\"color\":\"#4D5663\"},\"text\":\"Days_Since_Publication vs Claps\"},\"xaxis\":{\"gridcolor\":\"#E1E5ED\",\"showgrid\":true,\"tickfont\":{\"color\":\"#4D5663\"},\"title\":{\"font\":{\"color\":\"#4D5663\"},\"text\":\"Claps\"},\"zerolinecolor\":\"#E1E5ED\"},\"yaxis\":{\"gridcolor\":\"#E1E5ED\",\"showgrid\":true,\"tickfont\":{\"color\":\"#4D5663\"},\"title\":{\"font\":{\"color\":\"#4D5663\"},\"text\":\"Days_Since_Publication\"},\"zerolinecolor\":\"#E1E5ED\"}},                        {\"showLink\": true, \"linkText\": \"Export to plot.ly\", \"plotlyServerURL\": \"https://plot.ly\", \"responsive\": true}                    ).then(function(){\n                            \nvar gd = document.getElementById('d708bc82-7098-4e9c-8f04-ae538eafcc04');\nvar x = new MutationObserver(function (mutations, observer) {{\n        var display = window.getComputedStyle(gd).display;\n        if (!display || display === 'none') {{\n            console.log([gd, 'removed!']);\n            Plotly.purge(gd);\n            observer.disconnect();\n        }}\n}});\n\n// Listen for the removal of the full notebook cells\nvar notebookContainer = gd.closest('#notebook-container');\nif (notebookContainer) {{\n    x.observe(notebookContainer, {childList: true});\n}}\n\n// Listen for the clearing of the current output cell\nvar outputEl = gd.closest('.output');\nif (outputEl) {{\n    x.observe(outputEl, {childList: true});\n}}\n\n                        })                };                });            </script>        </div>"
                },
                "metadata": {}
              },
              {
                "output_type": "display_data",
                "data": {
                  "text/html": "<html>\n<head><meta charset=\"utf-8\" /></head>\n<body>\n    <div>            <script src=\"https://cdnjs.cloudflare.com/ajax/libs/mathjax/2.7.5/MathJax.js?config=TeX-AMS-MML_SVG\"></script><script type=\"text/javascript\">if (window.MathJax && window.MathJax.Hub && window.MathJax.Hub.Config) {window.MathJax.Hub.Config({SVG: {font: \"STIX-Web\"}});}</script>                <script type=\"text/javascript\">window.PlotlyConfig = {MathJaxConfig: 'local'};</script>\n        <script charset=\"utf-8\" src=\"https://cdn.plot.ly/plotly-2.24.1.min.js\"></script>                <div id=\"99886ba5-2236-483a-a788-7f2958300fc3\" class=\"plotly-graph-div\" style=\"height:525px; width:100%;\"></div>            <script type=\"text/javascript\">                                    window.PLOTLYENV=window.PLOTLYENV || {};                                    if (document.getElementById(\"99886ba5-2236-483a-a788-7f2958300fc3\")) {                    Plotly.newPlot(                        \"99886ba5-2236-483a-a788-7f2958300fc3\",                        [{\"hovertemplate\":\"claps=%{x}\\u003cbr\\u003edays_since_publication=%{y}\\u003cextra\\u003e\\u003c\\u002fextra\\u003e\",\"legendgroup\":\"\",\"marker\":{\"color\":\"#636efa\",\"symbol\":\"circle\"},\"mode\":\"markers\",\"name\":\"\",\"orientation\":\"v\",\"showlegend\":false,\"x\":[2,18,51,0,0,0,73,240,2,0,704,58,5,7,87,23,5,167,8,17,9,4900,3000,72,123,865,186,11,120,2100,4100,59,2800,82,21,7300,1200,285,1600,1600,1100,4300,4970,12900,225,5100,101,6000,647,977,7000,7000,2700,1100,3000,2600,2900,5500,1300,1000,8000,363,13600,4100,2200,3900,6400,8500,1300,5500,2400,2800,2400,715,717,3300,4400,844,906,3800,662,658,1100,2900,3100,797,246,3400,347,2600,981,2100,966,3300,710,2500,815,755,603,940,2300,1400,787,2800,2100,3800,547,856,1000,205,730,121,418,31,0,24,5,0,6,0,539,730,582,453,626,386,7600,1800,370,315,2000,53,901],\"xaxis\":\"x\",\"y\":[597.3011234928935,589.9831678934722,577.3632923185879,576.5206880427894,572.5330352605787,558.0200849386921,552.1556248098611,550.0150101095486,547.1585928973843,545.3034809904862,539.3015251376505,538.3616333815626,538.3616308881944,536.0693024557986,534.2649433761227,534.1913703218287,531.3165667823959,526.1891594631713,524.2700156780787,493.27377432550924,408.4711316033102,397.4293953507986,397.4277877258797,395.11609148437503,392.3287214495833,387.0576305824537,386.0425008728935,385.4954133210764,385.1945411716667,383.9926222874884,381.0352299594097,380.49090689327545,376.26001103743056,376.08059837900464,375.5302295332639,374.25597562319444,374.057076269838,371.30287774083337,369.1330005642593,366.05627657653935,365.5400972110185,362.41502231988426,360.50850330781253,358.51825893546294,355.52055696855325,352.9647862130903,351.1118723947454,348.4246294948727,342.3672663808449,338.5035495385648,331.4365996720949,324.2237845179977,317.4644109924653,314.49385861916664,311.37095904774304,303.5431680369791,297.31014599925925,290.0418619020949,283.33863078045135,283.33590105774306,275.2574436720486,273.4401389939236,257.37869697715274,256.5031338793634,255.49303694083335,252.30707613392363,245.41612982315974,240.48394241055556,223.04379871745368,220.4763571140278,218.55013955496528,214.54560088826392,209.44029542083334,192.52871201636574,186.50202452077545,172.5235798258449,170.65633337769677,165.28853490334492,163.07584995606481,161.4928592507176,161.4909019917708,152.1039705243287,151.37068348711804,147.1741579396412,140.50823078605325,134.46337733312498,134.1546791284375,127.46704148513888,124.33105608341435,119.0234442440625,116.35277775572916,108.38023233480325,103.46704841506943,94.25432953921296,88.03775204251157,85.00553926068287,82.47490355932871,82.47320225390047,77.52644544283565,74.5438217130787,71.98887388260417,71.06999180240742,63.34277000334491,61.469023250590276,58.40827168365741,52.2235387972801,51.289980235289356,50.015705424664354,44.37431741674769,43.02407055767361,42.06569560732639,35.0521156375,34.25713649174769,34.01111164185185,34.00981653321759,34.009006550671295,34.00856147113426,34.00809835439815,34.007692483854164,32.568144913657406,32.38009209974537,30.417934632164354,28.156351569837963,26.557568693715275,26.506609918437498,23.02377654986111,19.978734082060186,18.266623060266202,16.337141827581018,12.204313545636573,8.215424677094907,3.547005433310185,1.2186292689930556],\"yaxis\":\"y\",\"type\":\"scatter\"}],                        {\"template\":{\"data\":{\"histogram2dcontour\":[{\"type\":\"histogram2dcontour\",\"colorbar\":{\"outlinewidth\":0,\"ticks\":\"\"},\"colorscale\":[[0.0,\"#0d0887\"],[0.1111111111111111,\"#46039f\"],[0.2222222222222222,\"#7201a8\"],[0.3333333333333333,\"#9c179e\"],[0.4444444444444444,\"#bd3786\"],[0.5555555555555556,\"#d8576b\"],[0.6666666666666666,\"#ed7953\"],[0.7777777777777778,\"#fb9f3a\"],[0.8888888888888888,\"#fdca26\"],[1.0,\"#f0f921\"]]}],\"choropleth\":[{\"type\":\"choropleth\",\"colorbar\":{\"outlinewidth\":0,\"ticks\":\"\"}}],\"histogram2d\":[{\"type\":\"histogram2d\",\"colorbar\":{\"outlinewidth\":0,\"ticks\":\"\"},\"colorscale\":[[0.0,\"#0d0887\"],[0.1111111111111111,\"#46039f\"],[0.2222222222222222,\"#7201a8\"],[0.3333333333333333,\"#9c179e\"],[0.4444444444444444,\"#bd3786\"],[0.5555555555555556,\"#d8576b\"],[0.6666666666666666,\"#ed7953\"],[0.7777777777777778,\"#fb9f3a\"],[0.8888888888888888,\"#fdca26\"],[1.0,\"#f0f921\"]]}],\"heatmap\":[{\"type\":\"heatmap\",\"colorbar\":{\"outlinewidth\":0,\"ticks\":\"\"},\"colorscale\":[[0.0,\"#0d0887\"],[0.1111111111111111,\"#46039f\"],[0.2222222222222222,\"#7201a8\"],[0.3333333333333333,\"#9c179e\"],[0.4444444444444444,\"#bd3786\"],[0.5555555555555556,\"#d8576b\"],[0.6666666666666666,\"#ed7953\"],[0.7777777777777778,\"#fb9f3a\"],[0.8888888888888888,\"#fdca26\"],[1.0,\"#f0f921\"]]}],\"heatmapgl\":[{\"type\":\"heatmapgl\",\"colorbar\":{\"outlinewidth\":0,\"ticks\":\"\"},\"colorscale\":[[0.0,\"#0d0887\"],[0.1111111111111111,\"#46039f\"],[0.2222222222222222,\"#7201a8\"],[0.3333333333333333,\"#9c179e\"],[0.4444444444444444,\"#bd3786\"],[0.5555555555555556,\"#d8576b\"],[0.6666666666666666,\"#ed7953\"],[0.7777777777777778,\"#fb9f3a\"],[0.8888888888888888,\"#fdca26\"],[1.0,\"#f0f921\"]]}],\"contourcarpet\":[{\"type\":\"contourcarpet\",\"colorbar\":{\"outlinewidth\":0,\"ticks\":\"\"}}],\"contour\":[{\"type\":\"contour\",\"colorbar\":{\"outlinewidth\":0,\"ticks\":\"\"},\"colorscale\":[[0.0,\"#0d0887\"],[0.1111111111111111,\"#46039f\"],[0.2222222222222222,\"#7201a8\"],[0.3333333333333333,\"#9c179e\"],[0.4444444444444444,\"#bd3786\"],[0.5555555555555556,\"#d8576b\"],[0.6666666666666666,\"#ed7953\"],[0.7777777777777778,\"#fb9f3a\"],[0.8888888888888888,\"#fdca26\"],[1.0,\"#f0f921\"]]}],\"surface\":[{\"type\":\"surface\",\"colorbar\":{\"outlinewidth\":0,\"ticks\":\"\"},\"colorscale\":[[0.0,\"#0d0887\"],[0.1111111111111111,\"#46039f\"],[0.2222222222222222,\"#7201a8\"],[0.3333333333333333,\"#9c179e\"],[0.4444444444444444,\"#bd3786\"],[0.5555555555555556,\"#d8576b\"],[0.6666666666666666,\"#ed7953\"],[0.7777777777777778,\"#fb9f3a\"],[0.8888888888888888,\"#fdca26\"],[1.0,\"#f0f921\"]]}],\"mesh3d\":[{\"type\":\"mesh3d\",\"colorbar\":{\"outlinewidth\":0,\"ticks\":\"\"}}],\"scatter\":[{\"fillpattern\":{\"fillmode\":\"overlay\",\"size\":10,\"solidity\":0.2},\"type\":\"scatter\"}],\"parcoords\":[{\"type\":\"parcoords\",\"line\":{\"colorbar\":{\"outlinewidth\":0,\"ticks\":\"\"}}}],\"scatterpolargl\":[{\"type\":\"scatterpolargl\",\"marker\":{\"colorbar\":{\"outlinewidth\":0,\"ticks\":\"\"}}}],\"bar\":[{\"error_x\":{\"color\":\"#2a3f5f\"},\"error_y\":{\"color\":\"#2a3f5f\"},\"marker\":{\"line\":{\"color\":\"#E5ECF6\",\"width\":0.5},\"pattern\":{\"fillmode\":\"overlay\",\"size\":10,\"solidity\":0.2}},\"type\":\"bar\"}],\"scattergeo\":[{\"type\":\"scattergeo\",\"marker\":{\"colorbar\":{\"outlinewidth\":0,\"ticks\":\"\"}}}],\"scatterpolar\":[{\"type\":\"scatterpolar\",\"marker\":{\"colorbar\":{\"outlinewidth\":0,\"ticks\":\"\"}}}],\"histogram\":[{\"marker\":{\"pattern\":{\"fillmode\":\"overlay\",\"size\":10,\"solidity\":0.2}},\"type\":\"histogram\"}],\"scattergl\":[{\"type\":\"scattergl\",\"marker\":{\"colorbar\":{\"outlinewidth\":0,\"ticks\":\"\"}}}],\"scatter3d\":[{\"type\":\"scatter3d\",\"line\":{\"colorbar\":{\"outlinewidth\":0,\"ticks\":\"\"}},\"marker\":{\"colorbar\":{\"outlinewidth\":0,\"ticks\":\"\"}}}],\"scattermapbox\":[{\"type\":\"scattermapbox\",\"marker\":{\"colorbar\":{\"outlinewidth\":0,\"ticks\":\"\"}}}],\"scatterternary\":[{\"type\":\"scatterternary\",\"marker\":{\"colorbar\":{\"outlinewidth\":0,\"ticks\":\"\"}}}],\"scattercarpet\":[{\"type\":\"scattercarpet\",\"marker\":{\"colorbar\":{\"outlinewidth\":0,\"ticks\":\"\"}}}],\"carpet\":[{\"aaxis\":{\"endlinecolor\":\"#2a3f5f\",\"gridcolor\":\"white\",\"linecolor\":\"white\",\"minorgridcolor\":\"white\",\"startlinecolor\":\"#2a3f5f\"},\"baxis\":{\"endlinecolor\":\"#2a3f5f\",\"gridcolor\":\"white\",\"linecolor\":\"white\",\"minorgridcolor\":\"white\",\"startlinecolor\":\"#2a3f5f\"},\"type\":\"carpet\"}],\"table\":[{\"cells\":{\"fill\":{\"color\":\"#EBF0F8\"},\"line\":{\"color\":\"white\"}},\"header\":{\"fill\":{\"color\":\"#C8D4E3\"},\"line\":{\"color\":\"white\"}},\"type\":\"table\"}],\"barpolar\":[{\"marker\":{\"line\":{\"color\":\"#E5ECF6\",\"width\":0.5},\"pattern\":{\"fillmode\":\"overlay\",\"size\":10,\"solidity\":0.2}},\"type\":\"barpolar\"}],\"pie\":[{\"automargin\":true,\"type\":\"pie\"}]},\"layout\":{\"autotypenumbers\":\"strict\",\"colorway\":[\"#636efa\",\"#EF553B\",\"#00cc96\",\"#ab63fa\",\"#FFA15A\",\"#19d3f3\",\"#FF6692\",\"#B6E880\",\"#FF97FF\",\"#FECB52\"],\"font\":{\"color\":\"#2a3f5f\"},\"hovermode\":\"closest\",\"hoverlabel\":{\"align\":\"left\"},\"paper_bgcolor\":\"white\",\"plot_bgcolor\":\"#E5ECF6\",\"polar\":{\"bgcolor\":\"#E5ECF6\",\"angularaxis\":{\"gridcolor\":\"white\",\"linecolor\":\"white\",\"ticks\":\"\"},\"radialaxis\":{\"gridcolor\":\"white\",\"linecolor\":\"white\",\"ticks\":\"\"}},\"ternary\":{\"bgcolor\":\"#E5ECF6\",\"aaxis\":{\"gridcolor\":\"white\",\"linecolor\":\"white\",\"ticks\":\"\"},\"baxis\":{\"gridcolor\":\"white\",\"linecolor\":\"white\",\"ticks\":\"\"},\"caxis\":{\"gridcolor\":\"white\",\"linecolor\":\"white\",\"ticks\":\"\"}},\"coloraxis\":{\"colorbar\":{\"outlinewidth\":0,\"ticks\":\"\"}},\"colorscale\":{\"sequential\":[[0.0,\"#0d0887\"],[0.1111111111111111,\"#46039f\"],[0.2222222222222222,\"#7201a8\"],[0.3333333333333333,\"#9c179e\"],[0.4444444444444444,\"#bd3786\"],[0.5555555555555556,\"#d8576b\"],[0.6666666666666666,\"#ed7953\"],[0.7777777777777778,\"#fb9f3a\"],[0.8888888888888888,\"#fdca26\"],[1.0,\"#f0f921\"]],\"sequentialminus\":[[0.0,\"#0d0887\"],[0.1111111111111111,\"#46039f\"],[0.2222222222222222,\"#7201a8\"],[0.3333333333333333,\"#9c179e\"],[0.4444444444444444,\"#bd3786\"],[0.5555555555555556,\"#d8576b\"],[0.6666666666666666,\"#ed7953\"],[0.7777777777777778,\"#fb9f3a\"],[0.8888888888888888,\"#fdca26\"],[1.0,\"#f0f921\"]],\"diverging\":[[0,\"#8e0152\"],[0.1,\"#c51b7d\"],[0.2,\"#de77ae\"],[0.3,\"#f1b6da\"],[0.4,\"#fde0ef\"],[0.5,\"#f7f7f7\"],[0.6,\"#e6f5d0\"],[0.7,\"#b8e186\"],[0.8,\"#7fbc41\"],[0.9,\"#4d9221\"],[1,\"#276419\"]]},\"xaxis\":{\"gridcolor\":\"white\",\"linecolor\":\"white\",\"ticks\":\"\",\"title\":{\"standoff\":15},\"zerolinecolor\":\"white\",\"automargin\":true,\"zerolinewidth\":2},\"yaxis\":{\"gridcolor\":\"white\",\"linecolor\":\"white\",\"ticks\":\"\",\"title\":{\"standoff\":15},\"zerolinecolor\":\"white\",\"automargin\":true,\"zerolinewidth\":2},\"scene\":{\"xaxis\":{\"backgroundcolor\":\"#E5ECF6\",\"gridcolor\":\"white\",\"linecolor\":\"white\",\"showbackground\":true,\"ticks\":\"\",\"zerolinecolor\":\"white\",\"gridwidth\":2},\"yaxis\":{\"backgroundcolor\":\"#E5ECF6\",\"gridcolor\":\"white\",\"linecolor\":\"white\",\"showbackground\":true,\"ticks\":\"\",\"zerolinecolor\":\"white\",\"gridwidth\":2},\"zaxis\":{\"backgroundcolor\":\"#E5ECF6\",\"gridcolor\":\"white\",\"linecolor\":\"white\",\"showbackground\":true,\"ticks\":\"\",\"zerolinecolor\":\"white\",\"gridwidth\":2}},\"shapedefaults\":{\"line\":{\"color\":\"#2a3f5f\"}},\"annotationdefaults\":{\"arrowcolor\":\"#2a3f5f\",\"arrowhead\":0,\"arrowwidth\":1},\"geo\":{\"bgcolor\":\"white\",\"landcolor\":\"#E5ECF6\",\"subunitcolor\":\"white\",\"showland\":true,\"showlakes\":true,\"lakecolor\":\"white\"},\"title\":{\"x\":0.05},\"mapbox\":{\"style\":\"light\"}}},\"xaxis\":{\"anchor\":\"y\",\"domain\":[0.0,1.0],\"title\":{\"text\":\"claps\"}},\"yaxis\":{\"anchor\":\"x\",\"domain\":[0.0,1.0],\"title\":{\"text\":\"days_since_publication\"}},\"legend\":{\"tracegroupgap\":0},\"title\":{\"text\":\"Days_Since_Publication vs Claps\"}},                        {\"responsive\": true}                    ).then(function(){\n                            \nvar gd = document.getElementById('99886ba5-2236-483a-a788-7f2958300fc3');\nvar x = new MutationObserver(function (mutations, observer) {{\n        var display = window.getComputedStyle(gd).display;\n        if (!display || display === 'none') {{\n            console.log([gd, 'removed!']);\n            Plotly.purge(gd);\n            observer.disconnect();\n        }}\n}});\n\n// Listen for the removal of the full notebook cells\nvar notebookContainer = gd.closest('#notebook-container');\nif (notebookContainer) {{\n    x.observe(notebookContainer, {childList: true});\n}}\n\n// Listen for the clearing of the current output cell\nvar outputEl = gd.closest('.output');\nif (outputEl) {{\n    x.observe(outputEl, {childList: true});\n}}\n\n                        })                };                            </script>        </div>\n</body>\n</html>"
                },
                "metadata": {}
              }
            ]
          }
        },
        "33839253dbe640cb94f25a3cc3a0dd0e": {
          "model_module": "@jupyter-widgets/base",
          "model_name": "LayoutModel",
          "model_module_version": "1.2.0",
          "state": {
            "_model_module": "@jupyter-widgets/base",
            "_model_module_version": "1.2.0",
            "_model_name": "LayoutModel",
            "_view_count": null,
            "_view_module": "@jupyter-widgets/base",
            "_view_module_version": "1.2.0",
            "_view_name": "LayoutView",
            "align_content": null,
            "align_items": null,
            "align_self": null,
            "border": null,
            "bottom": null,
            "display": null,
            "flex": null,
            "flex_flow": null,
            "grid_area": null,
            "grid_auto_columns": null,
            "grid_auto_flow": null,
            "grid_auto_rows": null,
            "grid_column": null,
            "grid_gap": null,
            "grid_row": null,
            "grid_template_areas": null,
            "grid_template_columns": null,
            "grid_template_rows": null,
            "height": null,
            "justify_content": null,
            "justify_items": null,
            "left": null,
            "margin": null,
            "max_height": null,
            "max_width": null,
            "min_height": null,
            "min_width": null,
            "object_fit": null,
            "object_position": null,
            "order": null,
            "overflow": null,
            "overflow_x": null,
            "overflow_y": null,
            "padding": null,
            "right": null,
            "top": null,
            "visibility": null,
            "width": null
          }
        },
        "ef39ef8f891a4e5eb8228c6703a4314c": {
          "model_module": "@jupyter-widgets/base",
          "model_name": "LayoutModel",
          "model_module_version": "1.2.0",
          "state": {
            "_model_module": "@jupyter-widgets/base",
            "_model_module_version": "1.2.0",
            "_model_name": "LayoutModel",
            "_view_count": null,
            "_view_module": "@jupyter-widgets/base",
            "_view_module_version": "1.2.0",
            "_view_name": "LayoutView",
            "align_content": null,
            "align_items": null,
            "align_self": null,
            "border": null,
            "bottom": null,
            "display": null,
            "flex": null,
            "flex_flow": null,
            "grid_area": null,
            "grid_auto_columns": null,
            "grid_auto_flow": null,
            "grid_auto_rows": null,
            "grid_column": null,
            "grid_gap": null,
            "grid_row": null,
            "grid_template_areas": null,
            "grid_template_columns": null,
            "grid_template_rows": null,
            "height": null,
            "justify_content": null,
            "justify_items": null,
            "left": null,
            "margin": null,
            "max_height": null,
            "max_width": null,
            "min_height": null,
            "min_width": null,
            "object_fit": null,
            "object_position": null,
            "order": null,
            "overflow": null,
            "overflow_x": null,
            "overflow_y": null,
            "padding": null,
            "right": null,
            "top": null,
            "visibility": null,
            "width": null
          }
        },
        "abe77926e0e34cc4b734ec8cee88f765": {
          "model_module": "@jupyter-widgets/controls",
          "model_name": "DescriptionStyleModel",
          "model_module_version": "1.5.0",
          "state": {
            "_model_module": "@jupyter-widgets/controls",
            "_model_module_version": "1.5.0",
            "_model_name": "DescriptionStyleModel",
            "_view_count": null,
            "_view_module": "@jupyter-widgets/base",
            "_view_module_version": "1.2.0",
            "_view_name": "StyleView",
            "description_width": ""
          }
        },
        "ac65532ee3c644c49bfc2522cd61f1c6": {
          "model_module": "@jupyter-widgets/base",
          "model_name": "LayoutModel",
          "model_module_version": "1.2.0",
          "state": {
            "_model_module": "@jupyter-widgets/base",
            "_model_module_version": "1.2.0",
            "_model_name": "LayoutModel",
            "_view_count": null,
            "_view_module": "@jupyter-widgets/base",
            "_view_module_version": "1.2.0",
            "_view_name": "LayoutView",
            "align_content": null,
            "align_items": null,
            "align_self": null,
            "border": null,
            "bottom": null,
            "display": null,
            "flex": null,
            "flex_flow": null,
            "grid_area": null,
            "grid_auto_columns": null,
            "grid_auto_flow": null,
            "grid_auto_rows": null,
            "grid_column": null,
            "grid_gap": null,
            "grid_row": null,
            "grid_template_areas": null,
            "grid_template_columns": null,
            "grid_template_rows": null,
            "height": null,
            "justify_content": null,
            "justify_items": null,
            "left": null,
            "margin": null,
            "max_height": null,
            "max_width": null,
            "min_height": null,
            "min_width": null,
            "object_fit": null,
            "object_position": null,
            "order": null,
            "overflow": null,
            "overflow_x": null,
            "overflow_y": null,
            "padding": null,
            "right": null,
            "top": null,
            "visibility": null,
            "width": null
          }
        },
        "10a2dba36d7a4758a30509189b5bd5fc": {
          "model_module": "@jupyter-widgets/controls",
          "model_name": "DescriptionStyleModel",
          "model_module_version": "1.5.0",
          "state": {
            "_model_module": "@jupyter-widgets/controls",
            "_model_module_version": "1.5.0",
            "_model_name": "DescriptionStyleModel",
            "_view_count": null,
            "_view_module": "@jupyter-widgets/base",
            "_view_module_version": "1.2.0",
            "_view_name": "StyleView",
            "description_width": ""
          }
        },
        "75cde90b32a34c2bb1b3765c50ca7362": {
          "model_module": "@jupyter-widgets/base",
          "model_name": "LayoutModel",
          "model_module_version": "1.2.0",
          "state": {
            "_model_module": "@jupyter-widgets/base",
            "_model_module_version": "1.2.0",
            "_model_name": "LayoutModel",
            "_view_count": null,
            "_view_module": "@jupyter-widgets/base",
            "_view_module_version": "1.2.0",
            "_view_name": "LayoutView",
            "align_content": null,
            "align_items": null,
            "align_self": null,
            "border": null,
            "bottom": null,
            "display": null,
            "flex": null,
            "flex_flow": null,
            "grid_area": null,
            "grid_auto_columns": null,
            "grid_auto_flow": null,
            "grid_auto_rows": null,
            "grid_column": null,
            "grid_gap": null,
            "grid_row": null,
            "grid_template_areas": null,
            "grid_template_columns": null,
            "grid_template_rows": null,
            "height": null,
            "justify_content": null,
            "justify_items": null,
            "left": null,
            "margin": null,
            "max_height": null,
            "max_width": null,
            "min_height": null,
            "min_width": null,
            "object_fit": null,
            "object_position": null,
            "order": null,
            "overflow": null,
            "overflow_x": null,
            "overflow_y": null,
            "padding": null,
            "right": null,
            "top": null,
            "visibility": null,
            "width": null
          }
        },
        "776a2f63088d444e89a7826e4f025570": {
          "model_module": "@jupyter-widgets/controls",
          "model_name": "VBoxModel",
          "model_module_version": "1.5.0",
          "state": {
            "_dom_classes": [
              "widget-interact"
            ],
            "_model_module": "@jupyter-widgets/controls",
            "_model_module_version": "1.5.0",
            "_model_name": "VBoxModel",
            "_view_count": null,
            "_view_module": "@jupyter-widgets/controls",
            "_view_module_version": "1.5.0",
            "_view_name": "VBoxView",
            "box_style": "",
            "children": [
              "IPY_MODEL_0d7f6fe251034d249b9bf06ad6b4bfcf",
              "IPY_MODEL_931083e990204112a266cc68efe7a092"
            ],
            "layout": "IPY_MODEL_6efaa34c0d3b411eb48db64bb750efb7"
          }
        },
        "0d7f6fe251034d249b9bf06ad6b4bfcf": {
          "model_module": "@jupyter-widgets/controls",
          "model_name": "DropdownModel",
          "model_module_version": "1.5.0",
          "state": {
            "_dom_classes": [],
            "_model_module": "@jupyter-widgets/controls",
            "_model_module_version": "1.5.0",
            "_model_name": "DropdownModel",
            "_options_labels": [
              "Greys",
              "YlGnBu",
              "Greens",
              "YlOrRd",
              "Bluered",
              "RdBu",
              "Reds",
              "Blues",
              "Picnic",
              "Rainbow",
              "Portland",
              "Jet",
              "Hot",
              "Blackbody",
              "Earth",
              "Electric",
              "Viridis",
              "Cividis"
            ],
            "_view_count": null,
            "_view_module": "@jupyter-widgets/controls",
            "_view_module_version": "1.5.0",
            "_view_name": "DropdownView",
            "description": "colorscale",
            "description_tooltip": null,
            "disabled": false,
            "index": 0,
            "layout": "IPY_MODEL_be9043c7e7b34ac4bf27ef171d9aa963",
            "style": "IPY_MODEL_4c5eced77cfa432a86ae254aeedb3957"
          }
        },
        "931083e990204112a266cc68efe7a092": {
          "model_module": "@jupyter-widgets/output",
          "model_name": "OutputModel",
          "model_module_version": "1.0.0",
          "state": {
            "_dom_classes": [],
            "_model_module": "@jupyter-widgets/output",
            "_model_module_version": "1.0.0",
            "_model_name": "OutputModel",
            "_view_count": null,
            "_view_module": "@jupyter-widgets/output",
            "_view_module_version": "1.0.0",
            "_view_name": "OutputView",
            "layout": "IPY_MODEL_9bfd9f25d0714adeaf9b779c660fda9f",
            "msg_id": "",
            "outputs": [
              {
                "output_type": "display_data",
                "data": {
                  "application/vnd.plotly.v1+json": {
                    "data": [
                      {
                        "colorscale": [
                          [
                            0,
                            "rgb(255,255,255)"
                          ],
                          [
                            0.125,
                            "rgb(240,240,240)"
                          ],
                          [
                            0.25,
                            "rgb(217,217,217)"
                          ],
                          [
                            0.375,
                            "rgb(189,189,189)"
                          ],
                          [
                            0.5,
                            "rgb(150,150,150)"
                          ],
                          [
                            0.625,
                            "rgb(115,115,115)"
                          ],
                          [
                            0.75,
                            "rgb(82,82,82)"
                          ],
                          [
                            0.875,
                            "rgb(37,37,37)"
                          ],
                          [
                            1,
                            "rgb(0,0,0)"
                          ]
                        ],
                        "reversescale": false,
                        "showscale": false,
                        "x": [
                          "claps",
                          "days_since_publication",
                          "fans",
                          "num_responses",
                          "read_ratio",
                          "read_time",
                          "reads",
                          "title_word_count",
                          "views",
                          "word_count",
                          "claps_per_word",
                          "editing_days",
                          "<tag>Education",
                          "<tag>Data Science",
                          "<tag>Towards Data Science",
                          "<tag>Machine Learning",
                          "<tag>Python"
                        ],
                        "y": [
                          "claps",
                          "days_since_publication",
                          "fans",
                          "num_responses",
                          "read_ratio",
                          "read_time",
                          "reads",
                          "title_word_count",
                          "views",
                          "word_count",
                          "claps_per_word",
                          "editing_days",
                          "<tag>Education",
                          "<tag>Data Science",
                          "<tag>Towards Data Science",
                          "<tag>Machine Learning",
                          "<tag>Python"
                        ],
                        "z": [
                          [
                            1,
                            -0.03,
                            0.99,
                            0.9,
                            0.01,
                            -0.18,
                            0.76,
                            0.12,
                            0.74,
                            -0.18,
                            0.78,
                            -0.17,
                            0.21,
                            0.35,
                            0.56,
                            0.15,
                            0.31
                          ],
                          [
                            -0.03,
                            1,
                            -0.03,
                            0.01,
                            0.11,
                            0.14,
                            0.14,
                            -0.19,
                            0.13,
                            0.1,
                            -0.02,
                            -0.29,
                            -0.76,
                            -0.3,
                            -0.23,
                            -0.05,
                            0.13
                          ],
                          [
                            0.99,
                            -0.03,
                            1,
                            0.87,
                            0,
                            -0.18,
                            0.78,
                            0.14,
                            0.76,
                            -0.18,
                            0.75,
                            -0.17,
                            0.21,
                            0.36,
                            0.57,
                            0.17,
                            0.32
                          ],
                          [
                            0.9,
                            0.01,
                            0.87,
                            1,
                            0.1,
                            -0.2,
                            0.76,
                            0.08,
                            0.71,
                            -0.21,
                            0.8,
                            -0.19,
                            0.15,
                            0.32,
                            0.52,
                            0.08,
                            0.31
                          ],
                          [
                            0.01,
                            0.11,
                            0,
                            0.1,
                            1,
                            -0.61,
                            0.05,
                            0.05,
                            -0.11,
                            -0.56,
                            0.29,
                            -0.17,
                            0.05,
                            -0.02,
                            -0.05,
                            -0.28,
                            -0.18
                          ],
                          [
                            -0.18,
                            0.14,
                            -0.18,
                            -0.2,
                            -0.61,
                            1,
                            -0.15,
                            -0.15,
                            -0.07,
                            0.96,
                            -0.25,
                            0.45,
                            -0.28,
                            -0.08,
                            -0.22,
                            0.21,
                            0.09
                          ],
                          [
                            0.76,
                            0.14,
                            0.78,
                            0.76,
                            0.05,
                            -0.15,
                            1,
                            0.05,
                            0.94,
                            -0.17,
                            0.56,
                            -0.17,
                            -0.06,
                            0.34,
                            0.36,
                            0.2,
                            0.42
                          ],
                          [
                            0.12,
                            -0.19,
                            0.14,
                            0.08,
                            0.05,
                            -0.15,
                            0.05,
                            1,
                            0.05,
                            -0.15,
                            0.11,
                            -0.1,
                            0.28,
                            0.13,
                            0.32,
                            0.24,
                            0.26
                          ],
                          [
                            0.74,
                            0.13,
                            0.76,
                            0.71,
                            -0.11,
                            -0.07,
                            0.94,
                            0.05,
                            1,
                            -0.1,
                            0.4,
                            -0.16,
                            -0.07,
                            0.32,
                            0.34,
                            0.28,
                            0.45
                          ],
                          [
                            -0.18,
                            0.1,
                            -0.18,
                            -0.21,
                            -0.56,
                            0.96,
                            -0.17,
                            -0.15,
                            -0.1,
                            1,
                            -0.25,
                            0.46,
                            -0.23,
                            -0.09,
                            -0.21,
                            0.19,
                            0.02
                          ],
                          [
                            0.78,
                            -0.02,
                            0.75,
                            0.8,
                            0.29,
                            -0.25,
                            0.56,
                            0.11,
                            0.4,
                            -0.25,
                            1,
                            -0.13,
                            0.2,
                            0.27,
                            0.38,
                            -0.03,
                            0.24
                          ],
                          [
                            -0.17,
                            -0.29,
                            -0.17,
                            -0.19,
                            -0.17,
                            0.45,
                            -0.17,
                            -0.1,
                            -0.16,
                            0.46,
                            -0.13,
                            1,
                            0.16,
                            0.14,
                            -0.19,
                            0.26,
                            -0.16
                          ],
                          [
                            0.21,
                            -0.76,
                            0.21,
                            0.15,
                            0.05,
                            -0.28,
                            -0.06,
                            0.28,
                            -0.07,
                            -0.23,
                            0.2,
                            0.16,
                            1,
                            0.31,
                            0.37,
                            0.1,
                            -0.1
                          ],
                          [
                            0.35,
                            -0.3,
                            0.36,
                            0.32,
                            -0.02,
                            -0.08,
                            0.34,
                            0.13,
                            0.32,
                            -0.09,
                            0.27,
                            0.14,
                            0.31,
                            1,
                            0.36,
                            0.31,
                            0.08
                          ],
                          [
                            0.56,
                            -0.23,
                            0.57,
                            0.52,
                            -0.05,
                            -0.22,
                            0.36,
                            0.32,
                            0.34,
                            -0.21,
                            0.38,
                            -0.19,
                            0.37,
                            0.36,
                            1,
                            0.15,
                            0.25
                          ],
                          [
                            0.15,
                            -0.05,
                            0.17,
                            0.08,
                            -0.28,
                            0.21,
                            0.2,
                            0.24,
                            0.28,
                            0.19,
                            -0.03,
                            0.26,
                            0.1,
                            0.31,
                            0.15,
                            1,
                            0.26
                          ],
                          [
                            0.31,
                            0.13,
                            0.32,
                            0.31,
                            -0.18,
                            0.09,
                            0.42,
                            0.26,
                            0.45,
                            0.02,
                            0.24,
                            -0.16,
                            -0.1,
                            0.08,
                            0.25,
                            0.26,
                            1
                          ]
                        ],
                        "type": "heatmap"
                      }
                    ],
                    "layout": {
                      "annotations": [
                        {
                          "font": {
                            "color": "#FFFFFF"
                          },
                          "showarrow": false,
                          "text": "1.0",
                          "x": "claps",
                          "xref": "x",
                          "y": "claps",
                          "yref": "y"
                        },
                        {
                          "font": {
                            "color": "#000000"
                          },
                          "showarrow": false,
                          "text": "-0.03",
                          "x": "days_since_publication",
                          "xref": "x",
                          "y": "claps",
                          "yref": "y"
                        },
                        {
                          "font": {
                            "color": "#FFFFFF"
                          },
                          "showarrow": false,
                          "text": "0.99",
                          "x": "fans",
                          "xref": "x",
                          "y": "claps",
                          "yref": "y"
                        },
                        {
                          "font": {
                            "color": "#FFFFFF"
                          },
                          "showarrow": false,
                          "text": "0.9",
                          "x": "num_responses",
                          "xref": "x",
                          "y": "claps",
                          "yref": "y"
                        },
                        {
                          "font": {
                            "color": "#000000"
                          },
                          "showarrow": false,
                          "text": "0.01",
                          "x": "read_ratio",
                          "xref": "x",
                          "y": "claps",
                          "yref": "y"
                        },
                        {
                          "font": {
                            "color": "#000000"
                          },
                          "showarrow": false,
                          "text": "-0.18",
                          "x": "read_time",
                          "xref": "x",
                          "y": "claps",
                          "yref": "y"
                        },
                        {
                          "font": {
                            "color": "#FFFFFF"
                          },
                          "showarrow": false,
                          "text": "0.76",
                          "x": "reads",
                          "xref": "x",
                          "y": "claps",
                          "yref": "y"
                        },
                        {
                          "font": {
                            "color": "#FFFFFF"
                          },
                          "showarrow": false,
                          "text": "0.12",
                          "x": "title_word_count",
                          "xref": "x",
                          "y": "claps",
                          "yref": "y"
                        },
                        {
                          "font": {
                            "color": "#FFFFFF"
                          },
                          "showarrow": false,
                          "text": "0.74",
                          "x": "views",
                          "xref": "x",
                          "y": "claps",
                          "yref": "y"
                        },
                        {
                          "font": {
                            "color": "#000000"
                          },
                          "showarrow": false,
                          "text": "-0.18",
                          "x": "word_count",
                          "xref": "x",
                          "y": "claps",
                          "yref": "y"
                        },
                        {
                          "font": {
                            "color": "#FFFFFF"
                          },
                          "showarrow": false,
                          "text": "0.78",
                          "x": "claps_per_word",
                          "xref": "x",
                          "y": "claps",
                          "yref": "y"
                        },
                        {
                          "font": {
                            "color": "#000000"
                          },
                          "showarrow": false,
                          "text": "-0.17",
                          "x": "editing_days",
                          "xref": "x",
                          "y": "claps",
                          "yref": "y"
                        },
                        {
                          "font": {
                            "color": "#FFFFFF"
                          },
                          "showarrow": false,
                          "text": "0.21",
                          "x": "<tag>Education",
                          "xref": "x",
                          "y": "claps",
                          "yref": "y"
                        },
                        {
                          "font": {
                            "color": "#FFFFFF"
                          },
                          "showarrow": false,
                          "text": "0.35",
                          "x": "<tag>Data Science",
                          "xref": "x",
                          "y": "claps",
                          "yref": "y"
                        },
                        {
                          "font": {
                            "color": "#FFFFFF"
                          },
                          "showarrow": false,
                          "text": "0.56",
                          "x": "<tag>Towards Data Science",
                          "xref": "x",
                          "y": "claps",
                          "yref": "y"
                        },
                        {
                          "font": {
                            "color": "#FFFFFF"
                          },
                          "showarrow": false,
                          "text": "0.15",
                          "x": "<tag>Machine Learning",
                          "xref": "x",
                          "y": "claps",
                          "yref": "y"
                        },
                        {
                          "font": {
                            "color": "#FFFFFF"
                          },
                          "showarrow": false,
                          "text": "0.31",
                          "x": "<tag>Python",
                          "xref": "x",
                          "y": "claps",
                          "yref": "y"
                        },
                        {
                          "font": {
                            "color": "#000000"
                          },
                          "showarrow": false,
                          "text": "-0.03",
                          "x": "claps",
                          "xref": "x",
                          "y": "days_since_publication",
                          "yref": "y"
                        },
                        {
                          "font": {
                            "color": "#FFFFFF"
                          },
                          "showarrow": false,
                          "text": "1.0",
                          "x": "days_since_publication",
                          "xref": "x",
                          "y": "days_since_publication",
                          "yref": "y"
                        },
                        {
                          "font": {
                            "color": "#000000"
                          },
                          "showarrow": false,
                          "text": "-0.03",
                          "x": "fans",
                          "xref": "x",
                          "y": "days_since_publication",
                          "yref": "y"
                        },
                        {
                          "font": {
                            "color": "#000000"
                          },
                          "showarrow": false,
                          "text": "0.01",
                          "x": "num_responses",
                          "xref": "x",
                          "y": "days_since_publication",
                          "yref": "y"
                        },
                        {
                          "font": {
                            "color": "#000000"
                          },
                          "showarrow": false,
                          "text": "0.11",
                          "x": "read_ratio",
                          "xref": "x",
                          "y": "days_since_publication",
                          "yref": "y"
                        },
                        {
                          "font": {
                            "color": "#FFFFFF"
                          },
                          "showarrow": false,
                          "text": "0.14",
                          "x": "read_time",
                          "xref": "x",
                          "y": "days_since_publication",
                          "yref": "y"
                        },
                        {
                          "font": {
                            "color": "#FFFFFF"
                          },
                          "showarrow": false,
                          "text": "0.14",
                          "x": "reads",
                          "xref": "x",
                          "y": "days_since_publication",
                          "yref": "y"
                        },
                        {
                          "font": {
                            "color": "#000000"
                          },
                          "showarrow": false,
                          "text": "-0.19",
                          "x": "title_word_count",
                          "xref": "x",
                          "y": "days_since_publication",
                          "yref": "y"
                        },
                        {
                          "font": {
                            "color": "#FFFFFF"
                          },
                          "showarrow": false,
                          "text": "0.13",
                          "x": "views",
                          "xref": "x",
                          "y": "days_since_publication",
                          "yref": "y"
                        },
                        {
                          "font": {
                            "color": "#000000"
                          },
                          "showarrow": false,
                          "text": "0.1",
                          "x": "word_count",
                          "xref": "x",
                          "y": "days_since_publication",
                          "yref": "y"
                        },
                        {
                          "font": {
                            "color": "#000000"
                          },
                          "showarrow": false,
                          "text": "-0.02",
                          "x": "claps_per_word",
                          "xref": "x",
                          "y": "days_since_publication",
                          "yref": "y"
                        },
                        {
                          "font": {
                            "color": "#000000"
                          },
                          "showarrow": false,
                          "text": "-0.29",
                          "x": "editing_days",
                          "xref": "x",
                          "y": "days_since_publication",
                          "yref": "y"
                        },
                        {
                          "font": {
                            "color": "#000000"
                          },
                          "showarrow": false,
                          "text": "-0.76",
                          "x": "<tag>Education",
                          "xref": "x",
                          "y": "days_since_publication",
                          "yref": "y"
                        },
                        {
                          "font": {
                            "color": "#000000"
                          },
                          "showarrow": false,
                          "text": "-0.3",
                          "x": "<tag>Data Science",
                          "xref": "x",
                          "y": "days_since_publication",
                          "yref": "y"
                        },
                        {
                          "font": {
                            "color": "#000000"
                          },
                          "showarrow": false,
                          "text": "-0.23",
                          "x": "<tag>Towards Data Science",
                          "xref": "x",
                          "y": "days_since_publication",
                          "yref": "y"
                        },
                        {
                          "font": {
                            "color": "#000000"
                          },
                          "showarrow": false,
                          "text": "-0.05",
                          "x": "<tag>Machine Learning",
                          "xref": "x",
                          "y": "days_since_publication",
                          "yref": "y"
                        },
                        {
                          "font": {
                            "color": "#FFFFFF"
                          },
                          "showarrow": false,
                          "text": "0.13",
                          "x": "<tag>Python",
                          "xref": "x",
                          "y": "days_since_publication",
                          "yref": "y"
                        },
                        {
                          "font": {
                            "color": "#FFFFFF"
                          },
                          "showarrow": false,
                          "text": "0.99",
                          "x": "claps",
                          "xref": "x",
                          "y": "fans",
                          "yref": "y"
                        },
                        {
                          "font": {
                            "color": "#000000"
                          },
                          "showarrow": false,
                          "text": "-0.03",
                          "x": "days_since_publication",
                          "xref": "x",
                          "y": "fans",
                          "yref": "y"
                        },
                        {
                          "font": {
                            "color": "#FFFFFF"
                          },
                          "showarrow": false,
                          "text": "1.0",
                          "x": "fans",
                          "xref": "x",
                          "y": "fans",
                          "yref": "y"
                        },
                        {
                          "font": {
                            "color": "#FFFFFF"
                          },
                          "showarrow": false,
                          "text": "0.87",
                          "x": "num_responses",
                          "xref": "x",
                          "y": "fans",
                          "yref": "y"
                        },
                        {
                          "font": {
                            "color": "#000000"
                          },
                          "showarrow": false,
                          "text": "0.0",
                          "x": "read_ratio",
                          "xref": "x",
                          "y": "fans",
                          "yref": "y"
                        },
                        {
                          "font": {
                            "color": "#000000"
                          },
                          "showarrow": false,
                          "text": "-0.18",
                          "x": "read_time",
                          "xref": "x",
                          "y": "fans",
                          "yref": "y"
                        },
                        {
                          "font": {
                            "color": "#FFFFFF"
                          },
                          "showarrow": false,
                          "text": "0.78",
                          "x": "reads",
                          "xref": "x",
                          "y": "fans",
                          "yref": "y"
                        },
                        {
                          "font": {
                            "color": "#FFFFFF"
                          },
                          "showarrow": false,
                          "text": "0.14",
                          "x": "title_word_count",
                          "xref": "x",
                          "y": "fans",
                          "yref": "y"
                        },
                        {
                          "font": {
                            "color": "#FFFFFF"
                          },
                          "showarrow": false,
                          "text": "0.76",
                          "x": "views",
                          "xref": "x",
                          "y": "fans",
                          "yref": "y"
                        },
                        {
                          "font": {
                            "color": "#000000"
                          },
                          "showarrow": false,
                          "text": "-0.18",
                          "x": "word_count",
                          "xref": "x",
                          "y": "fans",
                          "yref": "y"
                        },
                        {
                          "font": {
                            "color": "#FFFFFF"
                          },
                          "showarrow": false,
                          "text": "0.75",
                          "x": "claps_per_word",
                          "xref": "x",
                          "y": "fans",
                          "yref": "y"
                        },
                        {
                          "font": {
                            "color": "#000000"
                          },
                          "showarrow": false,
                          "text": "-0.17",
                          "x": "editing_days",
                          "xref": "x",
                          "y": "fans",
                          "yref": "y"
                        },
                        {
                          "font": {
                            "color": "#FFFFFF"
                          },
                          "showarrow": false,
                          "text": "0.21",
                          "x": "<tag>Education",
                          "xref": "x",
                          "y": "fans",
                          "yref": "y"
                        },
                        {
                          "font": {
                            "color": "#FFFFFF"
                          },
                          "showarrow": false,
                          "text": "0.36",
                          "x": "<tag>Data Science",
                          "xref": "x",
                          "y": "fans",
                          "yref": "y"
                        },
                        {
                          "font": {
                            "color": "#FFFFFF"
                          },
                          "showarrow": false,
                          "text": "0.57",
                          "x": "<tag>Towards Data Science",
                          "xref": "x",
                          "y": "fans",
                          "yref": "y"
                        },
                        {
                          "font": {
                            "color": "#FFFFFF"
                          },
                          "showarrow": false,
                          "text": "0.17",
                          "x": "<tag>Machine Learning",
                          "xref": "x",
                          "y": "fans",
                          "yref": "y"
                        },
                        {
                          "font": {
                            "color": "#FFFFFF"
                          },
                          "showarrow": false,
                          "text": "0.32",
                          "x": "<tag>Python",
                          "xref": "x",
                          "y": "fans",
                          "yref": "y"
                        },
                        {
                          "font": {
                            "color": "#FFFFFF"
                          },
                          "showarrow": false,
                          "text": "0.9",
                          "x": "claps",
                          "xref": "x",
                          "y": "num_responses",
                          "yref": "y"
                        },
                        {
                          "font": {
                            "color": "#000000"
                          },
                          "showarrow": false,
                          "text": "0.01",
                          "x": "days_since_publication",
                          "xref": "x",
                          "y": "num_responses",
                          "yref": "y"
                        },
                        {
                          "font": {
                            "color": "#FFFFFF"
                          },
                          "showarrow": false,
                          "text": "0.87",
                          "x": "fans",
                          "xref": "x",
                          "y": "num_responses",
                          "yref": "y"
                        },
                        {
                          "font": {
                            "color": "#FFFFFF"
                          },
                          "showarrow": false,
                          "text": "1.0",
                          "x": "num_responses",
                          "xref": "x",
                          "y": "num_responses",
                          "yref": "y"
                        },
                        {
                          "font": {
                            "color": "#000000"
                          },
                          "showarrow": false,
                          "text": "0.1",
                          "x": "read_ratio",
                          "xref": "x",
                          "y": "num_responses",
                          "yref": "y"
                        },
                        {
                          "font": {
                            "color": "#000000"
                          },
                          "showarrow": false,
                          "text": "-0.2",
                          "x": "read_time",
                          "xref": "x",
                          "y": "num_responses",
                          "yref": "y"
                        },
                        {
                          "font": {
                            "color": "#FFFFFF"
                          },
                          "showarrow": false,
                          "text": "0.76",
                          "x": "reads",
                          "xref": "x",
                          "y": "num_responses",
                          "yref": "y"
                        },
                        {
                          "font": {
                            "color": "#000000"
                          },
                          "showarrow": false,
                          "text": "0.08",
                          "x": "title_word_count",
                          "xref": "x",
                          "y": "num_responses",
                          "yref": "y"
                        },
                        {
                          "font": {
                            "color": "#FFFFFF"
                          },
                          "showarrow": false,
                          "text": "0.71",
                          "x": "views",
                          "xref": "x",
                          "y": "num_responses",
                          "yref": "y"
                        },
                        {
                          "font": {
                            "color": "#000000"
                          },
                          "showarrow": false,
                          "text": "-0.21",
                          "x": "word_count",
                          "xref": "x",
                          "y": "num_responses",
                          "yref": "y"
                        },
                        {
                          "font": {
                            "color": "#FFFFFF"
                          },
                          "showarrow": false,
                          "text": "0.8",
                          "x": "claps_per_word",
                          "xref": "x",
                          "y": "num_responses",
                          "yref": "y"
                        },
                        {
                          "font": {
                            "color": "#000000"
                          },
                          "showarrow": false,
                          "text": "-0.19",
                          "x": "editing_days",
                          "xref": "x",
                          "y": "num_responses",
                          "yref": "y"
                        },
                        {
                          "font": {
                            "color": "#FFFFFF"
                          },
                          "showarrow": false,
                          "text": "0.15",
                          "x": "<tag>Education",
                          "xref": "x",
                          "y": "num_responses",
                          "yref": "y"
                        },
                        {
                          "font": {
                            "color": "#FFFFFF"
                          },
                          "showarrow": false,
                          "text": "0.32",
                          "x": "<tag>Data Science",
                          "xref": "x",
                          "y": "num_responses",
                          "yref": "y"
                        },
                        {
                          "font": {
                            "color": "#FFFFFF"
                          },
                          "showarrow": false,
                          "text": "0.52",
                          "x": "<tag>Towards Data Science",
                          "xref": "x",
                          "y": "num_responses",
                          "yref": "y"
                        },
                        {
                          "font": {
                            "color": "#000000"
                          },
                          "showarrow": false,
                          "text": "0.08",
                          "x": "<tag>Machine Learning",
                          "xref": "x",
                          "y": "num_responses",
                          "yref": "y"
                        },
                        {
                          "font": {
                            "color": "#FFFFFF"
                          },
                          "showarrow": false,
                          "text": "0.31",
                          "x": "<tag>Python",
                          "xref": "x",
                          "y": "num_responses",
                          "yref": "y"
                        },
                        {
                          "font": {
                            "color": "#000000"
                          },
                          "showarrow": false,
                          "text": "0.01",
                          "x": "claps",
                          "xref": "x",
                          "y": "read_ratio",
                          "yref": "y"
                        },
                        {
                          "font": {
                            "color": "#000000"
                          },
                          "showarrow": false,
                          "text": "0.11",
                          "x": "days_since_publication",
                          "xref": "x",
                          "y": "read_ratio",
                          "yref": "y"
                        },
                        {
                          "font": {
                            "color": "#000000"
                          },
                          "showarrow": false,
                          "text": "0.0",
                          "x": "fans",
                          "xref": "x",
                          "y": "read_ratio",
                          "yref": "y"
                        },
                        {
                          "font": {
                            "color": "#000000"
                          },
                          "showarrow": false,
                          "text": "0.1",
                          "x": "num_responses",
                          "xref": "x",
                          "y": "read_ratio",
                          "yref": "y"
                        },
                        {
                          "font": {
                            "color": "#FFFFFF"
                          },
                          "showarrow": false,
                          "text": "1.0",
                          "x": "read_ratio",
                          "xref": "x",
                          "y": "read_ratio",
                          "yref": "y"
                        },
                        {
                          "font": {
                            "color": "#000000"
                          },
                          "showarrow": false,
                          "text": "-0.61",
                          "x": "read_time",
                          "xref": "x",
                          "y": "read_ratio",
                          "yref": "y"
                        },
                        {
                          "font": {
                            "color": "#000000"
                          },
                          "showarrow": false,
                          "text": "0.05",
                          "x": "reads",
                          "xref": "x",
                          "y": "read_ratio",
                          "yref": "y"
                        },
                        {
                          "font": {
                            "color": "#000000"
                          },
                          "showarrow": false,
                          "text": "0.05",
                          "x": "title_word_count",
                          "xref": "x",
                          "y": "read_ratio",
                          "yref": "y"
                        },
                        {
                          "font": {
                            "color": "#000000"
                          },
                          "showarrow": false,
                          "text": "-0.11",
                          "x": "views",
                          "xref": "x",
                          "y": "read_ratio",
                          "yref": "y"
                        },
                        {
                          "font": {
                            "color": "#000000"
                          },
                          "showarrow": false,
                          "text": "-0.56",
                          "x": "word_count",
                          "xref": "x",
                          "y": "read_ratio",
                          "yref": "y"
                        },
                        {
                          "font": {
                            "color": "#FFFFFF"
                          },
                          "showarrow": false,
                          "text": "0.29",
                          "x": "claps_per_word",
                          "xref": "x",
                          "y": "read_ratio",
                          "yref": "y"
                        },
                        {
                          "font": {
                            "color": "#000000"
                          },
                          "showarrow": false,
                          "text": "-0.17",
                          "x": "editing_days",
                          "xref": "x",
                          "y": "read_ratio",
                          "yref": "y"
                        },
                        {
                          "font": {
                            "color": "#000000"
                          },
                          "showarrow": false,
                          "text": "0.05",
                          "x": "<tag>Education",
                          "xref": "x",
                          "y": "read_ratio",
                          "yref": "y"
                        },
                        {
                          "font": {
                            "color": "#000000"
                          },
                          "showarrow": false,
                          "text": "-0.02",
                          "x": "<tag>Data Science",
                          "xref": "x",
                          "y": "read_ratio",
                          "yref": "y"
                        },
                        {
                          "font": {
                            "color": "#000000"
                          },
                          "showarrow": false,
                          "text": "-0.05",
                          "x": "<tag>Towards Data Science",
                          "xref": "x",
                          "y": "read_ratio",
                          "yref": "y"
                        },
                        {
                          "font": {
                            "color": "#000000"
                          },
                          "showarrow": false,
                          "text": "-0.28",
                          "x": "<tag>Machine Learning",
                          "xref": "x",
                          "y": "read_ratio",
                          "yref": "y"
                        },
                        {
                          "font": {
                            "color": "#000000"
                          },
                          "showarrow": false,
                          "text": "-0.18",
                          "x": "<tag>Python",
                          "xref": "x",
                          "y": "read_ratio",
                          "yref": "y"
                        },
                        {
                          "font": {
                            "color": "#000000"
                          },
                          "showarrow": false,
                          "text": "-0.18",
                          "x": "claps",
                          "xref": "x",
                          "y": "read_time",
                          "yref": "y"
                        },
                        {
                          "font": {
                            "color": "#FFFFFF"
                          },
                          "showarrow": false,
                          "text": "0.14",
                          "x": "days_since_publication",
                          "xref": "x",
                          "y": "read_time",
                          "yref": "y"
                        },
                        {
                          "font": {
                            "color": "#000000"
                          },
                          "showarrow": false,
                          "text": "-0.18",
                          "x": "fans",
                          "xref": "x",
                          "y": "read_time",
                          "yref": "y"
                        },
                        {
                          "font": {
                            "color": "#000000"
                          },
                          "showarrow": false,
                          "text": "-0.2",
                          "x": "num_responses",
                          "xref": "x",
                          "y": "read_time",
                          "yref": "y"
                        },
                        {
                          "font": {
                            "color": "#000000"
                          },
                          "showarrow": false,
                          "text": "-0.61",
                          "x": "read_ratio",
                          "xref": "x",
                          "y": "read_time",
                          "yref": "y"
                        },
                        {
                          "font": {
                            "color": "#FFFFFF"
                          },
                          "showarrow": false,
                          "text": "1.0",
                          "x": "read_time",
                          "xref": "x",
                          "y": "read_time",
                          "yref": "y"
                        },
                        {
                          "font": {
                            "color": "#000000"
                          },
                          "showarrow": false,
                          "text": "-0.15",
                          "x": "reads",
                          "xref": "x",
                          "y": "read_time",
                          "yref": "y"
                        },
                        {
                          "font": {
                            "color": "#000000"
                          },
                          "showarrow": false,
                          "text": "-0.15",
                          "x": "title_word_count",
                          "xref": "x",
                          "y": "read_time",
                          "yref": "y"
                        },
                        {
                          "font": {
                            "color": "#000000"
                          },
                          "showarrow": false,
                          "text": "-0.07",
                          "x": "views",
                          "xref": "x",
                          "y": "read_time",
                          "yref": "y"
                        },
                        {
                          "font": {
                            "color": "#FFFFFF"
                          },
                          "showarrow": false,
                          "text": "0.96",
                          "x": "word_count",
                          "xref": "x",
                          "y": "read_time",
                          "yref": "y"
                        },
                        {
                          "font": {
                            "color": "#000000"
                          },
                          "showarrow": false,
                          "text": "-0.25",
                          "x": "claps_per_word",
                          "xref": "x",
                          "y": "read_time",
                          "yref": "y"
                        },
                        {
                          "font": {
                            "color": "#FFFFFF"
                          },
                          "showarrow": false,
                          "text": "0.45",
                          "x": "editing_days",
                          "xref": "x",
                          "y": "read_time",
                          "yref": "y"
                        },
                        {
                          "font": {
                            "color": "#000000"
                          },
                          "showarrow": false,
                          "text": "-0.28",
                          "x": "<tag>Education",
                          "xref": "x",
                          "y": "read_time",
                          "yref": "y"
                        },
                        {
                          "font": {
                            "color": "#000000"
                          },
                          "showarrow": false,
                          "text": "-0.08",
                          "x": "<tag>Data Science",
                          "xref": "x",
                          "y": "read_time",
                          "yref": "y"
                        },
                        {
                          "font": {
                            "color": "#000000"
                          },
                          "showarrow": false,
                          "text": "-0.22",
                          "x": "<tag>Towards Data Science",
                          "xref": "x",
                          "y": "read_time",
                          "yref": "y"
                        },
                        {
                          "font": {
                            "color": "#FFFFFF"
                          },
                          "showarrow": false,
                          "text": "0.21",
                          "x": "<tag>Machine Learning",
                          "xref": "x",
                          "y": "read_time",
                          "yref": "y"
                        },
                        {
                          "font": {
                            "color": "#000000"
                          },
                          "showarrow": false,
                          "text": "0.09",
                          "x": "<tag>Python",
                          "xref": "x",
                          "y": "read_time",
                          "yref": "y"
                        },
                        {
                          "font": {
                            "color": "#FFFFFF"
                          },
                          "showarrow": false,
                          "text": "0.76",
                          "x": "claps",
                          "xref": "x",
                          "y": "reads",
                          "yref": "y"
                        },
                        {
                          "font": {
                            "color": "#FFFFFF"
                          },
                          "showarrow": false,
                          "text": "0.14",
                          "x": "days_since_publication",
                          "xref": "x",
                          "y": "reads",
                          "yref": "y"
                        },
                        {
                          "font": {
                            "color": "#FFFFFF"
                          },
                          "showarrow": false,
                          "text": "0.78",
                          "x": "fans",
                          "xref": "x",
                          "y": "reads",
                          "yref": "y"
                        },
                        {
                          "font": {
                            "color": "#FFFFFF"
                          },
                          "showarrow": false,
                          "text": "0.76",
                          "x": "num_responses",
                          "xref": "x",
                          "y": "reads",
                          "yref": "y"
                        },
                        {
                          "font": {
                            "color": "#000000"
                          },
                          "showarrow": false,
                          "text": "0.05",
                          "x": "read_ratio",
                          "xref": "x",
                          "y": "reads",
                          "yref": "y"
                        },
                        {
                          "font": {
                            "color": "#000000"
                          },
                          "showarrow": false,
                          "text": "-0.15",
                          "x": "read_time",
                          "xref": "x",
                          "y": "reads",
                          "yref": "y"
                        },
                        {
                          "font": {
                            "color": "#FFFFFF"
                          },
                          "showarrow": false,
                          "text": "1.0",
                          "x": "reads",
                          "xref": "x",
                          "y": "reads",
                          "yref": "y"
                        },
                        {
                          "font": {
                            "color": "#000000"
                          },
                          "showarrow": false,
                          "text": "0.05",
                          "x": "title_word_count",
                          "xref": "x",
                          "y": "reads",
                          "yref": "y"
                        },
                        {
                          "font": {
                            "color": "#FFFFFF"
                          },
                          "showarrow": false,
                          "text": "0.94",
                          "x": "views",
                          "xref": "x",
                          "y": "reads",
                          "yref": "y"
                        },
                        {
                          "font": {
                            "color": "#000000"
                          },
                          "showarrow": false,
                          "text": "-0.17",
                          "x": "word_count",
                          "xref": "x",
                          "y": "reads",
                          "yref": "y"
                        },
                        {
                          "font": {
                            "color": "#FFFFFF"
                          },
                          "showarrow": false,
                          "text": "0.56",
                          "x": "claps_per_word",
                          "xref": "x",
                          "y": "reads",
                          "yref": "y"
                        },
                        {
                          "font": {
                            "color": "#000000"
                          },
                          "showarrow": false,
                          "text": "-0.17",
                          "x": "editing_days",
                          "xref": "x",
                          "y": "reads",
                          "yref": "y"
                        },
                        {
                          "font": {
                            "color": "#000000"
                          },
                          "showarrow": false,
                          "text": "-0.06",
                          "x": "<tag>Education",
                          "xref": "x",
                          "y": "reads",
                          "yref": "y"
                        },
                        {
                          "font": {
                            "color": "#FFFFFF"
                          },
                          "showarrow": false,
                          "text": "0.34",
                          "x": "<tag>Data Science",
                          "xref": "x",
                          "y": "reads",
                          "yref": "y"
                        },
                        {
                          "font": {
                            "color": "#FFFFFF"
                          },
                          "showarrow": false,
                          "text": "0.36",
                          "x": "<tag>Towards Data Science",
                          "xref": "x",
                          "y": "reads",
                          "yref": "y"
                        },
                        {
                          "font": {
                            "color": "#FFFFFF"
                          },
                          "showarrow": false,
                          "text": "0.2",
                          "x": "<tag>Machine Learning",
                          "xref": "x",
                          "y": "reads",
                          "yref": "y"
                        },
                        {
                          "font": {
                            "color": "#FFFFFF"
                          },
                          "showarrow": false,
                          "text": "0.42",
                          "x": "<tag>Python",
                          "xref": "x",
                          "y": "reads",
                          "yref": "y"
                        },
                        {
                          "font": {
                            "color": "#FFFFFF"
                          },
                          "showarrow": false,
                          "text": "0.12",
                          "x": "claps",
                          "xref": "x",
                          "y": "title_word_count",
                          "yref": "y"
                        },
                        {
                          "font": {
                            "color": "#000000"
                          },
                          "showarrow": false,
                          "text": "-0.19",
                          "x": "days_since_publication",
                          "xref": "x",
                          "y": "title_word_count",
                          "yref": "y"
                        },
                        {
                          "font": {
                            "color": "#FFFFFF"
                          },
                          "showarrow": false,
                          "text": "0.14",
                          "x": "fans",
                          "xref": "x",
                          "y": "title_word_count",
                          "yref": "y"
                        },
                        {
                          "font": {
                            "color": "#000000"
                          },
                          "showarrow": false,
                          "text": "0.08",
                          "x": "num_responses",
                          "xref": "x",
                          "y": "title_word_count",
                          "yref": "y"
                        },
                        {
                          "font": {
                            "color": "#000000"
                          },
                          "showarrow": false,
                          "text": "0.05",
                          "x": "read_ratio",
                          "xref": "x",
                          "y": "title_word_count",
                          "yref": "y"
                        },
                        {
                          "font": {
                            "color": "#000000"
                          },
                          "showarrow": false,
                          "text": "-0.15",
                          "x": "read_time",
                          "xref": "x",
                          "y": "title_word_count",
                          "yref": "y"
                        },
                        {
                          "font": {
                            "color": "#000000"
                          },
                          "showarrow": false,
                          "text": "0.05",
                          "x": "reads",
                          "xref": "x",
                          "y": "title_word_count",
                          "yref": "y"
                        },
                        {
                          "font": {
                            "color": "#FFFFFF"
                          },
                          "showarrow": false,
                          "text": "1.0",
                          "x": "title_word_count",
                          "xref": "x",
                          "y": "title_word_count",
                          "yref": "y"
                        },
                        {
                          "font": {
                            "color": "#000000"
                          },
                          "showarrow": false,
                          "text": "0.05",
                          "x": "views",
                          "xref": "x",
                          "y": "title_word_count",
                          "yref": "y"
                        },
                        {
                          "font": {
                            "color": "#000000"
                          },
                          "showarrow": false,
                          "text": "-0.15",
                          "x": "word_count",
                          "xref": "x",
                          "y": "title_word_count",
                          "yref": "y"
                        },
                        {
                          "font": {
                            "color": "#000000"
                          },
                          "showarrow": false,
                          "text": "0.11",
                          "x": "claps_per_word",
                          "xref": "x",
                          "y": "title_word_count",
                          "yref": "y"
                        },
                        {
                          "font": {
                            "color": "#000000"
                          },
                          "showarrow": false,
                          "text": "-0.1",
                          "x": "editing_days",
                          "xref": "x",
                          "y": "title_word_count",
                          "yref": "y"
                        },
                        {
                          "font": {
                            "color": "#FFFFFF"
                          },
                          "showarrow": false,
                          "text": "0.28",
                          "x": "<tag>Education",
                          "xref": "x",
                          "y": "title_word_count",
                          "yref": "y"
                        },
                        {
                          "font": {
                            "color": "#FFFFFF"
                          },
                          "showarrow": false,
                          "text": "0.13",
                          "x": "<tag>Data Science",
                          "xref": "x",
                          "y": "title_word_count",
                          "yref": "y"
                        },
                        {
                          "font": {
                            "color": "#FFFFFF"
                          },
                          "showarrow": false,
                          "text": "0.32",
                          "x": "<tag>Towards Data Science",
                          "xref": "x",
                          "y": "title_word_count",
                          "yref": "y"
                        },
                        {
                          "font": {
                            "color": "#FFFFFF"
                          },
                          "showarrow": false,
                          "text": "0.24",
                          "x": "<tag>Machine Learning",
                          "xref": "x",
                          "y": "title_word_count",
                          "yref": "y"
                        },
                        {
                          "font": {
                            "color": "#FFFFFF"
                          },
                          "showarrow": false,
                          "text": "0.26",
                          "x": "<tag>Python",
                          "xref": "x",
                          "y": "title_word_count",
                          "yref": "y"
                        },
                        {
                          "font": {
                            "color": "#FFFFFF"
                          },
                          "showarrow": false,
                          "text": "0.74",
                          "x": "claps",
                          "xref": "x",
                          "y": "views",
                          "yref": "y"
                        },
                        {
                          "font": {
                            "color": "#FFFFFF"
                          },
                          "showarrow": false,
                          "text": "0.13",
                          "x": "days_since_publication",
                          "xref": "x",
                          "y": "views",
                          "yref": "y"
                        },
                        {
                          "font": {
                            "color": "#FFFFFF"
                          },
                          "showarrow": false,
                          "text": "0.76",
                          "x": "fans",
                          "xref": "x",
                          "y": "views",
                          "yref": "y"
                        },
                        {
                          "font": {
                            "color": "#FFFFFF"
                          },
                          "showarrow": false,
                          "text": "0.71",
                          "x": "num_responses",
                          "xref": "x",
                          "y": "views",
                          "yref": "y"
                        },
                        {
                          "font": {
                            "color": "#000000"
                          },
                          "showarrow": false,
                          "text": "-0.11",
                          "x": "read_ratio",
                          "xref": "x",
                          "y": "views",
                          "yref": "y"
                        },
                        {
                          "font": {
                            "color": "#000000"
                          },
                          "showarrow": false,
                          "text": "-0.07",
                          "x": "read_time",
                          "xref": "x",
                          "y": "views",
                          "yref": "y"
                        },
                        {
                          "font": {
                            "color": "#FFFFFF"
                          },
                          "showarrow": false,
                          "text": "0.94",
                          "x": "reads",
                          "xref": "x",
                          "y": "views",
                          "yref": "y"
                        },
                        {
                          "font": {
                            "color": "#000000"
                          },
                          "showarrow": false,
                          "text": "0.05",
                          "x": "title_word_count",
                          "xref": "x",
                          "y": "views",
                          "yref": "y"
                        },
                        {
                          "font": {
                            "color": "#FFFFFF"
                          },
                          "showarrow": false,
                          "text": "1.0",
                          "x": "views",
                          "xref": "x",
                          "y": "views",
                          "yref": "y"
                        },
                        {
                          "font": {
                            "color": "#000000"
                          },
                          "showarrow": false,
                          "text": "-0.1",
                          "x": "word_count",
                          "xref": "x",
                          "y": "views",
                          "yref": "y"
                        },
                        {
                          "font": {
                            "color": "#FFFFFF"
                          },
                          "showarrow": false,
                          "text": "0.4",
                          "x": "claps_per_word",
                          "xref": "x",
                          "y": "views",
                          "yref": "y"
                        },
                        {
                          "font": {
                            "color": "#000000"
                          },
                          "showarrow": false,
                          "text": "-0.16",
                          "x": "editing_days",
                          "xref": "x",
                          "y": "views",
                          "yref": "y"
                        },
                        {
                          "font": {
                            "color": "#000000"
                          },
                          "showarrow": false,
                          "text": "-0.07",
                          "x": "<tag>Education",
                          "xref": "x",
                          "y": "views",
                          "yref": "y"
                        },
                        {
                          "font": {
                            "color": "#FFFFFF"
                          },
                          "showarrow": false,
                          "text": "0.32",
                          "x": "<tag>Data Science",
                          "xref": "x",
                          "y": "views",
                          "yref": "y"
                        },
                        {
                          "font": {
                            "color": "#FFFFFF"
                          },
                          "showarrow": false,
                          "text": "0.34",
                          "x": "<tag>Towards Data Science",
                          "xref": "x",
                          "y": "views",
                          "yref": "y"
                        },
                        {
                          "font": {
                            "color": "#FFFFFF"
                          },
                          "showarrow": false,
                          "text": "0.28",
                          "x": "<tag>Machine Learning",
                          "xref": "x",
                          "y": "views",
                          "yref": "y"
                        },
                        {
                          "font": {
                            "color": "#FFFFFF"
                          },
                          "showarrow": false,
                          "text": "0.45",
                          "x": "<tag>Python",
                          "xref": "x",
                          "y": "views",
                          "yref": "y"
                        },
                        {
                          "font": {
                            "color": "#000000"
                          },
                          "showarrow": false,
                          "text": "-0.18",
                          "x": "claps",
                          "xref": "x",
                          "y": "word_count",
                          "yref": "y"
                        },
                        {
                          "font": {
                            "color": "#000000"
                          },
                          "showarrow": false,
                          "text": "0.1",
                          "x": "days_since_publication",
                          "xref": "x",
                          "y": "word_count",
                          "yref": "y"
                        },
                        {
                          "font": {
                            "color": "#000000"
                          },
                          "showarrow": false,
                          "text": "-0.18",
                          "x": "fans",
                          "xref": "x",
                          "y": "word_count",
                          "yref": "y"
                        },
                        {
                          "font": {
                            "color": "#000000"
                          },
                          "showarrow": false,
                          "text": "-0.21",
                          "x": "num_responses",
                          "xref": "x",
                          "y": "word_count",
                          "yref": "y"
                        },
                        {
                          "font": {
                            "color": "#000000"
                          },
                          "showarrow": false,
                          "text": "-0.56",
                          "x": "read_ratio",
                          "xref": "x",
                          "y": "word_count",
                          "yref": "y"
                        },
                        {
                          "font": {
                            "color": "#FFFFFF"
                          },
                          "showarrow": false,
                          "text": "0.96",
                          "x": "read_time",
                          "xref": "x",
                          "y": "word_count",
                          "yref": "y"
                        },
                        {
                          "font": {
                            "color": "#000000"
                          },
                          "showarrow": false,
                          "text": "-0.17",
                          "x": "reads",
                          "xref": "x",
                          "y": "word_count",
                          "yref": "y"
                        },
                        {
                          "font": {
                            "color": "#000000"
                          },
                          "showarrow": false,
                          "text": "-0.15",
                          "x": "title_word_count",
                          "xref": "x",
                          "y": "word_count",
                          "yref": "y"
                        },
                        {
                          "font": {
                            "color": "#000000"
                          },
                          "showarrow": false,
                          "text": "-0.1",
                          "x": "views",
                          "xref": "x",
                          "y": "word_count",
                          "yref": "y"
                        },
                        {
                          "font": {
                            "color": "#FFFFFF"
                          },
                          "showarrow": false,
                          "text": "1.0",
                          "x": "word_count",
                          "xref": "x",
                          "y": "word_count",
                          "yref": "y"
                        },
                        {
                          "font": {
                            "color": "#000000"
                          },
                          "showarrow": false,
                          "text": "-0.25",
                          "x": "claps_per_word",
                          "xref": "x",
                          "y": "word_count",
                          "yref": "y"
                        },
                        {
                          "font": {
                            "color": "#FFFFFF"
                          },
                          "showarrow": false,
                          "text": "0.46",
                          "x": "editing_days",
                          "xref": "x",
                          "y": "word_count",
                          "yref": "y"
                        },
                        {
                          "font": {
                            "color": "#000000"
                          },
                          "showarrow": false,
                          "text": "-0.23",
                          "x": "<tag>Education",
                          "xref": "x",
                          "y": "word_count",
                          "yref": "y"
                        },
                        {
                          "font": {
                            "color": "#000000"
                          },
                          "showarrow": false,
                          "text": "-0.09",
                          "x": "<tag>Data Science",
                          "xref": "x",
                          "y": "word_count",
                          "yref": "y"
                        },
                        {
                          "font": {
                            "color": "#000000"
                          },
                          "showarrow": false,
                          "text": "-0.21",
                          "x": "<tag>Towards Data Science",
                          "xref": "x",
                          "y": "word_count",
                          "yref": "y"
                        },
                        {
                          "font": {
                            "color": "#FFFFFF"
                          },
                          "showarrow": false,
                          "text": "0.19",
                          "x": "<tag>Machine Learning",
                          "xref": "x",
                          "y": "word_count",
                          "yref": "y"
                        },
                        {
                          "font": {
                            "color": "#000000"
                          },
                          "showarrow": false,
                          "text": "0.02",
                          "x": "<tag>Python",
                          "xref": "x",
                          "y": "word_count",
                          "yref": "y"
                        },
                        {
                          "font": {
                            "color": "#FFFFFF"
                          },
                          "showarrow": false,
                          "text": "0.78",
                          "x": "claps",
                          "xref": "x",
                          "y": "claps_per_word",
                          "yref": "y"
                        },
                        {
                          "font": {
                            "color": "#000000"
                          },
                          "showarrow": false,
                          "text": "-0.02",
                          "x": "days_since_publication",
                          "xref": "x",
                          "y": "claps_per_word",
                          "yref": "y"
                        },
                        {
                          "font": {
                            "color": "#FFFFFF"
                          },
                          "showarrow": false,
                          "text": "0.75",
                          "x": "fans",
                          "xref": "x",
                          "y": "claps_per_word",
                          "yref": "y"
                        },
                        {
                          "font": {
                            "color": "#FFFFFF"
                          },
                          "showarrow": false,
                          "text": "0.8",
                          "x": "num_responses",
                          "xref": "x",
                          "y": "claps_per_word",
                          "yref": "y"
                        },
                        {
                          "font": {
                            "color": "#FFFFFF"
                          },
                          "showarrow": false,
                          "text": "0.29",
                          "x": "read_ratio",
                          "xref": "x",
                          "y": "claps_per_word",
                          "yref": "y"
                        },
                        {
                          "font": {
                            "color": "#000000"
                          },
                          "showarrow": false,
                          "text": "-0.25",
                          "x": "read_time",
                          "xref": "x",
                          "y": "claps_per_word",
                          "yref": "y"
                        },
                        {
                          "font": {
                            "color": "#FFFFFF"
                          },
                          "showarrow": false,
                          "text": "0.56",
                          "x": "reads",
                          "xref": "x",
                          "y": "claps_per_word",
                          "yref": "y"
                        },
                        {
                          "font": {
                            "color": "#000000"
                          },
                          "showarrow": false,
                          "text": "0.11",
                          "x": "title_word_count",
                          "xref": "x",
                          "y": "claps_per_word",
                          "yref": "y"
                        },
                        {
                          "font": {
                            "color": "#FFFFFF"
                          },
                          "showarrow": false,
                          "text": "0.4",
                          "x": "views",
                          "xref": "x",
                          "y": "claps_per_word",
                          "yref": "y"
                        },
                        {
                          "font": {
                            "color": "#000000"
                          },
                          "showarrow": false,
                          "text": "-0.25",
                          "x": "word_count",
                          "xref": "x",
                          "y": "claps_per_word",
                          "yref": "y"
                        },
                        {
                          "font": {
                            "color": "#FFFFFF"
                          },
                          "showarrow": false,
                          "text": "1.0",
                          "x": "claps_per_word",
                          "xref": "x",
                          "y": "claps_per_word",
                          "yref": "y"
                        },
                        {
                          "font": {
                            "color": "#000000"
                          },
                          "showarrow": false,
                          "text": "-0.13",
                          "x": "editing_days",
                          "xref": "x",
                          "y": "claps_per_word",
                          "yref": "y"
                        },
                        {
                          "font": {
                            "color": "#FFFFFF"
                          },
                          "showarrow": false,
                          "text": "0.2",
                          "x": "<tag>Education",
                          "xref": "x",
                          "y": "claps_per_word",
                          "yref": "y"
                        },
                        {
                          "font": {
                            "color": "#FFFFFF"
                          },
                          "showarrow": false,
                          "text": "0.27",
                          "x": "<tag>Data Science",
                          "xref": "x",
                          "y": "claps_per_word",
                          "yref": "y"
                        },
                        {
                          "font": {
                            "color": "#FFFFFF"
                          },
                          "showarrow": false,
                          "text": "0.38",
                          "x": "<tag>Towards Data Science",
                          "xref": "x",
                          "y": "claps_per_word",
                          "yref": "y"
                        },
                        {
                          "font": {
                            "color": "#000000"
                          },
                          "showarrow": false,
                          "text": "-0.03",
                          "x": "<tag>Machine Learning",
                          "xref": "x",
                          "y": "claps_per_word",
                          "yref": "y"
                        },
                        {
                          "font": {
                            "color": "#FFFFFF"
                          },
                          "showarrow": false,
                          "text": "0.24",
                          "x": "<tag>Python",
                          "xref": "x",
                          "y": "claps_per_word",
                          "yref": "y"
                        },
                        {
                          "font": {
                            "color": "#000000"
                          },
                          "showarrow": false,
                          "text": "-0.17",
                          "x": "claps",
                          "xref": "x",
                          "y": "editing_days",
                          "yref": "y"
                        },
                        {
                          "font": {
                            "color": "#000000"
                          },
                          "showarrow": false,
                          "text": "-0.29",
                          "x": "days_since_publication",
                          "xref": "x",
                          "y": "editing_days",
                          "yref": "y"
                        },
                        {
                          "font": {
                            "color": "#000000"
                          },
                          "showarrow": false,
                          "text": "-0.17",
                          "x": "fans",
                          "xref": "x",
                          "y": "editing_days",
                          "yref": "y"
                        },
                        {
                          "font": {
                            "color": "#000000"
                          },
                          "showarrow": false,
                          "text": "-0.19",
                          "x": "num_responses",
                          "xref": "x",
                          "y": "editing_days",
                          "yref": "y"
                        },
                        {
                          "font": {
                            "color": "#000000"
                          },
                          "showarrow": false,
                          "text": "-0.17",
                          "x": "read_ratio",
                          "xref": "x",
                          "y": "editing_days",
                          "yref": "y"
                        },
                        {
                          "font": {
                            "color": "#FFFFFF"
                          },
                          "showarrow": false,
                          "text": "0.45",
                          "x": "read_time",
                          "xref": "x",
                          "y": "editing_days",
                          "yref": "y"
                        },
                        {
                          "font": {
                            "color": "#000000"
                          },
                          "showarrow": false,
                          "text": "-0.17",
                          "x": "reads",
                          "xref": "x",
                          "y": "editing_days",
                          "yref": "y"
                        },
                        {
                          "font": {
                            "color": "#000000"
                          },
                          "showarrow": false,
                          "text": "-0.1",
                          "x": "title_word_count",
                          "xref": "x",
                          "y": "editing_days",
                          "yref": "y"
                        },
                        {
                          "font": {
                            "color": "#000000"
                          },
                          "showarrow": false,
                          "text": "-0.16",
                          "x": "views",
                          "xref": "x",
                          "y": "editing_days",
                          "yref": "y"
                        },
                        {
                          "font": {
                            "color": "#FFFFFF"
                          },
                          "showarrow": false,
                          "text": "0.46",
                          "x": "word_count",
                          "xref": "x",
                          "y": "editing_days",
                          "yref": "y"
                        },
                        {
                          "font": {
                            "color": "#000000"
                          },
                          "showarrow": false,
                          "text": "-0.13",
                          "x": "claps_per_word",
                          "xref": "x",
                          "y": "editing_days",
                          "yref": "y"
                        },
                        {
                          "font": {
                            "color": "#FFFFFF"
                          },
                          "showarrow": false,
                          "text": "1.0",
                          "x": "editing_days",
                          "xref": "x",
                          "y": "editing_days",
                          "yref": "y"
                        },
                        {
                          "font": {
                            "color": "#FFFFFF"
                          },
                          "showarrow": false,
                          "text": "0.16",
                          "x": "<tag>Education",
                          "xref": "x",
                          "y": "editing_days",
                          "yref": "y"
                        },
                        {
                          "font": {
                            "color": "#FFFFFF"
                          },
                          "showarrow": false,
                          "text": "0.14",
                          "x": "<tag>Data Science",
                          "xref": "x",
                          "y": "editing_days",
                          "yref": "y"
                        },
                        {
                          "font": {
                            "color": "#000000"
                          },
                          "showarrow": false,
                          "text": "-0.19",
                          "x": "<tag>Towards Data Science",
                          "xref": "x",
                          "y": "editing_days",
                          "yref": "y"
                        },
                        {
                          "font": {
                            "color": "#FFFFFF"
                          },
                          "showarrow": false,
                          "text": "0.26",
                          "x": "<tag>Machine Learning",
                          "xref": "x",
                          "y": "editing_days",
                          "yref": "y"
                        },
                        {
                          "font": {
                            "color": "#000000"
                          },
                          "showarrow": false,
                          "text": "-0.16",
                          "x": "<tag>Python",
                          "xref": "x",
                          "y": "editing_days",
                          "yref": "y"
                        },
                        {
                          "font": {
                            "color": "#FFFFFF"
                          },
                          "showarrow": false,
                          "text": "0.21",
                          "x": "claps",
                          "xref": "x",
                          "y": "<tag>Education",
                          "yref": "y"
                        },
                        {
                          "font": {
                            "color": "#000000"
                          },
                          "showarrow": false,
                          "text": "-0.76",
                          "x": "days_since_publication",
                          "xref": "x",
                          "y": "<tag>Education",
                          "yref": "y"
                        },
                        {
                          "font": {
                            "color": "#FFFFFF"
                          },
                          "showarrow": false,
                          "text": "0.21",
                          "x": "fans",
                          "xref": "x",
                          "y": "<tag>Education",
                          "yref": "y"
                        },
                        {
                          "font": {
                            "color": "#FFFFFF"
                          },
                          "showarrow": false,
                          "text": "0.15",
                          "x": "num_responses",
                          "xref": "x",
                          "y": "<tag>Education",
                          "yref": "y"
                        },
                        {
                          "font": {
                            "color": "#000000"
                          },
                          "showarrow": false,
                          "text": "0.05",
                          "x": "read_ratio",
                          "xref": "x",
                          "y": "<tag>Education",
                          "yref": "y"
                        },
                        {
                          "font": {
                            "color": "#000000"
                          },
                          "showarrow": false,
                          "text": "-0.28",
                          "x": "read_time",
                          "xref": "x",
                          "y": "<tag>Education",
                          "yref": "y"
                        },
                        {
                          "font": {
                            "color": "#000000"
                          },
                          "showarrow": false,
                          "text": "-0.06",
                          "x": "reads",
                          "xref": "x",
                          "y": "<tag>Education",
                          "yref": "y"
                        },
                        {
                          "font": {
                            "color": "#FFFFFF"
                          },
                          "showarrow": false,
                          "text": "0.28",
                          "x": "title_word_count",
                          "xref": "x",
                          "y": "<tag>Education",
                          "yref": "y"
                        },
                        {
                          "font": {
                            "color": "#000000"
                          },
                          "showarrow": false,
                          "text": "-0.07",
                          "x": "views",
                          "xref": "x",
                          "y": "<tag>Education",
                          "yref": "y"
                        },
                        {
                          "font": {
                            "color": "#000000"
                          },
                          "showarrow": false,
                          "text": "-0.23",
                          "x": "word_count",
                          "xref": "x",
                          "y": "<tag>Education",
                          "yref": "y"
                        },
                        {
                          "font": {
                            "color": "#FFFFFF"
                          },
                          "showarrow": false,
                          "text": "0.2",
                          "x": "claps_per_word",
                          "xref": "x",
                          "y": "<tag>Education",
                          "yref": "y"
                        },
                        {
                          "font": {
                            "color": "#FFFFFF"
                          },
                          "showarrow": false,
                          "text": "0.16",
                          "x": "editing_days",
                          "xref": "x",
                          "y": "<tag>Education",
                          "yref": "y"
                        },
                        {
                          "font": {
                            "color": "#FFFFFF"
                          },
                          "showarrow": false,
                          "text": "1.0",
                          "x": "<tag>Education",
                          "xref": "x",
                          "y": "<tag>Education",
                          "yref": "y"
                        },
                        {
                          "font": {
                            "color": "#FFFFFF"
                          },
                          "showarrow": false,
                          "text": "0.31",
                          "x": "<tag>Data Science",
                          "xref": "x",
                          "y": "<tag>Education",
                          "yref": "y"
                        },
                        {
                          "font": {
                            "color": "#FFFFFF"
                          },
                          "showarrow": false,
                          "text": "0.37",
                          "x": "<tag>Towards Data Science",
                          "xref": "x",
                          "y": "<tag>Education",
                          "yref": "y"
                        },
                        {
                          "font": {
                            "color": "#000000"
                          },
                          "showarrow": false,
                          "text": "0.1",
                          "x": "<tag>Machine Learning",
                          "xref": "x",
                          "y": "<tag>Education",
                          "yref": "y"
                        },
                        {
                          "font": {
                            "color": "#000000"
                          },
                          "showarrow": false,
                          "text": "-0.1",
                          "x": "<tag>Python",
                          "xref": "x",
                          "y": "<tag>Education",
                          "yref": "y"
                        },
                        {
                          "font": {
                            "color": "#FFFFFF"
                          },
                          "showarrow": false,
                          "text": "0.35",
                          "x": "claps",
                          "xref": "x",
                          "y": "<tag>Data Science",
                          "yref": "y"
                        },
                        {
                          "font": {
                            "color": "#000000"
                          },
                          "showarrow": false,
                          "text": "-0.3",
                          "x": "days_since_publication",
                          "xref": "x",
                          "y": "<tag>Data Science",
                          "yref": "y"
                        },
                        {
                          "font": {
                            "color": "#FFFFFF"
                          },
                          "showarrow": false,
                          "text": "0.36",
                          "x": "fans",
                          "xref": "x",
                          "y": "<tag>Data Science",
                          "yref": "y"
                        },
                        {
                          "font": {
                            "color": "#FFFFFF"
                          },
                          "showarrow": false,
                          "text": "0.32",
                          "x": "num_responses",
                          "xref": "x",
                          "y": "<tag>Data Science",
                          "yref": "y"
                        },
                        {
                          "font": {
                            "color": "#000000"
                          },
                          "showarrow": false,
                          "text": "-0.02",
                          "x": "read_ratio",
                          "xref": "x",
                          "y": "<tag>Data Science",
                          "yref": "y"
                        },
                        {
                          "font": {
                            "color": "#000000"
                          },
                          "showarrow": false,
                          "text": "-0.08",
                          "x": "read_time",
                          "xref": "x",
                          "y": "<tag>Data Science",
                          "yref": "y"
                        },
                        {
                          "font": {
                            "color": "#FFFFFF"
                          },
                          "showarrow": false,
                          "text": "0.34",
                          "x": "reads",
                          "xref": "x",
                          "y": "<tag>Data Science",
                          "yref": "y"
                        },
                        {
                          "font": {
                            "color": "#FFFFFF"
                          },
                          "showarrow": false,
                          "text": "0.13",
                          "x": "title_word_count",
                          "xref": "x",
                          "y": "<tag>Data Science",
                          "yref": "y"
                        },
                        {
                          "font": {
                            "color": "#FFFFFF"
                          },
                          "showarrow": false,
                          "text": "0.32",
                          "x": "views",
                          "xref": "x",
                          "y": "<tag>Data Science",
                          "yref": "y"
                        },
                        {
                          "font": {
                            "color": "#000000"
                          },
                          "showarrow": false,
                          "text": "-0.09",
                          "x": "word_count",
                          "xref": "x",
                          "y": "<tag>Data Science",
                          "yref": "y"
                        },
                        {
                          "font": {
                            "color": "#FFFFFF"
                          },
                          "showarrow": false,
                          "text": "0.27",
                          "x": "claps_per_word",
                          "xref": "x",
                          "y": "<tag>Data Science",
                          "yref": "y"
                        },
                        {
                          "font": {
                            "color": "#FFFFFF"
                          },
                          "showarrow": false,
                          "text": "0.14",
                          "x": "editing_days",
                          "xref": "x",
                          "y": "<tag>Data Science",
                          "yref": "y"
                        },
                        {
                          "font": {
                            "color": "#FFFFFF"
                          },
                          "showarrow": false,
                          "text": "0.31",
                          "x": "<tag>Education",
                          "xref": "x",
                          "y": "<tag>Data Science",
                          "yref": "y"
                        },
                        {
                          "font": {
                            "color": "#FFFFFF"
                          },
                          "showarrow": false,
                          "text": "1.0",
                          "x": "<tag>Data Science",
                          "xref": "x",
                          "y": "<tag>Data Science",
                          "yref": "y"
                        },
                        {
                          "font": {
                            "color": "#FFFFFF"
                          },
                          "showarrow": false,
                          "text": "0.36",
                          "x": "<tag>Towards Data Science",
                          "xref": "x",
                          "y": "<tag>Data Science",
                          "yref": "y"
                        },
                        {
                          "font": {
                            "color": "#FFFFFF"
                          },
                          "showarrow": false,
                          "text": "0.31",
                          "x": "<tag>Machine Learning",
                          "xref": "x",
                          "y": "<tag>Data Science",
                          "yref": "y"
                        },
                        {
                          "font": {
                            "color": "#000000"
                          },
                          "showarrow": false,
                          "text": "0.08",
                          "x": "<tag>Python",
                          "xref": "x",
                          "y": "<tag>Data Science",
                          "yref": "y"
                        },
                        {
                          "font": {
                            "color": "#FFFFFF"
                          },
                          "showarrow": false,
                          "text": "0.56",
                          "x": "claps",
                          "xref": "x",
                          "y": "<tag>Towards Data Science",
                          "yref": "y"
                        },
                        {
                          "font": {
                            "color": "#000000"
                          },
                          "showarrow": false,
                          "text": "-0.23",
                          "x": "days_since_publication",
                          "xref": "x",
                          "y": "<tag>Towards Data Science",
                          "yref": "y"
                        },
                        {
                          "font": {
                            "color": "#FFFFFF"
                          },
                          "showarrow": false,
                          "text": "0.57",
                          "x": "fans",
                          "xref": "x",
                          "y": "<tag>Towards Data Science",
                          "yref": "y"
                        },
                        {
                          "font": {
                            "color": "#FFFFFF"
                          },
                          "showarrow": false,
                          "text": "0.52",
                          "x": "num_responses",
                          "xref": "x",
                          "y": "<tag>Towards Data Science",
                          "yref": "y"
                        },
                        {
                          "font": {
                            "color": "#000000"
                          },
                          "showarrow": false,
                          "text": "-0.05",
                          "x": "read_ratio",
                          "xref": "x",
                          "y": "<tag>Towards Data Science",
                          "yref": "y"
                        },
                        {
                          "font": {
                            "color": "#000000"
                          },
                          "showarrow": false,
                          "text": "-0.22",
                          "x": "read_time",
                          "xref": "x",
                          "y": "<tag>Towards Data Science",
                          "yref": "y"
                        },
                        {
                          "font": {
                            "color": "#FFFFFF"
                          },
                          "showarrow": false,
                          "text": "0.36",
                          "x": "reads",
                          "xref": "x",
                          "y": "<tag>Towards Data Science",
                          "yref": "y"
                        },
                        {
                          "font": {
                            "color": "#FFFFFF"
                          },
                          "showarrow": false,
                          "text": "0.32",
                          "x": "title_word_count",
                          "xref": "x",
                          "y": "<tag>Towards Data Science",
                          "yref": "y"
                        },
                        {
                          "font": {
                            "color": "#FFFFFF"
                          },
                          "showarrow": false,
                          "text": "0.34",
                          "x": "views",
                          "xref": "x",
                          "y": "<tag>Towards Data Science",
                          "yref": "y"
                        },
                        {
                          "font": {
                            "color": "#000000"
                          },
                          "showarrow": false,
                          "text": "-0.21",
                          "x": "word_count",
                          "xref": "x",
                          "y": "<tag>Towards Data Science",
                          "yref": "y"
                        },
                        {
                          "font": {
                            "color": "#FFFFFF"
                          },
                          "showarrow": false,
                          "text": "0.38",
                          "x": "claps_per_word",
                          "xref": "x",
                          "y": "<tag>Towards Data Science",
                          "yref": "y"
                        },
                        {
                          "font": {
                            "color": "#000000"
                          },
                          "showarrow": false,
                          "text": "-0.19",
                          "x": "editing_days",
                          "xref": "x",
                          "y": "<tag>Towards Data Science",
                          "yref": "y"
                        },
                        {
                          "font": {
                            "color": "#FFFFFF"
                          },
                          "showarrow": false,
                          "text": "0.37",
                          "x": "<tag>Education",
                          "xref": "x",
                          "y": "<tag>Towards Data Science",
                          "yref": "y"
                        },
                        {
                          "font": {
                            "color": "#FFFFFF"
                          },
                          "showarrow": false,
                          "text": "0.36",
                          "x": "<tag>Data Science",
                          "xref": "x",
                          "y": "<tag>Towards Data Science",
                          "yref": "y"
                        },
                        {
                          "font": {
                            "color": "#FFFFFF"
                          },
                          "showarrow": false,
                          "text": "1.0",
                          "x": "<tag>Towards Data Science",
                          "xref": "x",
                          "y": "<tag>Towards Data Science",
                          "yref": "y"
                        },
                        {
                          "font": {
                            "color": "#FFFFFF"
                          },
                          "showarrow": false,
                          "text": "0.15",
                          "x": "<tag>Machine Learning",
                          "xref": "x",
                          "y": "<tag>Towards Data Science",
                          "yref": "y"
                        },
                        {
                          "font": {
                            "color": "#FFFFFF"
                          },
                          "showarrow": false,
                          "text": "0.25",
                          "x": "<tag>Python",
                          "xref": "x",
                          "y": "<tag>Towards Data Science",
                          "yref": "y"
                        },
                        {
                          "font": {
                            "color": "#FFFFFF"
                          },
                          "showarrow": false,
                          "text": "0.15",
                          "x": "claps",
                          "xref": "x",
                          "y": "<tag>Machine Learning",
                          "yref": "y"
                        },
                        {
                          "font": {
                            "color": "#000000"
                          },
                          "showarrow": false,
                          "text": "-0.05",
                          "x": "days_since_publication",
                          "xref": "x",
                          "y": "<tag>Machine Learning",
                          "yref": "y"
                        },
                        {
                          "font": {
                            "color": "#FFFFFF"
                          },
                          "showarrow": false,
                          "text": "0.17",
                          "x": "fans",
                          "xref": "x",
                          "y": "<tag>Machine Learning",
                          "yref": "y"
                        },
                        {
                          "font": {
                            "color": "#000000"
                          },
                          "showarrow": false,
                          "text": "0.08",
                          "x": "num_responses",
                          "xref": "x",
                          "y": "<tag>Machine Learning",
                          "yref": "y"
                        },
                        {
                          "font": {
                            "color": "#000000"
                          },
                          "showarrow": false,
                          "text": "-0.28",
                          "x": "read_ratio",
                          "xref": "x",
                          "y": "<tag>Machine Learning",
                          "yref": "y"
                        },
                        {
                          "font": {
                            "color": "#FFFFFF"
                          },
                          "showarrow": false,
                          "text": "0.21",
                          "x": "read_time",
                          "xref": "x",
                          "y": "<tag>Machine Learning",
                          "yref": "y"
                        },
                        {
                          "font": {
                            "color": "#FFFFFF"
                          },
                          "showarrow": false,
                          "text": "0.2",
                          "x": "reads",
                          "xref": "x",
                          "y": "<tag>Machine Learning",
                          "yref": "y"
                        },
                        {
                          "font": {
                            "color": "#FFFFFF"
                          },
                          "showarrow": false,
                          "text": "0.24",
                          "x": "title_word_count",
                          "xref": "x",
                          "y": "<tag>Machine Learning",
                          "yref": "y"
                        },
                        {
                          "font": {
                            "color": "#FFFFFF"
                          },
                          "showarrow": false,
                          "text": "0.28",
                          "x": "views",
                          "xref": "x",
                          "y": "<tag>Machine Learning",
                          "yref": "y"
                        },
                        {
                          "font": {
                            "color": "#FFFFFF"
                          },
                          "showarrow": false,
                          "text": "0.19",
                          "x": "word_count",
                          "xref": "x",
                          "y": "<tag>Machine Learning",
                          "yref": "y"
                        },
                        {
                          "font": {
                            "color": "#000000"
                          },
                          "showarrow": false,
                          "text": "-0.03",
                          "x": "claps_per_word",
                          "xref": "x",
                          "y": "<tag>Machine Learning",
                          "yref": "y"
                        },
                        {
                          "font": {
                            "color": "#FFFFFF"
                          },
                          "showarrow": false,
                          "text": "0.26",
                          "x": "editing_days",
                          "xref": "x",
                          "y": "<tag>Machine Learning",
                          "yref": "y"
                        },
                        {
                          "font": {
                            "color": "#000000"
                          },
                          "showarrow": false,
                          "text": "0.1",
                          "x": "<tag>Education",
                          "xref": "x",
                          "y": "<tag>Machine Learning",
                          "yref": "y"
                        },
                        {
                          "font": {
                            "color": "#FFFFFF"
                          },
                          "showarrow": false,
                          "text": "0.31",
                          "x": "<tag>Data Science",
                          "xref": "x",
                          "y": "<tag>Machine Learning",
                          "yref": "y"
                        },
                        {
                          "font": {
                            "color": "#FFFFFF"
                          },
                          "showarrow": false,
                          "text": "0.15",
                          "x": "<tag>Towards Data Science",
                          "xref": "x",
                          "y": "<tag>Machine Learning",
                          "yref": "y"
                        },
                        {
                          "font": {
                            "color": "#FFFFFF"
                          },
                          "showarrow": false,
                          "text": "1.0",
                          "x": "<tag>Machine Learning",
                          "xref": "x",
                          "y": "<tag>Machine Learning",
                          "yref": "y"
                        },
                        {
                          "font": {
                            "color": "#FFFFFF"
                          },
                          "showarrow": false,
                          "text": "0.26",
                          "x": "<tag>Python",
                          "xref": "x",
                          "y": "<tag>Machine Learning",
                          "yref": "y"
                        },
                        {
                          "font": {
                            "color": "#FFFFFF"
                          },
                          "showarrow": false,
                          "text": "0.31",
                          "x": "claps",
                          "xref": "x",
                          "y": "<tag>Python",
                          "yref": "y"
                        },
                        {
                          "font": {
                            "color": "#FFFFFF"
                          },
                          "showarrow": false,
                          "text": "0.13",
                          "x": "days_since_publication",
                          "xref": "x",
                          "y": "<tag>Python",
                          "yref": "y"
                        },
                        {
                          "font": {
                            "color": "#FFFFFF"
                          },
                          "showarrow": false,
                          "text": "0.32",
                          "x": "fans",
                          "xref": "x",
                          "y": "<tag>Python",
                          "yref": "y"
                        },
                        {
                          "font": {
                            "color": "#FFFFFF"
                          },
                          "showarrow": false,
                          "text": "0.31",
                          "x": "num_responses",
                          "xref": "x",
                          "y": "<tag>Python",
                          "yref": "y"
                        },
                        {
                          "font": {
                            "color": "#000000"
                          },
                          "showarrow": false,
                          "text": "-0.18",
                          "x": "read_ratio",
                          "xref": "x",
                          "y": "<tag>Python",
                          "yref": "y"
                        },
                        {
                          "font": {
                            "color": "#000000"
                          },
                          "showarrow": false,
                          "text": "0.09",
                          "x": "read_time",
                          "xref": "x",
                          "y": "<tag>Python",
                          "yref": "y"
                        },
                        {
                          "font": {
                            "color": "#FFFFFF"
                          },
                          "showarrow": false,
                          "text": "0.42",
                          "x": "reads",
                          "xref": "x",
                          "y": "<tag>Python",
                          "yref": "y"
                        },
                        {
                          "font": {
                            "color": "#FFFFFF"
                          },
                          "showarrow": false,
                          "text": "0.26",
                          "x": "title_word_count",
                          "xref": "x",
                          "y": "<tag>Python",
                          "yref": "y"
                        },
                        {
                          "font": {
                            "color": "#FFFFFF"
                          },
                          "showarrow": false,
                          "text": "0.45",
                          "x": "views",
                          "xref": "x",
                          "y": "<tag>Python",
                          "yref": "y"
                        },
                        {
                          "font": {
                            "color": "#000000"
                          },
                          "showarrow": false,
                          "text": "0.02",
                          "x": "word_count",
                          "xref": "x",
                          "y": "<tag>Python",
                          "yref": "y"
                        },
                        {
                          "font": {
                            "color": "#FFFFFF"
                          },
                          "showarrow": false,
                          "text": "0.24",
                          "x": "claps_per_word",
                          "xref": "x",
                          "y": "<tag>Python",
                          "yref": "y"
                        },
                        {
                          "font": {
                            "color": "#000000"
                          },
                          "showarrow": false,
                          "text": "-0.16",
                          "x": "editing_days",
                          "xref": "x",
                          "y": "<tag>Python",
                          "yref": "y"
                        },
                        {
                          "font": {
                            "color": "#000000"
                          },
                          "showarrow": false,
                          "text": "-0.1",
                          "x": "<tag>Education",
                          "xref": "x",
                          "y": "<tag>Python",
                          "yref": "y"
                        },
                        {
                          "font": {
                            "color": "#000000"
                          },
                          "showarrow": false,
                          "text": "0.08",
                          "x": "<tag>Data Science",
                          "xref": "x",
                          "y": "<tag>Python",
                          "yref": "y"
                        },
                        {
                          "font": {
                            "color": "#FFFFFF"
                          },
                          "showarrow": false,
                          "text": "0.25",
                          "x": "<tag>Towards Data Science",
                          "xref": "x",
                          "y": "<tag>Python",
                          "yref": "y"
                        },
                        {
                          "font": {
                            "color": "#FFFFFF"
                          },
                          "showarrow": false,
                          "text": "0.26",
                          "x": "<tag>Machine Learning",
                          "xref": "x",
                          "y": "<tag>Python",
                          "yref": "y"
                        },
                        {
                          "font": {
                            "color": "#FFFFFF"
                          },
                          "showarrow": false,
                          "text": "1.0",
                          "x": "<tag>Python",
                          "xref": "x",
                          "y": "<tag>Python",
                          "yref": "y"
                        }
                      ],
                      "template": {
                        "data": {
                          "barpolar": [
                            {
                              "marker": {
                                "line": {
                                  "color": "#E5ECF6",
                                  "width": 0.5
                                },
                                "pattern": {
                                  "fillmode": "overlay",
                                  "size": 10,
                                  "solidity": 0.2
                                }
                              },
                              "type": "barpolar"
                            }
                          ],
                          "bar": [
                            {
                              "error_x": {
                                "color": "#2a3f5f"
                              },
                              "error_y": {
                                "color": "#2a3f5f"
                              },
                              "marker": {
                                "line": {
                                  "color": "#E5ECF6",
                                  "width": 0.5
                                },
                                "pattern": {
                                  "fillmode": "overlay",
                                  "size": 10,
                                  "solidity": 0.2
                                }
                              },
                              "type": "bar"
                            }
                          ],
                          "carpet": [
                            {
                              "aaxis": {
                                "endlinecolor": "#2a3f5f",
                                "gridcolor": "white",
                                "linecolor": "white",
                                "minorgridcolor": "white",
                                "startlinecolor": "#2a3f5f"
                              },
                              "baxis": {
                                "endlinecolor": "#2a3f5f",
                                "gridcolor": "white",
                                "linecolor": "white",
                                "minorgridcolor": "white",
                                "startlinecolor": "#2a3f5f"
                              },
                              "type": "carpet"
                            }
                          ],
                          "choropleth": [
                            {
                              "colorbar": {
                                "outlinewidth": 0,
                                "ticks": ""
                              },
                              "type": "choropleth"
                            }
                          ],
                          "contourcarpet": [
                            {
                              "colorbar": {
                                "outlinewidth": 0,
                                "ticks": ""
                              },
                              "type": "contourcarpet"
                            }
                          ],
                          "contour": [
                            {
                              "colorbar": {
                                "outlinewidth": 0,
                                "ticks": ""
                              },
                              "colorscale": [
                                [
                                  0,
                                  "#0d0887"
                                ],
                                [
                                  0.1111111111111111,
                                  "#46039f"
                                ],
                                [
                                  0.2222222222222222,
                                  "#7201a8"
                                ],
                                [
                                  0.3333333333333333,
                                  "#9c179e"
                                ],
                                [
                                  0.4444444444444444,
                                  "#bd3786"
                                ],
                                [
                                  0.5555555555555556,
                                  "#d8576b"
                                ],
                                [
                                  0.6666666666666666,
                                  "#ed7953"
                                ],
                                [
                                  0.7777777777777778,
                                  "#fb9f3a"
                                ],
                                [
                                  0.8888888888888888,
                                  "#fdca26"
                                ],
                                [
                                  1,
                                  "#f0f921"
                                ]
                              ],
                              "type": "contour"
                            }
                          ],
                          "heatmapgl": [
                            {
                              "colorbar": {
                                "outlinewidth": 0,
                                "ticks": ""
                              },
                              "colorscale": [
                                [
                                  0,
                                  "#0d0887"
                                ],
                                [
                                  0.1111111111111111,
                                  "#46039f"
                                ],
                                [
                                  0.2222222222222222,
                                  "#7201a8"
                                ],
                                [
                                  0.3333333333333333,
                                  "#9c179e"
                                ],
                                [
                                  0.4444444444444444,
                                  "#bd3786"
                                ],
                                [
                                  0.5555555555555556,
                                  "#d8576b"
                                ],
                                [
                                  0.6666666666666666,
                                  "#ed7953"
                                ],
                                [
                                  0.7777777777777778,
                                  "#fb9f3a"
                                ],
                                [
                                  0.8888888888888888,
                                  "#fdca26"
                                ],
                                [
                                  1,
                                  "#f0f921"
                                ]
                              ],
                              "type": "heatmapgl"
                            }
                          ],
                          "heatmap": [
                            {
                              "colorbar": {
                                "outlinewidth": 0,
                                "ticks": ""
                              },
                              "colorscale": [
                                [
                                  0,
                                  "#0d0887"
                                ],
                                [
                                  0.1111111111111111,
                                  "#46039f"
                                ],
                                [
                                  0.2222222222222222,
                                  "#7201a8"
                                ],
                                [
                                  0.3333333333333333,
                                  "#9c179e"
                                ],
                                [
                                  0.4444444444444444,
                                  "#bd3786"
                                ],
                                [
                                  0.5555555555555556,
                                  "#d8576b"
                                ],
                                [
                                  0.6666666666666666,
                                  "#ed7953"
                                ],
                                [
                                  0.7777777777777778,
                                  "#fb9f3a"
                                ],
                                [
                                  0.8888888888888888,
                                  "#fdca26"
                                ],
                                [
                                  1,
                                  "#f0f921"
                                ]
                              ],
                              "type": "heatmap"
                            }
                          ],
                          "histogram2dcontour": [
                            {
                              "colorbar": {
                                "outlinewidth": 0,
                                "ticks": ""
                              },
                              "colorscale": [
                                [
                                  0,
                                  "#0d0887"
                                ],
                                [
                                  0.1111111111111111,
                                  "#46039f"
                                ],
                                [
                                  0.2222222222222222,
                                  "#7201a8"
                                ],
                                [
                                  0.3333333333333333,
                                  "#9c179e"
                                ],
                                [
                                  0.4444444444444444,
                                  "#bd3786"
                                ],
                                [
                                  0.5555555555555556,
                                  "#d8576b"
                                ],
                                [
                                  0.6666666666666666,
                                  "#ed7953"
                                ],
                                [
                                  0.7777777777777778,
                                  "#fb9f3a"
                                ],
                                [
                                  0.8888888888888888,
                                  "#fdca26"
                                ],
                                [
                                  1,
                                  "#f0f921"
                                ]
                              ],
                              "type": "histogram2dcontour"
                            }
                          ],
                          "histogram2d": [
                            {
                              "colorbar": {
                                "outlinewidth": 0,
                                "ticks": ""
                              },
                              "colorscale": [
                                [
                                  0,
                                  "#0d0887"
                                ],
                                [
                                  0.1111111111111111,
                                  "#46039f"
                                ],
                                [
                                  0.2222222222222222,
                                  "#7201a8"
                                ],
                                [
                                  0.3333333333333333,
                                  "#9c179e"
                                ],
                                [
                                  0.4444444444444444,
                                  "#bd3786"
                                ],
                                [
                                  0.5555555555555556,
                                  "#d8576b"
                                ],
                                [
                                  0.6666666666666666,
                                  "#ed7953"
                                ],
                                [
                                  0.7777777777777778,
                                  "#fb9f3a"
                                ],
                                [
                                  0.8888888888888888,
                                  "#fdca26"
                                ],
                                [
                                  1,
                                  "#f0f921"
                                ]
                              ],
                              "type": "histogram2d"
                            }
                          ],
                          "histogram": [
                            {
                              "marker": {
                                "pattern": {
                                  "fillmode": "overlay",
                                  "size": 10,
                                  "solidity": 0.2
                                }
                              },
                              "type": "histogram"
                            }
                          ],
                          "mesh3d": [
                            {
                              "colorbar": {
                                "outlinewidth": 0,
                                "ticks": ""
                              },
                              "type": "mesh3d"
                            }
                          ],
                          "parcoords": [
                            {
                              "line": {
                                "colorbar": {
                                  "outlinewidth": 0,
                                  "ticks": ""
                                }
                              },
                              "type": "parcoords"
                            }
                          ],
                          "pie": [
                            {
                              "automargin": true,
                              "type": "pie"
                            }
                          ],
                          "scatter3d": [
                            {
                              "line": {
                                "colorbar": {
                                  "outlinewidth": 0,
                                  "ticks": ""
                                }
                              },
                              "marker": {
                                "colorbar": {
                                  "outlinewidth": 0,
                                  "ticks": ""
                                }
                              },
                              "type": "scatter3d"
                            }
                          ],
                          "scattercarpet": [
                            {
                              "marker": {
                                "colorbar": {
                                  "outlinewidth": 0,
                                  "ticks": ""
                                }
                              },
                              "type": "scattercarpet"
                            }
                          ],
                          "scattergeo": [
                            {
                              "marker": {
                                "colorbar": {
                                  "outlinewidth": 0,
                                  "ticks": ""
                                }
                              },
                              "type": "scattergeo"
                            }
                          ],
                          "scattergl": [
                            {
                              "marker": {
                                "colorbar": {
                                  "outlinewidth": 0,
                                  "ticks": ""
                                }
                              },
                              "type": "scattergl"
                            }
                          ],
                          "scattermapbox": [
                            {
                              "marker": {
                                "colorbar": {
                                  "outlinewidth": 0,
                                  "ticks": ""
                                }
                              },
                              "type": "scattermapbox"
                            }
                          ],
                          "scatterpolargl": [
                            {
                              "marker": {
                                "colorbar": {
                                  "outlinewidth": 0,
                                  "ticks": ""
                                }
                              },
                              "type": "scatterpolargl"
                            }
                          ],
                          "scatterpolar": [
                            {
                              "marker": {
                                "colorbar": {
                                  "outlinewidth": 0,
                                  "ticks": ""
                                }
                              },
                              "type": "scatterpolar"
                            }
                          ],
                          "scatter": [
                            {
                              "fillpattern": {
                                "fillmode": "overlay",
                                "size": 10,
                                "solidity": 0.2
                              },
                              "type": "scatter"
                            }
                          ],
                          "scatterternary": [
                            {
                              "marker": {
                                "colorbar": {
                                  "outlinewidth": 0,
                                  "ticks": ""
                                }
                              },
                              "type": "scatterternary"
                            }
                          ],
                          "surface": [
                            {
                              "colorbar": {
                                "outlinewidth": 0,
                                "ticks": ""
                              },
                              "colorscale": [
                                [
                                  0,
                                  "#0d0887"
                                ],
                                [
                                  0.1111111111111111,
                                  "#46039f"
                                ],
                                [
                                  0.2222222222222222,
                                  "#7201a8"
                                ],
                                [
                                  0.3333333333333333,
                                  "#9c179e"
                                ],
                                [
                                  0.4444444444444444,
                                  "#bd3786"
                                ],
                                [
                                  0.5555555555555556,
                                  "#d8576b"
                                ],
                                [
                                  0.6666666666666666,
                                  "#ed7953"
                                ],
                                [
                                  0.7777777777777778,
                                  "#fb9f3a"
                                ],
                                [
                                  0.8888888888888888,
                                  "#fdca26"
                                ],
                                [
                                  1,
                                  "#f0f921"
                                ]
                              ],
                              "type": "surface"
                            }
                          ],
                          "table": [
                            {
                              "cells": {
                                "fill": {
                                  "color": "#EBF0F8"
                                },
                                "line": {
                                  "color": "white"
                                }
                              },
                              "header": {
                                "fill": {
                                  "color": "#C8D4E3"
                                },
                                "line": {
                                  "color": "white"
                                }
                              },
                              "type": "table"
                            }
                          ]
                        },
                        "layout": {
                          "annotationdefaults": {
                            "arrowcolor": "#2a3f5f",
                            "arrowhead": 0,
                            "arrowwidth": 1
                          },
                          "autotypenumbers": "strict",
                          "coloraxis": {
                            "colorbar": {
                              "outlinewidth": 0,
                              "ticks": ""
                            }
                          },
                          "colorscale": {
                            "diverging": [
                              [
                                0,
                                "#8e0152"
                              ],
                              [
                                0.1,
                                "#c51b7d"
                              ],
                              [
                                0.2,
                                "#de77ae"
                              ],
                              [
                                0.3,
                                "#f1b6da"
                              ],
                              [
                                0.4,
                                "#fde0ef"
                              ],
                              [
                                0.5,
                                "#f7f7f7"
                              ],
                              [
                                0.6,
                                "#e6f5d0"
                              ],
                              [
                                0.7,
                                "#b8e186"
                              ],
                              [
                                0.8,
                                "#7fbc41"
                              ],
                              [
                                0.9,
                                "#4d9221"
                              ],
                              [
                                1,
                                "#276419"
                              ]
                            ],
                            "sequential": [
                              [
                                0,
                                "#0d0887"
                              ],
                              [
                                0.1111111111111111,
                                "#46039f"
                              ],
                              [
                                0.2222222222222222,
                                "#7201a8"
                              ],
                              [
                                0.3333333333333333,
                                "#9c179e"
                              ],
                              [
                                0.4444444444444444,
                                "#bd3786"
                              ],
                              [
                                0.5555555555555556,
                                "#d8576b"
                              ],
                              [
                                0.6666666666666666,
                                "#ed7953"
                              ],
                              [
                                0.7777777777777778,
                                "#fb9f3a"
                              ],
                              [
                                0.8888888888888888,
                                "#fdca26"
                              ],
                              [
                                1,
                                "#f0f921"
                              ]
                            ],
                            "sequentialminus": [
                              [
                                0,
                                "#0d0887"
                              ],
                              [
                                0.1111111111111111,
                                "#46039f"
                              ],
                              [
                                0.2222222222222222,
                                "#7201a8"
                              ],
                              [
                                0.3333333333333333,
                                "#9c179e"
                              ],
                              [
                                0.4444444444444444,
                                "#bd3786"
                              ],
                              [
                                0.5555555555555556,
                                "#d8576b"
                              ],
                              [
                                0.6666666666666666,
                                "#ed7953"
                              ],
                              [
                                0.7777777777777778,
                                "#fb9f3a"
                              ],
                              [
                                0.8888888888888888,
                                "#fdca26"
                              ],
                              [
                                1,
                                "#f0f921"
                              ]
                            ]
                          },
                          "colorway": [
                            "#636efa",
                            "#EF553B",
                            "#00cc96",
                            "#ab63fa",
                            "#FFA15A",
                            "#19d3f3",
                            "#FF6692",
                            "#B6E880",
                            "#FF97FF",
                            "#FECB52"
                          ],
                          "font": {
                            "color": "#2a3f5f"
                          },
                          "geo": {
                            "bgcolor": "white",
                            "lakecolor": "white",
                            "landcolor": "#E5ECF6",
                            "showlakes": true,
                            "showland": true,
                            "subunitcolor": "white"
                          },
                          "hoverlabel": {
                            "align": "left"
                          },
                          "hovermode": "closest",
                          "mapbox": {
                            "style": "light"
                          },
                          "paper_bgcolor": "white",
                          "plot_bgcolor": "#E5ECF6",
                          "polar": {
                            "angularaxis": {
                              "gridcolor": "white",
                              "linecolor": "white",
                              "ticks": ""
                            },
                            "bgcolor": "#E5ECF6",
                            "radialaxis": {
                              "gridcolor": "white",
                              "linecolor": "white",
                              "ticks": ""
                            }
                          },
                          "scene": {
                            "xaxis": {
                              "backgroundcolor": "#E5ECF6",
                              "gridcolor": "white",
                              "gridwidth": 2,
                              "linecolor": "white",
                              "showbackground": true,
                              "ticks": "",
                              "zerolinecolor": "white"
                            },
                            "yaxis": {
                              "backgroundcolor": "#E5ECF6",
                              "gridcolor": "white",
                              "gridwidth": 2,
                              "linecolor": "white",
                              "showbackground": true,
                              "ticks": "",
                              "zerolinecolor": "white"
                            },
                            "zaxis": {
                              "backgroundcolor": "#E5ECF6",
                              "gridcolor": "white",
                              "gridwidth": 2,
                              "linecolor": "white",
                              "showbackground": true,
                              "ticks": "",
                              "zerolinecolor": "white"
                            }
                          },
                          "shapedefaults": {
                            "line": {
                              "color": "#2a3f5f"
                            }
                          },
                          "ternary": {
                            "aaxis": {
                              "gridcolor": "white",
                              "linecolor": "white",
                              "ticks": ""
                            },
                            "baxis": {
                              "gridcolor": "white",
                              "linecolor": "white",
                              "ticks": ""
                            },
                            "bgcolor": "#E5ECF6",
                            "caxis": {
                              "gridcolor": "white",
                              "linecolor": "white",
                              "ticks": ""
                            }
                          },
                          "title": {
                            "x": 0.05
                          },
                          "xaxis": {
                            "automargin": true,
                            "gridcolor": "white",
                            "linecolor": "white",
                            "ticks": "",
                            "title": {
                              "standoff": 15
                            },
                            "zerolinecolor": "white",
                            "zerolinewidth": 2
                          },
                          "yaxis": {
                            "automargin": true,
                            "gridcolor": "white",
                            "linecolor": "white",
                            "ticks": "",
                            "title": {
                              "standoff": 15
                            },
                            "zerolinecolor": "white",
                            "zerolinewidth": 2
                          }
                        }
                      },
                      "xaxis": {
                        "dtick": 1,
                        "gridcolor": "rgb(0, 0, 0)",
                        "side": "top",
                        "ticks": ""
                      },
                      "yaxis": {
                        "dtick": 1,
                        "ticks": "",
                        "ticksuffix": "  "
                      }
                    },
                    "config": {
                      "showLink": false,
                      "linkText": "Export to plot.ly",
                      "plotlyServerURL": "https://plot.ly"
                    }
                  },
                  "text/html": "<div>                            <div id=\"9b4b99d9-b278-46cf-97cb-7c5665a825a7\" class=\"plotly-graph-div\" style=\"height:525px; width:100%;\"></div>            <script type=\"text/javascript\">                require([\"plotly\"], function(Plotly) {                    window.PLOTLYENV=window.PLOTLYENV || {};                                    if (document.getElementById(\"9b4b99d9-b278-46cf-97cb-7c5665a825a7\")) {                    Plotly.newPlot(                        \"9b4b99d9-b278-46cf-97cb-7c5665a825a7\",                        [{\"colorscale\":[[0.0,\"rgb(255,255,255)\"],[0.125,\"rgb(240,240,240)\"],[0.25,\"rgb(217,217,217)\"],[0.375,\"rgb(189,189,189)\"],[0.5,\"rgb(150,150,150)\"],[0.625,\"rgb(115,115,115)\"],[0.75,\"rgb(82,82,82)\"],[0.875,\"rgb(37,37,37)\"],[1.0,\"rgb(0,0,0)\"]],\"reversescale\":false,\"showscale\":false,\"x\":[\"claps\",\"days_since_publication\",\"fans\",\"num_responses\",\"read_ratio\",\"read_time\",\"reads\",\"title_word_count\",\"views\",\"word_count\",\"claps_per_word\",\"editing_days\",\"\\u003ctag\\u003eEducation\",\"\\u003ctag\\u003eData Science\",\"\\u003ctag\\u003eTowards Data Science\",\"\\u003ctag\\u003eMachine Learning\",\"\\u003ctag\\u003ePython\"],\"y\":[\"claps\",\"days_since_publication\",\"fans\",\"num_responses\",\"read_ratio\",\"read_time\",\"reads\",\"title_word_count\",\"views\",\"word_count\",\"claps_per_word\",\"editing_days\",\"\\u003ctag\\u003eEducation\",\"\\u003ctag\\u003eData Science\",\"\\u003ctag\\u003eTowards Data Science\",\"\\u003ctag\\u003eMachine Learning\",\"\\u003ctag\\u003ePython\"],\"z\":[[1.0,-0.03,0.99,0.9,0.01,-0.18,0.76,0.12,0.74,-0.18,0.78,-0.17,0.21,0.35,0.56,0.15,0.31],[-0.03,1.0,-0.03,0.01,0.11,0.14,0.14,-0.19,0.13,0.1,-0.02,-0.29,-0.76,-0.3,-0.23,-0.05,0.13],[0.99,-0.03,1.0,0.87,0.0,-0.18,0.78,0.14,0.76,-0.18,0.75,-0.17,0.21,0.36,0.57,0.17,0.32],[0.9,0.01,0.87,1.0,0.1,-0.2,0.76,0.08,0.71,-0.21,0.8,-0.19,0.15,0.32,0.52,0.08,0.31],[0.01,0.11,0.0,0.1,1.0,-0.61,0.05,0.05,-0.11,-0.56,0.29,-0.17,0.05,-0.02,-0.05,-0.28,-0.18],[-0.18,0.14,-0.18,-0.2,-0.61,1.0,-0.15,-0.15,-0.07,0.96,-0.25,0.45,-0.28,-0.08,-0.22,0.21,0.09],[0.76,0.14,0.78,0.76,0.05,-0.15,1.0,0.05,0.94,-0.17,0.56,-0.17,-0.06,0.34,0.36,0.2,0.42],[0.12,-0.19,0.14,0.08,0.05,-0.15,0.05,1.0,0.05,-0.15,0.11,-0.1,0.28,0.13,0.32,0.24,0.26],[0.74,0.13,0.76,0.71,-0.11,-0.07,0.94,0.05,1.0,-0.1,0.4,-0.16,-0.07,0.32,0.34,0.28,0.45],[-0.18,0.1,-0.18,-0.21,-0.56,0.96,-0.17,-0.15,-0.1,1.0,-0.25,0.46,-0.23,-0.09,-0.21,0.19,0.02],[0.78,-0.02,0.75,0.8,0.29,-0.25,0.56,0.11,0.4,-0.25,1.0,-0.13,0.2,0.27,0.38,-0.03,0.24],[-0.17,-0.29,-0.17,-0.19,-0.17,0.45,-0.17,-0.1,-0.16,0.46,-0.13,1.0,0.16,0.14,-0.19,0.26,-0.16],[0.21,-0.76,0.21,0.15,0.05,-0.28,-0.06,0.28,-0.07,-0.23,0.2,0.16,1.0,0.31,0.37,0.1,-0.1],[0.35,-0.3,0.36,0.32,-0.02,-0.08,0.34,0.13,0.32,-0.09,0.27,0.14,0.31,1.0,0.36,0.31,0.08],[0.56,-0.23,0.57,0.52,-0.05,-0.22,0.36,0.32,0.34,-0.21,0.38,-0.19,0.37,0.36,1.0,0.15,0.25],[0.15,-0.05,0.17,0.08,-0.28,0.21,0.2,0.24,0.28,0.19,-0.03,0.26,0.1,0.31,0.15,1.0,0.26],[0.31,0.13,0.32,0.31,-0.18,0.09,0.42,0.26,0.45,0.02,0.24,-0.16,-0.1,0.08,0.25,0.26,1.0]],\"type\":\"heatmap\"}],                        {\"annotations\":[{\"font\":{\"color\":\"#FFFFFF\"},\"showarrow\":false,\"text\":\"1.0\",\"x\":\"claps\",\"xref\":\"x\",\"y\":\"claps\",\"yref\":\"y\"},{\"font\":{\"color\":\"#000000\"},\"showarrow\":false,\"text\":\"-0.03\",\"x\":\"days_since_publication\",\"xref\":\"x\",\"y\":\"claps\",\"yref\":\"y\"},{\"font\":{\"color\":\"#FFFFFF\"},\"showarrow\":false,\"text\":\"0.99\",\"x\":\"fans\",\"xref\":\"x\",\"y\":\"claps\",\"yref\":\"y\"},{\"font\":{\"color\":\"#FFFFFF\"},\"showarrow\":false,\"text\":\"0.9\",\"x\":\"num_responses\",\"xref\":\"x\",\"y\":\"claps\",\"yref\":\"y\"},{\"font\":{\"color\":\"#000000\"},\"showarrow\":false,\"text\":\"0.01\",\"x\":\"read_ratio\",\"xref\":\"x\",\"y\":\"claps\",\"yref\":\"y\"},{\"font\":{\"color\":\"#000000\"},\"showarrow\":false,\"text\":\"-0.18\",\"x\":\"read_time\",\"xref\":\"x\",\"y\":\"claps\",\"yref\":\"y\"},{\"font\":{\"color\":\"#FFFFFF\"},\"showarrow\":false,\"text\":\"0.76\",\"x\":\"reads\",\"xref\":\"x\",\"y\":\"claps\",\"yref\":\"y\"},{\"font\":{\"color\":\"#FFFFFF\"},\"showarrow\":false,\"text\":\"0.12\",\"x\":\"title_word_count\",\"xref\":\"x\",\"y\":\"claps\",\"yref\":\"y\"},{\"font\":{\"color\":\"#FFFFFF\"},\"showarrow\":false,\"text\":\"0.74\",\"x\":\"views\",\"xref\":\"x\",\"y\":\"claps\",\"yref\":\"y\"},{\"font\":{\"color\":\"#000000\"},\"showarrow\":false,\"text\":\"-0.18\",\"x\":\"word_count\",\"xref\":\"x\",\"y\":\"claps\",\"yref\":\"y\"},{\"font\":{\"color\":\"#FFFFFF\"},\"showarrow\":false,\"text\":\"0.78\",\"x\":\"claps_per_word\",\"xref\":\"x\",\"y\":\"claps\",\"yref\":\"y\"},{\"font\":{\"color\":\"#000000\"},\"showarrow\":false,\"text\":\"-0.17\",\"x\":\"editing_days\",\"xref\":\"x\",\"y\":\"claps\",\"yref\":\"y\"},{\"font\":{\"color\":\"#FFFFFF\"},\"showarrow\":false,\"text\":\"0.21\",\"x\":\"\\u003ctag\\u003eEducation\",\"xref\":\"x\",\"y\":\"claps\",\"yref\":\"y\"},{\"font\":{\"color\":\"#FFFFFF\"},\"showarrow\":false,\"text\":\"0.35\",\"x\":\"\\u003ctag\\u003eData Science\",\"xref\":\"x\",\"y\":\"claps\",\"yref\":\"y\"},{\"font\":{\"color\":\"#FFFFFF\"},\"showarrow\":false,\"text\":\"0.56\",\"x\":\"\\u003ctag\\u003eTowards Data Science\",\"xref\":\"x\",\"y\":\"claps\",\"yref\":\"y\"},{\"font\":{\"color\":\"#FFFFFF\"},\"showarrow\":false,\"text\":\"0.15\",\"x\":\"\\u003ctag\\u003eMachine Learning\",\"xref\":\"x\",\"y\":\"claps\",\"yref\":\"y\"},{\"font\":{\"color\":\"#FFFFFF\"},\"showarrow\":false,\"text\":\"0.31\",\"x\":\"\\u003ctag\\u003ePython\",\"xref\":\"x\",\"y\":\"claps\",\"yref\":\"y\"},{\"font\":{\"color\":\"#000000\"},\"showarrow\":false,\"text\":\"-0.03\",\"x\":\"claps\",\"xref\":\"x\",\"y\":\"days_since_publication\",\"yref\":\"y\"},{\"font\":{\"color\":\"#FFFFFF\"},\"showarrow\":false,\"text\":\"1.0\",\"x\":\"days_since_publication\",\"xref\":\"x\",\"y\":\"days_since_publication\",\"yref\":\"y\"},{\"font\":{\"color\":\"#000000\"},\"showarrow\":false,\"text\":\"-0.03\",\"x\":\"fans\",\"xref\":\"x\",\"y\":\"days_since_publication\",\"yref\":\"y\"},{\"font\":{\"color\":\"#000000\"},\"showarrow\":false,\"text\":\"0.01\",\"x\":\"num_responses\",\"xref\":\"x\",\"y\":\"days_since_publication\",\"yref\":\"y\"},{\"font\":{\"color\":\"#000000\"},\"showarrow\":false,\"text\":\"0.11\",\"x\":\"read_ratio\",\"xref\":\"x\",\"y\":\"days_since_publication\",\"yref\":\"y\"},{\"font\":{\"color\":\"#FFFFFF\"},\"showarrow\":false,\"text\":\"0.14\",\"x\":\"read_time\",\"xref\":\"x\",\"y\":\"days_since_publication\",\"yref\":\"y\"},{\"font\":{\"color\":\"#FFFFFF\"},\"showarrow\":false,\"text\":\"0.14\",\"x\":\"reads\",\"xref\":\"x\",\"y\":\"days_since_publication\",\"yref\":\"y\"},{\"font\":{\"color\":\"#000000\"},\"showarrow\":false,\"text\":\"-0.19\",\"x\":\"title_word_count\",\"xref\":\"x\",\"y\":\"days_since_publication\",\"yref\":\"y\"},{\"font\":{\"color\":\"#FFFFFF\"},\"showarrow\":false,\"text\":\"0.13\",\"x\":\"views\",\"xref\":\"x\",\"y\":\"days_since_publication\",\"yref\":\"y\"},{\"font\":{\"color\":\"#000000\"},\"showarrow\":false,\"text\":\"0.1\",\"x\":\"word_count\",\"xref\":\"x\",\"y\":\"days_since_publication\",\"yref\":\"y\"},{\"font\":{\"color\":\"#000000\"},\"showarrow\":false,\"text\":\"-0.02\",\"x\":\"claps_per_word\",\"xref\":\"x\",\"y\":\"days_since_publication\",\"yref\":\"y\"},{\"font\":{\"color\":\"#000000\"},\"showarrow\":false,\"text\":\"-0.29\",\"x\":\"editing_days\",\"xref\":\"x\",\"y\":\"days_since_publication\",\"yref\":\"y\"},{\"font\":{\"color\":\"#000000\"},\"showarrow\":false,\"text\":\"-0.76\",\"x\":\"\\u003ctag\\u003eEducation\",\"xref\":\"x\",\"y\":\"days_since_publication\",\"yref\":\"y\"},{\"font\":{\"color\":\"#000000\"},\"showarrow\":false,\"text\":\"-0.3\",\"x\":\"\\u003ctag\\u003eData Science\",\"xref\":\"x\",\"y\":\"days_since_publication\",\"yref\":\"y\"},{\"font\":{\"color\":\"#000000\"},\"showarrow\":false,\"text\":\"-0.23\",\"x\":\"\\u003ctag\\u003eTowards Data Science\",\"xref\":\"x\",\"y\":\"days_since_publication\",\"yref\":\"y\"},{\"font\":{\"color\":\"#000000\"},\"showarrow\":false,\"text\":\"-0.05\",\"x\":\"\\u003ctag\\u003eMachine Learning\",\"xref\":\"x\",\"y\":\"days_since_publication\",\"yref\":\"y\"},{\"font\":{\"color\":\"#FFFFFF\"},\"showarrow\":false,\"text\":\"0.13\",\"x\":\"\\u003ctag\\u003ePython\",\"xref\":\"x\",\"y\":\"days_since_publication\",\"yref\":\"y\"},{\"font\":{\"color\":\"#FFFFFF\"},\"showarrow\":false,\"text\":\"0.99\",\"x\":\"claps\",\"xref\":\"x\",\"y\":\"fans\",\"yref\":\"y\"},{\"font\":{\"color\":\"#000000\"},\"showarrow\":false,\"text\":\"-0.03\",\"x\":\"days_since_publication\",\"xref\":\"x\",\"y\":\"fans\",\"yref\":\"y\"},{\"font\":{\"color\":\"#FFFFFF\"},\"showarrow\":false,\"text\":\"1.0\",\"x\":\"fans\",\"xref\":\"x\",\"y\":\"fans\",\"yref\":\"y\"},{\"font\":{\"color\":\"#FFFFFF\"},\"showarrow\":false,\"text\":\"0.87\",\"x\":\"num_responses\",\"xref\":\"x\",\"y\":\"fans\",\"yref\":\"y\"},{\"font\":{\"color\":\"#000000\"},\"showarrow\":false,\"text\":\"0.0\",\"x\":\"read_ratio\",\"xref\":\"x\",\"y\":\"fans\",\"yref\":\"y\"},{\"font\":{\"color\":\"#000000\"},\"showarrow\":false,\"text\":\"-0.18\",\"x\":\"read_time\",\"xref\":\"x\",\"y\":\"fans\",\"yref\":\"y\"},{\"font\":{\"color\":\"#FFFFFF\"},\"showarrow\":false,\"text\":\"0.78\",\"x\":\"reads\",\"xref\":\"x\",\"y\":\"fans\",\"yref\":\"y\"},{\"font\":{\"color\":\"#FFFFFF\"},\"showarrow\":false,\"text\":\"0.14\",\"x\":\"title_word_count\",\"xref\":\"x\",\"y\":\"fans\",\"yref\":\"y\"},{\"font\":{\"color\":\"#FFFFFF\"},\"showarrow\":false,\"text\":\"0.76\",\"x\":\"views\",\"xref\":\"x\",\"y\":\"fans\",\"yref\":\"y\"},{\"font\":{\"color\":\"#000000\"},\"showarrow\":false,\"text\":\"-0.18\",\"x\":\"word_count\",\"xref\":\"x\",\"y\":\"fans\",\"yref\":\"y\"},{\"font\":{\"color\":\"#FFFFFF\"},\"showarrow\":false,\"text\":\"0.75\",\"x\":\"claps_per_word\",\"xref\":\"x\",\"y\":\"fans\",\"yref\":\"y\"},{\"font\":{\"color\":\"#000000\"},\"showarrow\":false,\"text\":\"-0.17\",\"x\":\"editing_days\",\"xref\":\"x\",\"y\":\"fans\",\"yref\":\"y\"},{\"font\":{\"color\":\"#FFFFFF\"},\"showarrow\":false,\"text\":\"0.21\",\"x\":\"\\u003ctag\\u003eEducation\",\"xref\":\"x\",\"y\":\"fans\",\"yref\":\"y\"},{\"font\":{\"color\":\"#FFFFFF\"},\"showarrow\":false,\"text\":\"0.36\",\"x\":\"\\u003ctag\\u003eData Science\",\"xref\":\"x\",\"y\":\"fans\",\"yref\":\"y\"},{\"font\":{\"color\":\"#FFFFFF\"},\"showarrow\":false,\"text\":\"0.57\",\"x\":\"\\u003ctag\\u003eTowards Data Science\",\"xref\":\"x\",\"y\":\"fans\",\"yref\":\"y\"},{\"font\":{\"color\":\"#FFFFFF\"},\"showarrow\":false,\"text\":\"0.17\",\"x\":\"\\u003ctag\\u003eMachine Learning\",\"xref\":\"x\",\"y\":\"fans\",\"yref\":\"y\"},{\"font\":{\"color\":\"#FFFFFF\"},\"showarrow\":false,\"text\":\"0.32\",\"x\":\"\\u003ctag\\u003ePython\",\"xref\":\"x\",\"y\":\"fans\",\"yref\":\"y\"},{\"font\":{\"color\":\"#FFFFFF\"},\"showarrow\":false,\"text\":\"0.9\",\"x\":\"claps\",\"xref\":\"x\",\"y\":\"num_responses\",\"yref\":\"y\"},{\"font\":{\"color\":\"#000000\"},\"showarrow\":false,\"text\":\"0.01\",\"x\":\"days_since_publication\",\"xref\":\"x\",\"y\":\"num_responses\",\"yref\":\"y\"},{\"font\":{\"color\":\"#FFFFFF\"},\"showarrow\":false,\"text\":\"0.87\",\"x\":\"fans\",\"xref\":\"x\",\"y\":\"num_responses\",\"yref\":\"y\"},{\"font\":{\"color\":\"#FFFFFF\"},\"showarrow\":false,\"text\":\"1.0\",\"x\":\"num_responses\",\"xref\":\"x\",\"y\":\"num_responses\",\"yref\":\"y\"},{\"font\":{\"color\":\"#000000\"},\"showarrow\":false,\"text\":\"0.1\",\"x\":\"read_ratio\",\"xref\":\"x\",\"y\":\"num_responses\",\"yref\":\"y\"},{\"font\":{\"color\":\"#000000\"},\"showarrow\":false,\"text\":\"-0.2\",\"x\":\"read_time\",\"xref\":\"x\",\"y\":\"num_responses\",\"yref\":\"y\"},{\"font\":{\"color\":\"#FFFFFF\"},\"showarrow\":false,\"text\":\"0.76\",\"x\":\"reads\",\"xref\":\"x\",\"y\":\"num_responses\",\"yref\":\"y\"},{\"font\":{\"color\":\"#000000\"},\"showarrow\":false,\"text\":\"0.08\",\"x\":\"title_word_count\",\"xref\":\"x\",\"y\":\"num_responses\",\"yref\":\"y\"},{\"font\":{\"color\":\"#FFFFFF\"},\"showarrow\":false,\"text\":\"0.71\",\"x\":\"views\",\"xref\":\"x\",\"y\":\"num_responses\",\"yref\":\"y\"},{\"font\":{\"color\":\"#000000\"},\"showarrow\":false,\"text\":\"-0.21\",\"x\":\"word_count\",\"xref\":\"x\",\"y\":\"num_responses\",\"yref\":\"y\"},{\"font\":{\"color\":\"#FFFFFF\"},\"showarrow\":false,\"text\":\"0.8\",\"x\":\"claps_per_word\",\"xref\":\"x\",\"y\":\"num_responses\",\"yref\":\"y\"},{\"font\":{\"color\":\"#000000\"},\"showarrow\":false,\"text\":\"-0.19\",\"x\":\"editing_days\",\"xref\":\"x\",\"y\":\"num_responses\",\"yref\":\"y\"},{\"font\":{\"color\":\"#FFFFFF\"},\"showarrow\":false,\"text\":\"0.15\",\"x\":\"\\u003ctag\\u003eEducation\",\"xref\":\"x\",\"y\":\"num_responses\",\"yref\":\"y\"},{\"font\":{\"color\":\"#FFFFFF\"},\"showarrow\":false,\"text\":\"0.32\",\"x\":\"\\u003ctag\\u003eData Science\",\"xref\":\"x\",\"y\":\"num_responses\",\"yref\":\"y\"},{\"font\":{\"color\":\"#FFFFFF\"},\"showarrow\":false,\"text\":\"0.52\",\"x\":\"\\u003ctag\\u003eTowards Data Science\",\"xref\":\"x\",\"y\":\"num_responses\",\"yref\":\"y\"},{\"font\":{\"color\":\"#000000\"},\"showarrow\":false,\"text\":\"0.08\",\"x\":\"\\u003ctag\\u003eMachine Learning\",\"xref\":\"x\",\"y\":\"num_responses\",\"yref\":\"y\"},{\"font\":{\"color\":\"#FFFFFF\"},\"showarrow\":false,\"text\":\"0.31\",\"x\":\"\\u003ctag\\u003ePython\",\"xref\":\"x\",\"y\":\"num_responses\",\"yref\":\"y\"},{\"font\":{\"color\":\"#000000\"},\"showarrow\":false,\"text\":\"0.01\",\"x\":\"claps\",\"xref\":\"x\",\"y\":\"read_ratio\",\"yref\":\"y\"},{\"font\":{\"color\":\"#000000\"},\"showarrow\":false,\"text\":\"0.11\",\"x\":\"days_since_publication\",\"xref\":\"x\",\"y\":\"read_ratio\",\"yref\":\"y\"},{\"font\":{\"color\":\"#000000\"},\"showarrow\":false,\"text\":\"0.0\",\"x\":\"fans\",\"xref\":\"x\",\"y\":\"read_ratio\",\"yref\":\"y\"},{\"font\":{\"color\":\"#000000\"},\"showarrow\":false,\"text\":\"0.1\",\"x\":\"num_responses\",\"xref\":\"x\",\"y\":\"read_ratio\",\"yref\":\"y\"},{\"font\":{\"color\":\"#FFFFFF\"},\"showarrow\":false,\"text\":\"1.0\",\"x\":\"read_ratio\",\"xref\":\"x\",\"y\":\"read_ratio\",\"yref\":\"y\"},{\"font\":{\"color\":\"#000000\"},\"showarrow\":false,\"text\":\"-0.61\",\"x\":\"read_time\",\"xref\":\"x\",\"y\":\"read_ratio\",\"yref\":\"y\"},{\"font\":{\"color\":\"#000000\"},\"showarrow\":false,\"text\":\"0.05\",\"x\":\"reads\",\"xref\":\"x\",\"y\":\"read_ratio\",\"yref\":\"y\"},{\"font\":{\"color\":\"#000000\"},\"showarrow\":false,\"text\":\"0.05\",\"x\":\"title_word_count\",\"xref\":\"x\",\"y\":\"read_ratio\",\"yref\":\"y\"},{\"font\":{\"color\":\"#000000\"},\"showarrow\":false,\"text\":\"-0.11\",\"x\":\"views\",\"xref\":\"x\",\"y\":\"read_ratio\",\"yref\":\"y\"},{\"font\":{\"color\":\"#000000\"},\"showarrow\":false,\"text\":\"-0.56\",\"x\":\"word_count\",\"xref\":\"x\",\"y\":\"read_ratio\",\"yref\":\"y\"},{\"font\":{\"color\":\"#FFFFFF\"},\"showarrow\":false,\"text\":\"0.29\",\"x\":\"claps_per_word\",\"xref\":\"x\",\"y\":\"read_ratio\",\"yref\":\"y\"},{\"font\":{\"color\":\"#000000\"},\"showarrow\":false,\"text\":\"-0.17\",\"x\":\"editing_days\",\"xref\":\"x\",\"y\":\"read_ratio\",\"yref\":\"y\"},{\"font\":{\"color\":\"#000000\"},\"showarrow\":false,\"text\":\"0.05\",\"x\":\"\\u003ctag\\u003eEducation\",\"xref\":\"x\",\"y\":\"read_ratio\",\"yref\":\"y\"},{\"font\":{\"color\":\"#000000\"},\"showarrow\":false,\"text\":\"-0.02\",\"x\":\"\\u003ctag\\u003eData Science\",\"xref\":\"x\",\"y\":\"read_ratio\",\"yref\":\"y\"},{\"font\":{\"color\":\"#000000\"},\"showarrow\":false,\"text\":\"-0.05\",\"x\":\"\\u003ctag\\u003eTowards Data Science\",\"xref\":\"x\",\"y\":\"read_ratio\",\"yref\":\"y\"},{\"font\":{\"color\":\"#000000\"},\"showarrow\":false,\"text\":\"-0.28\",\"x\":\"\\u003ctag\\u003eMachine Learning\",\"xref\":\"x\",\"y\":\"read_ratio\",\"yref\":\"y\"},{\"font\":{\"color\":\"#000000\"},\"showarrow\":false,\"text\":\"-0.18\",\"x\":\"\\u003ctag\\u003ePython\",\"xref\":\"x\",\"y\":\"read_ratio\",\"yref\":\"y\"},{\"font\":{\"color\":\"#000000\"},\"showarrow\":false,\"text\":\"-0.18\",\"x\":\"claps\",\"xref\":\"x\",\"y\":\"read_time\",\"yref\":\"y\"},{\"font\":{\"color\":\"#FFFFFF\"},\"showarrow\":false,\"text\":\"0.14\",\"x\":\"days_since_publication\",\"xref\":\"x\",\"y\":\"read_time\",\"yref\":\"y\"},{\"font\":{\"color\":\"#000000\"},\"showarrow\":false,\"text\":\"-0.18\",\"x\":\"fans\",\"xref\":\"x\",\"y\":\"read_time\",\"yref\":\"y\"},{\"font\":{\"color\":\"#000000\"},\"showarrow\":false,\"text\":\"-0.2\",\"x\":\"num_responses\",\"xref\":\"x\",\"y\":\"read_time\",\"yref\":\"y\"},{\"font\":{\"color\":\"#000000\"},\"showarrow\":false,\"text\":\"-0.61\",\"x\":\"read_ratio\",\"xref\":\"x\",\"y\":\"read_time\",\"yref\":\"y\"},{\"font\":{\"color\":\"#FFFFFF\"},\"showarrow\":false,\"text\":\"1.0\",\"x\":\"read_time\",\"xref\":\"x\",\"y\":\"read_time\",\"yref\":\"y\"},{\"font\":{\"color\":\"#000000\"},\"showarrow\":false,\"text\":\"-0.15\",\"x\":\"reads\",\"xref\":\"x\",\"y\":\"read_time\",\"yref\":\"y\"},{\"font\":{\"color\":\"#000000\"},\"showarrow\":false,\"text\":\"-0.15\",\"x\":\"title_word_count\",\"xref\":\"x\",\"y\":\"read_time\",\"yref\":\"y\"},{\"font\":{\"color\":\"#000000\"},\"showarrow\":false,\"text\":\"-0.07\",\"x\":\"views\",\"xref\":\"x\",\"y\":\"read_time\",\"yref\":\"y\"},{\"font\":{\"color\":\"#FFFFFF\"},\"showarrow\":false,\"text\":\"0.96\",\"x\":\"word_count\",\"xref\":\"x\",\"y\":\"read_time\",\"yref\":\"y\"},{\"font\":{\"color\":\"#000000\"},\"showarrow\":false,\"text\":\"-0.25\",\"x\":\"claps_per_word\",\"xref\":\"x\",\"y\":\"read_time\",\"yref\":\"y\"},{\"font\":{\"color\":\"#FFFFFF\"},\"showarrow\":false,\"text\":\"0.45\",\"x\":\"editing_days\",\"xref\":\"x\",\"y\":\"read_time\",\"yref\":\"y\"},{\"font\":{\"color\":\"#000000\"},\"showarrow\":false,\"text\":\"-0.28\",\"x\":\"\\u003ctag\\u003eEducation\",\"xref\":\"x\",\"y\":\"read_time\",\"yref\":\"y\"},{\"font\":{\"color\":\"#000000\"},\"showarrow\":false,\"text\":\"-0.08\",\"x\":\"\\u003ctag\\u003eData Science\",\"xref\":\"x\",\"y\":\"read_time\",\"yref\":\"y\"},{\"font\":{\"color\":\"#000000\"},\"showarrow\":false,\"text\":\"-0.22\",\"x\":\"\\u003ctag\\u003eTowards Data Science\",\"xref\":\"x\",\"y\":\"read_time\",\"yref\":\"y\"},{\"font\":{\"color\":\"#FFFFFF\"},\"showarrow\":false,\"text\":\"0.21\",\"x\":\"\\u003ctag\\u003eMachine Learning\",\"xref\":\"x\",\"y\":\"read_time\",\"yref\":\"y\"},{\"font\":{\"color\":\"#000000\"},\"showarrow\":false,\"text\":\"0.09\",\"x\":\"\\u003ctag\\u003ePython\",\"xref\":\"x\",\"y\":\"read_time\",\"yref\":\"y\"},{\"font\":{\"color\":\"#FFFFFF\"},\"showarrow\":false,\"text\":\"0.76\",\"x\":\"claps\",\"xref\":\"x\",\"y\":\"reads\",\"yref\":\"y\"},{\"font\":{\"color\":\"#FFFFFF\"},\"showarrow\":false,\"text\":\"0.14\",\"x\":\"days_since_publication\",\"xref\":\"x\",\"y\":\"reads\",\"yref\":\"y\"},{\"font\":{\"color\":\"#FFFFFF\"},\"showarrow\":false,\"text\":\"0.78\",\"x\":\"fans\",\"xref\":\"x\",\"y\":\"reads\",\"yref\":\"y\"},{\"font\":{\"color\":\"#FFFFFF\"},\"showarrow\":false,\"text\":\"0.76\",\"x\":\"num_responses\",\"xref\":\"x\",\"y\":\"reads\",\"yref\":\"y\"},{\"font\":{\"color\":\"#000000\"},\"showarrow\":false,\"text\":\"0.05\",\"x\":\"read_ratio\",\"xref\":\"x\",\"y\":\"reads\",\"yref\":\"y\"},{\"font\":{\"color\":\"#000000\"},\"showarrow\":false,\"text\":\"-0.15\",\"x\":\"read_time\",\"xref\":\"x\",\"y\":\"reads\",\"yref\":\"y\"},{\"font\":{\"color\":\"#FFFFFF\"},\"showarrow\":false,\"text\":\"1.0\",\"x\":\"reads\",\"xref\":\"x\",\"y\":\"reads\",\"yref\":\"y\"},{\"font\":{\"color\":\"#000000\"},\"showarrow\":false,\"text\":\"0.05\",\"x\":\"title_word_count\",\"xref\":\"x\",\"y\":\"reads\",\"yref\":\"y\"},{\"font\":{\"color\":\"#FFFFFF\"},\"showarrow\":false,\"text\":\"0.94\",\"x\":\"views\",\"xref\":\"x\",\"y\":\"reads\",\"yref\":\"y\"},{\"font\":{\"color\":\"#000000\"},\"showarrow\":false,\"text\":\"-0.17\",\"x\":\"word_count\",\"xref\":\"x\",\"y\":\"reads\",\"yref\":\"y\"},{\"font\":{\"color\":\"#FFFFFF\"},\"showarrow\":false,\"text\":\"0.56\",\"x\":\"claps_per_word\",\"xref\":\"x\",\"y\":\"reads\",\"yref\":\"y\"},{\"font\":{\"color\":\"#000000\"},\"showarrow\":false,\"text\":\"-0.17\",\"x\":\"editing_days\",\"xref\":\"x\",\"y\":\"reads\",\"yref\":\"y\"},{\"font\":{\"color\":\"#000000\"},\"showarrow\":false,\"text\":\"-0.06\",\"x\":\"\\u003ctag\\u003eEducation\",\"xref\":\"x\",\"y\":\"reads\",\"yref\":\"y\"},{\"font\":{\"color\":\"#FFFFFF\"},\"showarrow\":false,\"text\":\"0.34\",\"x\":\"\\u003ctag\\u003eData Science\",\"xref\":\"x\",\"y\":\"reads\",\"yref\":\"y\"},{\"font\":{\"color\":\"#FFFFFF\"},\"showarrow\":false,\"text\":\"0.36\",\"x\":\"\\u003ctag\\u003eTowards Data Science\",\"xref\":\"x\",\"y\":\"reads\",\"yref\":\"y\"},{\"font\":{\"color\":\"#FFFFFF\"},\"showarrow\":false,\"text\":\"0.2\",\"x\":\"\\u003ctag\\u003eMachine Learning\",\"xref\":\"x\",\"y\":\"reads\",\"yref\":\"y\"},{\"font\":{\"color\":\"#FFFFFF\"},\"showarrow\":false,\"text\":\"0.42\",\"x\":\"\\u003ctag\\u003ePython\",\"xref\":\"x\",\"y\":\"reads\",\"yref\":\"y\"},{\"font\":{\"color\":\"#FFFFFF\"},\"showarrow\":false,\"text\":\"0.12\",\"x\":\"claps\",\"xref\":\"x\",\"y\":\"title_word_count\",\"yref\":\"y\"},{\"font\":{\"color\":\"#000000\"},\"showarrow\":false,\"text\":\"-0.19\",\"x\":\"days_since_publication\",\"xref\":\"x\",\"y\":\"title_word_count\",\"yref\":\"y\"},{\"font\":{\"color\":\"#FFFFFF\"},\"showarrow\":false,\"text\":\"0.14\",\"x\":\"fans\",\"xref\":\"x\",\"y\":\"title_word_count\",\"yref\":\"y\"},{\"font\":{\"color\":\"#000000\"},\"showarrow\":false,\"text\":\"0.08\",\"x\":\"num_responses\",\"xref\":\"x\",\"y\":\"title_word_count\",\"yref\":\"y\"},{\"font\":{\"color\":\"#000000\"},\"showarrow\":false,\"text\":\"0.05\",\"x\":\"read_ratio\",\"xref\":\"x\",\"y\":\"title_word_count\",\"yref\":\"y\"},{\"font\":{\"color\":\"#000000\"},\"showarrow\":false,\"text\":\"-0.15\",\"x\":\"read_time\",\"xref\":\"x\",\"y\":\"title_word_count\",\"yref\":\"y\"},{\"font\":{\"color\":\"#000000\"},\"showarrow\":false,\"text\":\"0.05\",\"x\":\"reads\",\"xref\":\"x\",\"y\":\"title_word_count\",\"yref\":\"y\"},{\"font\":{\"color\":\"#FFFFFF\"},\"showarrow\":false,\"text\":\"1.0\",\"x\":\"title_word_count\",\"xref\":\"x\",\"y\":\"title_word_count\",\"yref\":\"y\"},{\"font\":{\"color\":\"#000000\"},\"showarrow\":false,\"text\":\"0.05\",\"x\":\"views\",\"xref\":\"x\",\"y\":\"title_word_count\",\"yref\":\"y\"},{\"font\":{\"color\":\"#000000\"},\"showarrow\":false,\"text\":\"-0.15\",\"x\":\"word_count\",\"xref\":\"x\",\"y\":\"title_word_count\",\"yref\":\"y\"},{\"font\":{\"color\":\"#000000\"},\"showarrow\":false,\"text\":\"0.11\",\"x\":\"claps_per_word\",\"xref\":\"x\",\"y\":\"title_word_count\",\"yref\":\"y\"},{\"font\":{\"color\":\"#000000\"},\"showarrow\":false,\"text\":\"-0.1\",\"x\":\"editing_days\",\"xref\":\"x\",\"y\":\"title_word_count\",\"yref\":\"y\"},{\"font\":{\"color\":\"#FFFFFF\"},\"showarrow\":false,\"text\":\"0.28\",\"x\":\"\\u003ctag\\u003eEducation\",\"xref\":\"x\",\"y\":\"title_word_count\",\"yref\":\"y\"},{\"font\":{\"color\":\"#FFFFFF\"},\"showarrow\":false,\"text\":\"0.13\",\"x\":\"\\u003ctag\\u003eData Science\",\"xref\":\"x\",\"y\":\"title_word_count\",\"yref\":\"y\"},{\"font\":{\"color\":\"#FFFFFF\"},\"showarrow\":false,\"text\":\"0.32\",\"x\":\"\\u003ctag\\u003eTowards Data Science\",\"xref\":\"x\",\"y\":\"title_word_count\",\"yref\":\"y\"},{\"font\":{\"color\":\"#FFFFFF\"},\"showarrow\":false,\"text\":\"0.24\",\"x\":\"\\u003ctag\\u003eMachine Learning\",\"xref\":\"x\",\"y\":\"title_word_count\",\"yref\":\"y\"},{\"font\":{\"color\":\"#FFFFFF\"},\"showarrow\":false,\"text\":\"0.26\",\"x\":\"\\u003ctag\\u003ePython\",\"xref\":\"x\",\"y\":\"title_word_count\",\"yref\":\"y\"},{\"font\":{\"color\":\"#FFFFFF\"},\"showarrow\":false,\"text\":\"0.74\",\"x\":\"claps\",\"xref\":\"x\",\"y\":\"views\",\"yref\":\"y\"},{\"font\":{\"color\":\"#FFFFFF\"},\"showarrow\":false,\"text\":\"0.13\",\"x\":\"days_since_publication\",\"xref\":\"x\",\"y\":\"views\",\"yref\":\"y\"},{\"font\":{\"color\":\"#FFFFFF\"},\"showarrow\":false,\"text\":\"0.76\",\"x\":\"fans\",\"xref\":\"x\",\"y\":\"views\",\"yref\":\"y\"},{\"font\":{\"color\":\"#FFFFFF\"},\"showarrow\":false,\"text\":\"0.71\",\"x\":\"num_responses\",\"xref\":\"x\",\"y\":\"views\",\"yref\":\"y\"},{\"font\":{\"color\":\"#000000\"},\"showarrow\":false,\"text\":\"-0.11\",\"x\":\"read_ratio\",\"xref\":\"x\",\"y\":\"views\",\"yref\":\"y\"},{\"font\":{\"color\":\"#000000\"},\"showarrow\":false,\"text\":\"-0.07\",\"x\":\"read_time\",\"xref\":\"x\",\"y\":\"views\",\"yref\":\"y\"},{\"font\":{\"color\":\"#FFFFFF\"},\"showarrow\":false,\"text\":\"0.94\",\"x\":\"reads\",\"xref\":\"x\",\"y\":\"views\",\"yref\":\"y\"},{\"font\":{\"color\":\"#000000\"},\"showarrow\":false,\"text\":\"0.05\",\"x\":\"title_word_count\",\"xref\":\"x\",\"y\":\"views\",\"yref\":\"y\"},{\"font\":{\"color\":\"#FFFFFF\"},\"showarrow\":false,\"text\":\"1.0\",\"x\":\"views\",\"xref\":\"x\",\"y\":\"views\",\"yref\":\"y\"},{\"font\":{\"color\":\"#000000\"},\"showarrow\":false,\"text\":\"-0.1\",\"x\":\"word_count\",\"xref\":\"x\",\"y\":\"views\",\"yref\":\"y\"},{\"font\":{\"color\":\"#FFFFFF\"},\"showarrow\":false,\"text\":\"0.4\",\"x\":\"claps_per_word\",\"xref\":\"x\",\"y\":\"views\",\"yref\":\"y\"},{\"font\":{\"color\":\"#000000\"},\"showarrow\":false,\"text\":\"-0.16\",\"x\":\"editing_days\",\"xref\":\"x\",\"y\":\"views\",\"yref\":\"y\"},{\"font\":{\"color\":\"#000000\"},\"showarrow\":false,\"text\":\"-0.07\",\"x\":\"\\u003ctag\\u003eEducation\",\"xref\":\"x\",\"y\":\"views\",\"yref\":\"y\"},{\"font\":{\"color\":\"#FFFFFF\"},\"showarrow\":false,\"text\":\"0.32\",\"x\":\"\\u003ctag\\u003eData Science\",\"xref\":\"x\",\"y\":\"views\",\"yref\":\"y\"},{\"font\":{\"color\":\"#FFFFFF\"},\"showarrow\":false,\"text\":\"0.34\",\"x\":\"\\u003ctag\\u003eTowards Data Science\",\"xref\":\"x\",\"y\":\"views\",\"yref\":\"y\"},{\"font\":{\"color\":\"#FFFFFF\"},\"showarrow\":false,\"text\":\"0.28\",\"x\":\"\\u003ctag\\u003eMachine Learning\",\"xref\":\"x\",\"y\":\"views\",\"yref\":\"y\"},{\"font\":{\"color\":\"#FFFFFF\"},\"showarrow\":false,\"text\":\"0.45\",\"x\":\"\\u003ctag\\u003ePython\",\"xref\":\"x\",\"y\":\"views\",\"yref\":\"y\"},{\"font\":{\"color\":\"#000000\"},\"showarrow\":false,\"text\":\"-0.18\",\"x\":\"claps\",\"xref\":\"x\",\"y\":\"word_count\",\"yref\":\"y\"},{\"font\":{\"color\":\"#000000\"},\"showarrow\":false,\"text\":\"0.1\",\"x\":\"days_since_publication\",\"xref\":\"x\",\"y\":\"word_count\",\"yref\":\"y\"},{\"font\":{\"color\":\"#000000\"},\"showarrow\":false,\"text\":\"-0.18\",\"x\":\"fans\",\"xref\":\"x\",\"y\":\"word_count\",\"yref\":\"y\"},{\"font\":{\"color\":\"#000000\"},\"showarrow\":false,\"text\":\"-0.21\",\"x\":\"num_responses\",\"xref\":\"x\",\"y\":\"word_count\",\"yref\":\"y\"},{\"font\":{\"color\":\"#000000\"},\"showarrow\":false,\"text\":\"-0.56\",\"x\":\"read_ratio\",\"xref\":\"x\",\"y\":\"word_count\",\"yref\":\"y\"},{\"font\":{\"color\":\"#FFFFFF\"},\"showarrow\":false,\"text\":\"0.96\",\"x\":\"read_time\",\"xref\":\"x\",\"y\":\"word_count\",\"yref\":\"y\"},{\"font\":{\"color\":\"#000000\"},\"showarrow\":false,\"text\":\"-0.17\",\"x\":\"reads\",\"xref\":\"x\",\"y\":\"word_count\",\"yref\":\"y\"},{\"font\":{\"color\":\"#000000\"},\"showarrow\":false,\"text\":\"-0.15\",\"x\":\"title_word_count\",\"xref\":\"x\",\"y\":\"word_count\",\"yref\":\"y\"},{\"font\":{\"color\":\"#000000\"},\"showarrow\":false,\"text\":\"-0.1\",\"x\":\"views\",\"xref\":\"x\",\"y\":\"word_count\",\"yref\":\"y\"},{\"font\":{\"color\":\"#FFFFFF\"},\"showarrow\":false,\"text\":\"1.0\",\"x\":\"word_count\",\"xref\":\"x\",\"y\":\"word_count\",\"yref\":\"y\"},{\"font\":{\"color\":\"#000000\"},\"showarrow\":false,\"text\":\"-0.25\",\"x\":\"claps_per_word\",\"xref\":\"x\",\"y\":\"word_count\",\"yref\":\"y\"},{\"font\":{\"color\":\"#FFFFFF\"},\"showarrow\":false,\"text\":\"0.46\",\"x\":\"editing_days\",\"xref\":\"x\",\"y\":\"word_count\",\"yref\":\"y\"},{\"font\":{\"color\":\"#000000\"},\"showarrow\":false,\"text\":\"-0.23\",\"x\":\"\\u003ctag\\u003eEducation\",\"xref\":\"x\",\"y\":\"word_count\",\"yref\":\"y\"},{\"font\":{\"color\":\"#000000\"},\"showarrow\":false,\"text\":\"-0.09\",\"x\":\"\\u003ctag\\u003eData Science\",\"xref\":\"x\",\"y\":\"word_count\",\"yref\":\"y\"},{\"font\":{\"color\":\"#000000\"},\"showarrow\":false,\"text\":\"-0.21\",\"x\":\"\\u003ctag\\u003eTowards Data Science\",\"xref\":\"x\",\"y\":\"word_count\",\"yref\":\"y\"},{\"font\":{\"color\":\"#FFFFFF\"},\"showarrow\":false,\"text\":\"0.19\",\"x\":\"\\u003ctag\\u003eMachine Learning\",\"xref\":\"x\",\"y\":\"word_count\",\"yref\":\"y\"},{\"font\":{\"color\":\"#000000\"},\"showarrow\":false,\"text\":\"0.02\",\"x\":\"\\u003ctag\\u003ePython\",\"xref\":\"x\",\"y\":\"word_count\",\"yref\":\"y\"},{\"font\":{\"color\":\"#FFFFFF\"},\"showarrow\":false,\"text\":\"0.78\",\"x\":\"claps\",\"xref\":\"x\",\"y\":\"claps_per_word\",\"yref\":\"y\"},{\"font\":{\"color\":\"#000000\"},\"showarrow\":false,\"text\":\"-0.02\",\"x\":\"days_since_publication\",\"xref\":\"x\",\"y\":\"claps_per_word\",\"yref\":\"y\"},{\"font\":{\"color\":\"#FFFFFF\"},\"showarrow\":false,\"text\":\"0.75\",\"x\":\"fans\",\"xref\":\"x\",\"y\":\"claps_per_word\",\"yref\":\"y\"},{\"font\":{\"color\":\"#FFFFFF\"},\"showarrow\":false,\"text\":\"0.8\",\"x\":\"num_responses\",\"xref\":\"x\",\"y\":\"claps_per_word\",\"yref\":\"y\"},{\"font\":{\"color\":\"#FFFFFF\"},\"showarrow\":false,\"text\":\"0.29\",\"x\":\"read_ratio\",\"xref\":\"x\",\"y\":\"claps_per_word\",\"yref\":\"y\"},{\"font\":{\"color\":\"#000000\"},\"showarrow\":false,\"text\":\"-0.25\",\"x\":\"read_time\",\"xref\":\"x\",\"y\":\"claps_per_word\",\"yref\":\"y\"},{\"font\":{\"color\":\"#FFFFFF\"},\"showarrow\":false,\"text\":\"0.56\",\"x\":\"reads\",\"xref\":\"x\",\"y\":\"claps_per_word\",\"yref\":\"y\"},{\"font\":{\"color\":\"#000000\"},\"showarrow\":false,\"text\":\"0.11\",\"x\":\"title_word_count\",\"xref\":\"x\",\"y\":\"claps_per_word\",\"yref\":\"y\"},{\"font\":{\"color\":\"#FFFFFF\"},\"showarrow\":false,\"text\":\"0.4\",\"x\":\"views\",\"xref\":\"x\",\"y\":\"claps_per_word\",\"yref\":\"y\"},{\"font\":{\"color\":\"#000000\"},\"showarrow\":false,\"text\":\"-0.25\",\"x\":\"word_count\",\"xref\":\"x\",\"y\":\"claps_per_word\",\"yref\":\"y\"},{\"font\":{\"color\":\"#FFFFFF\"},\"showarrow\":false,\"text\":\"1.0\",\"x\":\"claps_per_word\",\"xref\":\"x\",\"y\":\"claps_per_word\",\"yref\":\"y\"},{\"font\":{\"color\":\"#000000\"},\"showarrow\":false,\"text\":\"-0.13\",\"x\":\"editing_days\",\"xref\":\"x\",\"y\":\"claps_per_word\",\"yref\":\"y\"},{\"font\":{\"color\":\"#FFFFFF\"},\"showarrow\":false,\"text\":\"0.2\",\"x\":\"\\u003ctag\\u003eEducation\",\"xref\":\"x\",\"y\":\"claps_per_word\",\"yref\":\"y\"},{\"font\":{\"color\":\"#FFFFFF\"},\"showarrow\":false,\"text\":\"0.27\",\"x\":\"\\u003ctag\\u003eData Science\",\"xref\":\"x\",\"y\":\"claps_per_word\",\"yref\":\"y\"},{\"font\":{\"color\":\"#FFFFFF\"},\"showarrow\":false,\"text\":\"0.38\",\"x\":\"\\u003ctag\\u003eTowards Data Science\",\"xref\":\"x\",\"y\":\"claps_per_word\",\"yref\":\"y\"},{\"font\":{\"color\":\"#000000\"},\"showarrow\":false,\"text\":\"-0.03\",\"x\":\"\\u003ctag\\u003eMachine Learning\",\"xref\":\"x\",\"y\":\"claps_per_word\",\"yref\":\"y\"},{\"font\":{\"color\":\"#FFFFFF\"},\"showarrow\":false,\"text\":\"0.24\",\"x\":\"\\u003ctag\\u003ePython\",\"xref\":\"x\",\"y\":\"claps_per_word\",\"yref\":\"y\"},{\"font\":{\"color\":\"#000000\"},\"showarrow\":false,\"text\":\"-0.17\",\"x\":\"claps\",\"xref\":\"x\",\"y\":\"editing_days\",\"yref\":\"y\"},{\"font\":{\"color\":\"#000000\"},\"showarrow\":false,\"text\":\"-0.29\",\"x\":\"days_since_publication\",\"xref\":\"x\",\"y\":\"editing_days\",\"yref\":\"y\"},{\"font\":{\"color\":\"#000000\"},\"showarrow\":false,\"text\":\"-0.17\",\"x\":\"fans\",\"xref\":\"x\",\"y\":\"editing_days\",\"yref\":\"y\"},{\"font\":{\"color\":\"#000000\"},\"showarrow\":false,\"text\":\"-0.19\",\"x\":\"num_responses\",\"xref\":\"x\",\"y\":\"editing_days\",\"yref\":\"y\"},{\"font\":{\"color\":\"#000000\"},\"showarrow\":false,\"text\":\"-0.17\",\"x\":\"read_ratio\",\"xref\":\"x\",\"y\":\"editing_days\",\"yref\":\"y\"},{\"font\":{\"color\":\"#FFFFFF\"},\"showarrow\":false,\"text\":\"0.45\",\"x\":\"read_time\",\"xref\":\"x\",\"y\":\"editing_days\",\"yref\":\"y\"},{\"font\":{\"color\":\"#000000\"},\"showarrow\":false,\"text\":\"-0.17\",\"x\":\"reads\",\"xref\":\"x\",\"y\":\"editing_days\",\"yref\":\"y\"},{\"font\":{\"color\":\"#000000\"},\"showarrow\":false,\"text\":\"-0.1\",\"x\":\"title_word_count\",\"xref\":\"x\",\"y\":\"editing_days\",\"yref\":\"y\"},{\"font\":{\"color\":\"#000000\"},\"showarrow\":false,\"text\":\"-0.16\",\"x\":\"views\",\"xref\":\"x\",\"y\":\"editing_days\",\"yref\":\"y\"},{\"font\":{\"color\":\"#FFFFFF\"},\"showarrow\":false,\"text\":\"0.46\",\"x\":\"word_count\",\"xref\":\"x\",\"y\":\"editing_days\",\"yref\":\"y\"},{\"font\":{\"color\":\"#000000\"},\"showarrow\":false,\"text\":\"-0.13\",\"x\":\"claps_per_word\",\"xref\":\"x\",\"y\":\"editing_days\",\"yref\":\"y\"},{\"font\":{\"color\":\"#FFFFFF\"},\"showarrow\":false,\"text\":\"1.0\",\"x\":\"editing_days\",\"xref\":\"x\",\"y\":\"editing_days\",\"yref\":\"y\"},{\"font\":{\"color\":\"#FFFFFF\"},\"showarrow\":false,\"text\":\"0.16\",\"x\":\"\\u003ctag\\u003eEducation\",\"xref\":\"x\",\"y\":\"editing_days\",\"yref\":\"y\"},{\"font\":{\"color\":\"#FFFFFF\"},\"showarrow\":false,\"text\":\"0.14\",\"x\":\"\\u003ctag\\u003eData Science\",\"xref\":\"x\",\"y\":\"editing_days\",\"yref\":\"y\"},{\"font\":{\"color\":\"#000000\"},\"showarrow\":false,\"text\":\"-0.19\",\"x\":\"\\u003ctag\\u003eTowards Data Science\",\"xref\":\"x\",\"y\":\"editing_days\",\"yref\":\"y\"},{\"font\":{\"color\":\"#FFFFFF\"},\"showarrow\":false,\"text\":\"0.26\",\"x\":\"\\u003ctag\\u003eMachine Learning\",\"xref\":\"x\",\"y\":\"editing_days\",\"yref\":\"y\"},{\"font\":{\"color\":\"#000000\"},\"showarrow\":false,\"text\":\"-0.16\",\"x\":\"\\u003ctag\\u003ePython\",\"xref\":\"x\",\"y\":\"editing_days\",\"yref\":\"y\"},{\"font\":{\"color\":\"#FFFFFF\"},\"showarrow\":false,\"text\":\"0.21\",\"x\":\"claps\",\"xref\":\"x\",\"y\":\"\\u003ctag\\u003eEducation\",\"yref\":\"y\"},{\"font\":{\"color\":\"#000000\"},\"showarrow\":false,\"text\":\"-0.76\",\"x\":\"days_since_publication\",\"xref\":\"x\",\"y\":\"\\u003ctag\\u003eEducation\",\"yref\":\"y\"},{\"font\":{\"color\":\"#FFFFFF\"},\"showarrow\":false,\"text\":\"0.21\",\"x\":\"fans\",\"xref\":\"x\",\"y\":\"\\u003ctag\\u003eEducation\",\"yref\":\"y\"},{\"font\":{\"color\":\"#FFFFFF\"},\"showarrow\":false,\"text\":\"0.15\",\"x\":\"num_responses\",\"xref\":\"x\",\"y\":\"\\u003ctag\\u003eEducation\",\"yref\":\"y\"},{\"font\":{\"color\":\"#000000\"},\"showarrow\":false,\"text\":\"0.05\",\"x\":\"read_ratio\",\"xref\":\"x\",\"y\":\"\\u003ctag\\u003eEducation\",\"yref\":\"y\"},{\"font\":{\"color\":\"#000000\"},\"showarrow\":false,\"text\":\"-0.28\",\"x\":\"read_time\",\"xref\":\"x\",\"y\":\"\\u003ctag\\u003eEducation\",\"yref\":\"y\"},{\"font\":{\"color\":\"#000000\"},\"showarrow\":false,\"text\":\"-0.06\",\"x\":\"reads\",\"xref\":\"x\",\"y\":\"\\u003ctag\\u003eEducation\",\"yref\":\"y\"},{\"font\":{\"color\":\"#FFFFFF\"},\"showarrow\":false,\"text\":\"0.28\",\"x\":\"title_word_count\",\"xref\":\"x\",\"y\":\"\\u003ctag\\u003eEducation\",\"yref\":\"y\"},{\"font\":{\"color\":\"#000000\"},\"showarrow\":false,\"text\":\"-0.07\",\"x\":\"views\",\"xref\":\"x\",\"y\":\"\\u003ctag\\u003eEducation\",\"yref\":\"y\"},{\"font\":{\"color\":\"#000000\"},\"showarrow\":false,\"text\":\"-0.23\",\"x\":\"word_count\",\"xref\":\"x\",\"y\":\"\\u003ctag\\u003eEducation\",\"yref\":\"y\"},{\"font\":{\"color\":\"#FFFFFF\"},\"showarrow\":false,\"text\":\"0.2\",\"x\":\"claps_per_word\",\"xref\":\"x\",\"y\":\"\\u003ctag\\u003eEducation\",\"yref\":\"y\"},{\"font\":{\"color\":\"#FFFFFF\"},\"showarrow\":false,\"text\":\"0.16\",\"x\":\"editing_days\",\"xref\":\"x\",\"y\":\"\\u003ctag\\u003eEducation\",\"yref\":\"y\"},{\"font\":{\"color\":\"#FFFFFF\"},\"showarrow\":false,\"text\":\"1.0\",\"x\":\"\\u003ctag\\u003eEducation\",\"xref\":\"x\",\"y\":\"\\u003ctag\\u003eEducation\",\"yref\":\"y\"},{\"font\":{\"color\":\"#FFFFFF\"},\"showarrow\":false,\"text\":\"0.31\",\"x\":\"\\u003ctag\\u003eData Science\",\"xref\":\"x\",\"y\":\"\\u003ctag\\u003eEducation\",\"yref\":\"y\"},{\"font\":{\"color\":\"#FFFFFF\"},\"showarrow\":false,\"text\":\"0.37\",\"x\":\"\\u003ctag\\u003eTowards Data Science\",\"xref\":\"x\",\"y\":\"\\u003ctag\\u003eEducation\",\"yref\":\"y\"},{\"font\":{\"color\":\"#000000\"},\"showarrow\":false,\"text\":\"0.1\",\"x\":\"\\u003ctag\\u003eMachine Learning\",\"xref\":\"x\",\"y\":\"\\u003ctag\\u003eEducation\",\"yref\":\"y\"},{\"font\":{\"color\":\"#000000\"},\"showarrow\":false,\"text\":\"-0.1\",\"x\":\"\\u003ctag\\u003ePython\",\"xref\":\"x\",\"y\":\"\\u003ctag\\u003eEducation\",\"yref\":\"y\"},{\"font\":{\"color\":\"#FFFFFF\"},\"showarrow\":false,\"text\":\"0.35\",\"x\":\"claps\",\"xref\":\"x\",\"y\":\"\\u003ctag\\u003eData Science\",\"yref\":\"y\"},{\"font\":{\"color\":\"#000000\"},\"showarrow\":false,\"text\":\"-0.3\",\"x\":\"days_since_publication\",\"xref\":\"x\",\"y\":\"\\u003ctag\\u003eData Science\",\"yref\":\"y\"},{\"font\":{\"color\":\"#FFFFFF\"},\"showarrow\":false,\"text\":\"0.36\",\"x\":\"fans\",\"xref\":\"x\",\"y\":\"\\u003ctag\\u003eData Science\",\"yref\":\"y\"},{\"font\":{\"color\":\"#FFFFFF\"},\"showarrow\":false,\"text\":\"0.32\",\"x\":\"num_responses\",\"xref\":\"x\",\"y\":\"\\u003ctag\\u003eData Science\",\"yref\":\"y\"},{\"font\":{\"color\":\"#000000\"},\"showarrow\":false,\"text\":\"-0.02\",\"x\":\"read_ratio\",\"xref\":\"x\",\"y\":\"\\u003ctag\\u003eData Science\",\"yref\":\"y\"},{\"font\":{\"color\":\"#000000\"},\"showarrow\":false,\"text\":\"-0.08\",\"x\":\"read_time\",\"xref\":\"x\",\"y\":\"\\u003ctag\\u003eData Science\",\"yref\":\"y\"},{\"font\":{\"color\":\"#FFFFFF\"},\"showarrow\":false,\"text\":\"0.34\",\"x\":\"reads\",\"xref\":\"x\",\"y\":\"\\u003ctag\\u003eData Science\",\"yref\":\"y\"},{\"font\":{\"color\":\"#FFFFFF\"},\"showarrow\":false,\"text\":\"0.13\",\"x\":\"title_word_count\",\"xref\":\"x\",\"y\":\"\\u003ctag\\u003eData Science\",\"yref\":\"y\"},{\"font\":{\"color\":\"#FFFFFF\"},\"showarrow\":false,\"text\":\"0.32\",\"x\":\"views\",\"xref\":\"x\",\"y\":\"\\u003ctag\\u003eData Science\",\"yref\":\"y\"},{\"font\":{\"color\":\"#000000\"},\"showarrow\":false,\"text\":\"-0.09\",\"x\":\"word_count\",\"xref\":\"x\",\"y\":\"\\u003ctag\\u003eData Science\",\"yref\":\"y\"},{\"font\":{\"color\":\"#FFFFFF\"},\"showarrow\":false,\"text\":\"0.27\",\"x\":\"claps_per_word\",\"xref\":\"x\",\"y\":\"\\u003ctag\\u003eData Science\",\"yref\":\"y\"},{\"font\":{\"color\":\"#FFFFFF\"},\"showarrow\":false,\"text\":\"0.14\",\"x\":\"editing_days\",\"xref\":\"x\",\"y\":\"\\u003ctag\\u003eData Science\",\"yref\":\"y\"},{\"font\":{\"color\":\"#FFFFFF\"},\"showarrow\":false,\"text\":\"0.31\",\"x\":\"\\u003ctag\\u003eEducation\",\"xref\":\"x\",\"y\":\"\\u003ctag\\u003eData Science\",\"yref\":\"y\"},{\"font\":{\"color\":\"#FFFFFF\"},\"showarrow\":false,\"text\":\"1.0\",\"x\":\"\\u003ctag\\u003eData Science\",\"xref\":\"x\",\"y\":\"\\u003ctag\\u003eData Science\",\"yref\":\"y\"},{\"font\":{\"color\":\"#FFFFFF\"},\"showarrow\":false,\"text\":\"0.36\",\"x\":\"\\u003ctag\\u003eTowards Data Science\",\"xref\":\"x\",\"y\":\"\\u003ctag\\u003eData Science\",\"yref\":\"y\"},{\"font\":{\"color\":\"#FFFFFF\"},\"showarrow\":false,\"text\":\"0.31\",\"x\":\"\\u003ctag\\u003eMachine Learning\",\"xref\":\"x\",\"y\":\"\\u003ctag\\u003eData Science\",\"yref\":\"y\"},{\"font\":{\"color\":\"#000000\"},\"showarrow\":false,\"text\":\"0.08\",\"x\":\"\\u003ctag\\u003ePython\",\"xref\":\"x\",\"y\":\"\\u003ctag\\u003eData Science\",\"yref\":\"y\"},{\"font\":{\"color\":\"#FFFFFF\"},\"showarrow\":false,\"text\":\"0.56\",\"x\":\"claps\",\"xref\":\"x\",\"y\":\"\\u003ctag\\u003eTowards Data Science\",\"yref\":\"y\"},{\"font\":{\"color\":\"#000000\"},\"showarrow\":false,\"text\":\"-0.23\",\"x\":\"days_since_publication\",\"xref\":\"x\",\"y\":\"\\u003ctag\\u003eTowards Data Science\",\"yref\":\"y\"},{\"font\":{\"color\":\"#FFFFFF\"},\"showarrow\":false,\"text\":\"0.57\",\"x\":\"fans\",\"xref\":\"x\",\"y\":\"\\u003ctag\\u003eTowards Data Science\",\"yref\":\"y\"},{\"font\":{\"color\":\"#FFFFFF\"},\"showarrow\":false,\"text\":\"0.52\",\"x\":\"num_responses\",\"xref\":\"x\",\"y\":\"\\u003ctag\\u003eTowards Data Science\",\"yref\":\"y\"},{\"font\":{\"color\":\"#000000\"},\"showarrow\":false,\"text\":\"-0.05\",\"x\":\"read_ratio\",\"xref\":\"x\",\"y\":\"\\u003ctag\\u003eTowards Data Science\",\"yref\":\"y\"},{\"font\":{\"color\":\"#000000\"},\"showarrow\":false,\"text\":\"-0.22\",\"x\":\"read_time\",\"xref\":\"x\",\"y\":\"\\u003ctag\\u003eTowards Data Science\",\"yref\":\"y\"},{\"font\":{\"color\":\"#FFFFFF\"},\"showarrow\":false,\"text\":\"0.36\",\"x\":\"reads\",\"xref\":\"x\",\"y\":\"\\u003ctag\\u003eTowards Data Science\",\"yref\":\"y\"},{\"font\":{\"color\":\"#FFFFFF\"},\"showarrow\":false,\"text\":\"0.32\",\"x\":\"title_word_count\",\"xref\":\"x\",\"y\":\"\\u003ctag\\u003eTowards Data Science\",\"yref\":\"y\"},{\"font\":{\"color\":\"#FFFFFF\"},\"showarrow\":false,\"text\":\"0.34\",\"x\":\"views\",\"xref\":\"x\",\"y\":\"\\u003ctag\\u003eTowards Data Science\",\"yref\":\"y\"},{\"font\":{\"color\":\"#000000\"},\"showarrow\":false,\"text\":\"-0.21\",\"x\":\"word_count\",\"xref\":\"x\",\"y\":\"\\u003ctag\\u003eTowards Data Science\",\"yref\":\"y\"},{\"font\":{\"color\":\"#FFFFFF\"},\"showarrow\":false,\"text\":\"0.38\",\"x\":\"claps_per_word\",\"xref\":\"x\",\"y\":\"\\u003ctag\\u003eTowards Data Science\",\"yref\":\"y\"},{\"font\":{\"color\":\"#000000\"},\"showarrow\":false,\"text\":\"-0.19\",\"x\":\"editing_days\",\"xref\":\"x\",\"y\":\"\\u003ctag\\u003eTowards Data Science\",\"yref\":\"y\"},{\"font\":{\"color\":\"#FFFFFF\"},\"showarrow\":false,\"text\":\"0.37\",\"x\":\"\\u003ctag\\u003eEducation\",\"xref\":\"x\",\"y\":\"\\u003ctag\\u003eTowards Data Science\",\"yref\":\"y\"},{\"font\":{\"color\":\"#FFFFFF\"},\"showarrow\":false,\"text\":\"0.36\",\"x\":\"\\u003ctag\\u003eData Science\",\"xref\":\"x\",\"y\":\"\\u003ctag\\u003eTowards Data Science\",\"yref\":\"y\"},{\"font\":{\"color\":\"#FFFFFF\"},\"showarrow\":false,\"text\":\"1.0\",\"x\":\"\\u003ctag\\u003eTowards Data Science\",\"xref\":\"x\",\"y\":\"\\u003ctag\\u003eTowards Data Science\",\"yref\":\"y\"},{\"font\":{\"color\":\"#FFFFFF\"},\"showarrow\":false,\"text\":\"0.15\",\"x\":\"\\u003ctag\\u003eMachine Learning\",\"xref\":\"x\",\"y\":\"\\u003ctag\\u003eTowards Data Science\",\"yref\":\"y\"},{\"font\":{\"color\":\"#FFFFFF\"},\"showarrow\":false,\"text\":\"0.25\",\"x\":\"\\u003ctag\\u003ePython\",\"xref\":\"x\",\"y\":\"\\u003ctag\\u003eTowards Data Science\",\"yref\":\"y\"},{\"font\":{\"color\":\"#FFFFFF\"},\"showarrow\":false,\"text\":\"0.15\",\"x\":\"claps\",\"xref\":\"x\",\"y\":\"\\u003ctag\\u003eMachine Learning\",\"yref\":\"y\"},{\"font\":{\"color\":\"#000000\"},\"showarrow\":false,\"text\":\"-0.05\",\"x\":\"days_since_publication\",\"xref\":\"x\",\"y\":\"\\u003ctag\\u003eMachine Learning\",\"yref\":\"y\"},{\"font\":{\"color\":\"#FFFFFF\"},\"showarrow\":false,\"text\":\"0.17\",\"x\":\"fans\",\"xref\":\"x\",\"y\":\"\\u003ctag\\u003eMachine Learning\",\"yref\":\"y\"},{\"font\":{\"color\":\"#000000\"},\"showarrow\":false,\"text\":\"0.08\",\"x\":\"num_responses\",\"xref\":\"x\",\"y\":\"\\u003ctag\\u003eMachine Learning\",\"yref\":\"y\"},{\"font\":{\"color\":\"#000000\"},\"showarrow\":false,\"text\":\"-0.28\",\"x\":\"read_ratio\",\"xref\":\"x\",\"y\":\"\\u003ctag\\u003eMachine Learning\",\"yref\":\"y\"},{\"font\":{\"color\":\"#FFFFFF\"},\"showarrow\":false,\"text\":\"0.21\",\"x\":\"read_time\",\"xref\":\"x\",\"y\":\"\\u003ctag\\u003eMachine Learning\",\"yref\":\"y\"},{\"font\":{\"color\":\"#FFFFFF\"},\"showarrow\":false,\"text\":\"0.2\",\"x\":\"reads\",\"xref\":\"x\",\"y\":\"\\u003ctag\\u003eMachine Learning\",\"yref\":\"y\"},{\"font\":{\"color\":\"#FFFFFF\"},\"showarrow\":false,\"text\":\"0.24\",\"x\":\"title_word_count\",\"xref\":\"x\",\"y\":\"\\u003ctag\\u003eMachine Learning\",\"yref\":\"y\"},{\"font\":{\"color\":\"#FFFFFF\"},\"showarrow\":false,\"text\":\"0.28\",\"x\":\"views\",\"xref\":\"x\",\"y\":\"\\u003ctag\\u003eMachine Learning\",\"yref\":\"y\"},{\"font\":{\"color\":\"#FFFFFF\"},\"showarrow\":false,\"text\":\"0.19\",\"x\":\"word_count\",\"xref\":\"x\",\"y\":\"\\u003ctag\\u003eMachine Learning\",\"yref\":\"y\"},{\"font\":{\"color\":\"#000000\"},\"showarrow\":false,\"text\":\"-0.03\",\"x\":\"claps_per_word\",\"xref\":\"x\",\"y\":\"\\u003ctag\\u003eMachine Learning\",\"yref\":\"y\"},{\"font\":{\"color\":\"#FFFFFF\"},\"showarrow\":false,\"text\":\"0.26\",\"x\":\"editing_days\",\"xref\":\"x\",\"y\":\"\\u003ctag\\u003eMachine Learning\",\"yref\":\"y\"},{\"font\":{\"color\":\"#000000\"},\"showarrow\":false,\"text\":\"0.1\",\"x\":\"\\u003ctag\\u003eEducation\",\"xref\":\"x\",\"y\":\"\\u003ctag\\u003eMachine Learning\",\"yref\":\"y\"},{\"font\":{\"color\":\"#FFFFFF\"},\"showarrow\":false,\"text\":\"0.31\",\"x\":\"\\u003ctag\\u003eData Science\",\"xref\":\"x\",\"y\":\"\\u003ctag\\u003eMachine Learning\",\"yref\":\"y\"},{\"font\":{\"color\":\"#FFFFFF\"},\"showarrow\":false,\"text\":\"0.15\",\"x\":\"\\u003ctag\\u003eTowards Data Science\",\"xref\":\"x\",\"y\":\"\\u003ctag\\u003eMachine Learning\",\"yref\":\"y\"},{\"font\":{\"color\":\"#FFFFFF\"},\"showarrow\":false,\"text\":\"1.0\",\"x\":\"\\u003ctag\\u003eMachine Learning\",\"xref\":\"x\",\"y\":\"\\u003ctag\\u003eMachine Learning\",\"yref\":\"y\"},{\"font\":{\"color\":\"#FFFFFF\"},\"showarrow\":false,\"text\":\"0.26\",\"x\":\"\\u003ctag\\u003ePython\",\"xref\":\"x\",\"y\":\"\\u003ctag\\u003eMachine Learning\",\"yref\":\"y\"},{\"font\":{\"color\":\"#FFFFFF\"},\"showarrow\":false,\"text\":\"0.31\",\"x\":\"claps\",\"xref\":\"x\",\"y\":\"\\u003ctag\\u003ePython\",\"yref\":\"y\"},{\"font\":{\"color\":\"#FFFFFF\"},\"showarrow\":false,\"text\":\"0.13\",\"x\":\"days_since_publication\",\"xref\":\"x\",\"y\":\"\\u003ctag\\u003ePython\",\"yref\":\"y\"},{\"font\":{\"color\":\"#FFFFFF\"},\"showarrow\":false,\"text\":\"0.32\",\"x\":\"fans\",\"xref\":\"x\",\"y\":\"\\u003ctag\\u003ePython\",\"yref\":\"y\"},{\"font\":{\"color\":\"#FFFFFF\"},\"showarrow\":false,\"text\":\"0.31\",\"x\":\"num_responses\",\"xref\":\"x\",\"y\":\"\\u003ctag\\u003ePython\",\"yref\":\"y\"},{\"font\":{\"color\":\"#000000\"},\"showarrow\":false,\"text\":\"-0.18\",\"x\":\"read_ratio\",\"xref\":\"x\",\"y\":\"\\u003ctag\\u003ePython\",\"yref\":\"y\"},{\"font\":{\"color\":\"#000000\"},\"showarrow\":false,\"text\":\"0.09\",\"x\":\"read_time\",\"xref\":\"x\",\"y\":\"\\u003ctag\\u003ePython\",\"yref\":\"y\"},{\"font\":{\"color\":\"#FFFFFF\"},\"showarrow\":false,\"text\":\"0.42\",\"x\":\"reads\",\"xref\":\"x\",\"y\":\"\\u003ctag\\u003ePython\",\"yref\":\"y\"},{\"font\":{\"color\":\"#FFFFFF\"},\"showarrow\":false,\"text\":\"0.26\",\"x\":\"title_word_count\",\"xref\":\"x\",\"y\":\"\\u003ctag\\u003ePython\",\"yref\":\"y\"},{\"font\":{\"color\":\"#FFFFFF\"},\"showarrow\":false,\"text\":\"0.45\",\"x\":\"views\",\"xref\":\"x\",\"y\":\"\\u003ctag\\u003ePython\",\"yref\":\"y\"},{\"font\":{\"color\":\"#000000\"},\"showarrow\":false,\"text\":\"0.02\",\"x\":\"word_count\",\"xref\":\"x\",\"y\":\"\\u003ctag\\u003ePython\",\"yref\":\"y\"},{\"font\":{\"color\":\"#FFFFFF\"},\"showarrow\":false,\"text\":\"0.24\",\"x\":\"claps_per_word\",\"xref\":\"x\",\"y\":\"\\u003ctag\\u003ePython\",\"yref\":\"y\"},{\"font\":{\"color\":\"#000000\"},\"showarrow\":false,\"text\":\"-0.16\",\"x\":\"editing_days\",\"xref\":\"x\",\"y\":\"\\u003ctag\\u003ePython\",\"yref\":\"y\"},{\"font\":{\"color\":\"#000000\"},\"showarrow\":false,\"text\":\"-0.1\",\"x\":\"\\u003ctag\\u003eEducation\",\"xref\":\"x\",\"y\":\"\\u003ctag\\u003ePython\",\"yref\":\"y\"},{\"font\":{\"color\":\"#000000\"},\"showarrow\":false,\"text\":\"0.08\",\"x\":\"\\u003ctag\\u003eData Science\",\"xref\":\"x\",\"y\":\"\\u003ctag\\u003ePython\",\"yref\":\"y\"},{\"font\":{\"color\":\"#FFFFFF\"},\"showarrow\":false,\"text\":\"0.25\",\"x\":\"\\u003ctag\\u003eTowards Data Science\",\"xref\":\"x\",\"y\":\"\\u003ctag\\u003ePython\",\"yref\":\"y\"},{\"font\":{\"color\":\"#FFFFFF\"},\"showarrow\":false,\"text\":\"0.26\",\"x\":\"\\u003ctag\\u003eMachine Learning\",\"xref\":\"x\",\"y\":\"\\u003ctag\\u003ePython\",\"yref\":\"y\"},{\"font\":{\"color\":\"#FFFFFF\"},\"showarrow\":false,\"text\":\"1.0\",\"x\":\"\\u003ctag\\u003ePython\",\"xref\":\"x\",\"y\":\"\\u003ctag\\u003ePython\",\"yref\":\"y\"}],\"template\":{\"data\":{\"barpolar\":[{\"marker\":{\"line\":{\"color\":\"#E5ECF6\",\"width\":0.5},\"pattern\":{\"fillmode\":\"overlay\",\"size\":10,\"solidity\":0.2}},\"type\":\"barpolar\"}],\"bar\":[{\"error_x\":{\"color\":\"#2a3f5f\"},\"error_y\":{\"color\":\"#2a3f5f\"},\"marker\":{\"line\":{\"color\":\"#E5ECF6\",\"width\":0.5},\"pattern\":{\"fillmode\":\"overlay\",\"size\":10,\"solidity\":0.2}},\"type\":\"bar\"}],\"carpet\":[{\"aaxis\":{\"endlinecolor\":\"#2a3f5f\",\"gridcolor\":\"white\",\"linecolor\":\"white\",\"minorgridcolor\":\"white\",\"startlinecolor\":\"#2a3f5f\"},\"baxis\":{\"endlinecolor\":\"#2a3f5f\",\"gridcolor\":\"white\",\"linecolor\":\"white\",\"minorgridcolor\":\"white\",\"startlinecolor\":\"#2a3f5f\"},\"type\":\"carpet\"}],\"choropleth\":[{\"colorbar\":{\"outlinewidth\":0,\"ticks\":\"\"},\"type\":\"choropleth\"}],\"contourcarpet\":[{\"colorbar\":{\"outlinewidth\":0,\"ticks\":\"\"},\"type\":\"contourcarpet\"}],\"contour\":[{\"colorbar\":{\"outlinewidth\":0,\"ticks\":\"\"},\"colorscale\":[[0.0,\"#0d0887\"],[0.1111111111111111,\"#46039f\"],[0.2222222222222222,\"#7201a8\"],[0.3333333333333333,\"#9c179e\"],[0.4444444444444444,\"#bd3786\"],[0.5555555555555556,\"#d8576b\"],[0.6666666666666666,\"#ed7953\"],[0.7777777777777778,\"#fb9f3a\"],[0.8888888888888888,\"#fdca26\"],[1.0,\"#f0f921\"]],\"type\":\"contour\"}],\"heatmapgl\":[{\"colorbar\":{\"outlinewidth\":0,\"ticks\":\"\"},\"colorscale\":[[0.0,\"#0d0887\"],[0.1111111111111111,\"#46039f\"],[0.2222222222222222,\"#7201a8\"],[0.3333333333333333,\"#9c179e\"],[0.4444444444444444,\"#bd3786\"],[0.5555555555555556,\"#d8576b\"],[0.6666666666666666,\"#ed7953\"],[0.7777777777777778,\"#fb9f3a\"],[0.8888888888888888,\"#fdca26\"],[1.0,\"#f0f921\"]],\"type\":\"heatmapgl\"}],\"heatmap\":[{\"colorbar\":{\"outlinewidth\":0,\"ticks\":\"\"},\"colorscale\":[[0.0,\"#0d0887\"],[0.1111111111111111,\"#46039f\"],[0.2222222222222222,\"#7201a8\"],[0.3333333333333333,\"#9c179e\"],[0.4444444444444444,\"#bd3786\"],[0.5555555555555556,\"#d8576b\"],[0.6666666666666666,\"#ed7953\"],[0.7777777777777778,\"#fb9f3a\"],[0.8888888888888888,\"#fdca26\"],[1.0,\"#f0f921\"]],\"type\":\"heatmap\"}],\"histogram2dcontour\":[{\"colorbar\":{\"outlinewidth\":0,\"ticks\":\"\"},\"colorscale\":[[0.0,\"#0d0887\"],[0.1111111111111111,\"#46039f\"],[0.2222222222222222,\"#7201a8\"],[0.3333333333333333,\"#9c179e\"],[0.4444444444444444,\"#bd3786\"],[0.5555555555555556,\"#d8576b\"],[0.6666666666666666,\"#ed7953\"],[0.7777777777777778,\"#fb9f3a\"],[0.8888888888888888,\"#fdca26\"],[1.0,\"#f0f921\"]],\"type\":\"histogram2dcontour\"}],\"histogram2d\":[{\"colorbar\":{\"outlinewidth\":0,\"ticks\":\"\"},\"colorscale\":[[0.0,\"#0d0887\"],[0.1111111111111111,\"#46039f\"],[0.2222222222222222,\"#7201a8\"],[0.3333333333333333,\"#9c179e\"],[0.4444444444444444,\"#bd3786\"],[0.5555555555555556,\"#d8576b\"],[0.6666666666666666,\"#ed7953\"],[0.7777777777777778,\"#fb9f3a\"],[0.8888888888888888,\"#fdca26\"],[1.0,\"#f0f921\"]],\"type\":\"histogram2d\"}],\"histogram\":[{\"marker\":{\"pattern\":{\"fillmode\":\"overlay\",\"size\":10,\"solidity\":0.2}},\"type\":\"histogram\"}],\"mesh3d\":[{\"colorbar\":{\"outlinewidth\":0,\"ticks\":\"\"},\"type\":\"mesh3d\"}],\"parcoords\":[{\"line\":{\"colorbar\":{\"outlinewidth\":0,\"ticks\":\"\"}},\"type\":\"parcoords\"}],\"pie\":[{\"automargin\":true,\"type\":\"pie\"}],\"scatter3d\":[{\"line\":{\"colorbar\":{\"outlinewidth\":0,\"ticks\":\"\"}},\"marker\":{\"colorbar\":{\"outlinewidth\":0,\"ticks\":\"\"}},\"type\":\"scatter3d\"}],\"scattercarpet\":[{\"marker\":{\"colorbar\":{\"outlinewidth\":0,\"ticks\":\"\"}},\"type\":\"scattercarpet\"}],\"scattergeo\":[{\"marker\":{\"colorbar\":{\"outlinewidth\":0,\"ticks\":\"\"}},\"type\":\"scattergeo\"}],\"scattergl\":[{\"marker\":{\"colorbar\":{\"outlinewidth\":0,\"ticks\":\"\"}},\"type\":\"scattergl\"}],\"scattermapbox\":[{\"marker\":{\"colorbar\":{\"outlinewidth\":0,\"ticks\":\"\"}},\"type\":\"scattermapbox\"}],\"scatterpolargl\":[{\"marker\":{\"colorbar\":{\"outlinewidth\":0,\"ticks\":\"\"}},\"type\":\"scatterpolargl\"}],\"scatterpolar\":[{\"marker\":{\"colorbar\":{\"outlinewidth\":0,\"ticks\":\"\"}},\"type\":\"scatterpolar\"}],\"scatter\":[{\"fillpattern\":{\"fillmode\":\"overlay\",\"size\":10,\"solidity\":0.2},\"type\":\"scatter\"}],\"scatterternary\":[{\"marker\":{\"colorbar\":{\"outlinewidth\":0,\"ticks\":\"\"}},\"type\":\"scatterternary\"}],\"surface\":[{\"colorbar\":{\"outlinewidth\":0,\"ticks\":\"\"},\"colorscale\":[[0.0,\"#0d0887\"],[0.1111111111111111,\"#46039f\"],[0.2222222222222222,\"#7201a8\"],[0.3333333333333333,\"#9c179e\"],[0.4444444444444444,\"#bd3786\"],[0.5555555555555556,\"#d8576b\"],[0.6666666666666666,\"#ed7953\"],[0.7777777777777778,\"#fb9f3a\"],[0.8888888888888888,\"#fdca26\"],[1.0,\"#f0f921\"]],\"type\":\"surface\"}],\"table\":[{\"cells\":{\"fill\":{\"color\":\"#EBF0F8\"},\"line\":{\"color\":\"white\"}},\"header\":{\"fill\":{\"color\":\"#C8D4E3\"},\"line\":{\"color\":\"white\"}},\"type\":\"table\"}]},\"layout\":{\"annotationdefaults\":{\"arrowcolor\":\"#2a3f5f\",\"arrowhead\":0,\"arrowwidth\":1},\"autotypenumbers\":\"strict\",\"coloraxis\":{\"colorbar\":{\"outlinewidth\":0,\"ticks\":\"\"}},\"colorscale\":{\"diverging\":[[0,\"#8e0152\"],[0.1,\"#c51b7d\"],[0.2,\"#de77ae\"],[0.3,\"#f1b6da\"],[0.4,\"#fde0ef\"],[0.5,\"#f7f7f7\"],[0.6,\"#e6f5d0\"],[0.7,\"#b8e186\"],[0.8,\"#7fbc41\"],[0.9,\"#4d9221\"],[1,\"#276419\"]],\"sequential\":[[0.0,\"#0d0887\"],[0.1111111111111111,\"#46039f\"],[0.2222222222222222,\"#7201a8\"],[0.3333333333333333,\"#9c179e\"],[0.4444444444444444,\"#bd3786\"],[0.5555555555555556,\"#d8576b\"],[0.6666666666666666,\"#ed7953\"],[0.7777777777777778,\"#fb9f3a\"],[0.8888888888888888,\"#fdca26\"],[1.0,\"#f0f921\"]],\"sequentialminus\":[[0.0,\"#0d0887\"],[0.1111111111111111,\"#46039f\"],[0.2222222222222222,\"#7201a8\"],[0.3333333333333333,\"#9c179e\"],[0.4444444444444444,\"#bd3786\"],[0.5555555555555556,\"#d8576b\"],[0.6666666666666666,\"#ed7953\"],[0.7777777777777778,\"#fb9f3a\"],[0.8888888888888888,\"#fdca26\"],[1.0,\"#f0f921\"]]},\"colorway\":[\"#636efa\",\"#EF553B\",\"#00cc96\",\"#ab63fa\",\"#FFA15A\",\"#19d3f3\",\"#FF6692\",\"#B6E880\",\"#FF97FF\",\"#FECB52\"],\"font\":{\"color\":\"#2a3f5f\"},\"geo\":{\"bgcolor\":\"white\",\"lakecolor\":\"white\",\"landcolor\":\"#E5ECF6\",\"showlakes\":true,\"showland\":true,\"subunitcolor\":\"white\"},\"hoverlabel\":{\"align\":\"left\"},\"hovermode\":\"closest\",\"mapbox\":{\"style\":\"light\"},\"paper_bgcolor\":\"white\",\"plot_bgcolor\":\"#E5ECF6\",\"polar\":{\"angularaxis\":{\"gridcolor\":\"white\",\"linecolor\":\"white\",\"ticks\":\"\"},\"bgcolor\":\"#E5ECF6\",\"radialaxis\":{\"gridcolor\":\"white\",\"linecolor\":\"white\",\"ticks\":\"\"}},\"scene\":{\"xaxis\":{\"backgroundcolor\":\"#E5ECF6\",\"gridcolor\":\"white\",\"gridwidth\":2,\"linecolor\":\"white\",\"showbackground\":true,\"ticks\":\"\",\"zerolinecolor\":\"white\"},\"yaxis\":{\"backgroundcolor\":\"#E5ECF6\",\"gridcolor\":\"white\",\"gridwidth\":2,\"linecolor\":\"white\",\"showbackground\":true,\"ticks\":\"\",\"zerolinecolor\":\"white\"},\"zaxis\":{\"backgroundcolor\":\"#E5ECF6\",\"gridcolor\":\"white\",\"gridwidth\":2,\"linecolor\":\"white\",\"showbackground\":true,\"ticks\":\"\",\"zerolinecolor\":\"white\"}},\"shapedefaults\":{\"line\":{\"color\":\"#2a3f5f\"}},\"ternary\":{\"aaxis\":{\"gridcolor\":\"white\",\"linecolor\":\"white\",\"ticks\":\"\"},\"baxis\":{\"gridcolor\":\"white\",\"linecolor\":\"white\",\"ticks\":\"\"},\"bgcolor\":\"#E5ECF6\",\"caxis\":{\"gridcolor\":\"white\",\"linecolor\":\"white\",\"ticks\":\"\"}},\"title\":{\"x\":0.05},\"xaxis\":{\"automargin\":true,\"gridcolor\":\"white\",\"linecolor\":\"white\",\"ticks\":\"\",\"title\":{\"standoff\":15},\"zerolinecolor\":\"white\",\"zerolinewidth\":2},\"yaxis\":{\"automargin\":true,\"gridcolor\":\"white\",\"linecolor\":\"white\",\"ticks\":\"\",\"title\":{\"standoff\":15},\"zerolinecolor\":\"white\",\"zerolinewidth\":2}}},\"xaxis\":{\"dtick\":1,\"gridcolor\":\"rgb(0, 0, 0)\",\"side\":\"top\",\"ticks\":\"\"},\"yaxis\":{\"dtick\":1,\"ticks\":\"\",\"ticksuffix\":\"  \"}},                        {\"responsive\": true}                    ).then(function(){\n                            \nvar gd = document.getElementById('9b4b99d9-b278-46cf-97cb-7c5665a825a7');\nvar x = new MutationObserver(function (mutations, observer) {{\n        var display = window.getComputedStyle(gd).display;\n        if (!display || display === 'none') {{\n            console.log([gd, 'removed!']);\n            Plotly.purge(gd);\n            observer.disconnect();\n        }}\n}});\n\n// Listen for the removal of the full notebook cells\nvar notebookContainer = gd.closest('#notebook-container');\nif (notebookContainer) {{\n    x.observe(notebookContainer, {childList: true});\n}}\n\n// Listen for the clearing of the current output cell\nvar outputEl = gd.closest('.output');\nif (outputEl) {{\n    x.observe(outputEl, {childList: true});\n}}\n\n                        })                };                });            </script>        </div>"
                },
                "metadata": {}
              }
            ]
          }
        },
        "6efaa34c0d3b411eb48db64bb750efb7": {
          "model_module": "@jupyter-widgets/base",
          "model_name": "LayoutModel",
          "model_module_version": "1.2.0",
          "state": {
            "_model_module": "@jupyter-widgets/base",
            "_model_module_version": "1.2.0",
            "_model_name": "LayoutModel",
            "_view_count": null,
            "_view_module": "@jupyter-widgets/base",
            "_view_module_version": "1.2.0",
            "_view_name": "LayoutView",
            "align_content": null,
            "align_items": null,
            "align_self": null,
            "border": null,
            "bottom": null,
            "display": null,
            "flex": null,
            "flex_flow": null,
            "grid_area": null,
            "grid_auto_columns": null,
            "grid_auto_flow": null,
            "grid_auto_rows": null,
            "grid_column": null,
            "grid_gap": null,
            "grid_row": null,
            "grid_template_areas": null,
            "grid_template_columns": null,
            "grid_template_rows": null,
            "height": null,
            "justify_content": null,
            "justify_items": null,
            "left": null,
            "margin": null,
            "max_height": null,
            "max_width": null,
            "min_height": null,
            "min_width": null,
            "object_fit": null,
            "object_position": null,
            "order": null,
            "overflow": null,
            "overflow_x": null,
            "overflow_y": null,
            "padding": null,
            "right": null,
            "top": null,
            "visibility": null,
            "width": null
          }
        },
        "be9043c7e7b34ac4bf27ef171d9aa963": {
          "model_module": "@jupyter-widgets/base",
          "model_name": "LayoutModel",
          "model_module_version": "1.2.0",
          "state": {
            "_model_module": "@jupyter-widgets/base",
            "_model_module_version": "1.2.0",
            "_model_name": "LayoutModel",
            "_view_count": null,
            "_view_module": "@jupyter-widgets/base",
            "_view_module_version": "1.2.0",
            "_view_name": "LayoutView",
            "align_content": null,
            "align_items": null,
            "align_self": null,
            "border": null,
            "bottom": null,
            "display": null,
            "flex": null,
            "flex_flow": null,
            "grid_area": null,
            "grid_auto_columns": null,
            "grid_auto_flow": null,
            "grid_auto_rows": null,
            "grid_column": null,
            "grid_gap": null,
            "grid_row": null,
            "grid_template_areas": null,
            "grid_template_columns": null,
            "grid_template_rows": null,
            "height": null,
            "justify_content": null,
            "justify_items": null,
            "left": null,
            "margin": null,
            "max_height": null,
            "max_width": null,
            "min_height": null,
            "min_width": null,
            "object_fit": null,
            "object_position": null,
            "order": null,
            "overflow": null,
            "overflow_x": null,
            "overflow_y": null,
            "padding": null,
            "right": null,
            "top": null,
            "visibility": null,
            "width": null
          }
        },
        "4c5eced77cfa432a86ae254aeedb3957": {
          "model_module": "@jupyter-widgets/controls",
          "model_name": "DescriptionStyleModel",
          "model_module_version": "1.5.0",
          "state": {
            "_model_module": "@jupyter-widgets/controls",
            "_model_module_version": "1.5.0",
            "_model_name": "DescriptionStyleModel",
            "_view_count": null,
            "_view_module": "@jupyter-widgets/base",
            "_view_module_version": "1.2.0",
            "_view_name": "StyleView",
            "description_width": ""
          }
        },
        "9bfd9f25d0714adeaf9b779c660fda9f": {
          "model_module": "@jupyter-widgets/base",
          "model_name": "LayoutModel",
          "model_module_version": "1.2.0",
          "state": {
            "_model_module": "@jupyter-widgets/base",
            "_model_module_version": "1.2.0",
            "_model_name": "LayoutModel",
            "_view_count": null,
            "_view_module": "@jupyter-widgets/base",
            "_view_module_version": "1.2.0",
            "_view_name": "LayoutView",
            "align_content": null,
            "align_items": null,
            "align_self": null,
            "border": null,
            "bottom": null,
            "display": null,
            "flex": null,
            "flex_flow": null,
            "grid_area": null,
            "grid_auto_columns": null,
            "grid_auto_flow": null,
            "grid_auto_rows": null,
            "grid_column": null,
            "grid_gap": null,
            "grid_row": null,
            "grid_template_areas": null,
            "grid_template_columns": null,
            "grid_template_rows": null,
            "height": null,
            "justify_content": null,
            "justify_items": null,
            "left": null,
            "margin": null,
            "max_height": null,
            "max_width": null,
            "min_height": null,
            "min_width": null,
            "object_fit": null,
            "object_position": null,
            "order": null,
            "overflow": null,
            "overflow_x": null,
            "overflow_y": null,
            "padding": null,
            "right": null,
            "top": null,
            "visibility": null,
            "width": null
          }
        }
      }
    }
  },
  "nbformat": 4,
  "nbformat_minor": 0
}